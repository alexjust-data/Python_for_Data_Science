{
 "cells": [
  {
   "cell_type": "markdown",
   "metadata": {},
   "source": [
    "<div style=\"float: right; width: 50%;\">\n",
    "    <p style=\"margin: 0; text-align:right;\">Python en Ciencia de Datos Aplicada</p>\n",
    "    <p style=\"margin: 0; text-align:right; padding-button: 100px;\">Librerías\n",
    "</p>\n",
    "</div>\n",
    "\n",
    "</div>\n",
    "<div style=\"width: 100%; clear: both;\">\n",
    "<div style=\"width:100%;\">&nbsp;</div>"
   ]
  },
  {
   "cell_type": "markdown",
   "metadata": {},
   "source": [
    "# Librerias\n",
    "---\n",
    "Python es uno de los lenguajes más populares utilizados por científicos de datos y desarrolladores de software para tareas de ciencia de datos. Se puede utilizar para predecir resultados, automatizar tareas, optimizar procesos y ofrecer conocimientos de inteligencia empresarial.\n",
    "\n",
    "Hay muchas razones por las que Python es popular entre los desarrolladores y una de ellas es que tiene una colección increíblemente grande de Librerías con las que los usuarios pueden trabajar."
   ]
  }
 ],
 "metadata": {
  "kernelspec": {
   "display_name": "Base(Python)",
   "language": "python",
   "name": "anaconda-base"
  },
  "language_info": {
   "codemirror_mode": {
    "name": "ipython",
    "version": 3
   },
   "file_extension": ".py",
   "mimetype": "text/x-python",
   "name": "python",
   "nbconvert_exporter": "python",
   "pygments_lexer": "ipython3",
   "version": "3.8.5"
  }
 },
 "nbformat": 4,
 "nbformat_minor": 4
}
