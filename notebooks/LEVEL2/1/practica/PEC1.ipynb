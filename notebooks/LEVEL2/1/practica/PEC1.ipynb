{
 "cells": [
  {
   "cell_type": "markdown",
   "metadata": {},
   "source": [
    "<div style=\"float: right; width: 50%;\">\n",
    "    <p style=\"margin: 0; text-align:right;\">Python en Ciencia de Datos Aplicada</p>\n",
    "    <p style=\"margin: 0; text-align:right; padding-button: 100px;\">Prácticas - Afianzando conceptos</p>\n",
    "</div>\n",
    "\n",
    "</div>\n",
    "<div style=\"width: 100%; clear: both;\">\n",
    "<div style=\"width:100%;\">&nbsp;</div>"
   ]
  },
  {
   "cell_type": "code",
   "execution_count": 1,
   "metadata": {
    "tags": []
   },
   "outputs": [],
   "source": [
    "%load_ext pycodestyle_magic"
   ]
  },
  {
   "cell_type": "code",
   "execution_count": 2,
   "metadata": {},
   "outputs": [],
   "source": [
    "# Activem les alertes d'estil\n",
    "%pycodestyle_on"
   ]
  },
  {
   "cell_type": "markdown",
   "metadata": {},
   "source": [
    "# Prácticas - Afianzando conceptos\n",
    "\n",
    "\n",
    "## Ejercicio 1\n",
    "\n",
    "Los siguientes ejercios se realizarán utilizando el dataset `sales-data.csv` que contiene la información sobre diversas órdenes. Cada fila representa una orden. Este dataset se ha limpiado con tal de que sea más fácil manipularlo, parte de un dataset original que se puede encontrat en la [siguiente URL](https://www.kaggle.com/kyanyoga/sample-sales-data).\n",
    "\n",
    "Los campos del dataset son:\n",
    "\n",
    "- ORDERID: ID de la orden.\n",
    "- ORDERPRICE: Precio total de la orden.\n",
    "- ORDERDATE: Fecha en la que se realizó la orden.\n",
    "- STATUS: Estado de la orden (Enviada, no enviada, etc.).\n",
    "- PRODUCTLINE: Tipo de producto.\n",
    "- PRODUCTCODE: Código de producto.\n",
    "- CUSTOMERNAME: Nombre del cliente.\n",
    "- CITY: Ciudad a la que se envía la orden.\n",
    "- COUNTRY: País al que se envía la orden.\n",
    "\n",
    "1. Cargad el dataset y mostrad por pantalla los 10 últimos elementos.\n",
    "\n",
    "2. De estos 10 últimos elementos del punto 1, mostrad los 5 primeros."
   ]
  },
  {
   "cell_type": "code",
   "execution_count": 3,
   "metadata": {},
   "outputs": [
    {
     "name": "stdout",
     "output_type": "stream",
     "text": [
      "     ORDERID  ORDERPRICE       ORDERDATE   STATUS   PRODUCTLINE PRODUCTCODE  \\\n",
      "297    10387     4175.60   3/2/2005 0:00  Shipped   Motorcycles    S32_1374   \n",
      "298    10364     2317.44   1/6/2005 0:00  Shipped   Motorcycles    S32_2206   \n",
      "299    10116     1711.26  4/11/2003 0:00  Shipped        Trains    S32_3207   \n",
      "300    10144     1637.20  8/13/2003 0:00  Shipped  Vintage Cars    S32_4289   \n",
      "301    10156      820.40  10/8/2003 0:00  Shipped  Vintage Cars    S50_1341   \n",
      "302    10199     1113.60  12/1/2003 0:00  Shipped  Vintage Cars    S50_1341   \n",
      "303    10397     2577.60  3/28/2005 0:00  Shipped         Ships   S700_1938   \n",
      "304    10352     2352.67  12/3/2004 0:00  Shipped         Ships   S700_2047   \n",
      "305    10118     4219.20  4/21/2003 0:00  Shipped         Ships   S700_3505   \n",
      "306    10294     4692.60  9/10/2004 0:00  Shipped         Ships   S700_3962   \n",
      "\n",
      "                    CUSTOMERNAME        CITY    COUNTRY  \n",
      "297      Dragon Souveniers, Ltd.   Singapore  Singapore  \n",
      "298         Marseille Mini Autos   Marseille     France  \n",
      "299                 Royale Belge   Charleroi    Belgium  \n",
      "300                 Royale Belge   Charleroi    Belgium  \n",
      "301        Euro Shopping Channel      Madrid      Spain  \n",
      "302  West Coast Collectables Co.     Burbank        USA  \n",
      "303                 Alpha Cognac    Toulouse     France  \n",
      "304      Auto-Moto Classics Inc.  Brickhaven        USA  \n",
      "305           Enaco Distributors   Barcelona      Spain  \n",
      "306     Online Mini Collectables  Brickhaven        USA  \n"
     ]
    }
   ],
   "source": [
    "# Respuesta 1.1\n",
    "import pandas as pd\n",
    "\n",
    "sales_data = pd.read_csv(\"data/sales-data.csv\")\n",
    "print(sales_data.tail(10))"
   ]
  },
  {
   "cell_type": "code",
   "execution_count": 4,
   "metadata": {},
   "outputs": [
    {
     "name": "stdout",
     "output_type": "stream",
     "text": [
      "     ORDERID  ORDERPRICE       ORDERDATE   STATUS   PRODUCTLINE PRODUCTCODE  \\\n",
      "297    10387     4175.60   3/2/2005 0:00  Shipped   Motorcycles    S32_1374   \n",
      "298    10364     2317.44   1/6/2005 0:00  Shipped   Motorcycles    S32_2206   \n",
      "299    10116     1711.26  4/11/2003 0:00  Shipped        Trains    S32_3207   \n",
      "300    10144     1637.20  8/13/2003 0:00  Shipped  Vintage Cars    S32_4289   \n",
      "301    10156      820.40  10/8/2003 0:00  Shipped  Vintage Cars    S50_1341   \n",
      "\n",
      "                CUSTOMERNAME       CITY    COUNTRY  \n",
      "297  Dragon Souveniers, Ltd.  Singapore  Singapore  \n",
      "298     Marseille Mini Autos  Marseille     France  \n",
      "299             Royale Belge  Charleroi    Belgium  \n",
      "300             Royale Belge  Charleroi    Belgium  \n",
      "301    Euro Shopping Channel     Madrid      Spain  \n"
     ]
    }
   ],
   "source": [
    "# Respuesta 1.2\n",
    "print(sales_data.tail(10).head(5))"
   ]
  },
  {
   "cell_type": "markdown",
   "metadata": {},
   "source": [
    "## Ejercicio 2\n",
    "\n",
    "Partiendo del dataset anterior:\n",
    "\n",
    "1. Cread y mostrad, utilizando la estructura de datos más adecuada (justificad el motivo), todas las ciudades que aparecen en el dataset. Sólo queremos que las ciudades aparezcan una vez (las ciudades NO pueden estar repetidas). \n",
    "\n",
    "2. Cread una lista con las ciudades del punto 1 ordenadas lexicográficamente.\n",
    "\n",
    "Partiendo de la lista creada en el punto 2 y haciendo uso del _**list slicing**_:\n",
    "\n",
    "3. Cread y mostrad una lista de ciudades en orden lexicográfico inverso.\n",
    "\n",
    "4. Cread y mostrad una lista de las posiciones pares. \n",
    "\n",
    "Partiendo de la lista creada en el punto 2 y haciendo uso de las _**list comprehensions**_:\n",
    "\n",
    "5. Cread y mostrad una lista de ciudades con nombre de longitud impar.\n",
    "\n",
    "6. Cread y mostrad una lista de ciudades que empiezan por vocal.\n",
    "\n",
    "<span style=\"font-family: Courier New; background-color: #82b74b; color: #000000; padding: 3px; \">NM</span> **(1 punto)**"
   ]
  },
  {
   "cell_type": "code",
   "execution_count": 5,
   "metadata": {},
   "outputs": [
    {
     "name": "stdout",
     "output_type": "stream",
     "text": [
      "{'Liverpool', 'Bruxelles', 'Frankfurt', 'Nashua', 'White Plains', 'Paris', 'Melbourne', 'San Rafael', 'Reims', 'Munich', 'Cambridge', 'Glen Waverly', 'Allentown', 'New Bedford', 'Chatswood', 'San Francisco', 'South Brisbane', 'Newark', 'Bergen', 'Vancouver', 'Graz', 'Bergamo', 'Dublin', 'Los Angeles', 'Salzburg', 'Las Vegas', 'Stavern', 'London', 'Aaarhus', 'Glendale', 'Charleroi', 'Lule', 'San Jose', 'Koln', 'Nantes', 'Versailles', 'San Diego', 'Brisbane', 'Oslo', 'Sevilla', 'Manchester', 'Burlingame', 'Torino', 'Pasadena', 'Barcelona', 'Madrid', 'Lille', 'Minato-ku', 'North Sydney', 'New Haven', 'Burbank', 'Bridgewater', 'Boston', 'Cowes', 'Osaka', 'Helsinki', 'Philadelphia', 'Tsawassen', 'Gensve', 'Kobenhavn', 'Strasbourg', 'Makati City', 'Montreal', 'NYC', 'Oulu', 'Marseille', 'Espoo', 'Toulouse', 'Brickhaven', 'Boras', 'Reggio Emilia', 'Singapore', 'Lyon'}\n"
     ]
    }
   ],
   "source": [
    "# Respuesta 2.1\n",
    "\n",
    "cities = set(sales_data[\"CITY\"])\n",
    "print(cities)\n",
    "\n",
    "# Un conjunto es una estructura de datos adecuada, ya que no queremos\n",
    "# elementos repetidos y no hay condiciones con respecto al orden\n",
    "# en el cual se han de guardar las ciudades."
   ]
  },
  {
   "cell_type": "code",
   "execution_count": 6,
   "metadata": {},
   "outputs": [],
   "source": [
    "# Respuesta 2.2\n",
    "\n",
    "cities_sorted = sorted(cities)"
   ]
  },
  {
   "cell_type": "code",
   "execution_count": 7,
   "metadata": {},
   "outputs": [
    {
     "name": "stdout",
     "output_type": "stream",
     "text": [
      "['White Plains', 'Versailles', 'Vancouver', 'Tsawassen', 'Toulouse', 'Torino', 'Strasbourg', 'Stavern', 'South Brisbane', 'Singapore', 'Sevilla', 'San Rafael', 'San Jose', 'San Francisco', 'San Diego', 'Salzburg', 'Reims', 'Reggio Emilia', 'Philadelphia', 'Pasadena', 'Paris', 'Oulu', 'Oslo', 'Osaka', 'North Sydney', 'Newark', 'New Haven', 'New Bedford', 'Nashua', 'Nantes', 'NYC', 'Munich', 'Montreal', 'Minato-ku', 'Melbourne', 'Marseille', 'Manchester', 'Makati City', 'Madrid', 'Lyon', 'Lule', 'Los Angeles', 'London', 'Liverpool', 'Lille', 'Las Vegas', 'Koln', 'Kobenhavn', 'Helsinki', 'Graz', 'Glendale', 'Glen Waverly', 'Gensve', 'Frankfurt', 'Espoo', 'Dublin', 'Cowes', 'Chatswood', 'Charleroi', 'Cambridge', 'Burlingame', 'Burbank', 'Bruxelles', 'Brisbane', 'Bridgewater', 'Brickhaven', 'Boston', 'Boras', 'Bergen', 'Bergamo', 'Barcelona', 'Allentown', 'Aaarhus']\n"
     ]
    }
   ],
   "source": [
    "# Respuesta 2.3\n",
    "\n",
    "cities_inverted = cities_sorted[::-1]\n",
    "\n",
    "print(cities_inverted)"
   ]
  },
  {
   "cell_type": "code",
   "execution_count": 8,
   "metadata": {},
   "outputs": [
    {
     "name": "stdout",
     "output_type": "stream",
     "text": [
      "['Aaarhus', 'Barcelona', 'Bergen', 'Boston', 'Bridgewater', 'Bruxelles', 'Burlingame', 'Charleroi', 'Cowes', 'Espoo', 'Gensve', 'Glendale', 'Helsinki', 'Koln', 'Lille', 'London', 'Lule', 'Madrid', 'Manchester', 'Melbourne', 'Montreal', 'NYC', 'Nashua', 'New Haven', 'North Sydney', 'Oslo', 'Paris', 'Philadelphia', 'Reims', 'San Diego', 'San Jose', 'Sevilla', 'South Brisbane', 'Strasbourg', 'Toulouse', 'Vancouver', 'White Plains']\n"
     ]
    }
   ],
   "source": [
    "# Respuesta 2.4\n",
    "\n",
    "even_positions_cities = cities_sorted[::2]\n",
    "\n",
    "print(even_positions_cities)"
   ]
  },
  {
   "cell_type": "code",
   "execution_count": 9,
   "metadata": {},
   "outputs": [
    {
     "name": "stdout",
     "output_type": "stream",
     "text": [
      "['Aaarhus', 'Allentown', 'Barcelona', 'Bergamo', 'Boras', 'Bridgewater', 'Bruxelles', 'Burbank', 'Cambridge', 'Charleroi', 'Chatswood', 'Cowes', 'Espoo', 'Frankfurt', 'Kobenhavn', 'Las Vegas', 'Lille', 'Liverpool', 'Los Angeles', 'Makati City', 'Marseille', 'Melbourne', 'Minato-ku', 'NYC', 'New Bedford', 'New Haven', 'Osaka', 'Paris', 'Reggio Emilia', 'Reims', 'San Diego', 'San Francisco', 'Sevilla', 'Singapore', 'Stavern', 'Tsawassen', 'Vancouver']\n"
     ]
    }
   ],
   "source": [
    "# Respuesta 2.5\n",
    "\n",
    "cities_odd_length = [city for city in cities_sorted if len(city) % 2 != 0]\n",
    "\n",
    "print(cities_odd_length)"
   ]
  },
  {
   "cell_type": "code",
   "execution_count": 10,
   "metadata": {},
   "outputs": [
    {
     "name": "stdout",
     "output_type": "stream",
     "text": [
      "['Aaarhus', 'Allentown', 'Espoo', 'Osaka', 'Oslo', 'Oulu']\n"
     ]
    }
   ],
   "source": [
    "# Respuesta 2.6\n",
    "import re\n",
    "\n",
    "cities_vowel = [\n",
    "    city_vowel\n",
    "    for city_vowel in cities_sorted\n",
    "    if re.match(r\"^[AEIOUaeiou]\", city_vowel)]\n",
    "\n",
    "# Respuesta sin hacer uso de regex\n",
    "# cities_vowel = [city_vowel for city_vowel in cities_sorted\n",
    "#                   if city_vowel[0] in 'AEIOUaeiou']\n",
    "\n",
    "print(cities_vowel)"
   ]
  },
  {
   "cell_type": "markdown",
   "metadata": {},
   "source": [
    "## Ejercicio 3\n",
    "\n",
    "Disponemos de un almacén donde se van guardando las órdenes ya preparadas en cajas, mientras esperan que sean recogidas por el camión que las trasladará a las ciudades de destino. El almacén tiene una única puerta, a través de la cual se entran las órdenes cuando están preparadas y salen cuando hace falta cargar el camión. Podemos asumir que todas las órdenes se empaquetan en una caja cuadrada de la misma medida, y que no es posible pasar una caja por encima de otra.\n",
    "\n",
    "El almacén tiene la siguiente forma:\n",
    "\n",
    "<img src=\"figs/magatzem_1.png\" width=100 height=80 />\n",
    "\n",
    "1. ¿Qué estructura de datos sería la más conveniente para representar las cajas que se encuentran en el almacén?.\n",
    "\n",
    "2. Si se han guardado en el almacén las órdenes 10387, 10364, 10116, 10144 y 10156 (en este orden) y un camión con capacidad para 3 órdenes ya ha venido a cargar y se ha ido completamente lleno, ¿ qué órdenes quedan guardadas en el almacén? Reproducid el proceso utilizando la estructura de datos que habéis indicado en el apartado 1.\n",
    "\n",
    "3. El negocio funciona muy bien y se decide ampliar el almacén con el espacio de una nave colindante, de manera que ahora se pueden guardar el doble de cajas. El nuevo almacén sigue teniendo una única puerta, y queda de la siguiente manera:\n",
    "\n",
    "<img src=\"figs/magatzem_2.png\" width=100 height=80 />\n",
    "\n",
    "¿Es necesario actualizar la estructura de datos que representaba las cajas del almacén? Justificad la respuesta.\n",
    "\n",
    "**Nota**: Para las ilustraciones de los alamacenes se han utilizado las imágenes originales [1](https://www.freevector.com/arrow-stickers#) y [2](https://www.freevector.com/carton-box-on-yellow-vector-26711)."
   ]
  },
  {
   "cell_type": "markdown",
   "metadata": {},
   "source": [
    "`Respuesta 3.1 : Podriamos utilizar una pila (stack) para representar el almacén, ya que la primera caja en entrar siempra será la última en salir (FILO).`"
   ]
  },
  {
   "cell_type": "code",
   "execution_count": 11,
   "metadata": {},
   "outputs": [
    {
     "name": "stdout",
     "output_type": "stream",
     "text": [
      "Almacén inicial (Antes de la recogida del camión)\n",
      "|           |\n",
      "| 10156     |\n",
      "| 10144     |\n",
      "| 10116     |\n",
      "| 10364     |\n",
      "| 10387     |\n",
      "|___________|\n",
      "\n",
      "\n",
      "Almacén final (después de la recogida del camión)\n",
      "|           |\n",
      "| 10364     |\n",
      "| 10387     |\n",
      "|___________|\n",
      "\n",
      "\n"
     ]
    }
   ],
   "source": [
    "# Respuesta 3.2\n",
    "\n",
    "def print_stack(s, msg_bef=None, msg_after=None):\n",
    "    # Definimos la función auxiliar print_stack, que nos\n",
    "    # permitirá visualizar una pila.\n",
    "    if msg_bef:\n",
    "        print(msg_bef)\n",
    "\n",
    "    if len(s) == 0:\n",
    "        max_len = 10\n",
    "    else:\n",
    "        max_len = max([len(e) for e in s]) + 4\n",
    "\n",
    "    print(\"|\" + \" \" * (max_len + 2) + \"|\")\n",
    "    for e in s[::-1]:\n",
    "        print(\"| \" + e + \" \" * (max_len - len(e)) + \" |\")\n",
    "    print(\"|\" + \"_\" * (max_len + 2) + \"|\")\n",
    "\n",
    "    print(msg_after + \"\\n\" if msg_after else \"\\n\")\n",
    "\n",
    "\n",
    "stack = []\n",
    "\n",
    "# Añadimos los 5 elementos a la pila en el orden indicado\n",
    "stack.append(\"10387\")\n",
    "stack.append(\"10364\")\n",
    "stack.append(\"10116\")\n",
    "stack.append(\"10144\")\n",
    "stack.append(\"10156\")\n",
    "print_stack(stack, \"Almacén inicial (Antes de la recogida del camión)\")\n",
    "\n",
    "# Eliminamos los 3 elementos que se lleva el camión\n",
    "e1 = stack.pop()\n",
    "e2 = stack.pop()\n",
    "e3 = stack.pop()\n",
    "print_stack(stack, \"Almacén final (después de la recogida del camión)\")"
   ]
  },
  {
   "cell_type": "markdown",
   "metadata": {},
   "source": [
    "**Respuesta 3.3 :** `Haría falta modificar la estructura de datos que representa el almacén, ya que ahora en cada momento podemos sacar como mínimo dos cajas (siempre que el almacén tenga como mínimo dos).\n",
    "Una posible manera de representar el nuevo almacén sería utilizando dos pilas, una para cada columna de cajas. De esta manera, podríamos representar el hecho de que se puede acceder a las dos columnas de cajas de forma independiente:`"
   ]
  },
  {
   "cell_type": "code",
   "execution_count": 12,
   "metadata": {},
   "outputs": [],
   "source": [
    "stack_left = []\n",
    "stack_right = []"
   ]
  },
  {
   "cell_type": "markdown",
   "metadata": {},
   "source": [
    "Así pues, para el siguiente almacén la representación quedaría así:"
   ]
  },
  {
   "cell_type": "code",
   "execution_count": 13,
   "metadata": {},
   "outputs": [
    {
     "name": "stdout",
     "output_type": "stream",
     "text": [
      "Pila izquierda\n",
      "|       |\n",
      "| 4     |\n",
      "| 3     |\n",
      "| 2     |\n",
      "| 1     |\n",
      "|_______|\n",
      "\n",
      "\n",
      "Pila derecha\n",
      "|       |\n",
      "| 6     |\n",
      "| 5     |\n",
      "|_______|\n",
      "\n",
      "\n"
     ]
    }
   ],
   "source": [
    "stack_left.append(\"1\")\n",
    "stack_left.append(\"2\")\n",
    "stack_left.append(\"3\")\n",
    "stack_left.append(\"4\")\n",
    "stack_right.append(\"5\")\n",
    "stack_right.append(\"6\")\n",
    "print_stack(stack_left, \"Pila izquierda\")\n",
    "print_stack(stack_right, \"Pila derecha\")"
   ]
  },
  {
   "cell_type": "markdown",
   "metadata": {},
   "source": [
    "Ahora bien, si asumimos que también se puden mover cajas de manera lateral, entonces haría falta una representación más rica con tal de saber si una caja es accessible en un momento dado, y para poder eliminar elementos que no estén en el top de la pila.\n",
    "Una posible representación de la matriz, que indique si en cada posición hay o o no una caja, juntamente con un algoritmo que controle el acceso a las cajas:"
   ]
  },
  {
   "cell_type": "code",
   "execution_count": 14,
   "metadata": {},
   "outputs": [
    {
     "name": "stdout",
     "output_type": "stream",
     "text": [
      "[[1 5]\n",
      " [2 6]\n",
      " [3 0]\n",
      " [4 0]]\n"
     ]
    }
   ],
   "source": [
    "import numpy as np\n",
    "\n",
    "m = np.zeros((4, 2), int)\n",
    "\n",
    "m[0, 0] = 1\n",
    "m[1, 0] = 2\n",
    "m[2, 0] = 3\n",
    "m[3, 0] = 4\n",
    "m[0, 1] = 5\n",
    "m[1, 1] = 6\n",
    "\n",
    "print(m)"
   ]
  },
  {
   "cell_type": "markdown",
   "metadata": {},
   "source": [
    "## Ejercicio 4\n",
    "\n",
    "Partiendo del dataset `sales-data.csv`:\n",
    "\n",
    "1. Cread una lista de todos los años (no repetidos) que una orden ha ido a *France*.\n",
    "\n",
    "2. Mostrad el último año que una orden ha ido a *France*.\n",
    "\n",
    "Mostrad el resultado debidamente formateado (utilizando el método `format()`), incluyendo un mensaje explicativo de los valores que enseñáis.\n",
    "\n",
    "**Nota:** No es necesario ordenar la lista."
   ]
  },
  {
   "cell_type": "code",
   "execution_count": 15,
   "metadata": {},
   "outputs": [
    {
     "name": "stdout",
     "output_type": "stream",
     "text": [
      "The years that the items went to France are: [2003, 2004, 2005]\n"
     ]
    }
   ],
   "source": [
    "# Respuesta 4.1\n",
    "items_went_france = sales_data[\n",
    "    (sales_data[\"STATUS\"] == \"Shipped\") & (sales_data[\"COUNTRY\"] == \"France\")\n",
    "]\n",
    "\n",
    "items_went_france_dates = pd.to_datetime(\n",
    "    items_went_france[\"ORDERDATE\"], utc=True\n",
    ")\n",
    "\n",
    "items_went_france_years = items_went_france_dates.apply(\n",
    "    lambda datetime: datetime.year\n",
    ")\n",
    "\n",
    "items_went_france_years = list(set(items_went_france_years))\n",
    "\n",
    "print(\n",
    "    \"The years that the items went to France are: {}\".format(\n",
    "        items_went_france_years\n",
    "    )\n",
    ")"
   ]
  },
  {
   "cell_type": "code",
   "execution_count": 16,
   "metadata": {},
   "outputs": [
    {
     "name": "stdout",
     "output_type": "stream",
     "text": [
      "The last year that an item went to France is: 2005\n",
      "The last year that an item went to France is: 2005\n"
     ]
    }
   ],
   "source": [
    "# Respuesta 4.2\n",
    "\n",
    "print(\n",
    "    \"The last year that an item went to France is: {}\".format(\n",
    "        max(items_went_france_years)\n",
    "    )\n",
    ")\n",
    "\n",
    "# Also valid\n",
    "print(\n",
    "    \"The last year that an item went to France is: {}\".format(\n",
    "        items_went_france_years[-1]\n",
    "    )\n",
    ")"
   ]
  },
  {
   "cell_type": "markdown",
   "metadata": {},
   "source": [
    "## Ejercicio 5\n",
    "\n",
    "Partiendo del dataset `sales-data.csv`:\n",
    "\n",
    "1. Cread una lista con todos los meses (no repetidos) que se envió una orden con 'PRODUCTLINE' del tipo *Motorcycles*.\n",
    "\n",
    "2. Mostrad el mes que menos *Motorcycles* se enviaron.\n",
    "\n",
    "3. Mostrad el mes que más *Motorcycles* se enviaron.\n",
    "\n",
    "Mostrad el resultado debidamente formateado (utilizando el método `format()`), incluyendo un mensaje explicativo de los valores que enseñáis."
   ]
  },
  {
   "cell_type": "code",
   "execution_count": 17,
   "metadata": {},
   "outputs": [
    {
     "name": "stdout",
     "output_type": "stream",
     "text": [
      "The motorcycles have been sent the following months: [1, 2, 3, 4, 5, 6, 7, 8, 9, 10, 11, 12]\n",
      "The motorcycles have been sent the following pairs of month/year: ['11/2003', '10/2003', '5/2003', '8/2003', '5/2004', '4/2005', '12/2004', '1/2004', '2/2004', '4/2004', '9/2003', '11/2004', '7/2004', '12/2003', '8/2004', '7/2003', '4/2003', '6/2004', '9/2004', '3/2005', '1/2005', '10/2004', '2/2005', '2/2003']\n"
     ]
    }
   ],
   "source": [
    "# Respuesta 5.1\n",
    "\n",
    "items_motorcycle = sales_data[\n",
    "    (sales_data[\"PRODUCTLINE\"] == \"Motorcycles\") &\n",
    "    (sales_data[\"STATUS\"] == \"Shipped\")\n",
    "]\n",
    "\n",
    "items_motorcycle_dates = pd.to_datetime(\n",
    "    items_motorcycle[\"ORDERDATE\"], utc=True\n",
    ")\n",
    "\n",
    "items_motorcycle_months = items_motorcycle_dates.apply(\n",
    "    lambda datetime: datetime.month\n",
    ")\n",
    "\n",
    "print(\n",
    "    \"The motorcycles have been sent the following months: {}\".format(\n",
    "        list(set(items_motorcycle_months))\n",
    "    )\n",
    ")\n",
    "\n",
    "# Another option if we consider pairs of month/year\n",
    "items_motorcycle_months_year = items_motorcycle_dates.apply(\n",
    "    lambda datetime: f\"{datetime.month}/{datetime.year}\"\n",
    ")\n",
    "\n",
    "print(\n",
    "    \"The motorcycles have been sent the following\"\n",
    "    \" pairs of month/year: {}\".format(list(set(items_motorcycle_months_year)))\n",
    ")"
   ]
  },
  {
   "cell_type": "code",
   "execution_count": 28,
   "metadata": {},
   "outputs": [
    {
     "name": "stdout",
     "output_type": "stream",
     "text": [
      "The months with least motorcycles shipments are: [3, 5, 6, 7, 12]\n",
      "The pairs month/year with least motorcycles shipments are: ['12/2003', '4/2003', '5/2003', '8/2003', '5/2004', '7/2003', '2/2003', '9/2003', '12/2004', '7/2004']\n"
     ]
    }
   ],
   "source": [
    "# Respuesta 5.2\n",
    "least_motorcycles_shipments = items_motorcycle_months.value_counts().min()\n",
    "\n",
    "months_least_motorcycles = [\n",
    "    i\n",
    "    for i, v in items_motorcycle_months.value_counts().items()\n",
    "    if v == least_motorcycles_shipments\n",
    "]\n",
    "\n",
    "print(\n",
    "    \"The months with least motorcycles shipments are: {}\".format(\n",
    "        months_least_motorcycles\n",
    "    )\n",
    ")\n",
    "\n",
    "# Another option if we consider pairs of month/year\n",
    "\n",
    "ym_least_motorcycles_shipments = (\n",
    "    items_motorcycle_months_year.value_counts().min()\n",
    ")\n",
    "\n",
    "ym_least_motorcycles = [\n",
    "    i\n",
    "    for i, v in items_motorcycle_months_year.value_counts().items()\n",
    "    if v == ym_least_motorcycles_shipments]\n",
    "\n",
    "print(\n",
    "    \"The pairs month/year with least motorcycles shipments are: {}\".format(\n",
    "        ym_least_motorcycles\n",
    "    )\n",
    ")"
   ]
  },
  {
   "cell_type": "code",
   "execution_count": 31,
   "metadata": {},
   "outputs": [
    {
     "name": "stdout",
     "output_type": "stream",
     "text": [
      "The months with most motorcycles shipments are: [11]\n",
      "The pairs month/year with most motorcycles shipments are: ['11/2004']\n"
     ]
    }
   ],
   "source": [
    "# Respuesta 5.3\n",
    "most_motorcycles_shipments = items_motorcycle_months.value_counts().max()\n",
    "\n",
    "months_most_motorcycles = [\n",
    "    i\n",
    "    for i, v in items_motorcycle_months.value_counts().items()\n",
    "    if v == most_motorcycles_shipments]\n",
    "\n",
    "print(\n",
    "    \"The months with most motorcycles shipments are: {}\".format(\n",
    "        months_most_motorcycles\n",
    "    )\n",
    ")\n",
    "\n",
    "# Another option if we consider pairs of month/year\n",
    "ym_most_motorcycles_shipments = (\n",
    "    items_motorcycle_months_year.value_counts().max()\n",
    ")\n",
    "\n",
    "ym_most_motorcycles = [\n",
    "    i\n",
    "    for i, v in items_motorcycle_months_year.value_counts().items()\n",
    "    if v == ym_most_motorcycles_shipments]\n",
    "\n",
    "print(\n",
    "    \"The pairs month/year with most motorcycles shipments are: {}\".format(\n",
    "        ym_most_motorcycles\n",
    "    )\n",
    ")"
   ]
  },
  {
   "cell_type": "markdown",
   "metadata": {},
   "source": [
    "## Ejercicio 6\n",
    "\n",
    "Calculad la diferencia, en días, des de la última orden con destinación **USA** y la primera orden con destinación **Canada**.\n",
    "\n",
    "Mostrad el resultado debidamente formateado (utilizando el método `format()`), incluyendo un mensaje explicativo de los valores que enseñáis."
   ]
  },
  {
   "cell_type": "code",
   "execution_count": 32,
   "metadata": {},
   "outputs": [
    {
     "name": "stdout",
     "output_type": "stream",
     "text": [
      "The difference in days is: 572\n"
     ]
    }
   ],
   "source": [
    "# Respuesta 6\n",
    "\n",
    "from datetime import datetime\n",
    "\n",
    "USA_data = sales_data[sales_data[\"COUNTRY\"] == \"USA\"]\n",
    "USA_data_date = (\n",
    "    pd.to_datetime(USA_data[\"ORDERDATE\"]).sort_values(ascending=False).iloc[0]\n",
    ")\n",
    "\n",
    "canada_data = sales_data[sales_data[\"COUNTRY\"] == \"Canada\"]\n",
    "canada_data_date = (\n",
    "    pd.to_datetime(canada_data[\"ORDERDATE\"]).sort_values().iloc[0]\n",
    ")\n",
    "\n",
    "delta = USA_data_date - canada_data_date\n",
    "\n",
    "print(\"The difference in days is: {}\".format(delta.days))"
   ]
  },
  {
   "cell_type": "markdown",
   "metadata": {},
   "source": [
    "## Ejercicio 7\n",
    "\n",
    "Haciendo uso de las **expresiones regulares** y partiendo del dataset `sales-data.csv`:\n",
    "\n",
    "1. Encontrad todas las empresas (no repetidas) que contengan en su nombre la abreviatura \"Ltd\".\n",
    "\n",
    "2. Encontrad todas las empresas que la string de su nombre empieza y acaba por vocal.\n",
    "\n",
    "**Nota**: el nombre de las empresas se encuentra en el campo `CUSTOMERNAME`."
   ]
  },
  {
   "cell_type": "code",
   "execution_count": 33,
   "metadata": {},
   "outputs": [
    {
     "name": "stdout",
     "output_type": "stream",
     "text": [
      "['Double Decker Gift Stores, Ltd', 'Royal Canadian Collectables, Ltd.', 'Vida Sport, Ltd', 'Corrida Auto Replicas, Ltd', \"Men 'R' US Retailers, Ltd.\", 'Toms Spezialitten, Ltd', \"Anna's Decorations, Ltd\", 'Dragon Souveniers, Ltd.', 'Tokyo Collectables, Ltd', 'UK Collectables, Ltd.', 'Signal Collectibles Ltd.', 'Mini Creations Ltd.', 'Mini Gifts Distributors Ltd.', 'Australian Collectables, Ltd']\n"
     ]
    }
   ],
   "source": [
    "# Respuesta 7.1\n",
    "companies = list(set(sales_data[\"CUSTOMERNAME\"]))\n",
    "ltd_regexp = r\"\\bLtd\\b\"\n",
    "ltd_companies = [\n",
    "    company\n",
    "    for company in companies\n",
    "    if re.search(ltd_regexp, company) is not None\n",
    "]\n",
    "\n",
    "print(ltd_companies)"
   ]
  },
  {
   "cell_type": "code",
   "execution_count": 34,
   "metadata": {},
   "outputs": [
    {
     "name": "stdout",
     "output_type": "stream",
     "text": [
      "['Australian Gift Network, Co', 'Atelier graphique']\n"
     ]
    }
   ],
   "source": [
    "# Respuesta 7.2\n",
    "start_end_vowel_regexp = r\"^[AEIOUaeiou].*[AEIOUaeiou]$\"\n",
    "s_e_vowel_companies = [\n",
    "    company\n",
    "    for company in companies\n",
    "    if re.match(start_end_vowel_regexp, company)\n",
    "]\n",
    "print(s_e_vowel_companies)"
   ]
  },
  {
   "cell_type": "markdown",
   "metadata": {},
   "source": [
    "## Ejercicio 8\n",
    "\n",
    "Cread un diccionario ordenado (`OrderedDict`) los elementos del cual sigan la siguiente estructura:\n",
    "\n",
    "    {\n",
    "        ORDERID : {\n",
    "            ORDERPRICE : float,\n",
    "            ORDERDATE: timestamp,\n",
    "            STATUS: str,\n",
    "            PRODUCTLINE: str,\n",
    "            PRODUCTCODE: str,\n",
    "            CUSTOMERNAME: str,\n",
    "            CITY: str,\n",
    "            COUNTRY: str\n",
    "        }\n",
    "    }\n",
    "\n",
    "La estructura del diccionario sería: {ORDERID_1: {...}, ORDERID_2: {...}, ORDERID_N: {...}}\n",
    "\n",
    "El diccionario tiene que estar ordenado por *ORDERID* y ha de contener tan sólo las 100 primeras órdenes de *Motorcycles*.\n",
    "\n",
    "**Pista**: podéis utilizar el método `.to_dict()` de una columna del dataset para convertirla en un diccionario.\n",
    "\n",
    "<span style=\"font-family: Courier New; background-color: #82b74b; color: #000000; padding: 3px; \">NM</span> **(1 punto)**"
   ]
  },
  {
   "cell_type": "code",
   "execution_count": 35,
   "metadata": {},
   "outputs": [
    {
     "name": "stdout",
     "output_type": "stream",
     "text": [
      "OrderedDict([(10107, {'ORDERPRICE': 2871.0, 'ORDERDATE': Timestamp('2003-02-24 00:00:00'), 'STATUS': 'Shipped', 'PRODUCTLINE': 'Motorcycles', 'PRODUCTCODE': 'S10_1678', 'CUSTOMERNAME': 'Land of Toys Inc.', 'CITY': 'NYC', 'COUNTRY': 'USA'}), (10120, {'ORDERPRICE': 2793.86, 'ORDERDATE': Timestamp('2003-04-29 00:00:00'), 'STATUS': 'Shipped', 'PRODUCTLINE': 'Motorcycles', 'PRODUCTCODE': 'S10_2016', 'CUSTOMERNAME': 'Australian Collectors, Co.', 'CITY': 'Melbourne', 'COUNTRY': 'Australia'}), (10121, {'ORDERPRICE': 2765.9, 'ORDERDATE': Timestamp('2003-05-07 00:00:00'), 'STATUS': 'Shipped', 'PRODUCTLINE': 'Motorcycles', 'PRODUCTCODE': 'S10_1678', 'CUSTOMERNAME': 'Reims Collectables', 'CITY': 'Reims', 'COUNTRY': 'France'}), (10134, {'ORDERPRICE': 3884.34, 'ORDERDATE': Timestamp('2003-07-01 00:00:00'), 'STATUS': 'Shipped', 'PRODUCTLINE': 'Motorcycles', 'PRODUCTCODE': 'S10_1678', 'CUSTOMERNAME': 'Lyon Souveniers', 'CITY': 'Paris', 'COUNTRY': 'France'}), (10145, {'ORDERPRICE': 3746.7, 'ORDERDATE': Timestamp('2003-08-25 00:00:00'), 'STATUS': 'Shipped', 'PRODUCTLINE': 'Motorcycles', 'PRODUCTCODE': 'S10_1678', 'CUSTOMERNAME': 'Toys4GrownUps.com', 'CITY': 'Pasadena', 'COUNTRY': 'USA'}), (10146, {'ORDERPRICE': 3155.58, 'ORDERDATE': Timestamp('2003-09-03 00:00:00'), 'STATUS': 'Shipped', 'PRODUCTLINE': 'Motorcycles', 'PRODUCTCODE': 'S18_3782', 'CUSTOMERNAME': 'Gift Ideas Corp.', 'CITY': 'Glendale', 'COUNTRY': 'USA'}), (10158, {'ORDERPRICE': 1474.66, 'ORDERDATE': Timestamp('2003-10-10 00:00:00'), 'STATUS': 'Shipped', 'PRODUCTLINE': 'Motorcycles', 'PRODUCTCODE': 'S24_2000', 'CUSTOMERNAME': 'Baane Mini Imports', 'CITY': 'Stavern', 'COUNTRY': 'Norway'}), (10159, {'ORDERPRICE': 5205.27, 'ORDERDATE': Timestamp('2003-10-10 00:00:00'), 'STATUS': 'Shipped', 'PRODUCTLINE': 'Motorcycles', 'PRODUCTCODE': 'S10_1678', 'CUSTOMERNAME': 'Corporate Gift Ideas Co.', 'CITY': 'San Francisco', 'COUNTRY': 'USA'}), (10168, {'ORDERPRICE': 3479.76, 'ORDERDATE': Timestamp('2003-10-28 00:00:00'), 'STATUS': 'Shipped', 'PRODUCTLINE': 'Motorcycles', 'PRODUCTCODE': 'S10_1678', 'CUSTOMERNAME': 'Technics Stores Inc.', 'CITY': 'Burlingame', 'COUNTRY': 'USA'}), (10180, {'ORDERPRICE': 2497.77, 'ORDERDATE': Timestamp('2003-11-11 00:00:00'), 'STATUS': 'Shipped', 'PRODUCTLINE': 'Motorcycles', 'PRODUCTCODE': 'S10_1678', 'CUSTOMERNAME': 'Daedalus Designs Imports', 'CITY': 'Lille', 'COUNTRY': 'France'}), (10188, {'ORDERPRICE': 5512.32, 'ORDERDATE': Timestamp('2003-11-18 00:00:00'), 'STATUS': 'Shipped', 'PRODUCTLINE': 'Motorcycles', 'PRODUCTCODE': 'S10_1678', 'CUSTOMERNAME': 'Herkku Gifts', 'CITY': 'Bergen', 'COUNTRY': 'Norway'}), (10189, {'ORDERPRICE': 4512.48, 'ORDERDATE': Timestamp('2003-11-18 00:00:00'), 'STATUS': 'Shipped', 'PRODUCTLINE': 'Motorcycles', 'PRODUCTCODE': 'S12_2823', 'CUSTOMERNAME': 'Toys4GrownUps.com', 'CITY': 'Pasadena', 'COUNTRY': 'USA'}), (10190, {'ORDERPRICE': 3199.98, 'ORDERDATE': Timestamp('2003-11-19 00:00:00'), 'STATUS': 'Shipped', 'PRODUCTLINE': 'Motorcycles', 'PRODUCTCODE': 'S24_2360', 'CUSTOMERNAME': 'Euro Shopping Channel', 'CITY': 'Madrid', 'COUNTRY': 'Spain'}), (10201, {'ORDERPRICE': 2168.54, 'ORDERDATE': Timestamp('2003-12-01 00:00:00'), 'STATUS': 'Shipped', 'PRODUCTLINE': 'Motorcycles', 'PRODUCTCODE': 'S10_1678', 'CUSTOMERNAME': 'Mini Wheels Co.', 'CITY': 'San Francisco', 'COUNTRY': 'USA'}), (10210, {'ORDERPRICE': 3009.09, 'ORDERDATE': Timestamp('2004-01-12 00:00:00'), 'STATUS': 'Shipped', 'PRODUCTLINE': 'Motorcycles', 'PRODUCTCODE': 'S10_2016', 'CUSTOMERNAME': 'Osaka Souveniers Co.', 'CITY': 'Osaka', 'COUNTRY': 'Japan'}), (10211, {'ORDERPRICE': 4708.44, 'ORDERDATE': Timestamp('2004-01-15 00:00:00'), 'STATUS': 'Shipped', 'PRODUCTLINE': 'Motorcycles', 'PRODUCTCODE': 'S10_1678', 'CUSTOMERNAME': 'Auto Canal Petit', 'CITY': 'Paris', 'COUNTRY': 'France'}), (10223, {'ORDERPRICE': 3965.66, 'ORDERDATE': Timestamp('2004-02-20 00:00:00'), 'STATUS': 'Shipped', 'PRODUCTLINE': 'Motorcycles', 'PRODUCTCODE': 'S10_1678', 'CUSTOMERNAME': 'Australian Collectors, Co.', 'CITY': 'Melbourne', 'COUNTRY': 'Australia'}), (10224, {'ORDERPRICE': 6087.94, 'ORDERDATE': Timestamp('2004-02-21 00:00:00'), 'STATUS': 'Shipped', 'PRODUCTLINE': 'Motorcycles', 'PRODUCTCODE': 'S12_2823', 'CUSTOMERNAME': 'Daedalus Designs Imports', 'CITY': 'Lille', 'COUNTRY': 'France'}), (10236, {'ORDERPRICE': 2852.08, 'ORDERDATE': Timestamp('2004-04-03 00:00:00'), 'STATUS': 'Shipped', 'PRODUCTLINE': 'Motorcycles', 'PRODUCTCODE': 'S10_2016', 'CUSTOMERNAME': 'Motor Mint Distributors Inc.', 'CITY': 'Philadelphia', 'COUNTRY': 'USA'}), (10237, {'ORDERPRICE': 2333.12, 'ORDERDATE': Timestamp('2004-04-05 00:00:00'), 'STATUS': 'Shipped', 'PRODUCTLINE': 'Motorcycles', 'PRODUCTCODE': 'S10_1678', 'CUSTOMERNAME': 'Vitachrome Inc.', 'CITY': 'NYC', 'COUNTRY': 'USA'}), (10251, {'ORDERPRICE': 3188.64, 'ORDERDATE': Timestamp('2004-05-18 00:00:00'), 'STATUS': 'Shipped', 'PRODUCTLINE': 'Motorcycles', 'PRODUCTCODE': 'S10_1678', 'CUSTOMERNAME': 'Tekni Collectables Inc.', 'CITY': 'Newark', 'COUNTRY': 'USA'}), (10263, {'ORDERPRICE': 3676.76, 'ORDERDATE': Timestamp('2004-06-28 00:00:00'), 'STATUS': 'Shipped', 'PRODUCTLINE': 'Motorcycles', 'PRODUCTCODE': 'S10_1678', 'CUSTOMERNAME': 'Gift Depot Inc.', 'CITY': 'Bridgewater', 'COUNTRY': 'USA'}), (10264, {'ORDERPRICE': 2626.08, 'ORDERDATE': Timestamp('2004-06-30 00:00:00'), 'STATUS': 'Shipped', 'PRODUCTLINE': 'Motorcycles', 'PRODUCTCODE': 'S18_3782', 'CUSTOMERNAME': 'Gifts4AllAges.com', 'CITY': 'Boston', 'COUNTRY': 'USA'}), (10275, {'ORDERPRICE': 4177.35, 'ORDERDATE': Timestamp('2004-07-23 00:00:00'), 'STATUS': 'Shipped', 'PRODUCTLINE': 'Motorcycles', 'PRODUCTCODE': 'S10_1678', 'CUSTOMERNAME': 'La Rochelle Gifts', 'CITY': 'Nantes', 'COUNTRY': 'France'}), (10285, {'ORDERPRICE': 4099.68, 'ORDERDATE': Timestamp('2004-08-27 00:00:00'), 'STATUS': 'Shipped', 'PRODUCTLINE': 'Motorcycles', 'PRODUCTCODE': 'S10_1678', 'CUSTOMERNAME': \"Marta's Replicas Co.\", 'CITY': 'Cambridge', 'COUNTRY': 'USA'}), (10286, {'ORDERPRICE': 2173.6, 'ORDERDATE': Timestamp('2004-08-28 00:00:00'), 'STATUS': 'Shipped', 'PRODUCTLINE': 'Motorcycles', 'PRODUCTCODE': 'S18_3782', 'CUSTOMERNAME': \"La Corne D'abondance, Co.\", 'CITY': 'Paris', 'COUNTRY': 'France'}), (10298, {'ORDERPRICE': 3757.26, 'ORDERDATE': Timestamp('2004-09-27 00:00:00'), 'STATUS': 'Shipped', 'PRODUCTLINE': 'Motorcycles', 'PRODUCTCODE': 'S10_2016', 'CUSTOMERNAME': 'Atelier graphique', 'CITY': 'Nantes', 'COUNTRY': 'France'}), (10299, {'ORDERPRICE': 2597.39, 'ORDERDATE': Timestamp('2004-09-30 00:00:00'), 'STATUS': 'Shipped', 'PRODUCTLINE': 'Motorcycles', 'PRODUCTCODE': 'S10_1678', 'CUSTOMERNAME': 'Toys of Finland, Co.', 'CITY': 'Helsinki', 'COUNTRY': 'Finland'}), (10308, {'ORDERPRICE': 4043.96, 'ORDERDATE': Timestamp('2004-10-15 00:00:00'), 'STATUS': 'Shipped', 'PRODUCTLINE': 'Motorcycles', 'PRODUCTCODE': 'S10_2016', 'CUSTOMERNAME': 'Mini Classics', 'CITY': 'White Plains', 'COUNTRY': 'USA'}), (10309, {'ORDERPRICE': 4394.38, 'ORDERDATE': Timestamp('2004-10-15 00:00:00'), 'STATUS': 'Shipped', 'PRODUCTLINE': 'Motorcycles', 'PRODUCTCODE': 'S10_1678', 'CUSTOMERNAME': 'Baane Mini Imports', 'CITY': 'Stavern', 'COUNTRY': 'Norway'}), (10318, {'ORDERPRICE': 4358.04, 'ORDERDATE': Timestamp('2004-11-02 00:00:00'), 'STATUS': 'Shipped', 'PRODUCTLINE': 'Motorcycles', 'PRODUCTCODE': 'S10_1678', 'CUSTOMERNAME': 'Diecast Classics Inc.', 'CITY': 'Allentown', 'COUNTRY': 'USA'}), (10319, {'ORDERPRICE': 4111.8, 'ORDERDATE': Timestamp('2004-11-03 00:00:00'), 'STATUS': 'Shipped', 'PRODUCTLINE': 'Motorcycles', 'PRODUCTCODE': 'S12_2823', 'CUSTOMERNAME': 'Microscale Inc.', 'CITY': 'NYC', 'COUNTRY': 'USA'}), (10329, {'ORDERPRICE': 4396.14, 'ORDERDATE': Timestamp('2004-11-15 00:00:00'), 'STATUS': 'Shipped', 'PRODUCTLINE': 'Motorcycles', 'PRODUCTCODE': 'S10_1678', 'CUSTOMERNAME': 'Land of Toys Inc.', 'CITY': 'NYC', 'COUNTRY': 'USA'}), (10339, {'ORDERPRICE': 2756.8, 'ORDERDATE': Timestamp('2004-11-23 00:00:00'), 'STATUS': 'Shipped', 'PRODUCTLINE': 'Motorcycles', 'PRODUCTCODE': 'S10_2016', 'CUSTOMERNAME': 'Tokyo Collectables, Ltd', 'CITY': 'Minato-ku', 'COUNTRY': 'Japan'}), (10340, {'ORDERPRICE': 4398.9, 'ORDERDATE': Timestamp('2004-11-24 00:00:00'), 'STATUS': 'Shipped', 'PRODUCTLINE': 'Motorcycles', 'PRODUCTCODE': 'S24_2000', 'CUSTOMERNAME': 'Enaco Distributors', 'CITY': 'Barcelona', 'COUNTRY': 'Spain'}), (10341, {'ORDERPRICE': 7737.93, 'ORDERDATE': Timestamp('2004-11-24 00:00:00'), 'STATUS': 'Shipped', 'PRODUCTLINE': 'Motorcycles', 'PRODUCTCODE': 'S10_1678', 'CUSTOMERNAME': 'Salzburg Collectables', 'CITY': 'Salzburg', 'COUNTRY': 'Austria'}), (10361, {'ORDERPRICE': 1451.0, 'ORDERDATE': Timestamp('2004-12-17 00:00:00'), 'STATUS': 'Shipped', 'PRODUCTLINE': 'Motorcycles', 'PRODUCTCODE': 'S10_1678', 'CUSTOMERNAME': 'Souveniers And Things Co.', 'CITY': 'Chatswood', 'COUNTRY': 'Australia'}), (10362, {'ORDERPRICE': 3664.1, 'ORDERDATE': Timestamp('2005-01-05 00:00:00'), 'STATUS': 'Shipped', 'PRODUCTLINE': 'Motorcycles', 'PRODUCTCODE': 'S10_4698', 'CUSTOMERNAME': 'Technics Stores Inc.', 'CITY': 'Burlingame', 'COUNTRY': 'USA'}), (10364, {'ORDERPRICE': 2317.44, 'ORDERDATE': Timestamp('2005-01-06 00:00:00'), 'STATUS': 'Shipped', 'PRODUCTLINE': 'Motorcycles', 'PRODUCTCODE': 'S32_2206', 'CUSTOMERNAME': 'Marseille Mini Autos', 'CITY': 'Marseille', 'COUNTRY': 'France'}), (10374, {'ORDERPRICE': 5288.01, 'ORDERDATE': Timestamp('2005-02-02 00:00:00'), 'STATUS': 'Shipped', 'PRODUCTLINE': 'Motorcycles', 'PRODUCTCODE': 'S10_2016', 'CUSTOMERNAME': 'Australian Gift Network, Co', 'CITY': 'South Brisbane', 'COUNTRY': 'Australia'}), (10375, {'ORDERPRICE': 733.11, 'ORDERDATE': Timestamp('2005-02-03 00:00:00'), 'STATUS': 'Shipped', 'PRODUCTLINE': 'Motorcycles', 'PRODUCTCODE': 'S10_1678', 'CUSTOMERNAME': 'La Rochelle Gifts', 'CITY': 'Nantes', 'COUNTRY': 'France'}), (10387, {'ORDERPRICE': 4175.6, 'ORDERDATE': Timestamp('2005-03-02 00:00:00'), 'STATUS': 'Shipped', 'PRODUCTLINE': 'Motorcycles', 'PRODUCTCODE': 'S32_1374', 'CUSTOMERNAME': 'Dragon Souveniers, Ltd.', 'CITY': 'Singapore', 'COUNTRY': 'Singapore'}), (10388, {'ORDERPRICE': 3207.12, 'ORDERDATE': Timestamp('2005-03-03 00:00:00'), 'STATUS': 'Shipped', 'PRODUCTLINE': 'Motorcycles', 'PRODUCTCODE': 'S10_1678', 'CUSTOMERNAME': 'FunGiftIdeas.com', 'CITY': 'New Bedford', 'COUNTRY': 'USA'}), (10402, {'ORDERPRICE': 5833.8, 'ORDERDATE': Timestamp('2005-04-07 00:00:00'), 'STATUS': 'Shipped', 'PRODUCTLINE': 'Motorcycles', 'PRODUCTCODE': 'S10_2016', 'CUSTOMERNAME': 'Auto Canal Petit', 'CITY': 'Paris', 'COUNTRY': 'France'}), (10403, {'ORDERPRICE': 2434.56, 'ORDERDATE': Timestamp('2005-04-08 00:00:00'), 'STATUS': 'Shipped', 'PRODUCTLINE': 'Motorcycles', 'PRODUCTCODE': 'S10_1678', 'CUSTOMERNAME': 'UK Collectables, Ltd.', 'CITY': 'Liverpool', 'COUNTRY': 'UK'}), (10417, {'ORDERPRICE': 7516.08, 'ORDERDATE': Timestamp('2005-05-13 00:00:00'), 'STATUS': 'Disputed', 'PRODUCTLINE': 'Motorcycles', 'PRODUCTCODE': 'S10_1678', 'CUSTOMERNAME': 'Euro Shopping Channel', 'CITY': 'Madrid', 'COUNTRY': 'Spain'})])\n"
     ]
    }
   ],
   "source": [
    "# Respuesta 8\n",
    "from collections import OrderedDict\n",
    "\n",
    "sales_data[\"ORDERDATE\"] = pd.to_datetime(\n",
    "    sales_data[\"ORDERDATE\"], format=\"%m/%d/%Y %H:%M\"\n",
    ")\n",
    "\n",
    "mask = sales_data[\"PRODUCTLINE\"] == \"Motorcycles\"\n",
    "only_100_motorcycles_sorted = sales_data[mask].sort_values(\"ORDERID\").head(100)\n",
    "dict_result = only_100_motorcycles_sorted.set_index(\"ORDERID\").to_dict(\n",
    "    into=OrderedDict, orient=\"index\"\n",
    ")\n",
    "\n",
    "print(dict_result)"
   ]
  },
  {
   "cell_type": "markdown",
   "metadata": {},
   "source": [
    "## Ejercicio 9\n",
    "\n",
    "Definid una **función** que reciba como a parámetro el **diccionario del ejercicio anterior** y:\n",
    "\n",
    "1. Mostrad por pantalla las órdenes con *STATUS* *Shipped* y que vayan a *USA*.\n",
    "2. Retornad el *ORDERPRICE* máximo, mínimo y la diferencia entre estos dos valores.\n",
    "\n",
    "La función ha de estar preparada per trabajar con diccionarios muy grandes. Por tanto, **se ha de evitar guardar los valores individuales mostrados por pantalla en una lista**.\n",
    "\n",
    "Llamad a la función pasando como parámetro el diccionario del ejercicio anterior."
   ]
  },
  {
   "cell_type": "code",
   "execution_count": 39,
   "metadata": {},
   "outputs": [
    {
     "name": "stdout",
     "output_type": "stream",
     "text": [
      "10107\n",
      "10145\n",
      "10146\n",
      "10159\n",
      "10168\n",
      "10189\n",
      "10201\n",
      "10236\n",
      "10237\n",
      "10251\n",
      "10263\n",
      "10264\n",
      "10285\n",
      "10308\n",
      "10318\n",
      "10319\n",
      "10329\n",
      "10362\n",
      "10388\n"
     ]
    },
    {
     "data": {
      "text/plain": [
       "(5205.27, 2168.54, 3036.7300000000005)"
      ]
     },
     "execution_count": 39,
     "metadata": {},
     "output_type": "execute_result"
    }
   ],
   "source": [
    "# Respuesta 9\n",
    "\n",
    "\n",
    "def shiped_usa(dict_ord):\n",
    "    max_price = 0.0\n",
    "    min_price = 0.0\n",
    "    is_first_it = True\n",
    "\n",
    "    for k, v in dict_ord.items():\n",
    "        if v[\"STATUS\"] == \"Shipped\" and v[\"COUNTRY\"] == \"USA\":\n",
    "            print(k)\n",
    "            if is_first_it:\n",
    "                max_price = v[\"ORDERPRICE\"]\n",
    "                min_price = v[\"ORDERPRICE\"]\n",
    "                is_first_it = False\n",
    "            else:\n",
    "                if v[\"ORDERPRICE\"] > max_price:\n",
    "                    max_price = v[\"ORDERPRICE\"]\n",
    "\n",
    "                if v[\"ORDERPRICE\"] < min_price:\n",
    "                    min_price = v[\"ORDERPRICE\"]\n",
    "\n",
    "    return max_price, min_price, max_price - min_price\n",
    "\n",
    "\n",
    "shiped_usa(dict_result)"
   ]
  },
  {
   "cell_type": "markdown",
   "metadata": {},
   "source": [
    "## Ejercicio 10\n",
    "\n",
    "1. Utilizando como información de entrada el diccionario creado en el **ejercicio 8**, calculad en una **única expresión** la media de precios de las órdenes con 'STATUS' 'Shipped' que van a 'Norway' después del 01/01/2003.\n",
    "\n",
    "2. Utilizando como información de entrada el diccionario creado en el **ejercicio 8**, calculad en una **única expresión** la media de precios de las órdenes con 'STATUS' 'Shipped', 'PRODUCTCODE' 'S10_2016', que van a 'USA' pero no a 'NYC' antes del 01/01/2005.\n",
    "\n",
    "Recordad que se pueden utilizar librerias científicas para realizar los cálculos de forma sencilla."
   ]
  },
  {
   "cell_type": "code",
   "execution_count": 41,
   "metadata": {},
   "outputs": [
    {
     "name": "stdout",
     "output_type": "stream",
     "text": [
      "La media de precios de las órdenes shipped que van a Norway después del año 2003 es de: 3793.786666666667\n"
     ]
    }
   ],
   "source": [
    "# Respuesta 10.1\n",
    "\n",
    "import numpy as np\n",
    "import pytz\n",
    "\n",
    "reference = datetime(year=2003, month=1, day=1)\n",
    "prices_norway = np.mean(\n",
    "    [\n",
    "        v[\"ORDERPRICE\"]\n",
    "        for k, v in dict_result.items()\n",
    "        if v[\"STATUS\"] == \"Shipped\"\n",
    "        and v[\"COUNTRY\"] == \"Norway\"\n",
    "        and v[\"ORDERDATE\"] > reference\n",
    "    ]\n",
    ")\n",
    "\n",
    "print(\n",
    "    \"La media de precios de las órdenes shipped que \"\n",
    "    \"van a Norway después del año 2003 es de: {}\".format(prices_norway)\n",
    ")"
   ]
  },
  {
   "cell_type": "code",
   "execution_count": 46,
   "metadata": {},
   "outputs": [
    {
     "name": "stdout",
     "output_type": "stream",
     "text": [
      "La media de precios de productos shipped con código de producto S10_2016 que van a USA pero no a NYC antes del 2005 es: 3448.02\n"
     ]
    }
   ],
   "source": [
    "# Respuesta 10.2\n",
    "\n",
    "prices_usa = np.mean(\n",
    "    [\n",
    "        v[\"ORDERPRICE\"]\n",
    "        for k, v in dict_result.items()\n",
    "        if v[\"STATUS\"] == \"Shipped\"\n",
    "        and v[\"PRODUCTCODE\"] == \"S10_2016\"\n",
    "        and v[\"COUNTRY\"] == \"USA\"\n",
    "        and v[\"CITY\"] != \"NYC\"\n",
    "        and v[\"ORDERDATE\"] < datetime(year=2005, month=1, day=1)\n",
    "    ]\n",
    ")\n",
    "\n",
    "print(\n",
    "    \"La media de precios de productos shipped con código de \"\n",
    "    \"producto S10_2016 que van a USA pero no \"\n",
    "    \"a NYC antes del 2005 es: {}\".format(prices_usa)\n",
    ")"
   ]
  },
  {
   "cell_type": "code",
   "execution_count": null,
   "metadata": {},
   "outputs": [],
   "source": []
  }
 ],
 "metadata": {
  "kernelspec": {
   "display_name": "Python 3",
   "language": "python",
   "name": "python3"
  },
  "language_info": {
   "codemirror_mode": {
    "name": "ipython",
    "version": 3
   },
   "file_extension": ".py",
   "mimetype": "text/x-python",
   "name": "python",
   "nbconvert_exporter": "python",
   "pygments_lexer": "ipython3",
   "version": "3.8.8"
  }
 },
 "nbformat": 4,
 "nbformat_minor": 4
}
