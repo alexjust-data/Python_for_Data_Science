{
 "cells": [
  {
   "cell_type": "markdown",
   "source": [
    "1. creamos proyecto en git y copiamos la url\n",
    "2. hacemos una clonacion del proyecto vacío desde VSC\n",
    "3. creamos los archivos\n",
    "4. decimos a terminal que trabajamos proyecto con : git init\n",
    "5. Veremos todos los ficheros la U : unfoloww\n",
    "6. añadimos todos los archivos al __stage__ : git add.\n",
    "> el punto es para decirle \"todos\"\n",
    "7. hacemos commit : git commit -m \"comienzo proyecto\"\n",
    "8. hacemos push para subirlo a github"
   ],
   "metadata": {}
  },
  {
   "cell_type": "markdown",
   "source": [],
   "metadata": {}
  }
 ],
 "metadata": {
  "orig_nbformat": 4,
  "language_info": {
   "name": "python",
   "version": "3.9.2"
  },
  "kernelspec": {
   "name": "python3",
   "display_name": "Python 3.9.2 64-bit"
  },
  "interpreter": {
   "hash": "aee8b7b246df8f9039afb4144a1f6fd8d2ca17a180786b69acc140d282b71a49"
  }
 },
 "nbformat": 4,
 "nbformat_minor": 2
}