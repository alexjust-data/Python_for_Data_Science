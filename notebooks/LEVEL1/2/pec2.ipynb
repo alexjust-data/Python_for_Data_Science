{
 "cells": [
  {
   "cell_type": "markdown",
   "metadata": {},
   "source": [
    "<div style=\"float: right; width: 50%;\">\n",
    "    <p style=\"margin: 0; text-align:right;\">Python en Ciencia de Datos Aplicada</p>\n",
    "    <p style=\"margin: 0; text-align:right; padding-button: 100px;\">Practicas - Breve introducción a la programación\n",
    "</p>\n",
    "</div>\n",
    "\n",
    "</div>\n",
    "<div style=\"width: 100%; clear: both;\">\n",
    "<div style=\"width:100%;\">&nbsp;</div>"
   ]
  },
  {
   "cell_type": "markdown",
   "metadata": {},
   "source": [
    "# Prácticas"
   ]
  },
  {
   "cell_type": "markdown",
   "metadata": {},
   "source": [
    "## Pregunta teórica 1 \n",
    "\n",
    "Identifica tres tipos de datos de Python y explica brevemente en qué se diferencian. Explica la diferencia entre el tipo lista y el tipo tupla."
   ]
  },
  {
   "cell_type": "markdown",
   "metadata": {},
   "source": [
    "**Respuesta**\n"
   ]
  },
  {
   "cell_type": "markdown",
   "metadata": {},
   "source": [
    "* __Integers__: Hace referencia a valores numéricos enteros. En Python 3 no hay ningún límite en cuanto al tamaño de un valor entero. Por supuesto, está limitado por la cantidad de memoria que tiene el sistema.\n",
    "\n",
    "* __Floats__ ( Floating-Point Numbers ): A diferencia del tipo integer o entero, el tipo float de Python designa valores flotantes o decimales que se especifican con un punto.\n",
    "\n",
    "* __Strings__: Las strings (o cadenas) son secuencias de datos de caracteres. El tipo cadena en Python se llama str . Los literales de cadena se pueden delimitar mediante comillas simples o dobles. Una cadena en Python puede contener tantos caracteres como se desean, el único límite son los recursos de memoria de la máquina.\n",
    "\n",
    "En Python, las listes y las tuplas se declaran de diferentes maneras. Se crea una lista mediante corchetes [] , mientras que la tupla se declara con paréntesis () . Hay diferencias notables entre los dos, siendo la principal diferencia que las listas son mutables mientras que los tuplas son inmutables. Una lista tiene un tamaño variable mientras que una tupla tiene un tamaño fijo. Además, las operaciones sobre tuplas se pueden ejecutar más rápidamente en comparación con las de las listas."
   ]
  },
  {
   "cell_type": "markdown",
   "metadata": {},
   "source": [
    "## Pregunta teórica 2\n",
    "\n",
    "¿Cuál es el resultado de la operación lógica ` 'manzana'> 'casa'`? Explica por qué. \n"
   ]
  },
  {
   "cell_type": "markdown",
   "metadata": {},
   "source": [
    "**Respuesta**\n"
   ]
  },
  {
   "cell_type": "markdown",
   "metadata": {},
   "source": [
    "El resultado de la operación es True. La comparación de cadenas Python se realiza mediante la evaluación de los caracteres de las dos cadenas, uno por uno. Cuando se encuentran diferentes caracteres, se compara su valor Unicode. El carácter con un valor Unicode inferior se considera más pequeño. En este caso \"c\" es menor si se compara con \"m\" a causa de sus valores Unicode correspondientes. A continuación utilizamos la función ord () para mostrar el valor del código Unicode de cada uno de los caracteres:"
   ]
  },
  {
   "cell_type": "code",
   "execution_count": 26,
   "metadata": {},
   "outputs": [
    {
     "name": "stdout",
     "output_type": "stream",
     "text": [
      "True\n",
      "El valor unicode de m es 109 y el de c es  99\n"
     ]
    }
   ],
   "source": [
    "print('manzana' > 'casa')\n",
    "print('El valor unicode de m es', ord('m'), 'y el de c es ', ord('c'))"
   ]
  },
  {
   "cell_type": "markdown",
   "metadata": {},
   "source": [
    "## Práctica 1\n",
    "\n",
    "Escribe un programa que seleccione la cadena \"analista\" a partir de la cadena: \"Ana es buena analista de datos.\". Muéstrala por pantalla. "
   ]
  },
  {
   "cell_type": "code",
   "execution_count": 27,
   "metadata": {},
   "outputs": [
    {
     "name": "stdout",
     "output_type": "stream",
     "text": [
      "analista\n"
     ]
    }
   ],
   "source": [
    "# Respuesta:\n",
    "string = \"Ana es buena analista de datos.\"\n",
    "\n",
    "if \"analista\" in string:\n",
    "\tprint(\"analista\")\n"
   ]
  },
  {
   "cell_type": "code",
   "execution_count": 28,
   "metadata": {},
   "outputs": [
    {
     "name": "stdout",
     "output_type": "stream",
     "text": [
      " analista\n"
     ]
    }
   ],
   "source": [
    "frase = \"Ana es buena analista de datos.\" \n",
    "palabra = frase[12:21]\n",
    "\n",
    "print(palabra)"
   ]
  },
  {
   "cell_type": "markdown",
   "metadata": {},
   "source": [
    "## Práctica 2\n",
    "\n",
    "¿Qué expresión en Python necesitamos para conseguir el _string_ \"NohtyPythonython\" utilizando sólo la palabra \"Python\"? "
   ]
  },
  {
   "cell_type": "code",
   "execution_count": 29,
   "metadata": {},
   "outputs": [
    {
     "name": "stdout",
     "output_type": "stream",
     "text": [
      "nohtyPythonython\n"
     ]
    }
   ],
   "source": [
    "# Respuesta\n",
    "# Primero definimos nuestra cadena base\n",
    "python = \"Python\"\n",
    "\n",
    "# Accedemos a los caracteres de Python en orden inverso\n",
    "bloque1 = python[::-1]\n",
    "\n",
    "# Accedemos a los 5 caracteres finales y los repetimos 2 veces\n",
    "bloque2 = 2* python[1:]\n",
    "\n",
    "# Finalmente, concatenar los bloques anteriores\n",
    "resultado = bloque1 + bloque2 \n",
    "\n",
    "print (resultado)"
   ]
  },
  {
   "cell_type": "markdown",
   "metadata": {},
   "source": [
    "## Práctica 3\n",
    "\n",
    "Escribe un programa que calcule el volumen de una pirámide cuadrangular con una base de 4x5 metros de longitud y anchura respectivamente, y con una altura de 7,5 m. Recuerda que la fórmula para calcular el volumen es \n",
    "\n",
    "<img src=\"https://wikimedia.org/api/rest_v1/media/math/render/svg/5bbc1ec5d10639d395ebc85e74cbf697d2220035\" title=\"EquacioVolumPiramide\" />\n",
    "\n",
    "donde _l_ i _w_ son la longitud y la anchura de la base, y _h_ es la altura."
   ]
  },
  {
   "cell_type": "code",
   "execution_count": 30,
   "metadata": {
    "attributes": {
     "classes": [
      "sourceCode"
     ],
     "id": ""
    }
   },
   "outputs": [
    {
     "name": "stdout",
     "output_type": "stream",
     "text": [
      "50.0\n"
     ]
    }
   ],
   "source": [
    "# Respuesta\n",
    "l=4\n",
    "w=5\n",
    "h=7.5\n",
    "\n",
    "V=(1/3)*(l*w*h)\n",
    "\n",
    "print(V)"
   ]
  },
  {
   "cell_type": "code",
   "execution_count": 31,
   "metadata": {},
   "outputs": [
    {
     "name": "stdout",
     "output_type": "stream",
     "text": [
      "El volumen de la pirámide es de  49.99999999999999 metros cúbicos.\n"
     ]
    }
   ],
   "source": [
    "# Respuesta\n",
    "# Asignamos los valores del radio y la altura\n",
    "base_long = 4 \n",
    "base_anchura = 5 \n",
    "altura = 7.5\n",
    "\n",
    "# A continuación calculamos el volumen utilizando la siguente fórmula:\n",
    "volumen = 1/3 * base_long * base_anchura* altura\n",
    "\n",
    "print('El volumen de la pirámide es de ', volumen, 'metros cúbicos.')"
   ]
  },
  {
   "cell_type": "markdown",
   "metadata": {},
   "source": [
    "## Práctica 4\n",
    "\n",
    "Escribe un programa que dada una variable `valor` debe imprimir si el contenido de esta es un número par. Por ejemplo, si el `valor` es 3, debería mostrar por pantalla una cadena de caracteres con el siguiente formato:\n",
    "\n",
    "```Para el valor 3 la respuesta es: False.```"
   ]
  },
  {
   "cell_type": "code",
   "execution_count": 1,
   "metadata": {},
   "outputs": [
    {
     "name": "stdout",
     "output_type": "stream",
     "text": [
      "Para el valor 7 la respuesta es: False.\n"
     ]
    }
   ],
   "source": [
    "#entrada de datos por el usuario:\n",
    "valor = 7\n",
    "\n",
    "#cálulo:\n",
    "if valor%2 == 0:\n",
    "\tprint(\"Para el valor\", valor, \"la respuesta es: True.\")\n",
    "else:\n",
    "\tprint(\"Para el valor\", valor, \"la respuesta es: False.\")\n"
   ]
  },
  {
   "cell_type": "code",
   "execution_count": 2,
   "metadata": {},
   "outputs": [
    {
     "name": "stdout",
     "output_type": "stream",
     "text": [
      "Para el valor 8: True\n"
     ]
    }
   ],
   "source": [
    "# Respuesta\n",
    "\n",
    "valor = 8\n",
    "\n",
    "solucion = valor%2==0\n",
    "\n",
    "print('Para el valor {0}: {1}'.format(valor, solucion))"
   ]
  },
  {
   "cell_type": "markdown",
   "metadata": {},
   "source": [
    "## Práctica 5\n",
    "\n",
    "Escribe un programa en el que se defina un listado de precios de productos utilizando un **diccionario**. Por ejemplo: Aceite de oliva con precio 12.2 euros, Vino blanco con precio 6.5 euros, etc. Tanto los nombres de los productos como los precios pueden ser completamente ficticios. A continuación, muestra por pantalla el nombre y el precio de tres de los productos que aparecen en el diccionario. "
   ]
  },
  {
   "cell_type": "code",
   "execution_count": 3,
   "metadata": {},
   "outputs": [
    {
     "name": "stdout",
     "output_type": "stream",
     "text": [
      "Marlboro 5.0\n",
      "Winston 4.95\n",
      "Chesterfield 4.85\n"
     ]
    }
   ],
   "source": [
    "# Respuesta\n",
    "tabaco = {\n",
    "\t'Marlboro': 5.00, \n",
    "\t'Winston': 4.95, \n",
    "\t'Chesterfield': 4.85, \n",
    "\t'Nobel': 4.45, \n",
    "\t'Ducados': 4.45, \n",
    "\t'Jps': 3.15\n",
    "\t}\n",
    "\n",
    "for k, v in tabaco.items():\n",
    "    if v > 4.80:\n",
    "        print(k, v)"
   ]
  },
  {
   "cell_type": "code",
   "execution_count": 4,
   "metadata": {},
   "outputs": [
    {
     "name": "stdout",
     "output_type": "stream",
     "text": [
      "Aceite de oliva: 12.2\n",
      "Cereales: 3.0\n",
      "Maíz: 1.5\n"
     ]
    }
   ],
   "source": [
    "# Respuesta alternativa\n",
    "lista = {\n",
    "    \"Aceite de oliva\": 12.2, \n",
    "    \"Vino blanco\": 6.5, \n",
    "    \"Cereales\": 3.0,\n",
    "    \"Maíz\": 1.5\n",
    "}\n",
    "# Mostramos el listado:\n",
    "print ('Aceite de oliva: ' + str(lista[\"Aceite de oliva\"])) \n",
    "print ('Cereales: ' + str(lista[\"Cereales\"]))\n",
    "print ('Maíz: ' + str(lista[\"Maíz\"]))"
   ]
  },
  {
   "cell_type": "markdown",
   "metadata": {},
   "source": [
    "## Práctica 6\n",
    "\n",
    "Utilizando el _idiom_ de [*list comprehensions*](https://ca.wikipedia.org/wiki/Llista_per_comprensi%C3%B3), proporciona una expressión que retorne:"
   ]
  },
  {
   "cell_type": "markdown",
   "metadata": {},
   "source": [
    "**a)** Una lista del los números divisibles pos 4 de una lista de los números naturales entre 1 i 25 (ambos incuidos): "
   ]
  },
  {
   "cell_type": "code",
   "execution_count": 5,
   "metadata": {},
   "outputs": [
    {
     "name": "stdout",
     "output_type": "stream",
     "text": [
      "[4, 8, 12, 16, 20, 24]\n"
     ]
    }
   ],
   "source": [
    "# Respuesta\n",
    "new_list = [i for i in range (1, 25) if (i%4 == 0)]\n",
    "\n",
    "print(new_list)"
   ]
  },
  {
   "cell_type": "code",
   "execution_count": 6,
   "metadata": {},
   "outputs": [
    {
     "data": {
      "text/plain": [
       "[4, 8, 12, 16, 20, 24]"
      ]
     },
     "execution_count": 6,
     "metadata": {},
     "output_type": "execute_result"
    }
   ],
   "source": [
    "# Respuesta\n",
    "# Definimos la lista con los números naturales 1 a 25\n",
    "numeros_multiples_de_4 = [ ii for ii in list(range(1,26)) if ii%4==0 ] \n",
    "numeros_multiples_de_4"
   ]
  },
  {
   "cell_type": "markdown",
   "metadata": {},
   "source": [
    "Fijaros que Python nos permite escribir la solución de forma mucho más compacta si empleamos listas de elementos secuenciales mediante el uso la función range () . Esta función recibe (habitualmente) dos parámetros, un número inicial y un número final, y genera una lista de elementos en el rango [inicio, final) ."
   ]
  },
  {
   "cell_type": "markdown",
   "metadata": {},
   "source": [
    "**b)** Una lista de los cuadrados de los números naturales **pares** entre 1 y 25 (ambos incluidos):"
   ]
  },
  {
   "cell_type": "code",
   "execution_count": 7,
   "metadata": {},
   "outputs": [
    {
     "name": "stdout",
     "output_type": "stream",
     "text": [
      "[4, 16, 36, 64, 100, 144, 196, 256, 324, 400, 484, 576]\n"
     ]
    }
   ],
   "source": [
    "# Respuesta\n",
    "square_list = [i*i for i in range (1, 25) if (i%2 == 0)]\n",
    "\n",
    "print(square_list)"
   ]
  },
  {
   "cell_type": "code",
   "execution_count": 8,
   "metadata": {},
   "outputs": [
    {
     "name": "stdout",
     "output_type": "stream",
     "text": [
      "[4, 16, 36, 64, 100, 144, 196, 256, 324, 400, 484, 576]\n"
     ]
    }
   ],
   "source": [
    "# Respuesta\n",
    "numeros = list(range(1,26))\n",
    "cuadrados = [ n**2 for n in numeros if n%2==0 ] \n",
    "print (cuadrados)"
   ]
  },
  {
   "cell_type": "markdown",
   "metadata": {},
   "source": [
    "**c)** Una lista de las **consonantes** que aparecen en la cadena `s`, conservando el orden en que aparecen:"
   ]
  },
  {
   "cell_type": "code",
   "execution_count": 9,
   "metadata": {},
   "outputs": [
    {
     "name": "stdout",
     "output_type": "stream",
     "text": [
      "Hll Pythn, hll wrld!\n"
     ]
    }
   ],
   "source": [
    "s = \"Hello Python, hello world!\"\n",
    "\n",
    "vocales = \"a\",\"e\",\"i\",\"o\",\"u\"\n",
    "new_cadena = \"\"\n",
    " \n",
    "for letra in s:\n",
    "    if not(letra.lower() in vocales):\n",
    "        new_cadena += letra\n",
    "\n",
    "print (new_cadena)"
   ]
  },
  {
   "cell_type": "code",
   "execution_count": 10,
   "metadata": {},
   "outputs": [
    {
     "data": {
      "text/plain": [
       "['H', 'l', 'l', 'P', 'y', 't', 'h', 'n', 'h', 'l', 'l', 'w', 'r', 'l', 'd']"
      ]
     },
     "execution_count": 10,
     "metadata": {},
     "output_type": "execute_result"
    }
   ],
   "source": [
    "s = \"Hello Python, hello world!\" \n",
    "\n",
    "# Respuesta\n",
    "[ i for i in s if i.lower() in \"bcdfghjklmnpqrstvwxyz\" ]"
   ]
  },
  {
   "cell_type": "markdown",
   "metadata": {},
   "source": [
    "## Práctica 7\n",
    "\n",
    "Escribe un programa que a partir de la lista de números dada muestre por pantalla una cadena de caracteres con todos los números, separados entre sí por un guión, y duplicando el primero y el último elemento de la lista.\n",
    "\n",
    "Así, por ejemplo, para la lista ['1','2','3'], el programa debería mostrar la cadena: '1-1-2-3-3'."
   ]
  },
  {
   "cell_type": "code",
   "execution_count": 11,
   "metadata": {
    "attributes": {
     "classes": [
      "sourceCode"
     ],
     "id": ""
    }
   },
   "outputs": [
    {
     "name": "stdout",
     "output_type": "stream",
     "text": [
      "6-3-45-23-2-3-17-80\n"
     ]
    }
   ],
   "source": [
    "# Definimos la lista de números de entrada\n",
    "numeros = ['6', '3', '45', '23', '2', '3', '17', '80']\n",
    "\n",
    "# Respuesta\n",
    "sep = '-'\n",
    "nueva_cadena = sep.join(numeros)\n",
    "print(nueva_cadena)"
   ]
  },
  {
   "cell_type": "code",
   "execution_count": 12,
   "metadata": {},
   "outputs": [
    {
     "name": "stdout",
     "output_type": "stream",
     "text": [
      "6-6-3-45-23-2-3-17-80-80\n"
     ]
    }
   ],
   "source": [
    "# Definimos la lista de números de entrada\n",
    "numeros = ['6', '3', '45', '23', '2', '3', '17', '80']\n",
    "\n",
    "# Respuesta\n",
    "numeros = [numeros[0]] + numeros + [numeros[-1]] \n",
    "print('-'.join(numeros))"
   ]
  },
  {
   "cell_type": "markdown",
   "metadata": {},
   "source": [
    "## Práctica 8\n",
    "\n",
    "Escribir un programa que genere una lista de palabras (o conjunto de letras) aleatorias. Las palabras de la lista deberán cumplir la siguiente condición: Deben comenzar con letra mayúscula y deben estar formadas por un máximo de 8 letras. Además, el programa tendrá que preguntar al usuario cuántas palabras debe tener la lista (el usuario introducirá el número de elementos usando el teclado) y mostrar un mensaje de error si el usuario pide generar una lista de más de 10 elementos. Haz que el programa muestre la lista generada. Quizás necesitéis utilizar [bucles](https://es.wikipedia.org/wiki/Python#Bucle_for) y la librería [_random_](https://docs.python.org/3/library/random.html). <span style=\"font-family: Courier New; background-color: #ffcc5c; color: #000000; padding: 3px; \">EG</span>"
   ]
  },
  {
   "cell_type": "code",
   "execution_count": 15,
   "metadata": {},
   "outputs": [
    {
     "name": "stdin",
     "output_type": "stream",
     "text": [
      "Cuántas palabras? 4\n"
     ]
    },
    {
     "name": "stdout",
     "output_type": "stream",
     "text": [
      "Generamos 4 palabras: \n"
     ]
    },
    {
     "data": {
      "text/plain": [
       "['Gnq', 'Segclcmm', 'Hxfojxqtu', 'Pgz']"
      ]
     },
     "execution_count": 15,
     "metadata": {},
     "output_type": "execute_result"
    }
   ],
   "source": [
    "# Respuesta\n",
    "\n",
    "import random\n",
    "\n",
    "alfabeto = 'abcdefghijklmnopqrstuvwxyz'\n",
    "numero_palabras = int(input(\"Cuántas palabras?\")) \n",
    "\n",
    "print('Generamos {0} palabras: '.format(numero_palabras))\n",
    "\n",
    "if numero_palabras > 10: print(\"no se permiten más de 10 palabras\")\n",
    "    \n",
    "else:\n",
    "    lista_palabras = []\n",
    "    for palabra in range(numero_palabras):\n",
    "        \n",
    "        palabra = \"\"\n",
    "        numero_de_letras = random.randint(2, 9) \n",
    "        for l in range(numero_de_letras):\n",
    "            \n",
    "            letra = alfabeto[ random.randint(0,len(alfabeto)-1) ] \n",
    "            if l==0: letra = letra.upper()\n",
    "                \n",
    "            palabra += letra \n",
    "            \n",
    "        lista_palabras.append( palabra )\n",
    "            \n",
    "lista_palabras"
   ]
  }
 ],
 "metadata": {
  "kernelspec": {
   "display_name": "Python 3",
   "language": "python",
   "name": "python3"
  },
  "language_info": {
   "codemirror_mode": {
    "name": "ipython",
    "version": 3
   },
   "file_extension": ".py",
   "mimetype": "text/x-python",
   "name": "python",
   "nbconvert_exporter": "python",
   "pygments_lexer": "ipython3",
   "version": "3.8.8"
  }
 },
 "nbformat": 4,
 "nbformat_minor": 4
}
