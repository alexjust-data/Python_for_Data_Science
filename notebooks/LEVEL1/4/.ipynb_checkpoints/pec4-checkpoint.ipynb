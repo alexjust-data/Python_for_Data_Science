{
 "cells": [
  {
   "cell_type": "markdown",
   "metadata": {
    "id": "rDOFo1EX-_VH"
   },
   "source": [
    "<div style=\"float: right; width: 50%;\">\n",
    "    <p style=\"margin: 0; text-align:right;\">Python en Ciencia de Datos Aplicada</p>\n",
    "    <p style=\"margin: 0; text-align:right; padding-button: 100px;\">Practicas - Breve introducción a la programación\n",
    "</p>\n",
    "</div>\n",
    "\n",
    "</div>\n",
    "<div style=\"width: 100%; clear: both;\">\n",
    "<div style=\"width:100%;\">&nbsp;</div>"
   ]
  },
  {
   "cell_type": "markdown",
   "metadata": {
    "id": "fZXUAKO8-_VK"
   },
   "source": [
    "<span style=\"color: #1d17f4; padding: 3px; font-size: x-large\">NumPy - Ejercicios</span>"
   ]
  },
  {
   "cell_type": "markdown",
   "metadata": {
    "id": "GL-J7HN6-_VK"
   },
   "source": [
    "### Ejercicio 1\n",
    "\n",
    "Crea y muestra por pantalla las matrices siguientes: \n",
    "\n",
    "- Una matriz 3x3 que contenga todos los enteros entre 0 y 8.\n",
    "- La matriz identidad 3x3.\n",
    "- Una matriz 5x3 con valores reales aleatorios (*Random*).\n",
    "\n",
    "Considerando las matrices del apartado anterior, muestra por pantalla el resultado de las siguientes operaciones: \n",
    "\n",
    "- Multiplicar las matrices A y B. Explica el resultado obtenido.\n",
    "- Multiplicar las matrices A y C. Explica brevemente qué método de multiplicación has elegido y el resultado obtenido.\n"
   ]
  },
  {
   "cell_type": "code",
   "execution_count": 1,
   "metadata": {
    "colab": {
     "base_uri": "https://localhost:8080/"
    },
    "id": "B9X2dyiK-_VL",
    "outputId": "737172a7-3456-43dc-dce2-85dcddca6abb"
   },
   "outputs": [
    {
     "name": "stdout",
     "output_type": "stream",
     "text": [
      "[[0 1 2]\n",
      " [3 4 5]\n",
      " [6 7 8]]\n"
     ]
    }
   ],
   "source": [
    "#Una matriz 3x3 que contenga todos los enteros entre 0 y 8.\n",
    "import numpy as np\n",
    "\n",
    "\n",
    "a = np.arange(9)\n",
    "a = a.reshape(3,3)\n",
    "print(a)\n"
   ]
  },
  {
   "cell_type": "code",
   "execution_count": 2,
   "metadata": {
    "colab": {
     "base_uri": "https://localhost:8080/"
    },
    "id": "dyMhohcRE2zT",
    "outputId": "ceb9a3df-bf73-4c6b-da5b-403a10310581"
   },
   "outputs": [
    {
     "name": "stdout",
     "output_type": "stream",
     "text": [
      "[[1. 0. 0.]\n",
      " [0. 1. 0.]\n",
      " [0. 0. 1.]]\n"
     ]
    }
   ],
   "source": [
    "#La matriz identidad 3x3.\n",
    "b = np.eye(3)\n",
    "print(b)"
   ]
  },
  {
   "cell_type": "code",
   "execution_count": 3,
   "metadata": {
    "colab": {
     "base_uri": "https://localhost:8080/"
    },
    "id": "HlVm78AoCEQ_",
    "outputId": "1566ddd6-8872-4e2f-a1e4-f1529d502632"
   },
   "outputs": [
    {
     "name": "stdout",
     "output_type": "stream",
     "text": [
      "[[0.28344171 0.90134751 0.47297996]\n",
      " [0.68280895 0.99815618 0.97338963]\n",
      " [0.53886427 0.88996873 0.63034603]\n",
      " [0.17264585 0.22708128 0.06659452]\n",
      " [0.95745454 0.4387825  0.35695656]]\n"
     ]
    }
   ],
   "source": [
    "#Una matriz 5x3 con valores reales aleatorios (Random)\n",
    "num = np.random.rand(15)\n",
    "c = num.reshape(5,3)\n",
    "print(c)"
   ]
  },
  {
   "cell_type": "code",
   "execution_count": 4,
   "metadata": {
    "colab": {
     "base_uri": "https://localhost:8080/"
    },
    "id": "suzz7N5NFe_m",
    "outputId": "a03fa6f0-9e3b-466d-e992-68c9e77d34aa"
   },
   "outputs": [
    {
     "data": {
      "text/plain": [
       "array([[0., 0., 0.],\n",
       "       [0., 4., 0.],\n",
       "       [0., 0., 8.]])"
      ]
     },
     "execution_count": 4,
     "metadata": {},
     "output_type": "execute_result"
    }
   ],
   "source": [
    "#Multiplicar las matrices A y B. Explica el resultado obtenido.\n",
    "a*b\n",
    "#respuesta:\n",
    "#al multiplicar vectorialmente la matriz identidad por cualquier matriz de su misma dimensión, \n",
    "#el resultado siempre será otra matriz diagonal de la misma dimensión \n",
    "#con los mismos números en la diagonal que la matriz no identidad."
   ]
  },
  {
   "cell_type": "code",
   "execution_count": 5,
   "metadata": {
    "colab": {
     "base_uri": "https://localhost:8080/"
    },
    "id": "cviHe6s0GqrF",
    "outputId": "e2f82d0d-b2a5-4ec0-c67c-c5b752b5e81d"
   },
   "outputs": [
    {
     "name": "stdout",
     "output_type": "stream",
     "text": [
      "[[ 5.54192229  7.19969146  8.85746063]\n",
      " [ 8.8348063  11.48916106 14.14351582]\n",
      " [ 6.4519824   8.51116144 10.57034047]\n",
      " [ 1.08081096  1.54713261  2.01345425]\n",
      " [ 3.45808684  5.21128044  6.96447404]]\n"
     ]
    }
   ],
   "source": [
    "#Multiplicar las matrices A y C. \n",
    "#Explica brevemente qué método de multiplicación has elegido y el resultado obtenido.\n",
    "print(c.dot(a))\n",
    "#Resultado:\n",
    "#Multiploco C x A ya que las columnas de la primera han de ser del mismo rango que las filas en la segunda."
   ]
  },
  {
   "cell_type": "markdown",
   "metadata": {
    "id": "3s_u2qsf-_VO"
   },
   "source": [
    "### Ejercicio 2\n",
    "\n",
    "Crea un array de NumPy 1D de 11 elementos (los enteros de 0 a 10) ordenados ascendentemente. A continuación, pon en negativo todos los elementos que estén entre 3 y 8, y muestra el array resultante.\n"
   ]
  },
  {
   "cell_type": "code",
   "execution_count": 6,
   "metadata": {
    "colab": {
     "base_uri": "https://localhost:8080/"
    },
    "id": "Dsp_ouWO-_VP",
    "outputId": "e692d4dc-ca17-49bf-bbe4-69119d7cfbb0"
   },
   "outputs": [
    {
     "name": "stdout",
     "output_type": "stream",
     "text": [
      "[ 0  1  2 -3 -4 -5 -6 -7 -8  9 10]\n"
     ]
    }
   ],
   "source": [
    "# Respuesta\n",
    "vector1 = np.arange(11)\n",
    "\n",
    "for i in range(3,9):\n",
    "  vector1[i] = vector1[i] * -1\n",
    "\n",
    "print(vector1)"
   ]
  },
  {
   "cell_type": "markdown",
   "metadata": {
    "id": "lhf1aVF5-_VR"
   },
   "source": [
    "### Ejercicio 3\n",
    "\n",
    "Crea una matriz de 7x7 donde los valores de cada posición `(i, j)` correspondan a `(i + 1) ^ - j + 2` para todo` i` múltiplo de 3 y `(i + 1) ^ j - 3` por el resto de posiciones.\n"
   ]
  },
  {
   "cell_type": "code",
   "execution_count": 7,
   "metadata": {
    "colab": {
     "base_uri": "https://localhost:8080/",
     "height": 130
    },
    "id": "1RZi3LTY-_VS",
    "outputId": "adad1df3-2874-4fc0-cf2b-6af44d647d79"
   },
   "outputs": [],
   "source": [
    "# Respuesta : Lo siento, no entendí el ejercicio\n",
    "\n",
    "# la primera posición de (i,j) es (0,0)\n",
    "# entonces, [i,j] -> (i + 1) ^ - j + 2\n",
    "\n"
   ]
  },
  {
   "cell_type": "markdown",
   "metadata": {
    "id": "xbWv7lFb-_VU"
   },
   "source": [
    "### Ejercicio 4\n",
    "\n",
    "Normaliza una matriz aleatoria de 5x5 mediante su `media` y` desviación estàndard` tal como se indica en el siguiente [enlace](https://es.wikipedia.org/wiki/Unidad_tipificada). Comprueba que la media y la desviación estándar de la matriz normalizada son bastante cercanas a 0 y 1 respectivamente.\n",
    "\n",
    "**Nota:** Para resolver este ejercicio os pueden ser de utilidad las funciones [mean](https://numpy.org/doc/stable/reference/generated/numpy.mean.html) o [std](https://numpy.org/doc/stable/reference/generated/numpy.std.html) de Numpy.\n"
   ]
  },
  {
   "cell_type": "code",
   "execution_count": 8,
   "metadata": {
    "colab": {
     "base_uri": "https://localhost:8080/"
    },
    "id": "PalOlUpW-_VV",
    "outputId": "891e47be-cca1-46dd-d306-e36136a28452"
   },
   "outputs": [
    {
     "name": "stdout",
     "output_type": "stream",
     "text": [
      "[[0.67748763 0.14805407 0.77796855 0.74542141 0.24194891]\n",
      " [0.94423863 0.33569707 0.70944851 0.7219312  0.24703303]\n",
      " [0.00757172 0.29196559 0.58002335 0.0471451  0.72379334]\n",
      " [0.30441447 0.23614259 0.72109777 0.78686932 0.2199962 ]\n",
      " [0.44951527 0.24245357 0.01246086 0.54057201 0.07289363]]\n",
      "\tLa media de la matriz es 0.4314457518934847\n",
      "\tLa matriz normalizada es: \n",
      " [[ 0.8745269  -1.00728239  1.2316745   1.11598954 -0.67354424]\n",
      " [ 1.82266194 -0.34032743  0.98812809  1.03249635 -0.65547332]\n",
      " [-1.50661037 -0.49576581  0.52810161 -1.36595144  1.03911509]\n",
      " [-0.45151776 -0.6941821   1.02953403  1.26331126 -0.75157257]\n",
      " [ 0.06422598 -0.67175047 -1.48923251  0.38787644 -1.27443132]]\n"
     ]
    }
   ],
   "source": [
    "# Respuesta\n",
    "import math\n",
    "\n",
    "A = np.random.rand(5,5)\n",
    "print(A)\n",
    "\n",
    "print(\"\\tLa media de la matriz es\", np.mean(A))\n",
    "\n",
    "#Resto a cada elemento de la matriz su media y lo divido por su desviación estandard\n",
    "A = (A - np.mean(A)) / np.std(A)\n",
    "print(\"\\tLa matriz normalizada es: \\n\",A)\n"
   ]
  },
  {
   "cell_type": "markdown",
   "metadata": {
    "id": "enIKGc9P-_VX"
   },
   "source": [
    "### Ejercicio 5\n",
    "\n",
    "Crea una matriz 10x10 con 1 en el borde exterior y 0 en el interior.\n",
    "\n",
    "**Nota:** Podéis comprobar el resultado visualmente con la función [imshow](https://matplotlib.org/3.1.3/api/_as_gen/matplotlib.pyplot.imshow.html) de Matplotlib que ens permet visualitzar una imatge 2D.\n"
   ]
  },
  {
   "cell_type": "code",
   "execution_count": 9,
   "metadata": {
    "colab": {
     "base_uri": "https://localhost:8080/"
    },
    "id": "yPjz8tQQ-_VX",
    "outputId": "826d471b-13f7-4985-d967-361ecc78008a"
   },
   "outputs": [
    {
     "name": "stdout",
     "output_type": "stream",
     "text": [
      "[[0. 0. 0. 0. 0. 0. 0. 0. 0. 0.]\n",
      " [0. 0. 0. 0. 0. 0. 0. 0. 0. 0.]\n",
      " [0. 0. 0. 0. 0. 0. 0. 0. 0. 0.]\n",
      " [0. 0. 0. 0. 0. 0. 0. 0. 0. 0.]\n",
      " [0. 0. 0. 0. 0. 0. 0. 0. 0. 0.]\n",
      " [0. 0. 0. 0. 0. 0. 0. 0. 0. 0.]\n",
      " [0. 0. 0. 0. 0. 0. 0. 0. 0. 0.]\n",
      " [0. 0. 0. 0. 0. 0. 0. 0. 0. 0.]\n",
      " [0. 0. 0. 0. 0. 0. 0. 0. 0. 0.]\n",
      " [0. 0. 0. 0. 0. 0. 0. 0. 0. 0.]]\n",
      "\n",
      "Matriz de unos en borde exterior:\n",
      "[[1. 1. 1. 1. 1. 1. 1. 1. 1. 1.]\n",
      " [1. 0. 0. 0. 0. 0. 0. 0. 0. 1.]\n",
      " [1. 0. 0. 0. 0. 0. 0. 0. 0. 1.]\n",
      " [1. 0. 0. 0. 0. 0. 0. 0. 0. 1.]\n",
      " [1. 0. 0. 0. 0. 0. 0. 0. 0. 1.]\n",
      " [1. 0. 0. 0. 0. 0. 0. 0. 0. 1.]\n",
      " [1. 0. 0. 0. 0. 0. 0. 0. 0. 1.]\n",
      " [1. 0. 0. 0. 0. 0. 0. 0. 0. 1.]\n",
      " [1. 0. 0. 0. 0. 0. 0. 0. 0. 1.]\n",
      " [1. 1. 1. 1. 1. 1. 1. 1. 1. 1.]]\n"
     ]
    }
   ],
   "source": [
    "# Respuesta\n",
    "A = np.zeros(shape=(10,10))\n",
    "print(A)\n",
    "\n",
    "print(\"\\nMatriz de unos en borde exterior:\")\n",
    "\n",
    "for i in range(0,10):\n",
    "  for j in range(0,10):\n",
    "    if i == 0 or i == 9:\n",
    "      A[i, j] = 1\n",
    "    elif j == 0 or j == 9:\n",
    "      A[i, j] = 1\n",
    "  \n",
    "print(A)\n"
   ]
  },
  {
   "cell_type": "markdown",
   "metadata": {
    "id": "8g34xl7g-_VZ"
   },
   "source": [
    "<br>\n",
    "<span style=\"color: #1d17f4; padding: 3px; font-size: x-large\">Matplotlib - Ejercicios</span>"
   ]
  },
  {
   "cell_type": "markdown",
   "metadata": {
    "id": "GjLbsWlT-_Va"
   },
   "source": [
    "### Ejercicio 1\n",
    "\n",
    "Representa en un único gráfico las funciones logarítmicas $\\log_{10}(x)$, $\\log_{2}(x)$ y $\\ln(x)$, evaluadas en el intervalo [0.1, 5] y con paso (resolución) 0.02. Haz que los rangos de valores mostrados sean `[0.1, 5]` para el eje X y `[-3, 3]` por el eje Y. Adicionalmente, muestra la gráfica correspondiente a $\\log_{10}(x)$ con color <span style=\"color: green\">verde</span>, la gráfica correspondiente a $\\ln(x)$ con color <span style=\"color: red\">rojo</span> y la gráfica correspondiente a $\\log_{2}(x)$ con color <span style=\"color: blue\">azul</span>.\n",
    "\n",
    "**Nota:** Podéis consultar la documentación de [logaritmos](https://numpy.org/doc/stable/reference/generated/numpy.log.html#numpy.log) de numpy."
   ]
  },
  {
   "cell_type": "markdown",
   "metadata": {
    "id": "SC-s5vcC-_V4"
   },
   "source": [
    "---"
   ]
  },
  {
   "cell_type": "code",
   "execution_count": 10,
   "metadata": {
    "id": "WFi1S0Gl-_Va"
   },
   "outputs": [],
   "source": [
    "# Definimos las funciones\n",
    "def f1(x):\n",
    "    return np.log10(x)\n",
    "\n",
    "def f2(x):\n",
    "    return np.log(x)\n",
    "\n",
    "def f3(x):\n",
    "    return np.log2(x)"
   ]
  },
  {
   "cell_type": "code",
   "execution_count": 11,
   "metadata": {
    "colab": {
     "base_uri": "https://localhost:8080/",
     "height": 279
    },
    "id": "IYYblcqW-_Vd",
    "outputId": "8ded8c9a-7e4d-4952-e673-a96b2b0d6c1f"
   },
   "outputs": [
    {
     "data": {
      "image/png": "[encoded data removed]",
      "text/plain": [
       "<Figure size 432x288 with 1 Axes>"
      ]
     },
     "metadata": {
      "needs_background": "light"
     },
     "output_type": "display_data"
    }
   ],
   "source": [
    "# Respuesta\n",
    "\n",
    "%matplotlib inline\n",
    "import matplotlib\n",
    "import numpy as np\n",
    "import matplotlib.pyplot as plt\n",
    "\n",
    "\n",
    "plt.xlabel('x')\n",
    "plt.ylabel('y')\n",
    "\n",
    "x = np.arange(0.1, 5.02, 0.02)\n",
    "\n",
    "plt.plot(x, f1(x), 'r')\n",
    "plt.plot(x, f2(x), 'g')\n",
    "plt.plot(x, f3(x), 'b')\n",
    "\n",
    "plt.show()\n"
   ]
  },
  {
   "cell_type": "markdown",
   "metadata": {
    "id": "GT3YOVJY-_Vf"
   },
   "source": [
    "### Ejercicio 2\n",
    "\n",
    "Carga los datos del archivo `prog_book.csv`, que puedes encontrar en la carpeta` data`, en forma de dataframe. Este conjunto de datos de la web [Kaggle](https://www.kaggle.com/thomaskonstantin/top-270-rated-computer-science-programing-books) recoge información de una lista de 270 libros de temas relacionados con la informática y la programación.\n",
    "\n",
    "Parte A : \n",
    "\n",
    "Muestra el histograma de las valoraciones (*Rating*).\n",
    "\n",
    "\n",
    "*Consideraciones*\n",
    "\n",
    "* El histograma debe tener 20 bins y ser de color verde.\n",
    "\n",
    "\n",
    "Parte B :\n",
    "\n",
    "Muestra un gráfico de puntos (*scatter plot*) de las valoraciones en función del precio (*Price*). Diferencia los puntos en función del tipo de libro (*Type*).\n",
    "\n",
    "*Consideraciones*\n",
    "\n",
    "* Para pintar de un color diferente cada punto en función del tipo de libro, puede que tengas que pasar esta información a numérico (e.g. Libro = 1, Ebook = 2, etc). Una opción para hacerlo es utilizar la función [LabelEncoder](https://scikit-learn.org/stable/modules/generated/sklearn.preprocessing.LabelEncoder.html) de sklearn.\n",
    "\n",
    "* Incluye la leyenda del *scatter plot*.\n",
    "\n",
    "\n",
    "Parte C  :\n",
    "\n",
    "Muestra un gráfico circular (*pie chart*) con los tipos de libros en porcentaje.\n",
    "\n",
    "\n",
    "*Consideraciones*\n",
    "\n",
    "* Debes incluir el porcentaje (%) de cada tipo de libro dentro de su respectivo espacio del gráfico.\n",
    "* Se debe mostrar la leyenda en la parte derecha.\n",
    "\n",
    "**Nota:** En el Notebook de teoría hemos visto cómo mostrar gráficos lineares simples. Matplotlib nos ofrece muchos otros tipos de gráficos, siendo los gráficos circulares (*pie charts*) o los *scatter plots* uno de ellos. Para resolver este ejercicio podéis consultar la documentación oficial de matplotlib referente a [*pie charts*](https://matplotlib.org/api/_as_gen/matplotlib.pyplot.pie.html) y los [*scatter plots*](https://matplotlib.org/3.3.2/api/_as_gen/matplotlib.pyplot.scatter.html) para ver cómo se trabaja con estos tipos de gráficos."
   ]
  },
  {
   "cell_type": "code",
   "execution_count": 13,
   "metadata": {
    "colab": {
     "base_uri": "https://localhost:8080/",
     "height": 565
    },
    "id": "RvBqFPBG-_Vf",
    "outputId": "280c0cfa-1428-46f9-a1d3-e3528aa56b7c"
   },
   "outputs": [
    {
     "data": {
      "image/png": "[encoded data removed]",
      "text/plain": [
       "<Figure size 432x288 with 1 Axes>"
      ]
     },
     "metadata": {
      "needs_background": "light"
     },
     "output_type": "display_data"
    }
   ],
   "source": [
    "#Muestra el histograma de las valoraciones (Rating).\n",
    "#debe tener 20 bins y ser de color verde.\n",
    "#https://matplotlib.org/3.1.1/api/_as_gen/matplotlib.pyplot.hist.html\n",
    "#Respuesta\n",
    "import pandas as pd\n",
    "import matplotlib.pyplot as plt\n",
    "import matplotlib.mlab as mlab\n",
    "\n",
    "data = pd.read_csv('/Users/alexjust/Downloads/prog_book.csv')\n",
    "\n",
    "x = data['Rating']\n",
    "n, bins, patches = plt.hist(x, bins = 20, density = 1, facecolor = 'green')\n",
    "\n",
    "plt.xlabel('x')\n",
    "plt.ylabel('Probabilidad')\n",
    "\n",
    "plt.text(20, .025, 'valoraciones -Rating-')\n",
    "plt.show()\n",
    "\n",
    "#Tengo un problema con el tamaño"
   ]
  },
  {
   "cell_type": "code",
   "execution_count": 14,
   "metadata": {
    "id": "jo8iVK81JsZ3",
    "outputId": "85d931df-a520-4333-fd2f-2baeeecd98b6"
   },
   "outputs": [
    {
     "data": {
      "text/plain": [
       "<function matplotlib.pyplot.show(*args, **kw)>"
      ]
     },
     "execution_count": 14,
     "metadata": {},
     "output_type": "execute_result"
    },
    {
     "data": {
      "image/png": "[encoded data removed]",
      "text/plain": [
       "<Figure size 432x288 with 1 Axes>"
      ]
     },
     "metadata": {
      "needs_background": "light"
     },
     "output_type": "display_data"
    }
   ],
   "source": [
    "data.head()\n",
    "\n",
    "tipo = data.groupby('Type') # Agrupo el 'dataframe' en función de la alineación del tipo.\n",
    "\n",
    "set(data.Type) # visualizo los tipos distintos\n",
    "    \n",
    "colors = {'Boxed Set - Hardcover' : 'indianred', \n",
    "          'Hardcover' : 'chocolate', \n",
    "          'Kindle Edition' : 'y', \n",
    "          'Paperback' : 'green', \n",
    "          'Unknown Binding' : 'mediumblue', \n",
    "          'ebook' : 'purple'}\n",
    "type_colors = data.Type.map(colors)\n",
    "\n",
    "fix, ax = plt.subplots()\n",
    "ax.scatter(data.Price, data.Type, color = type_colors)\n",
    "plt.show\n"
   ]
  },
  {
   "cell_type": "code",
   "execution_count": 15,
   "metadata": {
    "id": "oTw1A5plJsZ8",
    "outputId": "efe5206e-be69-4d98-e7e5-ed80d4792d74"
   },
   "outputs": [
    {
     "name": "stdout",
     "output_type": "stream",
     "text": [
      "Boxed Set - Hardcover 1\n",
      "Hardcover 95\n",
      "Kindle Edition 10\n",
      "Paperback 156\n",
      "Unknown Binding 2\n",
      "ebook 7\n"
     ]
    },
    {
     "data": {
      "image/png": "[encoded data removed]",
      "text/plain": [
       "<Figure size 432x288 with 1 Axes>"
      ]
     },
     "metadata": {},
     "output_type": "display_data"
    }
   ],
   "source": [
    "# Visualizamos el nombre y el número de filas de cada grupo. \n",
    "for name, group in tipo:\n",
    "    print(name, len(group))\n",
    "    \n",
    "# Data to plot\n",
    "labels = 'Boxed Set - Hardcover', 'Hardcover', 'Kindle Edition', 'Paperback', 'Unknown Binding', 'ebook'\n",
    "sizes = [1, 95, 10, 156, 2, 7]\n",
    "colors = ['gold', 'yellowgreen', 'lightcoral', 'lightskyblue', 'chocolate', 'lightpink']\n",
    "explode = (0, 0, 0, 0.01, 0, 0)  # explode 1st slice\n",
    "\n",
    "# Plot\n",
    "plt.pie(sizes, \n",
    "        explode=explode, \n",
    "        labels=labels, \n",
    "        colors=colors, \n",
    "        autopct='%1.1f%%', \n",
    "        shadow=True, \n",
    "        startangle=140)\n",
    "\n",
    "plt.axis('equal')\n",
    "plt.show()"
   ]
  },
  {
   "cell_type": "markdown",
   "metadata": {},
   "source": [
    "## Pandas"
   ]
  },
  {
   "cell_type": "markdown",
   "metadata": {
    "id": "YQXQxqGF-_Vi"
   },
   "source": [
    "### Ejercicio 1\n",
    "\n",
    "Carga los datos del archivo `basket_players_stats.csv`, que puedes encontrar en la carpeta `data`, en un _dataframe_. Este conjunto de datos recoge información sobre jugadores de [baloncesto](https://www.kaggle.com/jacobbaruch/basketball-players-stats-per-season-49-leagues) entre 1999-2020.\n",
    "\n",
    "Muestra las variables del dataset y el número de entradas (filas). Hay información duplicada?"
   ]
  },
  {
   "cell_type": "code",
   "execution_count": 17,
   "metadata": {
    "id": "AfajGzjC-_Vi",
    "outputId": "1fc2c453-dbb1-4834-e5ba-0252e8104e4e"
   },
   "outputs": [
    {
     "name": "stdout",
     "output_type": "stream",
     "text": [
      "Index(['League', 'Season', 'Stage', 'Player', 'Team', 'GP', 'MIN', 'FGM',\n",
      "       'FGA', '3PM', '3PA', 'FTM', 'FTA', 'TOV', 'PF', 'ORB', 'DRB', 'REB',\n",
      "       'AST', 'STL', 'BLK', 'PTS', 'birth_year', 'birth_month', 'birth_date',\n",
      "       'height', 'height_cm', 'weight', 'weight_kg', 'nationality',\n",
      "       'high_school'],\n",
      "      dtype='object')\n",
      "(53798, 31)\n",
      "True\n"
     ]
    },
    {
     "data": {
      "text/plain": [
       "53798"
      ]
     },
     "execution_count": 17,
     "metadata": {},
     "output_type": "execute_result"
    }
   ],
   "source": [
    "# Respuesta\n",
    "df = pd.read_csv('/Users/alexjust/Downloads/basket_players_stats.csv')\n",
    "df.head(n=3)\n",
    "print(df.columns)\n",
    "print(df.shape)\n",
    "\n",
    "dfduplicated = df.append(df)                #creo un duplicado del dataframe\n",
    "dfclean = dfduplicated.drop_duplicates()    #limpio información duplicada\n",
    "print(len(df) == len(dfclean))              #me pregunto si el numero de filas df original es igual a la copia : True\n",
    "\n",
    "len(dfclean)                                #El resultado es que no hay ninguna fila duplicada."
   ]
  },
  {
   "cell_type": "markdown",
   "metadata": {
    "id": "iWAW4gA9-_Vo"
   },
   "source": [
    "### Ejercicio 2\n",
    "\n",
    "\n",
    "La NBA (National Basketball Association) es la liga más famosa de baloncesto, pero en todo el mundo se organizan muchas otras. Contesta y muestra el resultado de las siguientes preguntas:\n",
    "\n",
    "- Hay información de ligas diferentes a la NBA? En el caso de ser así, de cuántas ligas en total disponemos de información (incluyendo la NBA)? **(0.5 puntos)**\n",
    "\n",
    "- Agrupa los datos cargados por liga (*League*), y muestra el número total de filas por cada una. De qué liga tenemos más información? Muestra los 10 primeros resultados ordenados de mayor a menor.**(0.5 puntos)**\n",
    "\n",
    "**Nota:** En el Notebook de teoría hemos visto cómo calcular la media de una agrupación de datos. Para resolver este ejercicio necesitaréis investigar cómo contar (`count`) todos los valores de una columna en una agrupación. Os puede ser de utilidad la función [aggregate](https://pandas.pydata.org/pandas-docs/stable/reference/api/pandas.DataFrame.aggregate.html) de pandas, que nos permite aplicar diferentes funciones a una columna en un `groupby`.\n"
   ]
  },
  {
   "cell_type": "code",
   "execution_count": 18,
   "metadata": {
    "id": "zecGlVBw-_Vo",
    "outputId": "1720ba36-7f31-492a-d4d6-425684c9937a"
   },
   "outputs": [
    {
     "name": "stdout",
     "output_type": "stream",
     "text": [
      "Argentinian-Liga-A 1188\n",
      "Australian-NBL 2022\n",
      "Austrian-A-Bundesliga 624\n",
      "Balkan-BIBL 447\n",
      "Balkan-BIL 21\n",
      "Belarusian-BPL 594\n",
      "Belgium-Scooore-League 650\n",
      "Bosnian-BiH-Liga 703\n",
      "Brazilian-NBB 1011\n",
      "British-BBL 668\n",
      "Bulgarian-NBL 553\n",
      "Canadian-NBL 547\n",
      "Chinese-CBA 1426\n",
      "Croatian-A-1-Liga 819\n",
      "Czech-NBL 802\n",
      "Danish-Basketligaen 536\n",
      "Estonian-Latvian-Basketball-League 271\n",
      "Eurocup 4136\n",
      "Euroleague 3322\n",
      "FIBA-Europe-Cup 1388\n",
      "Finnish-Korisliiga 691\n",
      "French-Jeep-Elite 1852\n",
      "Georgian-Super-Liga 495\n",
      "German-BBL 2022\n",
      "Greek-HEBA-A1 870\n",
      "Hungarian-NBIA 818\n",
      "Israeli-BSL 751\n",
      "Italian-Lega-Basket-Serie-A 1865\n",
      "Japanese-BLeague 617\n",
      "Kosovo-FBK 218\n",
      "Lebanese-Division-A 424\n",
      "Lithuanian-LKL 684\n",
      "Luxembourg-Total-League 642\n",
      "Macedonian-Superleague 534\n",
      "Mexican-LNBP 765\n",
      "NBA 7490\n",
      "Netherlands-DBL 571\n",
      "New-Zealand-NBL 481\n",
      "Norwegian-BLNO 555\n",
      "Polish-TBL 978\n",
      "Romanian-Divizia-A 760\n",
      "Serbian-KLS 1022\n",
      "Slovakian-Extraliga 537\n",
      "Slovenian-SKL 728\n",
      "South-Korean-KBL 623\n",
      "Spanish-ACB 2328\n",
      "Swedish-Basketligan 636\n",
      "Swiss-LNA 575\n",
      "Turkish-BSL 977\n",
      "Ukrainian-Superleague 561\n",
      "50\n"
     ]
    }
   ],
   "source": [
    "# Respuesta --> tenemos 50 ligas diferentes, la NBA dispone de mayor información\n",
    "\n",
    "df.head()\n",
    "ligas = df.groupby(\"League\")     #agrupo la información por ligas\n",
    "contador = 0                     #genero variable para contar las ligas de la lista\n",
    "for name, group in ligas:\n",
    "    print(name, len(group))      #imprimo papa ver la longitud de la información de cada grupo\n",
    "    contador += 1 \n",
    "print(contador)"
   ]
  },
  {
   "cell_type": "code",
   "execution_count": 19,
   "metadata": {
    "id": "oify6y0PJsaI",
    "outputId": "7c4a683d-ac92-4f7f-dadb-3f97af5711d1"
   },
   "outputs": [
    {
     "data": {
      "text/html": [
       "<div>\n",
       "<style scoped>\n",
       "    .dataframe tbody tr th:only-of-type {\n",
       "        vertical-align: middle;\n",
       "    }\n",
       "\n",
       "    .dataframe tbody tr th {\n",
       "        vertical-align: top;\n",
       "    }\n",
       "\n",
       "    .dataframe thead th {\n",
       "        text-align: right;\n",
       "    }\n",
       "</style>\n",
       "<table border=\"1\" class=\"dataframe\">\n",
       "  <thead>\n",
       "    <tr style=\"text-align: right;\">\n",
       "      <th></th>\n",
       "      <th>index</th>\n",
       "      <th>count</th>\n",
       "      <th>freq</th>\n",
       "    </tr>\n",
       "  </thead>\n",
       "  <tbody>\n",
       "    <tr>\n",
       "      <th>0</th>\n",
       "      <td>NBA</td>\n",
       "      <td>7490</td>\n",
       "      <td>7490</td>\n",
       "    </tr>\n",
       "    <tr>\n",
       "      <th>1</th>\n",
       "      <td>Eurocup</td>\n",
       "      <td>4136</td>\n",
       "      <td>4136</td>\n",
       "    </tr>\n",
       "    <tr>\n",
       "      <th>2</th>\n",
       "      <td>Euroleague</td>\n",
       "      <td>3322</td>\n",
       "      <td>3322</td>\n",
       "    </tr>\n",
       "    <tr>\n",
       "      <th>3</th>\n",
       "      <td>Spanish-ACB</td>\n",
       "      <td>2328</td>\n",
       "      <td>2328</td>\n",
       "    </tr>\n",
       "    <tr>\n",
       "      <th>4</th>\n",
       "      <td>German-BBL</td>\n",
       "      <td>2022</td>\n",
       "      <td>2022</td>\n",
       "    </tr>\n",
       "    <tr>\n",
       "      <th>5</th>\n",
       "      <td>Australian-NBL</td>\n",
       "      <td>2022</td>\n",
       "      <td>2022</td>\n",
       "    </tr>\n",
       "    <tr>\n",
       "      <th>6</th>\n",
       "      <td>Italian-Lega-Basket-Serie-A</td>\n",
       "      <td>1865</td>\n",
       "      <td>1865</td>\n",
       "    </tr>\n",
       "    <tr>\n",
       "      <th>7</th>\n",
       "      <td>French-Jeep-Elite</td>\n",
       "      <td>1852</td>\n",
       "      <td>1852</td>\n",
       "    </tr>\n",
       "    <tr>\n",
       "      <th>8</th>\n",
       "      <td>Chinese-CBA</td>\n",
       "      <td>1426</td>\n",
       "      <td>1426</td>\n",
       "    </tr>\n",
       "    <tr>\n",
       "      <th>9</th>\n",
       "      <td>FIBA-Europe-Cup</td>\n",
       "      <td>1388</td>\n",
       "      <td>1388</td>\n",
       "    </tr>\n",
       "  </tbody>\n",
       "</table>\n",
       "</div>"
      ],
      "text/plain": [
       "                         index count  freq\n",
       "0                          NBA  7490  7490\n",
       "1                      Eurocup  4136  4136\n",
       "2                   Euroleague  3322  3322\n",
       "3                  Spanish-ACB  2328  2328\n",
       "4                   German-BBL  2022  2022\n",
       "5               Australian-NBL  2022  2022\n",
       "6  Italian-Lega-Basket-Serie-A  1865  1865\n",
       "7            French-Jeep-Elite  1852  1852\n",
       "8                  Chinese-CBA  1426  1426\n",
       "9              FIBA-Europe-Cup  1388  1388"
      ]
     },
     "execution_count": 19,
     "metadata": {},
     "output_type": "execute_result"
    }
   ],
   "source": [
    "ligas_1 = df.groupby(by = 'League')['League'].describe()       #agrupo por indice de liga\n",
    "ligas_1 = ligas_1.sort_values(by = 'count', ascending = False) #ordeno valores de forma descendente en columna 'coult'\n",
    "ligas_1 = ligas_1.rename_axis('index').reset_index()           #añado indice numérico\n",
    "ligas_1 = ligas_1.drop(['unique','top'], axis = 1)             #elimino dos columnas para presentación final\n",
    "ligas_1[0:10]"
   ]
  },
  {
   "cell_type": "markdown",
   "metadata": {
    "id": "Yf2CuH3N-_Vq"
   },
   "source": [
    "# Ejercicio 3\n",
    " \n",
    "A continuación nos centraremos en la temporada 2018-2019 de la liga de la NBA.\n",
    "\n",
    "- Crea un nuevo dataset con sólo estos datos. **(0.5 puntos)**\n",
    "- ¿Qué jugador ha jugado más minutos (*MIN*) de la temporada regular (*Regular_Season*). Y de la temporada de *PlayOffs*? **(0.5 puntos)**\n",
    " "
   ]
  },
  {
   "cell_type": "code",
   "execution_count": 20,
   "metadata": {
    "id": "bPY1R7ZzJsaM",
    "outputId": "d411ef42-d80a-4fde-fd6c-ae0111418e4d"
   },
   "outputs": [
    {
     "data": {
      "text/html": [
       "<div>\n",
       "<style scoped>\n",
       "    .dataframe tbody tr th:only-of-type {\n",
       "        vertical-align: middle;\n",
       "    }\n",
       "\n",
       "    .dataframe tbody tr th {\n",
       "        vertical-align: top;\n",
       "    }\n",
       "\n",
       "    .dataframe thead th {\n",
       "        text-align: right;\n",
       "    }\n",
       "</style>\n",
       "<table border=\"1\" class=\"dataframe\">\n",
       "  <thead>\n",
       "    <tr style=\"text-align: right;\">\n",
       "      <th></th>\n",
       "      <th>League</th>\n",
       "      <th>Season</th>\n",
       "      <th>Stage</th>\n",
       "      <th>Player</th>\n",
       "      <th>Team</th>\n",
       "      <th>GP</th>\n",
       "      <th>MIN</th>\n",
       "      <th>FGM</th>\n",
       "      <th>FGA</th>\n",
       "      <th>3PM</th>\n",
       "      <th>...</th>\n",
       "      <th>PTS</th>\n",
       "      <th>birth_year</th>\n",
       "      <th>birth_month</th>\n",
       "      <th>birth_date</th>\n",
       "      <th>height</th>\n",
       "      <th>height_cm</th>\n",
       "      <th>weight</th>\n",
       "      <th>weight_kg</th>\n",
       "      <th>nationality</th>\n",
       "      <th>high_school</th>\n",
       "    </tr>\n",
       "  </thead>\n",
       "  <tbody>\n",
       "    <tr>\n",
       "      <th>0</th>\n",
       "      <td>NBA</td>\n",
       "      <td>2019 - 2020</td>\n",
       "      <td>Regular_Season</td>\n",
       "      <td>James Harden</td>\n",
       "      <td>HOU</td>\n",
       "      <td>68</td>\n",
       "      <td>2482.6</td>\n",
       "      <td>672</td>\n",
       "      <td>1514</td>\n",
       "      <td>299</td>\n",
       "      <td>...</td>\n",
       "      <td>2335</td>\n",
       "      <td>1989.0</td>\n",
       "      <td>Aug</td>\n",
       "      <td>Aug 26, 1989</td>\n",
       "      <td>06-May</td>\n",
       "      <td>196.0</td>\n",
       "      <td>220.0</td>\n",
       "      <td>100.0</td>\n",
       "      <td>United States</td>\n",
       "      <td>Artesia High School</td>\n",
       "    </tr>\n",
       "    <tr>\n",
       "      <th>1</th>\n",
       "      <td>NBA</td>\n",
       "      <td>2019 - 2020</td>\n",
       "      <td>Regular_Season</td>\n",
       "      <td>Damian Lillard</td>\n",
       "      <td>POR</td>\n",
       "      <td>66</td>\n",
       "      <td>2473.7</td>\n",
       "      <td>624</td>\n",
       "      <td>1349</td>\n",
       "      <td>270</td>\n",
       "      <td>...</td>\n",
       "      <td>1978</td>\n",
       "      <td>1990.0</td>\n",
       "      <td>Jul</td>\n",
       "      <td>Jul 15, 1990</td>\n",
       "      <td>06-Mar</td>\n",
       "      <td>191.0</td>\n",
       "      <td>195.0</td>\n",
       "      <td>88.0</td>\n",
       "      <td>United States</td>\n",
       "      <td>Oakland High School</td>\n",
       "    </tr>\n",
       "    <tr>\n",
       "      <th>2</th>\n",
       "      <td>NBA</td>\n",
       "      <td>2019 - 2020</td>\n",
       "      <td>Regular_Season</td>\n",
       "      <td>Devin Booker</td>\n",
       "      <td>PHX</td>\n",
       "      <td>70</td>\n",
       "      <td>2511.8</td>\n",
       "      <td>627</td>\n",
       "      <td>1283</td>\n",
       "      <td>141</td>\n",
       "      <td>...</td>\n",
       "      <td>1863</td>\n",
       "      <td>1996.0</td>\n",
       "      <td>Oct</td>\n",
       "      <td>Oct 30, 1996</td>\n",
       "      <td>06-Jun</td>\n",
       "      <td>198.0</td>\n",
       "      <td>206.0</td>\n",
       "      <td>93.0</td>\n",
       "      <td>United States</td>\n",
       "      <td>Moss Point High School</td>\n",
       "    </tr>\n",
       "  </tbody>\n",
       "</table>\n",
       "<p>3 rows × 31 columns</p>\n",
       "</div>"
      ],
      "text/plain": [
       "  League       Season           Stage          Player Team  GP     MIN  FGM  \\\n",
       "0    NBA  2019 - 2020  Regular_Season    James Harden  HOU  68  2482.6  672   \n",
       "1    NBA  2019 - 2020  Regular_Season  Damian Lillard  POR  66  2473.7  624   \n",
       "2    NBA  2019 - 2020  Regular_Season    Devin Booker  PHX  70  2511.8  627   \n",
       "\n",
       "    FGA  3PM  ...   PTS  birth_year  birth_month    birth_date  height  \\\n",
       "0  1514  299  ...  2335      1989.0          Aug  Aug 26, 1989  06-May   \n",
       "1  1349  270  ...  1978      1990.0          Jul  Jul 15, 1990  06-Mar   \n",
       "2  1283  141  ...  1863      1996.0          Oct  Oct 30, 1996  06-Jun   \n",
       "\n",
       "   height_cm  weight  weight_kg    nationality             high_school  \n",
       "0      196.0   220.0      100.0  United States     Artesia High School  \n",
       "1      191.0   195.0       88.0  United States     Oakland High School  \n",
       "2      198.0   206.0       93.0  United States  Moss Point High School  \n",
       "\n",
       "[3 rows x 31 columns]"
      ]
     },
     "execution_count": 20,
     "metadata": {},
     "output_type": "execute_result"
    }
   ],
   "source": [
    "df.head(n=3)"
   ]
  },
  {
   "cell_type": "code",
   "execution_count": 21,
   "metadata": {
    "id": "V5IBcpVL-_Vr",
    "outputId": "9352dac4-d920-4f8c-967a-a921411b5935"
   },
   "outputs": [
    {
     "data": {
      "text/html": [
       "<div>\n",
       "<style scoped>\n",
       "    .dataframe tbody tr th:only-of-type {\n",
       "        vertical-align: middle;\n",
       "    }\n",
       "\n",
       "    .dataframe tbody tr th {\n",
       "        vertical-align: top;\n",
       "    }\n",
       "\n",
       "    .dataframe thead th {\n",
       "        text-align: right;\n",
       "    }\n",
       "</style>\n",
       "<table border=\"1\" class=\"dataframe\">\n",
       "  <thead>\n",
       "    <tr style=\"text-align: right;\">\n",
       "      <th></th>\n",
       "      <th>League</th>\n",
       "      <th>Season</th>\n",
       "      <th>Stage</th>\n",
       "      <th>Player</th>\n",
       "      <th>Team</th>\n",
       "      <th>GP</th>\n",
       "      <th>MIN</th>\n",
       "      <th>FGM</th>\n",
       "      <th>FGA</th>\n",
       "      <th>3PM</th>\n",
       "      <th>...</th>\n",
       "      <th>PTS</th>\n",
       "      <th>birth_year</th>\n",
       "      <th>birth_month</th>\n",
       "      <th>birth_date</th>\n",
       "      <th>height</th>\n",
       "      <th>height_cm</th>\n",
       "      <th>weight</th>\n",
       "      <th>weight_kg</th>\n",
       "      <th>nationality</th>\n",
       "      <th>high_school</th>\n",
       "    </tr>\n",
       "  </thead>\n",
       "  <tbody>\n",
       "    <tr>\n",
       "      <th>7119</th>\n",
       "      <td>NBA</td>\n",
       "      <td>2018 - 2019</td>\n",
       "      <td>Regular_Season</td>\n",
       "      <td>Bradley Beal</td>\n",
       "      <td>WAS</td>\n",
       "      <td>82</td>\n",
       "      <td>3027.8</td>\n",
       "      <td>764</td>\n",
       "      <td>1609</td>\n",
       "      <td>209</td>\n",
       "      <td>...</td>\n",
       "      <td>2099</td>\n",
       "      <td>1993.0</td>\n",
       "      <td>Jun</td>\n",
       "      <td>Jun 28, 1993</td>\n",
       "      <td>06-Mar</td>\n",
       "      <td>191.0</td>\n",
       "      <td>207.0</td>\n",
       "      <td>94.0</td>\n",
       "      <td>United States</td>\n",
       "      <td>Chaminade College Preparatory School</td>\n",
       "    </tr>\n",
       "  </tbody>\n",
       "</table>\n",
       "<p>1 rows × 31 columns</p>\n",
       "</div>"
      ],
      "text/plain": [
       "     League       Season           Stage        Player Team  GP     MIN  FGM  \\\n",
       "7119    NBA  2018 - 2019  Regular_Season  Bradley Beal  WAS  82  3027.8  764   \n",
       "\n",
       "       FGA  3PM  ...   PTS  birth_year  birth_month    birth_date  height  \\\n",
       "7119  1609  209  ...  2099      1993.0          Jun  Jun 28, 1993  06-Mar   \n",
       "\n",
       "      height_cm  weight  weight_kg    nationality  \\\n",
       "7119      191.0   207.0       94.0  United States   \n",
       "\n",
       "                               high_school  \n",
       "7119  Chaminade College Preparatory School  \n",
       "\n",
       "[1 rows x 31 columns]"
      ]
     },
     "execution_count": 21,
     "metadata": {},
     "output_type": "execute_result"
    }
   ],
   "source": [
    "# Respuesta:\n",
    "# de la temp regular : Bradley Beal, de los WAS con 3027.8 minutos\n",
    "# de la temp Playoffs : Kawhi Leonard, de los TOR con 939.5 minutos\n",
    "\n",
    "new_data = df[df[\"Season\"] == \"2018 - 2019\"]                                #busco el año indicado\n",
    "df_Regular_Season = new_data[new_data.Stage.isin(['Regular_Season'])]       #genero DataFrame con sólo info de Regular_Season\n",
    "max_minuts = df_Regular_Season.sort_values(by = ['MIN'], ascending = False) #ordeno descendente valores de columna MIN\n",
    "max_minuts[0:1]"
   ]
  },
  {
   "cell_type": "code",
   "execution_count": 22,
   "metadata": {
    "id": "DU2rnGeoJsaQ",
    "outputId": "bc4d78ac-09a8-4484-945e-08df6594ae7a"
   },
   "outputs": [
    {
     "data": {
      "text/html": [
       "<div>\n",
       "<style scoped>\n",
       "    .dataframe tbody tr th:only-of-type {\n",
       "        vertical-align: middle;\n",
       "    }\n",
       "\n",
       "    .dataframe tbody tr th {\n",
       "        vertical-align: top;\n",
       "    }\n",
       "\n",
       "    .dataframe thead th {\n",
       "        text-align: right;\n",
       "    }\n",
       "</style>\n",
       "<table border=\"1\" class=\"dataframe\">\n",
       "  <thead>\n",
       "    <tr style=\"text-align: right;\">\n",
       "      <th></th>\n",
       "      <th>League</th>\n",
       "      <th>Season</th>\n",
       "      <th>Stage</th>\n",
       "      <th>Player</th>\n",
       "      <th>Team</th>\n",
       "      <th>GP</th>\n",
       "      <th>MIN</th>\n",
       "      <th>FGM</th>\n",
       "      <th>FGA</th>\n",
       "      <th>3PM</th>\n",
       "      <th>...</th>\n",
       "      <th>PTS</th>\n",
       "      <th>birth_year</th>\n",
       "      <th>birth_month</th>\n",
       "      <th>birth_date</th>\n",
       "      <th>height</th>\n",
       "      <th>height_cm</th>\n",
       "      <th>weight</th>\n",
       "      <th>weight_kg</th>\n",
       "      <th>nationality</th>\n",
       "      <th>high_school</th>\n",
       "    </tr>\n",
       "  </thead>\n",
       "  <tbody>\n",
       "    <tr>\n",
       "      <th>7408</th>\n",
       "      <td>NBA</td>\n",
       "      <td>2018 - 2019</td>\n",
       "      <td>Playoffs</td>\n",
       "      <td>Kawhi Leonard</td>\n",
       "      <td>TOR</td>\n",
       "      <td>24</td>\n",
       "      <td>939.5</td>\n",
       "      <td>243</td>\n",
       "      <td>496</td>\n",
       "      <td>55</td>\n",
       "      <td>...</td>\n",
       "      <td>732</td>\n",
       "      <td>1991.0</td>\n",
       "      <td>Jun</td>\n",
       "      <td>Jun 29, 1991</td>\n",
       "      <td>06-Jul</td>\n",
       "      <td>201.0</td>\n",
       "      <td>230.0</td>\n",
       "      <td>104.0</td>\n",
       "      <td>United States</td>\n",
       "      <td>Martin Luther King High School</td>\n",
       "    </tr>\n",
       "  </tbody>\n",
       "</table>\n",
       "<p>1 rows × 31 columns</p>\n",
       "</div>"
      ],
      "text/plain": [
       "     League       Season     Stage         Player Team  GP    MIN  FGM  FGA  \\\n",
       "7408    NBA  2018 - 2019  Playoffs  Kawhi Leonard  TOR  24  939.5  243  496   \n",
       "\n",
       "      3PM  ...  PTS  birth_year  birth_month    birth_date  height  height_cm  \\\n",
       "7408   55  ...  732      1991.0          Jun  Jun 29, 1991  06-Jul      201.0   \n",
       "\n",
       "      weight  weight_kg    nationality                     high_school  \n",
       "7408   230.0      104.0  United States  Martin Luther King High School  \n",
       "\n",
       "[1 rows x 31 columns]"
      ]
     },
     "execution_count": 22,
     "metadata": {},
     "output_type": "execute_result"
    }
   ],
   "source": [
    "new_data = df[df[\"Season\"] == \"2018 - 2019\"] \n",
    "df_Regular_Season = new_data[new_data.Stage.isin(['Playoffs'])]          #selecc. de Stage sólo las filas de 'PlayOffs'\n",
    "max_min = df_Regular_Season.sort_values(by = ['MIN'], ascending = False) #ordeno descendente valores de columna MIN\n",
    "max_min[0:1]\n"
   ]
  },
  {
   "cell_type": "markdown",
   "metadata": {
    "id": "XJVuZ26J-_Vt"
   },
   "source": [
    "### Ejercicio 4\n",
    "\n",
    "Los triples (tiros de 3 puntos) son un elemento clave en un partido de baloncesto. Los equipos que tienen buenos tiradores tienen una gran ventaja respecto a los equipos que no.\n",
    "\n",
    "- Cuál es el promedio de triples (*3PM*) de los jugadores de la temporada Regular 2018-2019? **(0.5 puntos)**\n",
    "- Qué equipos tienen la media de triples por encima del valor calculado en el apartado anterior? **(0.5 puntos)**\n",
    "\n",
    "**Nota**: Además del contenido de los notebooks de teoría, podéis utilizar lo que habéis aprendido haciendo el ejercicio 3."
   ]
  },
  {
   "cell_type": "code",
   "execution_count": 23,
   "metadata": {
    "id": "E5H_32HR-_Vu",
    "outputId": "6c0760e5-cdb0-4b0e-a3c0-f43fac6e587c"
   },
   "outputs": [
    {
     "data": {
      "text/plain": [
       "12.594405594405595"
      ]
     },
     "execution_count": 23,
     "metadata": {},
     "output_type": "execute_result"
    }
   ],
   "source": [
    "# Respuesta:\n",
    "#el promedio de triples fue de 12.594405594405595\n",
    "#Hay 10 equipos_media_triples_superior \n",
    "\n",
    "mean_3pm = df_Regular_Season['3PM'].mean()\n",
    "mean_3pm"
   ]
  },
  {
   "cell_type": "code",
   "execution_count": 24,
   "metadata": {
    "id": "-a3Yf-t1JsaV",
    "outputId": "23832754-a1b8-43a3-8088-a1a5277f7169"
   },
   "outputs": [
    {
     "data": {
      "text/html": [
       "<div>\n",
       "<style scoped>\n",
       "    .dataframe tbody tr th:only-of-type {\n",
       "        vertical-align: middle;\n",
       "    }\n",
       "\n",
       "    .dataframe tbody tr th {\n",
       "        vertical-align: top;\n",
       "    }\n",
       "\n",
       "    .dataframe thead th {\n",
       "        text-align: right;\n",
       "    }\n",
       "</style>\n",
       "<table border=\"1\" class=\"dataframe\">\n",
       "  <thead>\n",
       "    <tr style=\"text-align: right;\">\n",
       "      <th></th>\n",
       "      <th>index</th>\n",
       "      <th>count</th>\n",
       "      <th>freq</th>\n",
       "    </tr>\n",
       "  </thead>\n",
       "  <tbody>\n",
       "    <tr>\n",
       "      <th>0</th>\n",
       "      <td>MIL</td>\n",
       "      <td>8</td>\n",
       "      <td>8</td>\n",
       "    </tr>\n",
       "    <tr>\n",
       "      <th>1</th>\n",
       "      <td>TOR</td>\n",
       "      <td>7</td>\n",
       "      <td>7</td>\n",
       "    </tr>\n",
       "    <tr>\n",
       "      <th>2</th>\n",
       "      <td>DEN</td>\n",
       "      <td>6</td>\n",
       "      <td>6</td>\n",
       "    </tr>\n",
       "    <tr>\n",
       "      <th>3</th>\n",
       "      <td>POR</td>\n",
       "      <td>6</td>\n",
       "      <td>6</td>\n",
       "    </tr>\n",
       "    <tr>\n",
       "      <th>4</th>\n",
       "      <td>GSW</td>\n",
       "      <td>5</td>\n",
       "      <td>5</td>\n",
       "    </tr>\n",
       "    <tr>\n",
       "      <th>5</th>\n",
       "      <td>HOU</td>\n",
       "      <td>5</td>\n",
       "      <td>5</td>\n",
       "    </tr>\n",
       "    <tr>\n",
       "      <th>6</th>\n",
       "      <td>BOS</td>\n",
       "      <td>4</td>\n",
       "      <td>4</td>\n",
       "    </tr>\n",
       "    <tr>\n",
       "      <th>7</th>\n",
       "      <td>LAC</td>\n",
       "      <td>2</td>\n",
       "      <td>2</td>\n",
       "    </tr>\n",
       "    <tr>\n",
       "      <th>8</th>\n",
       "      <td>PHI</td>\n",
       "      <td>2</td>\n",
       "      <td>2</td>\n",
       "    </tr>\n",
       "    <tr>\n",
       "      <th>9</th>\n",
       "      <td>OKC</td>\n",
       "      <td>1</td>\n",
       "      <td>1</td>\n",
       "    </tr>\n",
       "    <tr>\n",
       "      <th>10</th>\n",
       "      <td>SAS</td>\n",
       "      <td>1</td>\n",
       "      <td>1</td>\n",
       "    </tr>\n",
       "  </tbody>\n",
       "</table>\n",
       "</div>"
      ],
      "text/plain": [
       "   index count freq\n",
       "0    MIL     8    8\n",
       "1    TOR     7    7\n",
       "2    DEN     6    6\n",
       "3    POR     6    6\n",
       "4    GSW     5    5\n",
       "5    HOU     5    5\n",
       "6    BOS     4    4\n",
       "7    LAC     2    2\n",
       "8    PHI     2    2\n",
       "9    OKC     1    1\n",
       "10   SAS     1    1"
      ]
     },
     "execution_count": 24,
     "metadata": {},
     "output_type": "execute_result"
    }
   ],
   "source": [
    "m = df_Regular_Season[df_Regular_Season['3PM'] > 12.594405594405595]  #selecciono lineas 3PM por encima de la media\n",
    "team = m.groupby(by = 'Team')['Team'].describe()                      #agrupo por indice\n",
    "team = team.sort_values(by = 'count', ascending = False)              #ordeno valores de forma descendente 'count'\n",
    "team = team.rename_axis('index').reset_index()                        #añado indice numérico\n",
    "equipos_media_triples_superior = team.drop(['unique','top'], axis = 1)#elimino dos columnas para presentación final\n",
    "equipos_media_triples_superior                                        #ordenados de mejores a peores"
   ]
  },
  {
   "cell_type": "markdown",
   "metadata": {
    "id": "XoThdV_Q-_Vw"
   },
   "source": [
    "### Ejercicio 5\n",
    "\n",
    "Considere el dataset de la temporada 2018-2019 de la liga de la NBA regular (no PlayOffs).\n",
    "\n",
    "- Crea una nueva columna al dataset que nos indicará por cada fila si el jugador es de un equipo que ha participado en los PlayOffs (0 si no ha participado, 1 si ha participado). \n",
    "- Muestra los histogramas de las características `height_cm` y` weight_kg` separados en función de la nueva columna de PlayOffs. Los jugadores de la NBA que han pasado a PlayOffs tienen características diferentes a los jugadores de los equipos que no han participado en los PlayOffs? \n",
    "- Hay alguna relación entre la altura y el número de rebotes (*REB*) de un jugador? ¿Hay alguna diferencia entre los jugadores que llegan a PlayOffs y los que no? Responde gráficamente esta pregunta. "
   ]
  },
  {
   "cell_type": "code",
   "execution_count": 25,
   "metadata": {
    "id": "ankwcNwi-_Vw",
    "outputId": "66bc455a-9894-4cf2-cab6-1ada8d8aaeb1"
   },
   "outputs": [
    {
     "data": {
      "text/html": [
       "<div>\n",
       "<style scoped>\n",
       "    .dataframe tbody tr th:only-of-type {\n",
       "        vertical-align: middle;\n",
       "    }\n",
       "\n",
       "    .dataframe tbody tr th {\n",
       "        vertical-align: top;\n",
       "    }\n",
       "\n",
       "    .dataframe thead th {\n",
       "        text-align: right;\n",
       "    }\n",
       "</style>\n",
       "<table border=\"1\" class=\"dataframe\">\n",
       "  <thead>\n",
       "    <tr style=\"text-align: right;\">\n",
       "      <th></th>\n",
       "      <th>League</th>\n",
       "      <th>Season</th>\n",
       "      <th>Stage</th>\n",
       "      <th>Player</th>\n",
       "      <th>Team</th>\n",
       "      <th>GP</th>\n",
       "      <th>MIN</th>\n",
       "      <th>FGM</th>\n",
       "      <th>FGA</th>\n",
       "      <th>3PM</th>\n",
       "      <th>...</th>\n",
       "      <th>PTS</th>\n",
       "      <th>birth_year</th>\n",
       "      <th>birth_month</th>\n",
       "      <th>birth_date</th>\n",
       "      <th>height</th>\n",
       "      <th>height_cm</th>\n",
       "      <th>weight</th>\n",
       "      <th>weight_kg</th>\n",
       "      <th>nationality</th>\n",
       "      <th>high_school</th>\n",
       "    </tr>\n",
       "  </thead>\n",
       "  <tbody>\n",
       "    <tr>\n",
       "      <th>7408</th>\n",
       "      <td>NBA</td>\n",
       "      <td>2018 - 2019</td>\n",
       "      <td>Playoffs</td>\n",
       "      <td>Kawhi Leonard</td>\n",
       "      <td>TOR</td>\n",
       "      <td>24</td>\n",
       "      <td>939.5</td>\n",
       "      <td>243</td>\n",
       "      <td>496</td>\n",
       "      <td>55</td>\n",
       "      <td>...</td>\n",
       "      <td>732</td>\n",
       "      <td>1991.0</td>\n",
       "      <td>Jun</td>\n",
       "      <td>Jun 29, 1991</td>\n",
       "      <td>06-Jul</td>\n",
       "      <td>201.0</td>\n",
       "      <td>230.0</td>\n",
       "      <td>104.0</td>\n",
       "      <td>United States</td>\n",
       "      <td>Martin Luther King High School</td>\n",
       "    </tr>\n",
       "    <tr>\n",
       "      <th>7409</th>\n",
       "      <td>NBA</td>\n",
       "      <td>2018 - 2019</td>\n",
       "      <td>Playoffs</td>\n",
       "      <td>Stephen Curry</td>\n",
       "      <td>GSW</td>\n",
       "      <td>22</td>\n",
       "      <td>845.6</td>\n",
       "      <td>190</td>\n",
       "      <td>431</td>\n",
       "      <td>92</td>\n",
       "      <td>...</td>\n",
       "      <td>620</td>\n",
       "      <td>1988.0</td>\n",
       "      <td>Mar</td>\n",
       "      <td>Mar 14, 1988</td>\n",
       "      <td>06-Mar</td>\n",
       "      <td>191.0</td>\n",
       "      <td>190.0</td>\n",
       "      <td>86.0</td>\n",
       "      <td>United States</td>\n",
       "      <td>Charlotte Christian School</td>\n",
       "    </tr>\n",
       "    <tr>\n",
       "      <th>7410</th>\n",
       "      <td>NBA</td>\n",
       "      <td>2018 - 2019</td>\n",
       "      <td>Playoffs</td>\n",
       "      <td>Pascal Siakam</td>\n",
       "      <td>TOR</td>\n",
       "      <td>24</td>\n",
       "      <td>891.3</td>\n",
       "      <td>180</td>\n",
       "      <td>383</td>\n",
       "      <td>29</td>\n",
       "      <td>...</td>\n",
       "      <td>455</td>\n",
       "      <td>1994.0</td>\n",
       "      <td>Apr</td>\n",
       "      <td>Apr 2, 1994</td>\n",
       "      <td>06-Sep</td>\n",
       "      <td>206.0</td>\n",
       "      <td>230.0</td>\n",
       "      <td>104.0</td>\n",
       "      <td>Cameroon</td>\n",
       "      <td>God's Academy</td>\n",
       "    </tr>\n",
       "    <tr>\n",
       "      <th>7411</th>\n",
       "      <td>NBA</td>\n",
       "      <td>2018 - 2019</td>\n",
       "      <td>Playoffs</td>\n",
       "      <td>Klay Thompson</td>\n",
       "      <td>GSW</td>\n",
       "      <td>21</td>\n",
       "      <td>818.0</td>\n",
       "      <td>164</td>\n",
       "      <td>360</td>\n",
       "      <td>70</td>\n",
       "      <td>...</td>\n",
       "      <td>435</td>\n",
       "      <td>1990.0</td>\n",
       "      <td>Feb</td>\n",
       "      <td>Feb 8, 1990</td>\n",
       "      <td>06-Jul</td>\n",
       "      <td>201.0</td>\n",
       "      <td>215.0</td>\n",
       "      <td>98.0</td>\n",
       "      <td>United States</td>\n",
       "      <td>Santa Margarita Catholic High School</td>\n",
       "    </tr>\n",
       "    <tr>\n",
       "      <th>7412</th>\n",
       "      <td>NBA</td>\n",
       "      <td>2018 - 2019</td>\n",
       "      <td>Playoffs</td>\n",
       "      <td>Damian Lillard</td>\n",
       "      <td>POR</td>\n",
       "      <td>16</td>\n",
       "      <td>650.1</td>\n",
       "      <td>138</td>\n",
       "      <td>330</td>\n",
       "      <td>59</td>\n",
       "      <td>...</td>\n",
       "      <td>430</td>\n",
       "      <td>1990.0</td>\n",
       "      <td>Jul</td>\n",
       "      <td>Jul 15, 1990</td>\n",
       "      <td>06-Mar</td>\n",
       "      <td>191.0</td>\n",
       "      <td>195.0</td>\n",
       "      <td>88.0</td>\n",
       "      <td>United States</td>\n",
       "      <td>Oakland High School</td>\n",
       "    </tr>\n",
       "  </tbody>\n",
       "</table>\n",
       "<p>5 rows × 31 columns</p>\n",
       "</div>"
      ],
      "text/plain": [
       "     League       Season     Stage          Player Team  GP    MIN  FGM  FGA  \\\n",
       "7408    NBA  2018 - 2019  Playoffs   Kawhi Leonard  TOR  24  939.5  243  496   \n",
       "7409    NBA  2018 - 2019  Playoffs   Stephen Curry  GSW  22  845.6  190  431   \n",
       "7410    NBA  2018 - 2019  Playoffs   Pascal Siakam  TOR  24  891.3  180  383   \n",
       "7411    NBA  2018 - 2019  Playoffs   Klay Thompson  GSW  21  818.0  164  360   \n",
       "7412    NBA  2018 - 2019  Playoffs  Damian Lillard  POR  16  650.1  138  330   \n",
       "\n",
       "      3PM  ...  PTS  birth_year  birth_month    birth_date  height  height_cm  \\\n",
       "7408   55  ...  732      1991.0          Jun  Jun 29, 1991  06-Jul      201.0   \n",
       "7409   92  ...  620      1988.0          Mar  Mar 14, 1988  06-Mar      191.0   \n",
       "7410   29  ...  455      1994.0          Apr   Apr 2, 1994  06-Sep      206.0   \n",
       "7411   70  ...  435      1990.0          Feb   Feb 8, 1990  06-Jul      201.0   \n",
       "7412   59  ...  430      1990.0          Jul  Jul 15, 1990  06-Mar      191.0   \n",
       "\n",
       "      weight  weight_kg    nationality                           high_school  \n",
       "7408   230.0      104.0  United States        Martin Luther King High School  \n",
       "7409   190.0       86.0  United States            Charlotte Christian School  \n",
       "7410   230.0      104.0       Cameroon                         God's Academy  \n",
       "7411   215.0       98.0  United States  Santa Margarita Catholic High School  \n",
       "7412   195.0       88.0  United States                   Oakland High School  \n",
       "\n",
       "[5 rows x 31 columns]"
      ]
     },
     "execution_count": 25,
     "metadata": {},
     "output_type": "execute_result"
    }
   ],
   "source": [
    "# Respuesta\n",
    "nba = df[df['League'] == 'NBA']\n",
    "df[df.Stage.isin(['PlayOffs'])]         #no coincide nunguna etiqueta 'PlayOffs' del enunciado con columna Stage :)\n",
    "df[df.Stage.isin(['Playoffs'])].head()  #investigo y encuentro 'Playoffs'"
   ]
  },
  {
   "cell_type": "code",
   "execution_count": 26,
   "metadata": {
    "id": "p7QHtoeAJsaa",
    "outputId": "8eda3c3c-046b-48b5-c81c-e83de504dd24"
   },
   "outputs": [
    {
     "name": "stderr",
     "output_type": "stream",
     "text": [
      "<ipython-input-26-a360cda2e109>:1: SettingWithCopyWarning: \n",
      "A value is trying to be set on a copy of a slice from a DataFrame.\n",
      "Try using .loc[row_indexer,col_indexer] = value instead\n",
      "\n",
      "See the caveats in the documentation: https://pandas.pydata.org/pandas-docs/stable/user_guide/indexing.html#returning-a-view-versus-a-copy\n",
      "  nba['PlayOffs'] = 0                                 #genero columna 'PlayOffs' de ceros\n",
      "/opt/anaconda3/lib/python3.8/site-packages/pandas/core/indexing.py:966: SettingWithCopyWarning: \n",
      "A value is trying to be set on a copy of a slice from a DataFrame.\n",
      "Try using .loc[row_indexer,col_indexer] = value instead\n",
      "\n",
      "See the caveats in the documentation: https://pandas.pydata.org/pandas-docs/stable/user_guide/indexing.html#returning-a-view-versus-a-copy\n",
      "  self.obj[item] = s\n"
     ]
    },
    {
     "data": {
      "text/html": [
       "<div>\n",
       "<style scoped>\n",
       "    .dataframe tbody tr th:only-of-type {\n",
       "        vertical-align: middle;\n",
       "    }\n",
       "\n",
       "    .dataframe tbody tr th {\n",
       "        vertical-align: top;\n",
       "    }\n",
       "\n",
       "    .dataframe thead th {\n",
       "        text-align: right;\n",
       "    }\n",
       "</style>\n",
       "<table border=\"1\" class=\"dataframe\">\n",
       "  <thead>\n",
       "    <tr style=\"text-align: right;\">\n",
       "      <th></th>\n",
       "      <th>League</th>\n",
       "      <th>Season</th>\n",
       "      <th>Stage</th>\n",
       "      <th>Player</th>\n",
       "      <th>Team</th>\n",
       "      <th>GP</th>\n",
       "      <th>MIN</th>\n",
       "      <th>FGM</th>\n",
       "      <th>FGA</th>\n",
       "      <th>3PM</th>\n",
       "      <th>...</th>\n",
       "      <th>birth_year</th>\n",
       "      <th>birth_month</th>\n",
       "      <th>birth_date</th>\n",
       "      <th>height</th>\n",
       "      <th>height_cm</th>\n",
       "      <th>weight</th>\n",
       "      <th>weight_kg</th>\n",
       "      <th>nationality</th>\n",
       "      <th>high_school</th>\n",
       "      <th>PlayOffs</th>\n",
       "    </tr>\n",
       "  </thead>\n",
       "  <tbody>\n",
       "    <tr>\n",
       "      <th>0</th>\n",
       "      <td>NBA</td>\n",
       "      <td>2019 - 2020</td>\n",
       "      <td>Regular_Season</td>\n",
       "      <td>James Harden</td>\n",
       "      <td>HOU</td>\n",
       "      <td>68</td>\n",
       "      <td>2482.6</td>\n",
       "      <td>672</td>\n",
       "      <td>1514</td>\n",
       "      <td>299</td>\n",
       "      <td>...</td>\n",
       "      <td>1989.0</td>\n",
       "      <td>Aug</td>\n",
       "      <td>Aug 26, 1989</td>\n",
       "      <td>06-May</td>\n",
       "      <td>196.0</td>\n",
       "      <td>220.0</td>\n",
       "      <td>100.0</td>\n",
       "      <td>United States</td>\n",
       "      <td>Artesia High School</td>\n",
       "      <td>0</td>\n",
       "    </tr>\n",
       "    <tr>\n",
       "      <th>1</th>\n",
       "      <td>NBA</td>\n",
       "      <td>2019 - 2020</td>\n",
       "      <td>Regular_Season</td>\n",
       "      <td>Damian Lillard</td>\n",
       "      <td>POR</td>\n",
       "      <td>66</td>\n",
       "      <td>2473.7</td>\n",
       "      <td>624</td>\n",
       "      <td>1349</td>\n",
       "      <td>270</td>\n",
       "      <td>...</td>\n",
       "      <td>1990.0</td>\n",
       "      <td>Jul</td>\n",
       "      <td>Jul 15, 1990</td>\n",
       "      <td>06-Mar</td>\n",
       "      <td>191.0</td>\n",
       "      <td>195.0</td>\n",
       "      <td>88.0</td>\n",
       "      <td>United States</td>\n",
       "      <td>Oakland High School</td>\n",
       "      <td>0</td>\n",
       "    </tr>\n",
       "    <tr>\n",
       "      <th>2</th>\n",
       "      <td>NBA</td>\n",
       "      <td>2019 - 2020</td>\n",
       "      <td>Regular_Season</td>\n",
       "      <td>Devin Booker</td>\n",
       "      <td>PHX</td>\n",
       "      <td>70</td>\n",
       "      <td>2511.8</td>\n",
       "      <td>627</td>\n",
       "      <td>1283</td>\n",
       "      <td>141</td>\n",
       "      <td>...</td>\n",
       "      <td>1996.0</td>\n",
       "      <td>Oct</td>\n",
       "      <td>Oct 30, 1996</td>\n",
       "      <td>06-Jun</td>\n",
       "      <td>198.0</td>\n",
       "      <td>206.0</td>\n",
       "      <td>93.0</td>\n",
       "      <td>United States</td>\n",
       "      <td>Moss Point High School</td>\n",
       "      <td>0</td>\n",
       "    </tr>\n",
       "    <tr>\n",
       "      <th>3</th>\n",
       "      <td>NBA</td>\n",
       "      <td>2019 - 2020</td>\n",
       "      <td>Regular_Season</td>\n",
       "      <td>Giannis Antetokounmpo</td>\n",
       "      <td>MIL</td>\n",
       "      <td>63</td>\n",
       "      <td>1916.9</td>\n",
       "      <td>685</td>\n",
       "      <td>1238</td>\n",
       "      <td>89</td>\n",
       "      <td>...</td>\n",
       "      <td>1994.0</td>\n",
       "      <td>Dec</td>\n",
       "      <td>Dec 6, 1994</td>\n",
       "      <td>06-Nov</td>\n",
       "      <td>211.0</td>\n",
       "      <td>242.0</td>\n",
       "      <td>110.0</td>\n",
       "      <td>Greece / Nigeria</td>\n",
       "      <td>NaN</td>\n",
       "      <td>0</td>\n",
       "    </tr>\n",
       "    <tr>\n",
       "      <th>4</th>\n",
       "      <td>NBA</td>\n",
       "      <td>2019 - 2020</td>\n",
       "      <td>Regular_Season</td>\n",
       "      <td>Trae Young</td>\n",
       "      <td>ATL</td>\n",
       "      <td>60</td>\n",
       "      <td>2120.1</td>\n",
       "      <td>546</td>\n",
       "      <td>1249</td>\n",
       "      <td>205</td>\n",
       "      <td>...</td>\n",
       "      <td>1998.0</td>\n",
       "      <td>Sep</td>\n",
       "      <td>Sep 19, 1998</td>\n",
       "      <td>06-Feb</td>\n",
       "      <td>188.0</td>\n",
       "      <td>180.0</td>\n",
       "      <td>82.0</td>\n",
       "      <td>United States</td>\n",
       "      <td>Norman High School</td>\n",
       "      <td>0</td>\n",
       "    </tr>\n",
       "    <tr>\n",
       "      <th>...</th>\n",
       "      <td>...</td>\n",
       "      <td>...</td>\n",
       "      <td>...</td>\n",
       "      <td>...</td>\n",
       "      <td>...</td>\n",
       "      <td>...</td>\n",
       "      <td>...</td>\n",
       "      <td>...</td>\n",
       "      <td>...</td>\n",
       "      <td>...</td>\n",
       "      <td>...</td>\n",
       "      <td>...</td>\n",
       "      <td>...</td>\n",
       "      <td>...</td>\n",
       "      <td>...</td>\n",
       "      <td>...</td>\n",
       "      <td>...</td>\n",
       "      <td>...</td>\n",
       "      <td>...</td>\n",
       "      <td>...</td>\n",
       "      <td>...</td>\n",
       "    </tr>\n",
       "    <tr>\n",
       "      <th>53793</th>\n",
       "      <td>NBA</td>\n",
       "      <td>1999 - 2000</td>\n",
       "      <td>Playoffs</td>\n",
       "      <td>John Salley</td>\n",
       "      <td>LAL</td>\n",
       "      <td>18</td>\n",
       "      <td>78.0</td>\n",
       "      <td>5</td>\n",
       "      <td>13</td>\n",
       "      <td>0</td>\n",
       "      <td>...</td>\n",
       "      <td>1964.0</td>\n",
       "      <td>May</td>\n",
       "      <td>May 16, 1964</td>\n",
       "      <td>06-Nov</td>\n",
       "      <td>211.0</td>\n",
       "      <td>230.0</td>\n",
       "      <td>104.0</td>\n",
       "      <td>United States</td>\n",
       "      <td>Canarsie High School</td>\n",
       "      <td>1</td>\n",
       "    </tr>\n",
       "    <tr>\n",
       "      <th>53794</th>\n",
       "      <td>NBA</td>\n",
       "      <td>1999 - 2000</td>\n",
       "      <td>Playoffs</td>\n",
       "      <td>Muggsy Bogues</td>\n",
       "      <td>TOR</td>\n",
       "      <td>3</td>\n",
       "      <td>87.0</td>\n",
       "      <td>6</td>\n",
       "      <td>21</td>\n",
       "      <td>3</td>\n",
       "      <td>...</td>\n",
       "      <td>1965.0</td>\n",
       "      <td>Jan</td>\n",
       "      <td>Jan 9, 1965</td>\n",
       "      <td>05-Mar</td>\n",
       "      <td>160.0</td>\n",
       "      <td>136.0</td>\n",
       "      <td>62.0</td>\n",
       "      <td>United States</td>\n",
       "      <td>Dunbar High School</td>\n",
       "      <td>1</td>\n",
       "    </tr>\n",
       "    <tr>\n",
       "      <th>53795</th>\n",
       "      <td>NBA</td>\n",
       "      <td>1999 - 2000</td>\n",
       "      <td>Playoffs</td>\n",
       "      <td>Jerome Williams</td>\n",
       "      <td>DET</td>\n",
       "      <td>3</td>\n",
       "      <td>73.0</td>\n",
       "      <td>7</td>\n",
       "      <td>14</td>\n",
       "      <td>0</td>\n",
       "      <td>...</td>\n",
       "      <td>1973.0</td>\n",
       "      <td>May</td>\n",
       "      <td>May 10, 1973</td>\n",
       "      <td>06-Sep</td>\n",
       "      <td>206.0</td>\n",
       "      <td>206.0</td>\n",
       "      <td>93.0</td>\n",
       "      <td>United States</td>\n",
       "      <td>Magruder High School</td>\n",
       "      <td>1</td>\n",
       "    </tr>\n",
       "    <tr>\n",
       "      <th>53796</th>\n",
       "      <td>NBA</td>\n",
       "      <td>1999 - 2000</td>\n",
       "      <td>Playoffs</td>\n",
       "      <td>Randy Livingston</td>\n",
       "      <td>PHX</td>\n",
       "      <td>7</td>\n",
       "      <td>63.0</td>\n",
       "      <td>6</td>\n",
       "      <td>27</td>\n",
       "      <td>2</td>\n",
       "      <td>...</td>\n",
       "      <td>1975.0</td>\n",
       "      <td>Apr</td>\n",
       "      <td>Apr 2, 1975</td>\n",
       "      <td>06-Apr</td>\n",
       "      <td>193.0</td>\n",
       "      <td>209.0</td>\n",
       "      <td>95.0</td>\n",
       "      <td>United States</td>\n",
       "      <td>Isidore Newman School</td>\n",
       "      <td>1</td>\n",
       "    </tr>\n",
       "    <tr>\n",
       "      <th>53797</th>\n",
       "      <td>NBA</td>\n",
       "      <td>1999 - 2000</td>\n",
       "      <td>Playoffs</td>\n",
       "      <td>Doug Christie</td>\n",
       "      <td>TOR</td>\n",
       "      <td>3</td>\n",
       "      <td>61.0</td>\n",
       "      <td>3</td>\n",
       "      <td>13</td>\n",
       "      <td>3</td>\n",
       "      <td>...</td>\n",
       "      <td>1970.0</td>\n",
       "      <td>May</td>\n",
       "      <td>May 9, 1970</td>\n",
       "      <td>06-Jun</td>\n",
       "      <td>198.0</td>\n",
       "      <td>200.0</td>\n",
       "      <td>91.0</td>\n",
       "      <td>United States</td>\n",
       "      <td>Rainier Beach High School</td>\n",
       "      <td>1</td>\n",
       "    </tr>\n",
       "  </tbody>\n",
       "</table>\n",
       "<p>7490 rows × 32 columns</p>\n",
       "</div>"
      ],
      "text/plain": [
       "      League       Season           Stage                 Player Team  GP  \\\n",
       "0        NBA  2019 - 2020  Regular_Season           James Harden  HOU  68   \n",
       "1        NBA  2019 - 2020  Regular_Season         Damian Lillard  POR  66   \n",
       "2        NBA  2019 - 2020  Regular_Season           Devin Booker  PHX  70   \n",
       "3        NBA  2019 - 2020  Regular_Season  Giannis Antetokounmpo  MIL  63   \n",
       "4        NBA  2019 - 2020  Regular_Season             Trae Young  ATL  60   \n",
       "...      ...          ...             ...                    ...  ...  ..   \n",
       "53793    NBA  1999 - 2000        Playoffs            John Salley  LAL  18   \n",
       "53794    NBA  1999 - 2000        Playoffs          Muggsy Bogues  TOR   3   \n",
       "53795    NBA  1999 - 2000        Playoffs        Jerome Williams  DET   3   \n",
       "53796    NBA  1999 - 2000        Playoffs       Randy Livingston  PHX   7   \n",
       "53797    NBA  1999 - 2000        Playoffs          Doug Christie  TOR   3   \n",
       "\n",
       "          MIN  FGM   FGA  3PM  ...  birth_year  birth_month    birth_date  \\\n",
       "0      2482.6  672  1514  299  ...      1989.0          Aug  Aug 26, 1989   \n",
       "1      2473.7  624  1349  270  ...      1990.0          Jul  Jul 15, 1990   \n",
       "2      2511.8  627  1283  141  ...      1996.0          Oct  Oct 30, 1996   \n",
       "3      1916.9  685  1238   89  ...      1994.0          Dec   Dec 6, 1994   \n",
       "4      2120.1  546  1249  205  ...      1998.0          Sep  Sep 19, 1998   \n",
       "...       ...  ...   ...  ...  ...         ...          ...           ...   \n",
       "53793    78.0    5    13    0  ...      1964.0          May  May 16, 1964   \n",
       "53794    87.0    6    21    3  ...      1965.0          Jan   Jan 9, 1965   \n",
       "53795    73.0    7    14    0  ...      1973.0          May  May 10, 1973   \n",
       "53796    63.0    6    27    2  ...      1975.0          Apr   Apr 2, 1975   \n",
       "53797    61.0    3    13    3  ...      1970.0          May   May 9, 1970   \n",
       "\n",
       "       height  height_cm  weight  weight_kg       nationality  \\\n",
       "0      06-May      196.0   220.0      100.0     United States   \n",
       "1      06-Mar      191.0   195.0       88.0     United States   \n",
       "2      06-Jun      198.0   206.0       93.0     United States   \n",
       "3      06-Nov      211.0   242.0      110.0  Greece / Nigeria   \n",
       "4      06-Feb      188.0   180.0       82.0     United States   \n",
       "...       ...        ...     ...        ...               ...   \n",
       "53793  06-Nov      211.0   230.0      104.0     United States   \n",
       "53794  05-Mar      160.0   136.0       62.0     United States   \n",
       "53795  06-Sep      206.0   206.0       93.0     United States   \n",
       "53796  06-Apr      193.0   209.0       95.0     United States   \n",
       "53797  06-Jun      198.0   200.0       91.0     United States   \n",
       "\n",
       "                     high_school  PlayOffs  \n",
       "0            Artesia High School         0  \n",
       "1            Oakland High School         0  \n",
       "2         Moss Point High School         0  \n",
       "3                            NaN         0  \n",
       "4             Norman High School         0  \n",
       "...                          ...       ...  \n",
       "53793       Canarsie High School         1  \n",
       "53794        Dunbar High School          1  \n",
       "53795       Magruder High School         1  \n",
       "53796      Isidore Newman School         1  \n",
       "53797  Rainier Beach High School         1  \n",
       "\n",
       "[7490 rows x 32 columns]"
      ]
     },
     "execution_count": 26,
     "metadata": {},
     "output_type": "execute_result"
    }
   ],
   "source": [
    "nba['PlayOffs'] = 0                                 #genero columna 'PlayOffs' de ceros\n",
    "nba.loc[nba.Stage == 'Playoffs', 'PlayOffs'] = 1    #si en columna 'Stage' existe etiqueta Playoffs, coloca 1 en PlayOffs\n",
    "nba                                  "
   ]
  },
  {
   "cell_type": "code",
   "execution_count": 27,
   "metadata": {
    "id": "-y4BN-rf-_Vy",
    "outputId": "7d4bc9d1-5132-47d1-95e2-4cc9cdd23490"
   },
   "outputs": [
    {
     "data": {
      "text/plain": [
       "array([[<matplotlib.axes._subplots.AxesSubplot object at 0x7fd91e9500d0>,\n",
       "        <matplotlib.axes._subplots.AxesSubplot object at 0x7fd91ef0ce80>]],\n",
       "      dtype=object)"
      ]
     },
     "execution_count": 27,
     "metadata": {},
     "output_type": "execute_result"
    },
    {
     "data": {
      "image/png": "[encoded data removed]",
      "text/plain": [
       "<Figure size 432x288 with 2 Axes>"
      ]
     },
     "metadata": {
      "needs_background": "light"
     },
     "output_type": "display_data"
    },
    {
     "data": {
      "image/png": "[encoded data removed]",
      "text/plain": [
       "<Figure size 432x288 with 2 Axes>"
      ]
     },
     "metadata": {
      "needs_background": "light"
     },
     "output_type": "display_data"
    }
   ],
   "source": [
    "nba.reset_index().pivot('index','PlayOffs','height_cm').hist() #creo dos hist. altura en función de PlayOffs\n",
    "nba.reset_index().pivot('index','PlayOffs','weight_kg').hist() #creo dos hist. peso en función de PlayOffs\n",
    "\n",
    "#Respuesta:\n",
    "#El gráfico muestra la diferencia en la cantidad de jugadores que jugaron el playOff y lo que no. \n",
    "#En el eje ordenadas podemos ver que lo que no jugaron el playoff fueron más de 1400 y los que si por encima de 800.\n",
    "#Respecto a la diferencia de peso y altura entro los dos conjuntos, se ve similar.\n",
    "#En cambio el gráfico de los jugadores que recojen más rebotes nos muestra que son los de 2,10cm"
   ]
  },
  {
   "cell_type": "code",
   "execution_count": 28,
   "metadata": {},
   "outputs": [
    {
     "data": {
      "image/png": "[encoded data removed]",
      "text/plain": [
       "<Figure size 432x288 with 1 Axes>"
      ]
     },
     "metadata": {
      "needs_background": "light"
     },
     "output_type": "display_data"
    }
   ],
   "source": [
    "my_plot = nba.plot(\"height_cm\", \"REB\", kind=\"scatter\")\n",
    "plt.show() "
   ]
  },
  {
   "cell_type": "markdown",
   "metadata": {},
   "source": [
    "### SciPy - Ejercicio"
   ]
  },
  {
   "cell_type": "markdown",
   "metadata": {
    "id": "BnXKiEH4-_Vz"
   },
   "source": [
    "### Ejercicio 1\n",
    "\n",
    "Python es un lenguaje de programación muy utilizado en el procesamiento de imágenes. En este ejercicio trabajaremos con una imagen de un mapache (*racoon*), en color y en blanco y negro.\n",
    "\n",
    "- Carga y muestra las imágenes `racoon.png` y `racoonBW.png` que se encuentran en la carpeta `data`. Qué tamaño tiene cada una? Razona la respuesta. **(0.25 puntos)**\n",
    "- Aplica un filtro gaussiano con tamaño de kernel 3 y 5 a la imagen en blanco y negro. ¿Qué diferencia ves? Y si aplicas un filtro de mediana? Razona la respuesta. **(0.25 puntos)**\n",
    "\n",
    "**Nota 1**: Explorad la opción *cmap* de la función `imshow ()` para ver la imagen en blanco y negro.\n",
    "\n",
    "**Nota 2**: En el notebook de teoría hemos visto el filtro gaussiano (*gaussian_filter*). En este ejercicio también debemos aplicar el [filtro de mediana](https://docs.scipy.org/doc/scipy/reference/generated/scipy.ndimage.median_filter.html) de la librería scipy."
   ]
  },
  {
   "cell_type": "code",
   "execution_count": 29,
   "metadata": {
    "id": "7ycqPfov-_Vz"
   },
   "outputs": [
    {
     "name": "stdout",
     "output_type": "stream",
     "text": [
      "- Dimensiones de la imagen:\n",
      "(768, 1024)\n",
      "(768, 1024, 3) Esto muestra que foto2 es una imagen de 768 por 1024 píxeles con 3 canales (rojo, verde y azul)\n",
      "\n",
      "[[0.44705883 0.50980395 0.5686275  ... 0.46666667 0.5058824  0.5372549 ]\n",
      " [0.3254902  0.40784314 0.48235294 ... 0.4627451  0.5254902  0.57254905]\n",
      " [0.26666668 0.34509805 0.42745098 ... 0.46666667 0.5254902  0.5686275 ]\n",
      " ...\n",
      " [0.38431373 0.40392157 0.45490196 ... 0.5647059  0.56078434 0.56078434]\n",
      " [0.36862746 0.40784314 0.47058824 ... 0.56078434 0.5568628  0.5568628 ]\n",
      " [0.36862746 0.41568628 0.46666667 ... 0.5568628  0.5529412  0.54901963]]\n"
     ]
    }
   ],
   "source": [
    "# Respuesta\n",
    "import matplotlib.image as mpimg\n",
    "\n",
    "\n",
    "foto1 = mpimg.imread('/Users/alexjust/Downloads/racoon_BW.png')\n",
    "foto2 = mpimg.imread('/Users/alexjust/Downloads/racoon.png')\n",
    "\n",
    "print(\"- Dimensiones de la imagen:\")\n",
    "print(foto1.shape)\n",
    "print(foto2.shape, \"Esto muestra que foto2 es una imagen de 768 por 1024 píxeles con 3 canales (rojo, verde y azul)\\n\")\n",
    "print(foto1) #El tamaño de la imagen es el número de filas (768) por el número de columnas (1024)"
   ]
  },
  {
   "cell_type": "code",
   "execution_count": 30,
   "metadata": {},
   "outputs": [
    {
     "data": {
      "image/png": "[encoded data removed]",
      "text/plain": [
       "<Figure size 432x288 with 2 Axes>"
      ]
     },
     "metadata": {
      "needs_background": "light"
     },
     "output_type": "display_data"
    }
   ],
   "source": [
    "from scipy.ndimage import gaussian_filter\n",
    "import scipy\n",
    "\n",
    "fig = plt.figure()\n",
    "ax1 = fig.add_subplot(121)   # left side\n",
    "ax2 = fig.add_subplot(122)   # right side\n",
    "\n",
    "ax1.imshow(gaussian_filter(foto1, sigma=2)) \n",
    "ax2.imshow(gaussian_filter(foto1, sigma=5))\n",
    "\n",
    "plt.show()\n",
    "\n",
    "#Augmentando el número de iteraciones en el nucleo el filtrado gaussiano es más fuerte\n",
    "#https://docs.scipy.org/doc/scipy/reference/ndimage.html"
   ]
  },
  {
   "cell_type": "code",
   "execution_count": 39,
   "metadata": {},
   "outputs": [
    {
     "data": {
      "image/png": "[encoded data removed]",
      "text/plain": [
       "<Figure size 432x288 with 2 Axes>"
      ]
     },
     "metadata": {
      "needs_background": "light"
     },
     "output_type": "display_data"
    }
   ],
   "source": [
    "#Un filtro de mediana conserva mejor los bordes\n",
    "\n",
    "from scipy import ndimage, misc\n",
    "import matplotlib.pyplot as plt\n",
    "\n",
    "fig = plt.figure()\n",
    "ax1 = fig.add_subplot(121)  \n",
    "ax2 = fig.add_subplot(122)  \n",
    "\n",
    "foto1_madiana = ndimage.median_filter(foto1, size=7)\n",
    "\n",
    "ax1.imshow(foto1)\n",
    "ax2.imshow(foto1_madiana)\n",
    "\n",
    "plt.show()\n"
   ]
  },
  {
   "cell_type": "markdown",
   "metadata": {
    "id": "y5x4qBfk-_V2"
   },
   "source": [
    "### Ejercicio Opcional\n",
    "\n",
    "En este ejercicio queremos comparar la liga regular de NBA y la ACB en la temporada 2018-2019. Genera y muestra un gráfico de barras con el número de jugadores de cada nacionalidad de ambas ligas. <span style=\"font-family: Courier New; background-color: #f2ae72; color: #000000; padding: 3px; \">EI</span> \n",
    "\n",
    "\n",
    "Consideraciones:\n",
    "\n",
    "- Hay casos de jugadores con doble nacionalidad. Para facilitar la visualización, considera sólo **la primera nacionalidad**.\n",
    "- Muestra los dos grupos (NBA regular y ACB) en gráficos separados.\n",
    "- Debes mostrar los datos de manera horizontal (barras horizontales).\n",
    "- El eje de las Y debe incluir las etiquetas de las nacionalidades.\n",
    "- Debes incluir un texto con el número de jugadores cada categoría del gráfico. El texto debería estar situado a la derecha de cada barra.\n",
    "\n",
    "**Nota 1**: Para considerar sólo una nacionalidad debéis hacer alguna modificación del texto. Consultad la siguiente página para más [información](https://www.w3schools.com/python/ref_string_split.asp) \n",
    "\n",
    "**Nota 2**: En el Notebook de teoría hemos visto cómo mostrar gráficos lineares simples con el matplotlib. Para este ejercicio explorad las funcionalidades que presenta la librería pandas para generar gráficos a partir de dataframes. También pueden ser de utilidad las funciones [text](https://matplotlib.org/3.1.1/api/_as_gen/matplotlib.pyplot.text.html) o [annotate](https://matplotlib.org/3.1.1/api/_as_gen/matplotlib.pyplot.annotate.html) para mostrar el número de nacionalidades."
   ]
  },
  {
   "cell_type": "code",
   "execution_count": 40,
   "metadata": {},
   "outputs": [
    {
     "name": "stdout",
     "output_type": "stream",
     "text": [
      "Este es el top 10 de nacionalidades en la NBA\n"
     ]
    },
    {
     "data": {
      "text/html": [
       "<div>\n",
       "<style scoped>\n",
       "    .dataframe tbody tr th:only-of-type {\n",
       "        vertical-align: middle;\n",
       "    }\n",
       "\n",
       "    .dataframe tbody tr th {\n",
       "        vertical-align: top;\n",
       "    }\n",
       "\n",
       "    .dataframe thead th {\n",
       "        text-align: right;\n",
       "    }\n",
       "</style>\n",
       "<table border=\"1\" class=\"dataframe\">\n",
       "  <thead>\n",
       "    <tr style=\"text-align: right;\">\n",
       "      <th></th>\n",
       "      <th>index</th>\n",
       "      <th>count</th>\n",
       "      <th>freq</th>\n",
       "    </tr>\n",
       "  </thead>\n",
       "  <tbody>\n",
       "    <tr>\n",
       "      <th>0</th>\n",
       "      <td>United States</td>\n",
       "      <td>5965</td>\n",
       "      <td>5965</td>\n",
       "    </tr>\n",
       "    <tr>\n",
       "      <th>1</th>\n",
       "      <td>United States</td>\n",
       "      <td>139</td>\n",
       "      <td>139</td>\n",
       "    </tr>\n",
       "    <tr>\n",
       "      <th>2</th>\n",
       "      <td>France</td>\n",
       "      <td>129</td>\n",
       "      <td>129</td>\n",
       "    </tr>\n",
       "    <tr>\n",
       "      <th>3</th>\n",
       "      <td>Canada</td>\n",
       "      <td>90</td>\n",
       "      <td>90</td>\n",
       "    </tr>\n",
       "    <tr>\n",
       "      <th>4</th>\n",
       "      <td>Spain</td>\n",
       "      <td>79</td>\n",
       "      <td>79</td>\n",
       "    </tr>\n",
       "    <tr>\n",
       "      <th>5</th>\n",
       "      <td>Argentina</td>\n",
       "      <td>63</td>\n",
       "      <td>63</td>\n",
       "    </tr>\n",
       "    <tr>\n",
       "      <th>6</th>\n",
       "      <td>Brazil</td>\n",
       "      <td>60</td>\n",
       "      <td>60</td>\n",
       "    </tr>\n",
       "    <tr>\n",
       "      <th>7</th>\n",
       "      <td>Slovenia</td>\n",
       "      <td>59</td>\n",
       "      <td>59</td>\n",
       "    </tr>\n",
       "    <tr>\n",
       "      <th>8</th>\n",
       "      <td>Turkey</td>\n",
       "      <td>57</td>\n",
       "      <td>57</td>\n",
       "    </tr>\n",
       "    <tr>\n",
       "      <th>9</th>\n",
       "      <td>Serbia</td>\n",
       "      <td>56</td>\n",
       "      <td>56</td>\n",
       "    </tr>\n",
       "  </tbody>\n",
       "</table>\n",
       "</div>"
      ],
      "text/plain": [
       "            index count  freq\n",
       "0   United States  5965  5965\n",
       "1  United States    139   139\n",
       "2          France   129   129\n",
       "3          Canada    90    90\n",
       "4           Spain    79    79\n",
       "5       Argentina    63    63\n",
       "6          Brazil    60    60\n",
       "7        Slovenia    59    59\n",
       "8          Turkey    57    57\n",
       "9          Serbia    56    56"
      ]
     },
     "execution_count": 40,
     "metadata": {},
     "output_type": "execute_result"
    }
   ],
   "source": [
    "nba = df[df['League'] == 'NBA']\n",
    "nba_nationality = nba.join(nba[\"nationality\"].str.split('/', 1, expand=True).rename(columns={0:'A', 1:'B'}))\n",
    "nba_nationality = nba_nationality.groupby(by = 'A')['A'].describe()\n",
    "nba_nationality = nba_nationality.sort_values(by = 'count', ascending = False)\n",
    "nba_nationality = nba_nationality.rename_axis('index').reset_index()           #añado indice numérico\n",
    "nba_nationality = nba_nationality.drop(['unique','top'], axis = 1)             #elimino dos columnas para presentaciónfinal\n",
    "print('Este es el top 10 de nacionalidades en la NBA')\n",
    "nba_nationality[0:10]"
   ]
  },
  {
   "cell_type": "code",
   "execution_count": 41,
   "metadata": {},
   "outputs": [
    {
     "name": "stdout",
     "output_type": "stream",
     "text": [
      "Este es el top 10 de nacionalidades en la ACB\n"
     ]
    },
    {
     "data": {
      "text/html": [
       "<div>\n",
       "<style scoped>\n",
       "    .dataframe tbody tr th:only-of-type {\n",
       "        vertical-align: middle;\n",
       "    }\n",
       "\n",
       "    .dataframe tbody tr th {\n",
       "        vertical-align: top;\n",
       "    }\n",
       "\n",
       "    .dataframe thead th {\n",
       "        text-align: right;\n",
       "    }\n",
       "</style>\n",
       "<table border=\"1\" class=\"dataframe\">\n",
       "  <thead>\n",
       "    <tr style=\"text-align: right;\">\n",
       "      <th></th>\n",
       "      <th>index</th>\n",
       "      <th>count</th>\n",
       "      <th>freq</th>\n",
       "    </tr>\n",
       "  </thead>\n",
       "  <tbody>\n",
       "    <tr>\n",
       "      <th>0</th>\n",
       "      <td>Spain</td>\n",
       "      <td>735</td>\n",
       "      <td>735</td>\n",
       "    </tr>\n",
       "    <tr>\n",
       "      <th>1</th>\n",
       "      <td>United States</td>\n",
       "      <td>413</td>\n",
       "      <td>413</td>\n",
       "    </tr>\n",
       "    <tr>\n",
       "      <th>2</th>\n",
       "      <td>United States</td>\n",
       "      <td>140</td>\n",
       "      <td>140</td>\n",
       "    </tr>\n",
       "    <tr>\n",
       "      <th>3</th>\n",
       "      <td>Argentina</td>\n",
       "      <td>90</td>\n",
       "      <td>90</td>\n",
       "    </tr>\n",
       "    <tr>\n",
       "      <th>4</th>\n",
       "      <td>Serbia</td>\n",
       "      <td>89</td>\n",
       "      <td>89</td>\n",
       "    </tr>\n",
       "    <tr>\n",
       "      <th>5</th>\n",
       "      <td>France</td>\n",
       "      <td>76</td>\n",
       "      <td>76</td>\n",
       "    </tr>\n",
       "    <tr>\n",
       "      <th>6</th>\n",
       "      <td>Croatia</td>\n",
       "      <td>58</td>\n",
       "      <td>58</td>\n",
       "    </tr>\n",
       "    <tr>\n",
       "      <th>7</th>\n",
       "      <td>Lithuania</td>\n",
       "      <td>42</td>\n",
       "      <td>42</td>\n",
       "    </tr>\n",
       "    <tr>\n",
       "      <th>8</th>\n",
       "      <td>Brazil</td>\n",
       "      <td>42</td>\n",
       "      <td>42</td>\n",
       "    </tr>\n",
       "    <tr>\n",
       "      <th>9</th>\n",
       "      <td>Greece</td>\n",
       "      <td>37</td>\n",
       "      <td>37</td>\n",
       "    </tr>\n",
       "  </tbody>\n",
       "</table>\n",
       "</div>"
      ],
      "text/plain": [
       "            index count freq\n",
       "0           Spain   735  735\n",
       "1   United States   413  413\n",
       "2  United States    140  140\n",
       "3       Argentina    90   90\n",
       "4          Serbia    89   89\n",
       "5          France    76   76\n",
       "6         Croatia    58   58\n",
       "7       Lithuania    42   42\n",
       "8          Brazil    42   42\n",
       "9          Greece    37   37"
      ]
     },
     "execution_count": 41,
     "metadata": {},
     "output_type": "execute_result"
    }
   ],
   "source": [
    "acb = df[df['League'] == 'Spanish-ACB']\n",
    "acb_nationality = acb.join(acb[\"nationality\"].str.split('/', 1, expand=True).rename(columns={0:'A', 1:'B'}))\n",
    "acb_nationality = acb_nationality.groupby(by = 'A')['A'].describe()\n",
    "acb_nationality = acb_nationality.sort_values(by = 'count', ascending = False)\n",
    "acb_nationality = acb_nationality.rename_axis('index').reset_index()           #añado indice numérico\n",
    "acb_nationality = acb_nationality.drop(['unique','top'], axis = 1)             #elimino dos columnas para presentación final\n",
    "print('Este es el top 10 de nacionalidades en la ACB')\n",
    "acb_nationality[0:10]"
   ]
  },
  {
   "cell_type": "code",
   "execution_count": 42,
   "metadata": {},
   "outputs": [],
   "source": [
    "count_nba = nba_nationality['count']\n",
    "y_nba = nba_nationality['index']"
   ]
  },
  {
   "cell_type": "code",
   "execution_count": 44,
   "metadata": {},
   "outputs": [
    {
     "data": {
      "image/png": "[encoded data removed]",
      "text/plain": [
       "<Figure size 432x288 with 1 Axes>"
      ]
     },
     "metadata": {
      "needs_background": "light"
     },
     "output_type": "display_data"
    }
   ],
   "source": [
    "import os\n",
    "\n",
    "fig, ax = plt.subplots()    \n",
    "width = 0.75 # the width of the bars \n",
    "ind = np.arange(len(count_nba))  # the x locations for the groups\n",
    "ax.barh(ind, count_nba, width, color=\"blue\")\n",
    "ax.set_yticks(ind+width/2)\n",
    "ax.set_yticklabels(y_nba, minor=False)\n",
    "plt.title('Nacionalidades en la NBA')\n",
    "plt.xlabel('Cantidad jugadores')\n",
    "plt.ylabel('')      \n",
    "plt.savefig(os.path.join('test.png'), dpi=300, format='png', bbox_inches='tight') \n",
    "# use format='svg' or 'pdf' for vectorial pictures\n",
    "for i, v in enumerate(count_nba):\n",
    "    ax.text(v + 3, i + .25, str(v), color='blue', fontweight='bold')"
   ]
  },
  {
   "cell_type": "code",
   "execution_count": 45,
   "metadata": {},
   "outputs": [
    {
     "data": {
      "image/png": "[encoded data removed]",
      "text/plain": [
       "<Figure size 432x288 with 1 Axes>"
      ]
     },
     "metadata": {
      "needs_background": "light"
     },
     "output_type": "display_data"
    }
   ],
   "source": [
    "import os\n",
    "\n",
    "count_acb = acb_nationality['count']\n",
    "y_acb = acb_nationality['index']\n",
    "\n",
    "fig, ax = plt.subplots()    \n",
    "width = 0.75 # Tamaño de las barras\n",
    "ind = np.arange(len(count_acb))  # la x colocacion para los grupos\n",
    "ax.barh(ind, count_acb, width, color=\"blue\")\n",
    "ax.set_yticks(ind + width/2)\n",
    "ax.set_yticklabels(y_acb, minor=False)\n",
    "plt.title('Nacionalidades en la ACB')\n",
    "plt.xlabel('Cantidad jugadores')\n",
    "plt.ylabel('')      \n",
    "plt.savefig(os.path.join('test.png'), dpi=300, format='png', bbox_inches='tight') # use format='svg' or 'pdf' for vectorial pictures\n",
    "for i, v in enumerate(count_nba):\n",
    "    ax.text(v + 3, i + .25, str(v), color='blue', fontweight='bold')"
   ]
  },
  {
   "cell_type": "code",
   "execution_count": null,
   "metadata": {},
   "outputs": [],
   "source": [
    "# El ejercicio está solucionado, pero cláramente tengo un problemna de presentación con los tamaños,\n",
    "#no sé como modificarlo y no tengo más tiempo para investigar, tengo un valor muy a la derecha que distorsiona todo\n",
    "# y devería dar más amplitud a los gráficos\n",
    "#Tampoco he tenido más tiempo para más comentarios en este último ejercicio."
   ]
  }
 ],
 "metadata": {
  "colab": {
   "collapsed_sections": [],
   "name": "Copia de UOC_datasci_4_scilib_entrega.ipynb",
   "provenance": [
    {
     "file_id": "1xOUtvkkaApNM5z1LYy6apGgd4LzsLIQZ",
     "timestamp": 1605531785175
    }
   ]
  },
  "kernelspec": {
   "display_name": "Python 3",
   "language": "python",
   "name": "python3"
  },
  "language_info": {
   "codemirror_mode": {
    "name": "ipython",
    "version": 3
   },
   "file_extension": ".py",
   "mimetype": "text/x-python",
   "name": "python",
   "nbconvert_exporter": "python",
   "pygments_lexer": "ipython3",
   "version": "3.8.8"
  }
 },
 "nbformat": 4,
 "nbformat_minor": 4
}
