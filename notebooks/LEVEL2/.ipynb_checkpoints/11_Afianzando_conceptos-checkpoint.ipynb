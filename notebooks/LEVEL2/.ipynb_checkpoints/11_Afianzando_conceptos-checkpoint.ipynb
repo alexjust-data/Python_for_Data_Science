{
 "cells": [
  {
   "cell_type": "markdown",
   "metadata": {},
   "source": [
    "<div style=\"float: right; width: 50%;\">\n",
    "    <p style=\"margin: 0; text-align:right;\">Python en Ciencia de Datos Aplicada</p>\n",
    "    <p style=\"margin: 0; text-align:right; padding-button: 100px;\">Afianzando conceptos</p>\n",
    "</div>\n",
    "\n",
    "</div>\n",
    "<div style=\"width: 100%; clear: both;\">\n",
    "<div style=\"width:100%;\">&nbsp;</div>"
   ]
  },
  {
   "cell_type": "markdown",
   "metadata": {},
   "source": [
    "# Afianzando conceptos\n",
    "---\n",
    "\n",
    "## Estructuras para almacenar colección de valores\n",
    "Cada una de estas estructuras tiene unas propiedades diferentes y, por tanto, será útil para solucionar diferentes problemas.\n",
    "\n",
    "### Listas\n",
    "Una lista en Python es una colección ordenada de valores, posiblemente heterogéneos. Se pueden modificar (son mutables), y permiten almacenar elementos duplicados.  \n",
    "  \n",
    "Los elementos de una lista se encuentran ordenados, de tal manera que el primer elemento se encuentra indexado con el 0, el segundo con el 1, etc. El último elemento de la lista es pues indexado como el número de elementos de la lista menos uno (n-1)."
   ]
  },
  {
   "cell_type": "code",
   "execution_count": 9,
   "metadata": {},
   "outputs": [
    {
     "name": "stdout",
     "output_type": "stream",
     "text": [
      "The list is: \n",
      " \t [1, 1, 3.5, 'strings also', [None, 4]]\n"
     ]
    }
   ],
   "source": [
    "# PUEDEN SER HETEROGENEAS Y TENER DUPLICADOS\n",
    "a_list = [1, 1, 3.5, \"strings also\", [None, 4]]\n",
    "\n",
    "print(\"The list is: \\n \\t {}\" .format(a_list))"
   ]
  },
  {
   "cell_type": "code",
   "execution_count": 10,
   "metadata": {},
   "outputs": [
    {
     "name": "stdout",
     "output_type": "stream",
     "text": [
      "After appending 5 and removing 3.5:\n",
      "\t[1, 1, 'strings also', [None, 4], 5]\n"
     ]
    }
   ],
   "source": [
    "# SON MUTABLES Y ORDENADAS\n",
    "a_list.append(5)             # añado un cinco en la última posición\n",
    "a_list.remove(3.5)           # elimino el 3.5\n",
    "print(\"After appending 5 and removing 3.5:\\n\\t{}\".format(a_list))"
   ]
  },
  {
   "cell_type": "markdown",
   "metadata": {},
   "source": [
    "---\n",
    "Hacemos un repaso rápido a los métodos implementados para las listas.  \n",
    "Todos los métodos aquí: https://docs.python.org/3/tutorial/datastructures.html#more-on-lists.   \n",
    "\n",
    "* __`append`__ : añadir elementos al final de un lista. \n",
    "* __`insert`__ : añadir elmentos en cualquier posición.  \n",
    "* __`pop`__ : eliminar un elemento de una lista a partir de su posición \n",
    "* __`remove`__ : eliminar un elemento de una lista a partir de su valor  \n",
    "(remove elimina el primer elemento de la lista que coincide con el valor especificado). \n",
    "* __`extend`__ : dos listas se pueden concatenar o bien con el operador de `suma +` ."
   ]
  },
  {
   "cell_type": "code",
   "execution_count": 11,
   "metadata": {},
   "outputs": [
    {
     "name": "stdout",
     "output_type": "stream",
     "text": [
      "After appending 41:\n",
      "\t[1, 1, 'strings also', [None, 4], 5, 41]\n"
     ]
    }
   ],
   "source": [
    "# Añadimos un elemento al final de la lista\n",
    "a_list.append(41)\n",
    "print(\"After appending 41:\\n\\t{}\".format(a_list))"
   ]
  },
  {
   "cell_type": "code",
   "execution_count": 12,
   "metadata": {},
   "outputs": [
    {
     "name": "stdout",
     "output_type": "stream",
     "text": [
      "After inserting -1:\n",
      "\t[-1, 1, 1, 'strings also', [None, 4], 5, 41]\n"
     ]
    }
   ],
   "source": [
    "# Añadimos un elemento al inicio de la lista\n",
    "a_list.insert(0, -1)\n",
    "print(\"After inserting -1:\\n\\t{}\".format(a_list))"
   ]
  },
  {
   "cell_type": "code",
   "execution_count": 13,
   "metadata": {},
   "outputs": [
    {
     "name": "stdout",
     "output_type": "stream",
     "text": [
      "After removing the first element:\n",
      "\t[1, 1, 'strings also', [None, 4], 5, 41]\n"
     ]
    }
   ],
   "source": [
    "# Eliminamos el primer elemento\n",
    "a_list.pop(0)\n",
    "print(\"After removing the first element:\\n\\t{}\".format(a_list))"
   ]
  },
  {
   "cell_type": "code",
   "execution_count": 14,
   "metadata": {},
   "outputs": [
    {
     "name": "stdout",
     "output_type": "stream",
     "text": [
      "After removing 'strings also':\n",
      "\t[1, 1, [None, 4], 5, 41]\n"
     ]
    }
   ],
   "source": [
    "# Eliminamos el elemento \"strings also\"\n",
    "a_list.remove(\"strings also\")\n",
    "print(\"After removing 'strings also':\\n\\t{}\".format(a_list))"
   ]
  },
  {
   "cell_type": "code",
   "execution_count": 15,
   "metadata": {},
   "outputs": [
    {
     "name": "stdout",
     "output_type": "stream",
     "text": [
      "After duplicating the list:\n",
      "\t[1, 1, [None, 4], 5, 41, 1, 1, [None, 4], 5, 41]\n"
     ]
    }
   ],
   "source": [
    "# Concatena la lista con ella misma\n",
    "a_list = a_list + a_list\n",
    "print(\"After duplicating the list:\\n\\t{}\".format(a_list))"
   ]
  },
  {
   "cell_type": "markdown",
   "metadata": {},
   "source": [
    "---\n",
    "* `ìndex` : podemos recuperar la posición del elemento de una lista que tiene un cierto valor\n",
    "* `count` : contar el número de veces que aparece un determinado elemento."
   ]
  },
  {
   "cell_type": "code",
   "execution_count": 16,
   "metadata": {},
   "outputs": [
    {
     "name": "stdout",
     "output_type": "stream",
     "text": [
      "First 5 is in position:\n",
      "\t3\n"
     ]
    }
   ],
   "source": [
    "# Recuperamos el índice de la primera aparición del valor 5\n",
    "i = a_list.index(5)\n",
    "print(\"First 5 is in position:\\n\\t{}\".format(i))"
   ]
  },
  {
   "cell_type": "code",
   "execution_count": 17,
   "metadata": {},
   "outputs": [
    {
     "name": "stdout",
     "output_type": "stream",
     "text": [
      "The number of 1s is:\n",
      "\t4\n"
     ]
    }
   ],
   "source": [
    "# Contamos el número de veces que el valor 1 aparece en la lista\n",
    "c = a_list.count(1)\n",
    "print(\"The number of 1s is:\\n\\t{}\".format(c))"
   ]
  },
  {
   "cell_type": "markdown",
   "metadata": {},
   "source": [
    "#### List slicing\n",
    "La técnica de __list slicing__ nos permite acceder a subconjuntos de elementos de una lista de manera sencilla y compacta.  \n",
    "La sintaxis completa de __list slicing__ consta del nombre de la variable que contiene la lista, seguida de\n",
    "[X:Y:Z] , donde \n",
    "* X representa el inicio del fragmento que queremos recuperar, \n",
    "* Y el final del fragmento y \n",
    "* Z el paso o granularidad del fragmento:"
   ]
  },
  {
   "cell_type": "code",
   "execution_count": 18,
   "metadata": {},
   "outputs": [
    {
     "name": "stdout",
     "output_type": "stream",
     "text": [
      "['A', 'B', 'C', 'D', 'E', 'F']\n"
     ]
    }
   ],
   "source": [
    "a_list = [\"A\", \"B\", \"C\", \"D\", \"E\", \"F\"] \n",
    "print(a_list)"
   ]
  },
  {
   "cell_type": "code",
   "execution_count": 19,
   "metadata": {},
   "outputs": [
    {
     "name": "stdout",
     "output_type": "stream",
     "text": [
      "['A', 'B', 'C']\n"
     ]
    }
   ],
   "source": [
    "# Mostramos los elementos en las posiciones de 0 a 2, saltando de uno en uno\n",
    "print(a_list[0:3:1])"
   ]
  },
  {
   "cell_type": "code",
   "execution_count": 20,
   "metadata": {},
   "outputs": [
    {
     "name": "stdout",
     "output_type": "stream",
     "text": [
      "['C', 'D', 'E']\n"
     ]
    }
   ],
   "source": [
    "# Mostramos los elementos en las posiciones de 2 a 4, saltando de uno en uno \n",
    "print(a_list[2:5:1])"
   ]
  },
  {
   "cell_type": "code",
   "execution_count": 21,
   "metadata": {},
   "outputs": [
    {
     "name": "stdout",
     "output_type": "stream",
     "text": [
      "['A', 'C', 'E']\n"
     ]
    }
   ],
   "source": [
    "# Mostramos los elementos en las posiciones de 0 a 4, saltando de dos en dos \n",
    "print(a_list[0:5:2])"
   ]
  },
  {
   "cell_type": "markdown",
   "metadata": {},
   "source": [
    "---\n",
    "Python permite omitir algunos de los valores en la especificación del slicing.  \n",
    "Así, si se omite el inicio o el final del fragmento, se interpreta que seleccionamos el inicio de la lista o el final de la lista.  \n",
    "Del mismo modo, si omitimos el paso se interpreta que este es 1:"
   ]
  },
  {
   "cell_type": "code",
   "execution_count": 22,
   "metadata": {},
   "outputs": [
    {
     "name": "stdout",
     "output_type": "stream",
     "text": [
      "['C', 'D', 'E']\n"
     ]
    }
   ],
   "source": [
    "# Omitimos el paso: mostramos los elementos en las posiciones de 2 a 4, \n",
    "# saltando de uno en uno\n",
    "print(a_list[2:5])"
   ]
  },
  {
   "cell_type": "code",
   "execution_count": 23,
   "metadata": {},
   "outputs": [
    {
     "name": "stdout",
     "output_type": "stream",
     "text": [
      "['A', 'B', 'C']\n"
     ]
    }
   ],
   "source": [
    "# Omitimos el inicio y el paso: mostramos los elementos desde el inicio hasta \n",
    "# la posición 2, saltando de uno en uno\n",
    "print(a_list[:3])"
   ]
  },
  {
   "cell_type": "code",
   "execution_count": 24,
   "metadata": {},
   "outputs": [
    {
     "name": "stdout",
     "output_type": "stream",
     "text": [
      "['A', 'C', 'E']\n"
     ]
    }
   ],
   "source": [
    "# Omitimos el inicio y el final: mostramos todos los elementos, \n",
    "# saltando de dos en dos\n",
    "print(a_list[::2])"
   ]
  },
  {
   "cell_type": "markdown",
   "metadata": {},
   "source": [
    "---\n",
    "Como último apunte, es interesante notar que podemos utilizar valores negativos en los índices. Así, por ejemplo, si queremos recorrer una lista en orden inverso, podemos hacerlo usando un paso de -1 :"
   ]
  },
  {
   "cell_type": "code",
   "execution_count": 25,
   "metadata": {},
   "outputs": [
    {
     "name": "stdout",
     "output_type": "stream",
     "text": [
      "['F', 'E', 'D', 'C', 'B', 'A']\n"
     ]
    }
   ],
   "source": [
    " print(a_list[::-1])"
   ]
  },
  {
   "cell_type": "markdown",
   "metadata": {},
   "source": [
    "#### List comprehensions\n",
    "\n",
    "Una de las funcionalidades más usadas de las listas son las __list comprehensions__, que permiten crear listas con expresiones muy concisas. Con las __list comprehensions__ se pueden crear nuevas listas a partir de una (o varias) listas originales, operando sobre los valores originales y/o filtrándolos.  \n",
    "La sintaxis de una list comprehension consta de unos corchetes (que definen la lista), que contienen al menos una cláusula for y que pueden tener también cláusulas if:"
   ]
  },
  {
   "cell_type": "code",
   "execution_count": 27,
   "metadata": {},
   "outputs": [
    {
     "name": "stdout",
     "output_type": "stream",
     "text": [
      "[0, 1, 2, 3, 4, 5, 6, 7, 8, 9]\n"
     ]
    }
   ],
   "source": [
    "nums = range(10) \n",
    "print(list(nums))"
   ]
  },
  {
   "cell_type": "code",
   "execution_count": 28,
   "metadata": {},
   "outputs": [
    {
     "name": "stdout",
     "output_type": "stream",
     "text": [
      "[3, 4, 5, 6, 7, 8, 9, 10, 11, 12]\n"
     ]
    }
   ],
   "source": [
    "# Sintaxis básica con un solo for\n",
    "nums_plus_3 = [n + 3 for n in nums] \n",
    "print(nums_plus_3)"
   ]
  },
  {
   "cell_type": "markdown",
   "metadata": {},
   "source": [
    "Genera una nueva lista que contiene los números de la lista original sumando tres a cada valor. Fijaos cómo, con este tipo de expresiones, podemos obtener listas de la misma longitud que las listas originales, pero que contienen el resultado de aplicar una función a los valores originales. Veamos algunos ejemplos más:"
   ]
  },
  {
   "cell_type": "code",
   "execution_count": 30,
   "metadata": {},
   "outputs": [
    {
     "name": "stdout",
     "output_type": "stream",
     "text": [
      "[0, 1, 4, 9, 16, 25, 36, 49, 64, 81]\n"
     ]
    }
   ],
   "source": [
    "# Creamos una lista con los cuadrados de la lista original\n",
    "nums_squared = [n**2 for n in nums] \n",
    "print(nums_squared)"
   ]
  },
  {
   "cell_type": "code",
   "execution_count": 31,
   "metadata": {},
   "outputs": [],
   "source": [
    "# Creamos una lista con los valores (i + 1) / (i - 1) para cada i de la # lista original\n",
    "def long_exp(i):\n",
    "    if i != 1:\n",
    "        r = (i + 1) / (i - 1)\n",
    "    else: \n",
    "        r=0\n",
    "    return r"
   ]
  },
  {
   "cell_type": "code",
   "execution_count": 32,
   "metadata": {},
   "outputs": [
    {
     "name": "stdout",
     "output_type": "stream",
     "text": [
      "[-1.0, 0, 3.0, 2.0, 1.6666666666666667, 1.5, 1.4, 1.3333333333333333, 1.2857142857142858, 1.25]\n"
     ]
    }
   ],
   "source": [
    "nums_f = [long_exp(n) for n in nums]\n",
    "print(nums_f)"
   ]
  },
  {
   "cell_type": "code",
   "execution_count": 34,
   "metadata": {},
   "outputs": [
    {
     "name": "stdout",
     "output_type": "stream",
     "text": [
      "['Num: 0', 'Num: 1', 'Num: 2', 'Num: 3', 'Num: 4', 'Num: 5', 'Num: 6', 'Num: 7', 'Num: 8', 'Num: 9']\n"
     ]
    }
   ],
   "source": [
    "# Creamos una lista con cadenas de caracteres \"Num: n\" para cada n de la \n",
    "# lista original\n",
    "nums_str = [\"Num: \" + str(n) for n in nums]\n",
    "print(nums_str)"
   ]
  },
  {
   "cell_type": "markdown",
   "metadata": {},
   "source": [
    "Tened en cuenta que una list comprehension puede evaluar una función (en el segundo ejemplo de la celda anterior, se evalúa la función `long_exp` para cada valor de la lista __nums__ ). Ahora bien, ¿podríamos obtener el mismo resultado sin definir la función long_exp ? Para hacerlo, podríamos usar una expresión __if__ en una sola línea para obtener el mismo resultado sin tener que definir la función long_exp :"
   ]
  },
  {
   "cell_type": "code",
   "execution_count": 37,
   "metadata": {},
   "outputs": [],
   "source": [
    "nums_f2 = [(n+1)/(n-1) if n != 1 else 0 for n in nums]"
   ]
  },
  {
   "cell_type": "markdown",
   "metadata": {},
   "source": [
    "Así pues, hemos utilizado la sintaxis compacta del if , reduciéndolo a una sola línea de código. Fijaos que hemos aprovechado que los siguientes dos bloques de código son equivalentes:\n"
   ]
  },
  {
   "cell_type": "code",
   "execution_count": null,
   "metadata": {},
   "outputs": [],
   "source": [
    "i=5\n",
    "\n",
    "# Bloque 1:\n",
    "if i != 1:\n",
    "    r = (i + 1) / (i - 1)\n",
    "else: \n",
    "    r=0    \n",
    "\n",
    "# Bloque 2:\n",
    "r = (i+1)/(i-1) if i != 1 else 0"
   ]
  },
  {
   "cell_type": "markdown",
   "metadata": {},
   "source": [
    "Es importante notar también que la lista que hemos creado, __nums_f2__ tiene tantos elementos como tenía la lista __nums__ sobre la que hemos iterado.\n",
    "\n",
    "Las list comprehension también pueden incluir condicionales que sirven para filtrar qué valores de la (o las) listas originales se consideran en la creación de la nueva lista. En estos casos, la lista resultante tendrá una longitud igual o menor a la de la lista original, en función del número de veces que se cumpla la condición del\n",
    "if:"
   ]
  },
  {
   "cell_type": "code",
   "execution_count": 38,
   "metadata": {},
   "outputs": [],
   "source": [
    "# Creamos una nueva lista que contiene únicamente \n",
    "# los valores pares de la lista nums\n",
    "nums_even = [n for n in nums if not n % 2] "
   ]
  },
  {
   "cell_type": "code",
   "execution_count": 39,
   "metadata": {},
   "outputs": [
    {
     "name": "stdout",
     "output_type": "stream",
     "text": [
      "nums:\t\t[0, 1, 2, 3, 4, 5, 6, 7, 8, 9]\n"
     ]
    }
   ],
   "source": [
    "print(\"nums:\\t\\t{}\".format(list(nums))) "
   ]
  },
  {
   "cell_type": "code",
   "execution_count": 40,
   "metadata": {},
   "outputs": [
    {
     "name": "stdout",
     "output_type": "stream",
     "text": [
      "nums_even:\t[0, 2, 4, 6, 8]\n"
     ]
    }
   ],
   "source": [
    "print(\"nums_even:\\t{}\".format(nums_even))"
   ]
  },
  {
   "cell_type": "code",
   "execution_count": 41,
   "metadata": {},
   "outputs": [
    {
     "name": "stdout",
     "output_type": "stream",
     "text": [
      "nums has 10 elements and nums_even has 5 elements\n",
      "\n"
     ]
    }
   ],
   "source": [
    "print(\"nums has {} elements and nums_even has {} elements\\n\".format(len(nums), len(nums_even)))"
   ]
  },
  {
   "cell_type": "code",
   "execution_count": 42,
   "metadata": {},
   "outputs": [],
   "source": [
    "# Creamos una nueva lista a partir de a_list que contiene solo elementos # que son enteros\n",
    "a_list_of_ints = [n for n in a_list if type(n) == int] "
   ]
  },
  {
   "cell_type": "code",
   "execution_count": 44,
   "metadata": {},
   "outputs": [
    {
     "name": "stdout",
     "output_type": "stream",
     "text": [
      "a_list:\t\t['A', 'B', 'C', 'D', 'E', 'F']\n"
     ]
    }
   ],
   "source": [
    "print(\"a_list:\\t\\t{}\".format(a_list)) "
   ]
  },
  {
   "cell_type": "code",
   "execution_count": 45,
   "metadata": {},
   "outputs": [
    {
     "name": "stdout",
     "output_type": "stream",
     "text": [
      "a_list_of_ints:\t[]\n"
     ]
    }
   ],
   "source": [
    "print(\"a_list_of_ints:\\t{}\".format(a_list_of_ints))"
   ]
  },
  {
   "cell_type": "code",
   "execution_count": 47,
   "metadata": {},
   "outputs": [
    {
     "name": "stdout",
     "output_type": "stream",
     "text": [
      "a_list has 6 elements and a_list_of_ints has 0 elements\n",
      "\n"
     ]
    }
   ],
   "source": [
    "print(\"a_list has {} elements and a_list_of_ints has {} elements\\n\".format(len(a_list), len(a_list_of_ints)))"
   ]
  },
  {
   "cell_type": "code",
   "execution_count": 48,
   "metadata": {},
   "outputs": [],
   "source": [
    "# Creamos una nueva lista a partir de una lista de números escritos en letras \n",
    "# que contiene los números tales que su expresión requiere más letras que el \n",
    "# propio número\n",
    "\n",
    "num_words = [\"zero\", \"one\", \"two\", \"three\", \"four\", \"five\", \"six\",\"seven\"]\n",
    "\n",
    "num_words_c = [w for i, w in enumerate(num_words) if len(w) > i] "
   ]
  },
  {
   "cell_type": "code",
   "execution_count": 50,
   "metadata": {},
   "outputs": [
    {
     "name": "stdout",
     "output_type": "stream",
     "text": [
      "num_words:\t['zero', 'one', 'two', 'three', 'four', 'five', 'six', 'seven']\n"
     ]
    }
   ],
   "source": [
    "print(\"num_words:\\t{}\".format(num_words)) "
   ]
  },
  {
   "cell_type": "code",
   "execution_count": 51,
   "metadata": {},
   "outputs": [
    {
     "name": "stdout",
     "output_type": "stream",
     "text": [
      "num_words_c:\t['zero', 'one', 'two', 'three']\n"
     ]
    }
   ],
   "source": [
    "print(\"num_words_c:\\t{}\".format(num_words_c))"
   ]
  },
  {
   "cell_type": "code",
   "execution_count": 52,
   "metadata": {},
   "outputs": [
    {
     "name": "stdout",
     "output_type": "stream",
     "text": [
      "a_list has 8 elements and num_words_c has 4 elements\n"
     ]
    }
   ],
   "source": [
    "print(\"a_list has {} elements and num_words_c has {} elements\".format(len(num_words), len(num_words_c)))"
   ]
  },
  {
   "cell_type": "markdown",
   "metadata": {},
   "source": [
    "En el último ejemplo de la celda anterior, hemos utilizado `enumerate` en combinación con la __list comprehension__ para generar el resultado deseado. La función `enumerate` aplicada sobre una lista devuelve otra lista de la misma longitud con tuplas de dos valores: el primer valor es el índice del elemento en la lista original, y el segundo valor es el elemento en cuestión:"
   ]
  },
  {
   "cell_type": "code",
   "execution_count": 53,
   "metadata": {},
   "outputs": [
    {
     "data": {
      "text/plain": [
       "[(0, 'one'), (1, 'two'), (2, 'three')]"
      ]
     },
     "execution_count": 53,
     "metadata": {},
     "output_type": "execute_result"
    }
   ],
   "source": [
    " # Observemos el resultado de enumerate\n",
    "list(enumerate(['one', 'two', 'three']))"
   ]
  },
  {
   "cell_type": "markdown",
   "metadata": {},
   "source": [
    "Así, en cada iteración, la variable __i__ contenía el índice del elemento y la variable __w__ contenía el elemento. La condición que hemos aplicado era cierta si el número de letras de la palabra ( `len(w)` ) era superior al índice (__i__).\n",
    "\n",
    "Las __list comprehension__ no se limitan a una sola expresión `for` . Podemos utilizar más de una para construir una lista a partir de valores de varios iterables:"
   ]
  },
  {
   "cell_type": "code",
   "execution_count": 54,
   "metadata": {},
   "outputs": [],
   "source": [
    "list_1 = [1, 2, 3] \n",
    "list_2 = [10, 100]"
   ]
  },
  {
   "cell_type": "code",
   "execution_count": 58,
   "metadata": {},
   "outputs": [
    {
     "name": "stdout",
     "output_type": "stream",
     "text": [
      "[(1, 10), (1, 100), (2, 10), (2, 100), (3, 10), (3, 100)]\n"
     ]
    }
   ],
   "source": [
    "# Creamos una lista de tuplas con las parejas de valores de list_1 y list_2\n",
    "list_pairs = [(l1, l2)  \n",
    "                  for l1 in list_1  \n",
    "                      for l2 in list_2]  \n",
    "print(list_pairs)"
   ]
  },
  {
   "cell_type": "code",
   "execution_count": 61,
   "metadata": {},
   "outputs": [
    {
     "name": "stdout",
     "output_type": "stream",
     "text": [
      "[11, 101, 12, 102, 13, 103]\n"
     ]
    }
   ],
   "source": [
    "# Creamos una lista sumando las posibles combinaciones de valores de list_1 y list_2\n",
    "lists_sum = [l1 + l2  \n",
    "                 for l1 in list_1  \n",
    "                     for l2 in list_2]  \n",
    "print(lists_sum)"
   ]
  },
  {
   "cell_type": "code",
   "execution_count": 62,
   "metadata": {},
   "outputs": [
    {
     "name": "stdout",
     "output_type": "stream",
     "text": [
      "['AAA', 'AAB', 'AAC', 'ABA', 'ABB', 'ABC', 'ACA', 'ACB', 'ACC', 'BAA', 'BAB', 'BAC', 'BBA', 'BBB', 'BBC', 'BCA', 'BCB', 'BCC', 'CAA', 'CAB', 'CAC', 'CBA', 'CBB', 'CBC', 'CCA', 'CCB', 'CCC']\n"
     ]
    }
   ],
   "source": [
    "# Creamos una lista de todas las palabras de 3 letras que se pueden hacer con las letras A, B y C\n",
    "abc = [\"A\", \"B\", \"C\"]\n",
    "\n",
    "lists_let = [l1 + l2 + l3  \n",
    "                 for l1 in abc  \n",
    "                     for l2 in abc  \n",
    "                         for l3 in abc]  \n",
    "print(lists_let)"
   ]
  },
  {
   "cell_type": "markdown",
   "metadata": {},
   "source": [
    "---\n",
    "Finalmente, veamos un último ejemplo que combina tanto múltiples __for__ como condiciones en una __list comprehension__:"
   ]
  },
  {
   "cell_type": "code",
   "execution_count": 63,
   "metadata": {},
   "outputs": [
    {
     "name": "stdout",
     "output_type": "stream",
     "text": [
      "['AAB', 'AAC', 'ABB', 'ABC', 'ACB', 'ACC', 'BAA', 'BAC', 'BBA', 'BBC', 'BCA', 'BCC', 'CAA', 'CAB', 'CBA', 'CBB', 'CCA', 'CCB']\n"
     ]
    }
   ],
   "source": [
    "lists_let = [l1 + l2 + l3\n",
    "                 for l1 in abc \n",
    "                     for l2 in abc \n",
    "                         for l3 in abc if l1 != l3] \n",
    "print(lists_let)"
   ]
  },
  {
   "cell_type": "markdown",
   "metadata": {},
   "source": [
    "### Tuplas\n",
    "Las tuplas en Python son colecciones también ordenadas de elementos, posiblemente heterogéneos y con valores duplicados. Ahora bien, a diferencia de las listas, __las tuplas son inmutables__. Esto implica que una vez definidas, no podremos añadir ni eliminar elementos de una tupla, ni tampoco modificarlos:"
   ]
  },
  {
   "cell_type": "code",
   "execution_count": 64,
   "metadata": {},
   "outputs": [],
   "source": [
    "# Definimos una tupla usando paréntesis\n",
    "# Las tuplas pueden ser heterogéneas y tener duplicados\n",
    "\n",
    "a_tuple = (1, 1, 3.5, \"strings also\", [None, 4]) "
   ]
  },
  {
   "cell_type": "code",
   "execution_count": 65,
   "metadata": {},
   "outputs": [
    {
     "name": "stdout",
     "output_type": "stream",
     "text": [
      "The tuple is:\n",
      "\t(1, 1, 3.5, 'strings also', [None, 4])\n"
     ]
    }
   ],
   "source": [
    "print(\"The tuple is:\\n\\t{}\".format(a_tuple))"
   ]
  },
  {
   "cell_type": "code",
   "execution_count": 71,
   "metadata": {},
   "outputs": [],
   "source": [
    "# Podemos omitir los paréntesis en la definición de una tupla\n",
    "\n",
    "the_same_tuple = 1, 1, 3.5, \"strings also\", [None, 4] "
   ]
  },
  {
   "cell_type": "code",
   "execution_count": 68,
   "metadata": {},
   "outputs": [
    {
     "name": "stdout",
     "output_type": "stream",
     "text": [
      "The tuple is:\n",
      "\t(1, 1, 3.5, 'strings also', [None, 4])\n"
     ]
    }
   ],
   "source": [
    "print(\"The tuple is:\\n\\t{}\".format(the_same_tuple))"
   ]
  },
  {
   "cell_type": "code",
   "execution_count": 69,
   "metadata": {},
   "outputs": [
    {
     "name": "stdout",
     "output_type": "stream",
     "text": [
      "Are they equal:\n",
      "\tTrue\n"
     ]
    }
   ],
   "source": [
    "print(\"Are they equal:\\n\\t{}\".format(a_tuple == the_same_tuple))"
   ]
  },
  {
   "cell_type": "code",
   "execution_count": 70,
   "metadata": {},
   "outputs": [
    {
     "name": "stdout",
     "output_type": "stream",
     "text": [
      "First element is:\n",
      "\t1\n",
      "Second element is:\n",
      "\t1\n",
      "Third element is:\n",
      "\t3.5\n"
     ]
    }
   ],
   "source": [
    "# Las tuplas son colecciones ordenadas:\n",
    "print(\"First element is:\\n\\t{}\".format(a_tuple[0]))\n",
    "print(\"Second element is:\\n\\t{}\".format(a_tuple[1]))\n",
    "print(\"Third element is:\\n\\t{}\".format(a_tuple[2]))"
   ]
  },
  {
   "cell_type": "code",
   "execution_count": 72,
   "metadata": {},
   "outputs": [
    {
     "name": "stdout",
     "output_type": "stream",
     "text": [
      "'tuple' object doesn't support item deletion\n"
     ]
    }
   ],
   "source": [
    "# Las tuplas son inmutables\n",
    "try:\n",
    "    del a_tuple[0]\n",
    "except TypeError as e: \n",
    "    print(e)"
   ]
  },
  {
   "cell_type": "code",
   "execution_count": 73,
   "metadata": {},
   "outputs": [
    {
     "name": "stdout",
     "output_type": "stream",
     "text": [
      "'tuple' object does not support item assignment\n"
     ]
    }
   ],
   "source": [
    "try:\n",
    "    a_tuple[0] = \"New value\"\n",
    "except TypeError as e: \n",
    "    print(e)"
   ]
  },
  {
   "cell_type": "markdown",
   "metadata": {},
   "source": [
    "### Diccionarios\n",
    "Los diccionarios en Python son colecciones sin orden de elementos, posiblemente heterogéneos y sin\n",
    "duplicados.\n",
    "\n",
    "Los diccionarios son la implementación, en Python, de la estructura de datos que conocemos con el nombre de __array asociativo__ o __map__. Los diccionarios __son colecciones de pares clave-valor__, que además de las operaciones básicas de inserción, modificación y eliminación, también permiten recuperar los datos almacenados a través de la clave. La característica principal de esta estructura de datos es que __no puede haber claves repetidas__ (cada clave aparece, como mucho, una única vez, y tiene por tanto un único valor asociado)."
   ]
  },
  {
   "cell_type": "code",
   "execution_count": 75,
   "metadata": {},
   "outputs": [
    {
     "data": {
      "text/plain": [
       "{'a': 2, 'b': 1}"
      ]
     },
     "execution_count": 75,
     "metadata": {},
     "output_type": "execute_result"
    }
   ],
   "source": [
    "# Intentamos crear un diccionario con una clave repetida (a)\n",
    "dict_0 = {\"a\": 0, \n",
    "          \"b\": 1, \n",
    "          \"a\": 2}\n",
    "\n",
    "# Comprobamos como el diccionario tiene una única clave a: \n",
    "dict_0"
   ]
  },
  {
   "cell_type": "markdown",
   "metadata": {},
   "source": [
    "Ahora bien, un diccionario sí puede tener valores repetidos:"
   ]
  },
  {
   "cell_type": "code",
   "execution_count": 76,
   "metadata": {},
   "outputs": [
    {
     "data": {
      "text/plain": [
       "{'a': 0, 'b': 0, 'c': 0}"
      ]
     },
     "execution_count": 76,
     "metadata": {},
     "output_type": "execute_result"
    }
   ],
   "source": [
    "dict_0 = {\"a\": 0, \n",
    "          \"b\": 0, \n",
    "          \"c\": 0} \n",
    "dict_0"
   ]
  },
  {
   "cell_type": "markdown",
   "metadata": {},
   "source": [
    "---\n",
    "Hacemos ahora un repaso rápido a los métodos implementados para los diccionarios (todos los métodos aquí https://docs.python.org/3.8/library/stdtypes.html#dict). \n",
    "\n",
    "Podemos añadir elementos a un diccionario asignando el valor a la clave. Esta misma sintaxis sirve para actualizar los valores de un diccionario. También podemos eliminar un elemento de un diccionario a partir de su clave con `del` ."
   ]
  },
  {
   "cell_type": "code",
   "execution_count": 77,
   "metadata": {},
   "outputs": [
    {
     "name": "stdout",
     "output_type": "stream",
     "text": [
      "dict_0 is:\n",
      "\t{'a': 0, 'b': 0, 'c': 0}\n"
     ]
    }
   ],
   "source": [
    "# Añadimos un elemento a dict_0\n",
    "print(\"dict_0 is:\\n\\t{}\".format(dict_0))"
   ]
  },
  {
   "cell_type": "code",
   "execution_count": 78,
   "metadata": {},
   "outputs": [
    {
     "name": "stdout",
     "output_type": "stream",
     "text": [
      "After adding d, dict_0 is:\n",
      "\t{'a': 0, 'b': 0, 'c': 0, 'd': 42}\n"
     ]
    }
   ],
   "source": [
    "dict_0[\"d\"] = 42\n",
    "\n",
    "print(\"After adding d, dict_0 is:\\n\\t{}\".format(dict_0))"
   ]
  },
  {
   "cell_type": "code",
   "execution_count": 80,
   "metadata": {},
   "outputs": [
    {
     "name": "stdout",
     "output_type": "stream",
     "text": [
      "After updating a, dict_0 is:\n",
      "\t{'a': -5, 'b': 0, 'c': 0, 'd': 42}\n"
     ]
    }
   ],
   "source": [
    "# Actualizamos un elemento de dict_0\n",
    "dict_0['a'] = -5\n",
    "\n",
    "print(\"After updating a, dict_0 is:\\n\\t{}\".format(dict_0))"
   ]
  },
  {
   "cell_type": "code",
   "execution_count": 81,
   "metadata": {},
   "outputs": [
    {
     "name": "stdout",
     "output_type": "stream",
     "text": [
      "After deleting b, dict_0 is:\n",
      "\t{'a': -5, 'c': 0, 'd': 42}\n"
     ]
    }
   ],
   "source": [
    "# Eliminamos un elemento de dict_0\n",
    "del dict_0['b']\n",
    "\n",
    "print(\"After deleting b, dict_0 is:\\n\\t{}\".format(dict_0))"
   ]
  },
  {
   "cell_type": "markdown",
   "metadata": {},
   "source": [
    "---\n",
    "Podemos recuperar todas las claves de un diccionario con el método `keys` , todos los valores con `values`, y ambos conjuntos de valores con items :"
   ]
  },
  {
   "cell_type": "code",
   "execution_count": 82,
   "metadata": {},
   "outputs": [
    {
     "name": "stdout",
     "output_type": "stream",
     "text": [
      "dict_0 is:\n",
      "\t{'a': -5, 'c': 0, 'd': 42}\n"
     ]
    }
   ],
   "source": [
    "print(\"dict_0 is:\\n\\t{}\".format(dict_0))"
   ]
  },
  {
   "cell_type": "code",
   "execution_count": 83,
   "metadata": {},
   "outputs": [
    {
     "name": "stdout",
     "output_type": "stream",
     "text": [
      "dict_0 keys are:\n",
      "\tdict_keys(['a', 'c', 'd'])\n"
     ]
    }
   ],
   "source": [
    "print(\"dict_0 keys are:\\n\\t{}\".format(dict_0.keys()))"
   ]
  },
  {
   "cell_type": "code",
   "execution_count": 84,
   "metadata": {},
   "outputs": [
    {
     "name": "stdout",
     "output_type": "stream",
     "text": [
      "dict_0 values are:\n",
      "\tdict_values([-5, 0, 42])\n"
     ]
    }
   ],
   "source": [
    "print(\"dict_0 values are:\\n\\t{}\".format(dict_0.values()))"
   ]
  },
  {
   "cell_type": "code",
   "execution_count": 85,
   "metadata": {},
   "outputs": [
    {
     "name": "stdout",
     "output_type": "stream",
     "text": [
      "dict_0 items are:\n",
      "\tdict_items([('a', -5), ('c', 0), ('d', 42)])\n"
     ]
    }
   ],
   "source": [
    "print(\"dict_0 items are:\\n\\t{}\".format(dict_0.items()))"
   ]
  },
  {
   "cell_type": "markdown",
   "metadata": {},
   "source": [
    "---\n",
    "Podemos iterar sobre los elementos de un diccionario utilizando `keys` , `values` o `items` , o bien iterando directamente sobre el diccionario (que es equivalente a iterar sobre sus claves):"
   ]
  },
  {
   "cell_type": "code",
   "execution_count": 89,
   "metadata": {},
   "outputs": [
    {
     "name": "stdout",
     "output_type": "stream",
     "text": [
      "a: -5\n",
      "c: 0\n",
      "d: 42\n"
     ]
    }
   ],
   "source": [
    "# TRES CONSTRUCCIONES EQUIVALES QUE PERMITEN MOSTRAR CLAVES Y VALORES\n",
    "\n",
    "# Opción 1: iteramos sobre el diccionario directamente\n",
    "for k in dict_0:\n",
    "    print(\"{}: {}\".format(k, dict_0[k]))"
   ]
  },
  {
   "cell_type": "code",
   "execution_count": 91,
   "metadata": {},
   "outputs": [
    {
     "name": "stdout",
     "output_type": "stream",
     "text": [
      "a: -5\n",
      "c: 0\n",
      "d: 42\n"
     ]
    }
   ],
   "source": [
    "# Opción 2: iteramos sobre las claves del diccionario\n",
    "for k in dict_0.keys():\n",
    "    print(\"{}: {}\".format(k, dict_0[k]))"
   ]
  },
  {
   "cell_type": "code",
   "execution_count": 92,
   "metadata": {},
   "outputs": [
    {
     "name": "stdout",
     "output_type": "stream",
     "text": [
      "a: -5\n",
      "c: 0\n",
      "d: 42\n"
     ]
    }
   ],
   "source": [
    "# Opción 3: iteramos sobre los items (pares de clave-valor)\n",
    "for k, v in dict_0.items():\n",
    "    # Tened en cuenta que aquí ya tenemos el elemento v, no es necesario \n",
    "    # recuperarlo haciendo dict_0[k]\n",
    "    print(\"{}: {}\".format(k, v))"
   ]
  },
  {
   "cell_type": "code",
   "execution_count": 93,
   "metadata": {},
   "outputs": [
    {
     "name": "stdout",
     "output_type": "stream",
     "text": [
      "-5\n",
      "0\n",
      "42\n"
     ]
    }
   ],
   "source": [
    "# También podemos iterar solo sobre los valores del diccionario\n",
    "for value in dict_0.values(): \n",
    "    print(value)"
   ]
  },
  {
   "cell_type": "markdown",
   "metadata": {},
   "source": [
    "__Los diccionarios pueden contener otros diccionarios__. Esto permite tener variables con estructuras complejas. Por ejemplo, imaginad que queremos guardar las velocidades máximas a las que se puede circular por autopista, carretera y ciudad en España y en Francia. Una alternativa sería usar un diccionario para guardar las velocidades de cada tipo de vía, y un segundo diccionario que guarde el diccionario de velocidades para cada país:"
   ]
  },
  {
   "cell_type": "code",
   "execution_count": 95,
   "metadata": {},
   "outputs": [],
   "source": [
    "speeds = {\n",
    "    \"Spain\": {\"motorway\": 120, \"road\": 90, \"city\": 50}, \n",
    "    \"France\": {\"motorway\": 130, \"road\": 80, \"city\": 50}\n",
    "}"
   ]
  },
  {
   "cell_type": "code",
   "execution_count": 96,
   "metadata": {},
   "outputs": [
    {
     "name": "stdout",
     "output_type": "stream",
     "text": [
      "{'motorway': 120, 'road': 90, 'city': 50}\n"
     ]
    }
   ],
   "source": [
    "# Recuperamos el diccionario de las velocidades de España\n",
    "print(speeds[\"Spain\"])"
   ]
  },
  {
   "cell_type": "code",
   "execution_count": 97,
   "metadata": {},
   "outputs": [
    {
     "name": "stdout",
     "output_type": "stream",
     "text": [
      "80\n"
     ]
    }
   ],
   "source": [
    "# Consultamos la velocidad máxima en carretera en Francia \n",
    "print(speeds[\"France\"][\"road\"])"
   ]
  },
  {
   "cell_type": "markdown",
   "metadata": {},
   "source": [
    "Los diccionarios de Python no tienen orden, es decir, los pares de clave-valor no se encuentran ordenados dentro de la estructura de datos. Así pues, dos diccionarios creados con pares de clave-valor iguales pero en órdenes diferentes, se consideran iguales:"
   ]
  },
  {
   "cell_type": "code",
   "execution_count": 98,
   "metadata": {},
   "outputs": [
    {
     "name": "stdout",
     "output_type": "stream",
     "text": [
      "True\n"
     ]
    }
   ],
   "source": [
    "# Creamos dos diccionarios con el mismo contenido, pero en orden diferente\n",
    "dict_1 = {\"a\": 0, \"b\": 1, \"c\": 2}\n",
    "dict_2 = {\"b\": 1, \"a\": 0, \"c\": 2}\n",
    "\n",
    "# Comprobamos si los dos diccionarios son iguales\n",
    "print(dict_1 == dict_2)"
   ]
  },
  {
   "cell_type": "markdown",
   "metadata": {},
   "source": [
    "Ahora bien, a partir de la versión 3.6 de Python, la implementación de los diccionarios preserva el orden de inserción de los elementos. Es decir, cuando recorremos el diccionario, la implementación nos devuelve los elementos en el orden que fueron insertados. A partir de la versión 3.7 y posteriores, este comportamiento se ha declarado como oficial y, por lo tanto, podemos crear código que asuma que los diccionarios mantienen el orden de inserción de sus elementos:"
   ]
  },
  {
   "cell_type": "code",
   "execution_count": 108,
   "metadata": {},
   "outputs": [
    {
     "data": {
      "text/plain": [
       "{'Key_0': 'Value_1',\n",
       " 'Key_1': 'Value_2',\n",
       " 'Key_2': 'Value_3',\n",
       " 'Key_3': 'Value_4',\n",
       " 'Key_4': 'Value_5',\n",
       " 'Key_5': 'Value_6',\n",
       " 'Key_6': 'Value_7',\n",
       " 'Key_7': 'Value_8',\n",
       " 'Key_8': 'Value_9',\n",
       " 'Key_9': 'Value_10'}"
      ]
     },
     "execution_count": 108,
     "metadata": {},
     "output_type": "execute_result"
    }
   ],
   "source": [
    "# Creamos un diccionario\n",
    "dict_3 = { \"Key_\" + str(num): \"Value_\" + str(num+1) for num in range(10)}\n",
    "dict_3"
   ]
  },
  {
   "cell_type": "code",
   "execution_count": 107,
   "metadata": {},
   "outputs": [
    {
     "name": "stdout",
     "output_type": "stream",
     "text": [
      "Key_0: Value_1\n",
      "Key_1: Value_2\n",
      "Key_2: Value_3\n",
      "Key_3: Value_4\n",
      "Key_4: Value_5\n",
      "Key_5: Value_6\n",
      "Key_6: Value_7\n",
      "Key_7: Value_8\n",
      "Key_8: Value_9\n",
      "Key_9: Value_10\n"
     ]
    }
   ],
   "source": [
    "# Mostramos el contenido del diccionario en el orden en que items() devuelve los elementos\n",
    "for k, v in dict_3.items():\n",
    "    print(\"{}: {}\".format(k, v))"
   ]
  },
  {
   "cell_type": "code",
   "execution_count": 109,
   "metadata": {},
   "outputs": [],
   "source": [
    "# Borramos tres entradas del diccionario\n",
    "del(dict_3[\"Key_5\"]) \n",
    "del(dict_3[\"Key_8\"]) \n",
    "del(dict_3[\"Key_1\"])"
   ]
  },
  {
   "cell_type": "code",
   "execution_count": 110,
   "metadata": {},
   "outputs": [],
   "source": [
    "# Añadimos dos nuevas entradas en el diccionario\n",
    "dict_3[\"Key_10\"] = \"Value_10\" \n",
    "dict_3[\"Key_11\"] = \"Value_11\""
   ]
  },
  {
   "cell_type": "code",
   "execution_count": 111,
   "metadata": {},
   "outputs": [],
   "source": [
    "# Modificamos el valor de Key_0\n",
    "dict_3[\"Key_0\"] = \"New value does not change position\""
   ]
  },
  {
   "cell_type": "code",
   "execution_count": 113,
   "metadata": {},
   "outputs": [
    {
     "name": "stdout",
     "output_type": "stream",
     "text": [
      "Key_0: New value does not change position\n",
      "Key_2: Value_3\n",
      "Key_3: Value_4\n",
      "Key_4: Value_5\n",
      "Key_6: Value_7\n",
      "Key_7: Value_8\n",
      "Key_9: Value_10\n",
      "Key_10: Value_10\n",
      "Key_11: Value_11\n"
     ]
    }
   ],
   "source": [
    "# Finalmente, mostramos el contenido del diccionario siguiendo el orden devuelto por items()\n",
    "for k, v in dict_3.items():\n",
    "    print(\"{}: {}\".format(k, v))"
   ]
  },
  {
   "cell_type": "markdown",
   "metadata": {},
   "source": [
    "En el ejemplo anterior podemos ver cómo actualizar el valor de un elemento del diccionario ( __Key_0__ ) no altera su orden ( Key_0 sigue siendo el primer elemento). Los elementos añadidos posteriormente ( __Key_10 y Key_11__ ) se muestran al final del diccionario, en el orden en que se han insertado.\n",
    "\n",
    "#### Dict comprehensions\n",
    "\n",
    "De una manera similar a las _list comprehensions_ podemos utilizar `dict comprehensions` para crear nuevos diccionarios con una sintaxis compacta. La sintaxis de una `dict comprehension` consta de unas __llaves (que definen el diccionario)__, que contienen al menos una cláusula _for_ y que pueden tener también cláusulas _if_ . Se deberá especificar cuál es la clave y cuál es el valor para cada entrada del diccionario (a diferencia de las listas, donde sólo había que especificar el valor de cada elemento). Veámoslo con algunos ejemplos:"
   ]
  },
  {
   "cell_type": "code",
   "execution_count": 115,
   "metadata": {},
   "outputs": [
    {
     "name": "stdout",
     "output_type": "stream",
     "text": [
      "Original dict:\n",
      "\t{1.0: 'one', 2.0: 'two', 3.0: 'three', 4.0: 'four', 5.0: 'five'}\n"
     ]
    }
   ],
   "source": [
    "# Definimos un diccionario sobre el que iterar\n",
    "dict_4 = {1.0: \"one\", \n",
    "          2.0: \"two\", \n",
    "          3.0: \"three\", \n",
    "          4.0: \"four\", \n",
    "          5.0: \"five\"} \n",
    "\n",
    "print(\"Original dict:\\n\\t{}\".format(dict_4))"
   ]
  },
  {
   "cell_type": "code",
   "execution_count": 124,
   "metadata": {},
   "outputs": [
    {
     "name": "stdout",
     "output_type": "stream",
     "text": [
      "dict_5:\n",
      "\t{1.0: 'number', 2.0: 'number', 3.0: 'number', 4.0: 'number', 5.0: 'number'}\n"
     ]
    }
   ],
   "source": [
    "# Iteramos sobre las claves y creamos un nuevo diccionario con las mismas \n",
    "# claves y \"number\" como valor (para todos los elementos)\n",
    "dict_5 = {k: \"number\" for k in dict_4.keys()}\n",
    "\n",
    "print(\"dict_5:\\n\\t{}\".format(dict_5))"
   ]
  },
  {
   "cell_type": "code",
   "execution_count": 123,
   "metadata": {},
   "outputs": [
    {
     "name": "stdout",
     "output_type": "stream",
     "text": [
      "dict_6:\n",
      "\t{'one': 'new', 'two': 'new', 'three': 'new', 'four': 'new', 'five': 'new'}\n"
     ]
    }
   ],
   "source": [
    "# Iteramos sobre los valores y creamos un nuevo diccionario utilizando \n",
    "# los valores como clave y \"new\" como valor (para todos los elementos) \n",
    "dict_6 = {v: \"new\" for v in dict_4.values()} \n",
    "\n",
    "print(\"dict_6:\\n\\t{}\".format(dict_6))"
   ]
  },
  {
   "cell_type": "code",
   "execution_count": 122,
   "metadata": {},
   "outputs": [
    {
     "name": "stdout",
     "output_type": "stream",
     "text": [
      "dict_7:\n",
      "\t{1: 'one!', 2: 'two!', 3: 'three!', 4: 'four!', 5: 'five!'}\n"
     ]
    }
   ],
   "source": [
    "# Iteramos sobre los items y creamos un nuevo diccionario con las claves # convertidas a entero y los valores con un ! final\n",
    "dict_7 = {int(k): v + \"!\" for (k, v) in dict_4.items()} \n",
    "\n",
    "print(\"dict_7:\\n\\t{}\".format(dict_7))"
   ]
  },
  {
   "cell_type": "markdown",
   "metadata": {},
   "source": [
    "---\n",
    "A partir del diccionario original, hemos creado tres diccionarios nuevos utilizando `dict comprehensions`:\n",
    "\n",
    "* Hemos creado el diccionario __dict_5__ iterando sobre las claves del diccionario original. El diccionario dict_5 contiene las mismas claves que el diccionario original, pero todos los valores asociados a estas claves son iguales (la cadena de caracteres 'number').\n",
    "\n",
    "* Hemos creado el diccionario __dict_6__ iterando sobre los valores del diccionario original. El diccionario dict_6 tiene como claves los valores del diccionario original, y como valor todas tienen la misma cadena de caracteres ( 'new' ). Tened en cuenta que, en este caso, el diccionario resultante tiene el mismo tamaño que el diccionario original ya que los valores del diccionario original no se encontraban repetidos.\n",
    "\n",
    "* Hemos creado el diccionario __dict_7__ iterando sobre los items (pares de clave-valor) del diccionario original. El diccionario dict_7 tiene como claves las mismas claves que el diccionario original pero convertidas a enteros, y como valor los mismos valores que el diccionario original, pero terminados en un signo de exclamación.\n",
    "\n",
    "Con este tipo de expresiones, podemos obtener diccionarios de la misma longitud que los diccionarios originales, y podemos operar sobre las claves y los valores. Veamos algunos ejemplos más:"
   ]
  },
  {
   "cell_type": "code",
   "execution_count": 125,
   "metadata": {},
   "outputs": [
    {
     "name": "stdout",
     "output_type": "stream",
     "text": [
      "dict_8:\n",
      "\t{1: 3, 2: 3, 3: 5, 4: 4, 5: 4}\n"
     ]
    }
   ],
   "source": [
    "# Creamos un diccionario con las mismas claves que el diccionario original \n",
    "# pero pasadas a entero, y como valor guardamos la longitud del valor\n",
    "# original (es decir, el número de letras de la palabra)\n",
    "dict_8 = {int(k): len(v) for (k, v) in dict_4.items()} \n",
    "\n",
    "print(\"dict_8:\\n\\t{}\".format(dict_8))"
   ]
  },
  {
   "cell_type": "code",
   "execution_count": 126,
   "metadata": {},
   "outputs": [
    {
     "name": "stdout",
     "output_type": "stream",
     "text": [
      "dict_9:\n",
      "\t{1: 1, 2: 0, 3: 2, 4: 0, 5: 1}\n"
     ]
    }
   ],
   "source": [
    "# Creamos un diccionario con las mismas claves que el diccionario original \n",
    "# pero pasadas a entero, y como valor guardamos el número de veces que\n",
    "# aparece la letra e en el valor\n",
    "dict_9 = {int(k): v.count(\"e\") for (k, v) in dict_4.items()} \n",
    "\n",
    "print(\"dict_9:\\n\\t{}\".format(dict_9))"
   ]
  },
  {
   "cell_type": "code",
   "execution_count": 127,
   "metadata": {},
   "outputs": [
    {
     "name": "stdout",
     "output_type": "stream",
     "text": [
      "dict_10:\n",
      "\t{'ONE': 3, 'TWO': 3, 'THREE': 5, 'FOUR': 4, 'FIVE': 4}\n"
     ]
    }
   ],
   "source": [
    "# Creamos un diccionario con los valores del diccionario original en mayúsculas \n",
    "# como clave, y como valor guardamos la longitud del valor original (es\n",
    "# decir, el número de letras de la palabra)\n",
    "dict_10 = {v.upper(): len(v) for (k, v) in dict_4.items()} \n",
    "\n",
    "print(\"dict_10:\\n\\t{}\".format(dict_10))"
   ]
  },
  {
   "cell_type": "markdown",
   "metadata": {},
   "source": [
    "---\n",
    "Del mismo modo que en las list comprehensions, las dict comprehensions pueden incluir condicionales que permiten filtrar qué elementos del diccionario original queremos considerar en la creación del nuevo diccionario. Así, el diccionario resultante tendrá una longitud igual o menor a la del diccionario original:"
   ]
  },
  {
   "cell_type": "code",
   "execution_count": 128,
   "metadata": {},
   "outputs": [
    {
     "name": "stdout",
     "output_type": "stream",
     "text": [
      "dict_11:\n",
      "\t{1: 'one', 3: 'three', 5: 'five'}\n"
     ]
    }
   ],
   "source": [
    "# Creamos un diccionario con las mismas claves que el diccionario original\n",
    "# pero pasadas a entero, y los mismos valores, incluyendo solo los elementos \n",
    "# que tienen alguna e en el valor\n",
    "dict_11 = {int(k): v for (k, v) in dict_4.items() if v.count(\"e\")} \n",
    "\n",
    "print(\"dict_11:\\n\\t{}\".format(dict_11))"
   ]
  },
  {
   "cell_type": "code",
   "execution_count": 129,
   "metadata": {},
   "outputs": [
    {
     "name": "stdout",
     "output_type": "stream",
     "text": [
      "dict_12:\n",
      "\t{11: 'one + ten', 13: 'three + ten', 15: 'five + ten'}\n"
     ]
    }
   ],
   "source": [
    "# Creamos un diccionario que tiene como clave las claves originales pasadas a \n",
    "# entero y sumando 10, y como valor el mismo valor concatenado con \" + ten\", \n",
    "# incluyendo solo las claves impares\n",
    "dict_12 = {int(k) + 10: v + \" + ten\" \n",
    "           for (k, v) in dict_4.items() \n",
    "           if int(k) % 2} \n",
    "\n",
    "print(\"dict_12:\\n\\t{}\".format(dict_12))"
   ]
  },
  {
   "cell_type": "markdown",
   "metadata": {},
   "source": [
    "---\n",
    "Por último, las `dict comprehensions` también pueden contener más de una cláusula _for_ , lo que permite combinar los contenidos de varios diccionarios en la construcción del nuevo diccionario. Veamos un ejemplo de una baraja de cartas:"
   ]
  },
  {
   "cell_type": "code",
   "execution_count": 130,
   "metadata": {},
   "outputs": [],
   "source": [
    "# Definimos los 4 palos y el símbolo que los representa\n",
    "suits = {\"hearts\": \"\\u2665\", \n",
    "         \"tiles\": \"\\u2666\", \n",
    "         \"clovers\": \"\\u2663\", \n",
    "         \"pikes\": \"\\u2660\"}"
   ]
  },
  {
   "cell_type": "code",
   "execution_count": 131,
   "metadata": {},
   "outputs": [],
   "source": [
    "# Definimos los posibles valores de las cartas\n",
    "ranks = {\"2\": 2, \"3\": 3, \"4\": 4, \"5\": 5, \"6\": 6, \"7\": 7, \"8\": 8, \"9\": 9, \"10\": 10, \"J\": 11, \"Q\": 12, \"K\": 13, \"A\": 14}"
   ]
  },
  {
   "cell_type": "code",
   "execution_count": 132,
   "metadata": {},
   "outputs": [],
   "source": [
    "# Definimos una posible asignación de valores a los palos\n",
    "suit_cod = {\"hearts\": 1, \n",
    "            \"tiles\": 2, \n",
    "            \"clovers\": 3, \n",
    "            \"pikes\": 4}"
   ]
  },
  {
   "cell_type": "code",
   "execution_count": 133,
   "metadata": {},
   "outputs": [
    {
     "name": "stdout",
     "output_type": "stream",
     "text": [
      "{'2♥': 2, '3♥': 3, '4♥': 4, '5♥': 5, '6♥': 6, '7♥': 7, '8♥': 8, '9♥': 9, '10♥': 10, 'J♥': 11, 'Q♥': 12, 'K♥': 13, 'A♥': 14, '2♦': 2, '3♦': 3, '4♦': 4, '5♦': 5, '6♦': 6, '7♦': 7, '8♦': 8, '9♦': 9, '10♦': 10, 'J♦': 11, 'Q♦': 12, 'K♦': 13, 'A♦': 14, '2♣': 2, '3♣': 3, '4♣': 4, '5♣': 5, '6♣': 6, '7♣': 7, '8♣': 8, '9♣': 9, '10♣': 10, 'J♣': 11, 'Q♣': 12, 'K♣': 13, 'A♣': 14, '2♠': 2, '3♠': 3, '4♠': 4, '5♠': 5, '6♠': 6, '7♠': 7, '8♠': 8, '9♠': 9, '10♠': 10, 'J♠': 11, 'Q♠': 12, 'K♠': 13, 'A♠': 14}\n"
     ]
    }
   ],
   "source": [
    "# Creamos un diccionario que contendrá todas las cartas de la baraja, con\n",
    "# el símbolo del palo y el número de carta como clave, y el número de carta \n",
    "# como valor\n",
    "card_deck = {r_k + s_v: r_v\n",
    "             for (s_k, s_v) in suits.items() \n",
    "             for (r_k, r_v) in ranks.items()} \n",
    "\n",
    "print(card_deck)"
   ]
  },
  {
   "cell_type": "code",
   "execution_count": 134,
   "metadata": {},
   "outputs": [
    {
     "name": "stdout",
     "output_type": "stream",
     "text": [
      "{'2♥': 102, '3♥': 103, '4♥': 104, '5♥': 105, '6♥': 106, '7♥': 107, '8♥': 108, '9♥': 109, '10♥': 110, 'J♥': 111, 'Q♥': 112, 'K♥': 113, 'A♥': 114, '2♦': 202, '3♦': 203, '4♦': 204, '5♦': 205, '6♦': 206, '7♦': 207, '8♦': 208, '9♦': 209, '10♦': 210, 'J♦': 211, 'Q♦': 212, 'K♦': 213, 'A♦': 214, '2♣': 302, '3♣': 303, '4♣': 304, '5♣': 305, '6♣': 306, '7♣': 307, '8♣': 308, '9♣': 309, '10♣': 310, 'J♣': 311, 'Q♣': 312, 'K♣': 313, 'A♣': 314, '2♠': 402, '3♠': 403, '4♠': 404, '5♠': 405, '6♠': 406, '7♠': 407, '8♠': 408, '9♠': 409, '10♠': 410, 'J♠': 411, 'Q♠': 412, 'K♠': 413, 'A♠': 414}\n"
     ]
    }
   ],
   "source": [
    "# Creamos un diccionario que contendrá todas las cartas de la baraja, con \n",
    "# el símbolo del palo y el número de carta como clave, y una codificación \n",
    "# única como valor\n",
    "card_deck_cod = {r_k + s_v: 100 * suit_cod[s_k] + r_v\n",
    "                for (s_k, s_v) in suits.items()\n",
    "                for (r_k, r_v) in ranks.items()} \n",
    "\n",
    "print(card_deck_cod)"
   ]
  },
  {
   "cell_type": "markdown",
   "metadata": {},
   "source": [
    "### Conjuntos\n",
    "Hay una cuarta estructura de datos que permite almacenar colecciones de valores en Python: los conjuntos. Los conjuntos en Python, como veremos más adelante, son colecciones sin orden de elementos, posiblemente heterogéneos y sin duplicados."
   ]
  },
  {
   "cell_type": "markdown",
   "metadata": {},
   "source": [
    "## Iterables\n",
    "¿Qué tienen en común las tuplas, las listas y los diccionarios que hemos visto en el apartado anterior o, incluso, las cadenas de caracteres?"
   ]
  },
  {
   "cell_type": "code",
   "execution_count": 135,
   "metadata": {},
   "outputs": [],
   "source": [
    "a_list = [1, 2, 3, 4]  # Definimos una lista\n",
    "a_tuple = (1, 2, 3, 4) # Definimos una tupla\n",
    "a_str = \"1234\"         # Definimos una cadena de caracteres\n",
    "a_dict = {\"one\": 1,    # Definimos un diccionario\n",
    "          \"two\": 2, \n",
    "          \"three\": 3, \n",
    "          \"four\": 4} "
   ]
  },
  {
   "cell_type": "code",
   "execution_count": 137,
   "metadata": {},
   "outputs": [
    {
     "name": "stdout",
     "output_type": "stream",
     "text": [
      "1 2 3 4 \n"
     ]
    }
   ],
   "source": [
    "# Recorremos las estructuras con un for y mostramos su contenido\n",
    "for e in a_list: \n",
    "    print(e, end=\" \")\n",
    "print()"
   ]
  },
  {
   "cell_type": "code",
   "execution_count": 138,
   "metadata": {},
   "outputs": [
    {
     "name": "stdout",
     "output_type": "stream",
     "text": [
      "1 2 3 4 \n"
     ]
    }
   ],
   "source": [
    "for e in a_tuple: \n",
    "    print(e, end=\" \")\n",
    "print()"
   ]
  },
  {
   "cell_type": "code",
   "execution_count": 139,
   "metadata": {},
   "outputs": [
    {
     "name": "stdout",
     "output_type": "stream",
     "text": [
      "one two three four \n"
     ]
    }
   ],
   "source": [
    "for e in a_dict: \n",
    "    print(e, end=\" \")\n",
    "print()"
   ]
  },
  {
   "cell_type": "code",
   "execution_count": 140,
   "metadata": {},
   "outputs": [
    {
     "name": "stdout",
     "output_type": "stream",
     "text": [
      "1 2 3 4 \n"
     ]
    }
   ],
   "source": [
    "for e in a_str: \n",
    "    print(e, end=\" \")\n",
    "print()"
   ]
  },
  {
   "cell_type": "markdown",
   "metadata": {},
   "source": [
    "Todos ellos son `objetos iterables` en Python. \n",
    "* Un __objeto iterable__ es un objeto que implementa un método que devuelve un iterador sobre el objeto. \n",
    "* Un __iterador__ es un objeto que implementa el método `next` , que devuelve el siguiente elemento del contenedor iterable hasta que ya no quedan más elementos, momento en que lanza una excepción.   \n",
    "\n",
    "Es decir, cuando estamos haciendo:"
   ]
  },
  {
   "cell_type": "code",
   "execution_count": 142,
   "metadata": {},
   "outputs": [
    {
     "name": "stdout",
     "output_type": "stream",
     "text": [
      "1 2 3 4 "
     ]
    }
   ],
   "source": [
    " for e in a_list: \n",
    "        print(e, end=\" \")"
   ]
  },
  {
   "cell_type": "markdown",
   "metadata": {},
   "source": [
    "internamente se está ejecutando un código similar al siguiente:"
   ]
  },
  {
   "cell_type": "code",
   "execution_count": 144,
   "metadata": {},
   "outputs": [
    {
     "name": "stdout",
     "output_type": "stream",
     "text": [
      "<class 'list_iterator'>\n",
      "1 2 3 4 "
     ]
    }
   ],
   "source": [
    "# Se crea un iterador de la lista\n",
    "list_iterator = iter(a_list) \n",
    "print(type(list_iterator))\n",
    "\n",
    "# Se va llamando el método next() del iterador hasta que se produce # una excepción de tipo StopIteration\n",
    "while True:\n",
    "    try:\n",
    "        e = next(list_iterator) \n",
    "        print(e, end=\" \")\n",
    "    except StopIteration: \n",
    "        break"
   ]
  },
  {
   "cell_type": "markdown",
   "metadata": {},
   "source": [
    "---\n",
    "Hay varias funciones en Python que operan sobre iterables y que nos pueden ser útiles a la hora de procesar datos.\n",
    "\n",
    "La función `zip` (https://docs.python.org/3.8/library/functions.html#zip) actúa sobre un conjunto de __iterables__, devolviendo un __iterador de tuplas__, donde la tupla número __i__ contiene los elementos en la posición __i__ de cada uno de los iterables:"
   ]
  },
  {
   "cell_type": "code",
   "execution_count": 145,
   "metadata": {},
   "outputs": [],
   "source": [
    "# Definimos dos listas\n",
    "nums = [1, 2, 3]\n",
    "strs = [\"one\", \"two\", \"three\"]"
   ]
  },
  {
   "cell_type": "code",
   "execution_count": 146,
   "metadata": {},
   "outputs": [
    {
     "name": "stdout",
     "output_type": "stream",
     "text": [
      "[(1, 'one'), (2, 'two'), (3, 'three')]\n"
     ]
    }
   ],
   "source": [
    "# Usamos zip para crear una lista con tuplas de dos elementos, \n",
    "# uno de cada una de las listas\n",
    "nums_and_strs = zip(nums, strs)\n",
    "\n",
    "print(list(nums_and_strs))"
   ]
  },
  {
   "cell_type": "markdown",
   "metadata": {},
   "source": [
    "Esta función puede recibir cualquier número de iterables, y devolverá una lista de tuplas de tantos elementos como iterables ha recibido:"
   ]
  },
  {
   "cell_type": "code",
   "execution_count": 147,
   "metadata": {},
   "outputs": [],
   "source": [
    "nums_floats = {1.0: 1, \n",
    "               2.0: 2, \n",
    "               3.0: 3, \n",
    "               4.0: 4, \n",
    "               5.0: 5} \n",
    "nums_in_klingon = (\"wa\", \"cha\", \"wej\")"
   ]
  },
  {
   "cell_type": "code",
   "execution_count": 149,
   "metadata": {},
   "outputs": [
    {
     "name": "stdout",
     "output_type": "stream",
     "text": [
      "[(1, 'one', 1.0, 'wa'), (2, 'two', 2.0, 'cha'), (3, 'three', 3.0, 'wej')]\n"
     ]
    }
   ],
   "source": [
    "# Usamos zip para crear una lista con tuplas de cuatro elementos, \n",
    "# uno de cada una de las listas\n",
    "nums_and_strs = list(zip(nums, strs, nums_floats, nums_in_klingon)) \n",
    "\n",
    "print(nums_and_strs)"
   ]
  },
  {
   "cell_type": "code",
   "execution_count": 150,
   "metadata": {},
   "outputs": [
    {
     "name": "stdout",
     "output_type": "stream",
     "text": [
      "The result has 3 elements\n"
     ]
    }
   ],
   "source": [
    "print(\"The result has {} elements\".format(len(nums_and_strs)))"
   ]
  },
  {
   "cell_type": "code",
   "execution_count": 151,
   "metadata": {},
   "outputs": [
    {
     "name": "stdout",
     "output_type": "stream",
     "text": [
      "Each tuple has 4 elements\n"
     ]
    }
   ],
   "source": [
    "print(\"Each tuple has {} elements\".format(len(nums_and_strs[0])))"
   ]
  },
  {
   "cell_type": "code",
   "execution_count": 152,
   "metadata": {},
   "outputs": [
    {
     "name": "stdout",
     "output_type": "stream",
     "text": [
      "The first tuple is: (1, 'one', 1.0, 'wa')\n"
     ]
    }
   ],
   "source": [
    "print(\"The first tuple is: {}\".format(nums_and_strs[0]))"
   ]
  },
  {
   "cell_type": "markdown",
   "metadata": {},
   "source": [
    "Es importante notar, por una parte, que `zip` trabaja con cualquier tipo de iterables (en el último ejemplo combinamos el uso de listas, diccionarios y tuplas) y, por otra parte, que __el resultado contendrá tantos elementos como elementos tenga el iterable más pequeño__ (aunque la lista __nums_floats__ tiene 5 elementos, el resultado solo tiene 3).\n",
    "\n",
    "Ya hemos visto también la función `enumerate` (https://docs.python.org/3.8/library/functions.html#enumerate), que también actúa sobre iterables y devuelve un iterador de tuplas de dos elementos, donde la tupla número __i__ contiene el valor __i__ (la posición del elemento dentro del iterable) y el elemento:"
   ]
  },
  {
   "cell_type": "code",
   "execution_count": 153,
   "metadata": {},
   "outputs": [
    {
     "data": {
      "text/plain": [
       "[(0, 'wa'), (1, 'cha'), (2, 'wej')]"
      ]
     },
     "execution_count": 153,
     "metadata": {},
     "output_type": "execute_result"
    }
   ],
   "source": [
    "list(enumerate(nums_in_klingon))"
   ]
  },
  {
   "cell_type": "markdown",
   "metadata": {},
   "source": [
    "Las funciones \n",
    "* `any` (https://docs.python.org/3.8/library/functions.html#any) y \n",
    "* `all` (https://docs.python.org/3.8/library/functions.html#all) \n",
    "\n",
    "actúan también sobre iterables y devuelven un booleano que nos indica si hay algún valor dentro del iterable que evalúa a True y si todos los valores dentro del iterable evalúan a True, respectivamente:"
   ]
  },
  {
   "cell_type": "code",
   "execution_count": 154,
   "metadata": {},
   "outputs": [],
   "source": [
    "# Definimos una lista con todo True\n",
    "a_list_of_trues = [True, True, True, True]\n",
    "\n",
    "# Definimos una lista con algunos valores False y un True \n",
    "a_list_with_a_true = [False, False, True, False]"
   ]
  },
  {
   "cell_type": "code",
   "execution_count": 155,
   "metadata": {},
   "outputs": [
    {
     "name": "stdout",
     "output_type": "stream",
     "text": [
      "Any on a list of trues:\t\tTrue\n",
      "Any on a list with a True:\tTrue\n"
     ]
    }
   ],
   "source": [
    "print(\"Any on a list of trues:\\t\\t{}\".format(any(a_list_of_trues)))\n",
    "print(\"Any on a list with a True:\\t{}\".format(any(a_list_with_a_true)))"
   ]
  },
  {
   "cell_type": "code",
   "execution_count": 156,
   "metadata": {},
   "outputs": [
    {
     "name": "stdout",
     "output_type": "stream",
     "text": [
      "All on a list of trues:\t\tTrue\n",
      "All on a list with a True:\tFalse\n"
     ]
    }
   ],
   "source": [
    "print(\"All on a list of trues:\\t\\t{}\".format(all(a_list_of_trues)))\n",
    "print(\"All on a list with a True:\\t{}\".format(all(a_list_with_a_true)))"
   ]
  },
  {
   "cell_type": "markdown",
   "metadata": {},
   "source": [
    "---\n",
    "Las funciones pueden trabajar sobre iterables que contienen elementos no booleanos (diferentes de True y False ). En estos casos, su conversión a booleano se tiene en cuenta:"
   ]
  },
  {
   "cell_type": "code",
   "execution_count": 157,
   "metadata": {},
   "outputs": [],
   "source": [
    "a_list_of_true_eqs = [True, 1, 2, 3, \"something\", 5.3] \n",
    "a_list_of_false_eqs = [False, 0, 0.3, \"\"]"
   ]
  },
  {
   "cell_type": "code",
   "execution_count": 158,
   "metadata": {},
   "outputs": [
    {
     "name": "stdout",
     "output_type": "stream",
     "text": [
      "All on a list of elements that evaluate to True:\tTrue\n"
     ]
    }
   ],
   "source": [
    "print(\"All on a list of elements that evaluate to True:\\t{}\".format(all(a_list_of_true_eqs)))"
   ]
  },
  {
   "cell_type": "code",
   "execution_count": 159,
   "metadata": {},
   "outputs": [
    {
     "name": "stdout",
     "output_type": "stream",
     "text": [
      "Any on a list of elements that evaluate to False:\tFalse\n"
     ]
    }
   ],
   "source": [
    "print(\"Any on a list of elements that evaluate to False:\\t{}\".format(all(a_list_of_false_eqs)))"
   ]
  },
  {
   "cell_type": "markdown",
   "metadata": {},
   "source": [
    "## Una pincelada de programación orientada a objetos\n",
    "\n",
    "Habremos oído hablar y tendremos una intuición de que son las clases, los objetos y los métodos en Python. ¿Qué significan, sin embargo, estos conceptos? Aquí intentaremos presentar un resumen de los conceptos más básicos para empezar a entender cómo funciona Python.\n",
    "\n",
    "Las clases y los objetos son conceptos básicos del paradigma de programación orientada a objetos. Python es un lenguaje orientado a objetos, así como Ruby, Scala, Java o C ++, entre otros.\n",
    "\n",
    "Una `clase` es un prototipo, una plantilla, para crear objetos (instancias de la plantilla). Así, por ejemplo, ya conocemos la clase _int_ o la clase _float_ , que nos permiten crear objetos con valores enteros o reales, respectivamente."
   ]
  },
  {
   "cell_type": "code",
   "execution_count": 160,
   "metadata": {},
   "outputs": [
    {
     "name": "stdout",
     "output_type": "stream",
     "text": [
      "<class 'int'>\n"
     ]
    }
   ],
   "source": [
    "# Ya conocemos la clase int, que representa valores enteros\n",
    "an_int = int(5)\n",
    "\n",
    "# an_int es una instancia de la clase int \n",
    "print(type(an_int))"
   ]
  },
  {
   "cell_type": "code",
   "execution_count": 162,
   "metadata": {},
   "outputs": [
    {
     "data": {
      "text/plain": [
       "3"
      ]
     },
     "execution_count": 162,
     "metadata": {},
     "output_type": "execute_result"
    }
   ],
   "source": [
    "# La clase int tiene un método bit_length que devuelve el número \n",
    "# de bits necesarios para almacenar el entero \n",
    "an_int.bit_length()"
   ]
  },
  {
   "cell_type": "code",
   "execution_count": 163,
   "metadata": {},
   "outputs": [
    {
     "name": "stdout",
     "output_type": "stream",
     "text": [
      "<class 'float'>\n"
     ]
    }
   ],
   "source": [
    "# Ya conocemos la clase float, que representa valores reales\n",
    "a_float = float(5.0)\n",
    "\n",
    "# a_float es una instancia de la clase float \n",
    "print(type(a_float))"
   ]
  },
  {
   "cell_type": "code",
   "execution_count": 164,
   "metadata": {},
   "outputs": [
    {
     "data": {
      "text/plain": [
       "True"
      ]
     },
     "execution_count": 164,
     "metadata": {},
     "output_type": "execute_result"
    }
   ],
   "source": [
    "# La clase float tiene un método is_integer que devuelve un booleano \n",
    "# indicando si el valor almacenado es o no un entero \n",
    "a_float.is_integer()"
   ]
  },
  {
   "cell_type": "markdown",
   "metadata": {},
   "source": [
    "Así, las variables __an_int__ o __a_float__ son instancias de las clases int y float . Las `clases` tienen definidos unos `métodos`, que podemos llamar con la sintaxis __instancia.nombre_del_método()__ . Cada clase tiene definido un conjunto de métodos: por ejemplo, la clase int dispone del método bit_length y la clase float del método is_integer .\n",
    "\n",
    "Más allá de utilizar clases ya definidas, Python también nos permite crear nuestras propias clases. Veamos un ejemplo:  \n",
    "> vamos a crear la clase __tea__ que nos permitirá representar tés.  \n",
    "> De cada té, guardaremos el nombre, el tipo y el tiempo de infusión ideal. Esto serán atributos de cada instancia de la clase té, ya que cada instancia (cada té individual) tendrá sus propios valores de estas variables. \n",
    ">  \n",
    ">De un té, querremos saber sus datos, lo querremos infusionar, y querremos saber si es compatible con otro té. Esto son comportamientos asociados al té, que implementaremos a través de métodos. Todos los tés se sirven en tazas ( cup ), independientemente del tipo de té que sean. Por lo tanto, la clase tiene tendrá un atributo de clase que informará de ello, y que será común a todas las instancias de la clase:"
   ]
  },
  {
   "cell_type": "code",
   "execution_count": 166,
   "metadata": {},
   "outputs": [],
   "source": [
    "from time import sleep \n",
    "\n",
    "class tea:\n",
    "    # Definimos el atributo de clase recipient\n",
    "    recipient = 'cup'\n",
    "    \n",
    "    def __init__(self, name, type_of_tea, brewing_time):\n",
    "        # Definimos los atributos de instancia name, type_of_tea y brewing_time \n",
    "        self.name = name\n",
    "        self.type_of_tea = type_of_tea\n",
    "        self.brewing_time = brewing_time\n",
    "    \n",
    "    # Definimos el método de instancia print_me\n",
    "    def print_me(self):\n",
    "        print(\"{} is a {} tea (brewing time {} seconds) served in a {}\".format(self.name, \n",
    "                                                                               self.type_of_tea, \n",
    "                                                                               self.brewing_time, \n",
    "                                                                               self.recipient))\n",
    "    \n",
    "    # Definimos el método de instancia brew\n",
    "    def brew(self): \n",
    "        sleep(self.brewing_time)\n",
    "    \n",
    "    # Definimos el método de instancia can_be_mixed\n",
    "    def can_be_mixed(self, another_tea):\n",
    "        return self.type_of_tea == another_tea.type_of_tea"
   ]
  },
  {
   "cell_type": "code",
   "execution_count": 168,
   "metadata": {},
   "outputs": [
    {
     "name": "stdout",
     "output_type": "stream",
     "text": [
      "Earl grey is a Black tea (brewing time 4 seconds) served in a cup\n",
      "Chai late is a Black tea (brewing time 4 seconds) served in a cup\n",
      "Sencha is a Green tea (brewing time 2 seconds) served in a cup\n",
      "Matcha is a Red tea (brewing time 3 seconds) served in a cup\n",
      "\n",
      "\n"
     ]
    }
   ],
   "source": [
    "# Creamos tres instancias de la clase té\n",
    "morning_tea = tea(\"Earl grey\", \"Black\", 4) \n",
    "exotic_tea = tea(\"Chai late\", \"Black\", 4) \n",
    "jap_tea = tea(\"Sencha\", \"Green\", 2) \n",
    "jap_tea_2 = tea(\"Matcha\", \"Red\", 3)\n",
    "\n",
    "# Ejecutamos el método print_me de las tres instancias (observamos como cada\n",
    "# de ellas contiene los atributos de instancia que hemos indicado al crear las # instancias)\n",
    "morning_tea.print_me()\n",
    "exotic_tea.print_me()\n",
    "jap_tea.print_me()\n",
    "jap_tea_2.print_me()\n",
    "print(\"\\n\")"
   ]
  },
  {
   "cell_type": "code",
   "execution_count": 169,
   "metadata": {},
   "outputs": [
    {
     "name": "stdout",
     "output_type": "stream",
     "text": [
      "Earl grey is a Black tea (brewing time 4 seconds) served in a cup\n",
      "Chai late is a Black tea (brewing time 4 seconds) served in a cup\n",
      "Sencha is a Green tea (brewing time 2 seconds) served in a cup\n",
      "Matcha is a Green tea (brewing time 1 seconds) served in a cup\n"
     ]
    }
   ],
   "source": [
    "# Hemos detectado un error en los atributos del té Matcha, y procedemos a \n",
    "# modificarlos: fijate como el cambio solo afecta a los atributos del\n",
    "# té Matcha, y no a los atributos de ninguno de los otros tés \n",
    "jap_tea_2.type_of_tea = \"Green\"\n",
    "jap_tea_2.brewing_time = 1 \n",
    "morning_tea.print_me() \n",
    "exotic_tea.print_me() \n",
    "jap_tea.print_me() \n",
    "jap_tea_2.print_me()"
   ]
  },
  {
   "cell_type": "code",
   "execution_count": 171,
   "metadata": {},
   "outputs": [],
   "source": [
    "# Ejecutamos el método brew de jap_tea (esperemos 2 segundos)\n",
    "jap_tea.brew()"
   ]
  },
  {
   "cell_type": "code",
   "execution_count": 172,
   "metadata": {},
   "outputs": [
    {
     "data": {
      "text/plain": [
       "True"
      ]
     },
     "execution_count": 172,
     "metadata": {},
     "output_type": "execute_result"
    }
   ],
   "source": [
    "# Ejecutamos el método can_be_mixed de morning_tea para comprobar si es compatible con exotic_tea\n",
    "morning_tea.can_be_mixed(exotic_tea)"
   ]
  },
  {
   "cell_type": "markdown",
   "metadata": {},
   "source": [
    "Fijaos como este paradigma de programación permite encapsular código. Por ejemplo, el programador puede infusionar un té o comprobar si dos tés son compatibles sin saber cómo funcionan internamente estos métodos (no tiene porque saber el tiempo de infusionado de cada té o cuáles son las condiciones que deben cumplirse para que dos tés sean compatibles, simplemente llama a los métodos que ya incorporan el comportamiento).\n",
    "\n",
    "Es interesante notar también que los métodos los llamamos utilizando la sintaxis instancia.nombre_del_método() , a excepción del método `__init__` . Este es un método especial que llamamos constructor, y que define cómo construimos las instancias de cada clase. En este caso, necesitamos tres parámetros, name , type_of_tea , y brewing_time , que especificaremos cuando construimos el objeto:\n",
    "> morning_tea = tea(\"Earl grey\", \"Black\", 4)  \n",
    "> exotic_tea = tea(\"Chai late\", \"Black\", 4)  \n",
    "> jap_tea = tea(\"Sencha\", \"Green\", 2)  \n",
    "> jap_tea_2 = tea(\"Matcha\", \"Red\", 3)  "
   ]
  },
  {
   "cell_type": "markdown",
   "metadata": {},
   "source": [
    "## Control de flujo de ejecución\n",
    "Si no incluimos alguna instrucción que indique lo contrario, los programas en Python ejecutan las instrucciones secuencialmente, una tras otra (de arriba a abajo):"
   ]
  },
  {
   "cell_type": "code",
   "execution_count": 173,
   "metadata": {},
   "outputs": [
    {
     "name": "stdout",
     "output_type": "stream",
     "text": [
      "Pedestrian arrives to intersection\n",
      "Pedestrian crosses the street\n",
      "Pedestrian arrives to destination\n"
     ]
    }
   ],
   "source": [
    "print(\"Pedestrian arrives to intersection\")\n",
    "print(\"Pedestrian crosses the street\")\n",
    "print(\"Pedestrian arrives to destination\")"
   ]
  },
  {
   "cell_type": "markdown",
   "metadata": {},
   "source": [
    "Las tres instrucciones anteriores, que contienen un print de un mensaje, se ejecutan secuencialmente: el peatón llega a la intersección, luego cruza la calle y finalmente llega al destino.  \n",
    "\n",
    "Existen una serie de instrucciones que nos permiten alterar este flujo secuencial de los programas: \n",
    "* las estructuras de control alternativas o condicionales (con if-elif-else ) \n",
    "* y las estructuras de control iterativas o bucles (con for o bien while ).\n",
    "\n",
    "\n",
    "### Estructuras de control alternativas\n",
    "\n",
    "La instrucción _if_ (https://docs.python.org/3.8/tutorial/controlflow.html#if-statements) nos permite ejecutar un bloque de código si se cumple una determinada condición. Si la condición no se cumple, se pueden comprobar condiciones adicionales con cláusulas _elif_ o bien se puede ejecutar un segundo bloque de código especificado en la cláusula _else_. Las cláusulas elif y else son opcionales."
   ]
  },
  {
   "cell_type": "code",
   "execution_count": 174,
   "metadata": {},
   "outputs": [
    {
     "name": "stdout",
     "output_type": "stream",
     "text": [
      "Pedestrian arrives to intersection\n",
      "Pedestrian crosses the street\n",
      "Pedestrian arrives to destination\n"
     ]
    }
   ],
   "source": [
    "light_color = \"green\"\n",
    "\n",
    "print(\"Pedestrian arrives to intersection\")\n",
    "\n",
    "if light_color == 'green':\n",
    "    print(\"Pedestrian crosses the street\") \n",
    "    print(\"Pedestrian arrives to destination\")"
   ]
  },
  {
   "cell_type": "markdown",
   "metadata": {},
   "source": [
    "\n",
    "En la celda de código anterior, el semáforo se encuentra en verde. El peatón llega al paso de peatones y, como el semáforo está en verde, se cumple la condición del if ( light_color == 'green' ), por lo que el peatón cruza la calle y llega a su destino.\n",
    "En cambio, en la celda siguiente el semáforo se encuentra en amarillo. Cuando el peatón llega al paso de peatones, la condición del if no se cumple, y el bloque de código dentro del if no se ejecuta."
   ]
  },
  {
   "cell_type": "code",
   "execution_count": 176,
   "metadata": {},
   "outputs": [
    {
     "name": "stdout",
     "output_type": "stream",
     "text": [
      "Pedestrian arrives to intersection\n"
     ]
    }
   ],
   "source": [
    "light_color = \"yellow\"\n",
    "\n",
    "print(\"Pedestrian arrives to intersection\")\n",
    "\n",
    "if light_color == 'green':\n",
    "    print(\"Pedestrian crosses the street\") \n",
    "    print(\"Pedestrian arrives to destination\")"
   ]
  },
  {
   "cell_type": "markdown",
   "metadata": {},
   "source": [
    "Los dos ejemplos anteriores solo tenían una cláusula if . Podemos incluir también una cláusula else que especifique qué hacer si la condición no se cumple:"
   ]
  },
  {
   "cell_type": "code",
   "execution_count": 177,
   "metadata": {},
   "outputs": [
    {
     "name": "stdout",
     "output_type": "stream",
     "text": [
      "Pedestrian arrives to intersection\n",
      "Pedestrian crosses the street\n",
      "Pedestrian arrives to destination\n"
     ]
    }
   ],
   "source": [
    "light_color = \"green\"\n",
    "print(\"Pedestrian arrives to intersection\")\n",
    "\n",
    "if light_color == 'green':\n",
    "    print(\"Pedestrian crosses the street\") \n",
    "    print(\"Pedestrian arrives to destination\")\n",
    "else:\n",
    "    print(\"Pedestrian remains still\")"
   ]
  },
  {
   "cell_type": "code",
   "execution_count": 178,
   "metadata": {},
   "outputs": [
    {
     "name": "stdout",
     "output_type": "stream",
     "text": [
      "Pedestrian arrives to intersection\n",
      "Pedestrian remains still\n"
     ]
    }
   ],
   "source": [
    "light_color = \"yellow\"\n",
    "\n",
    "print(\"Pedestrian arrives to intersection\")\n",
    "\n",
    "if light_color == 'green':\n",
    "    print(\"Pedestrian crosses the street\") \n",
    "    print(\"Pedestrian arrives to destination\")\n",
    "else:\n",
    "    print(\"Pedestrian remains still\")"
   ]
  },
  {
   "cell_type": "code",
   "execution_count": 179,
   "metadata": {},
   "outputs": [
    {
     "name": "stdout",
     "output_type": "stream",
     "text": [
      "Pedestrian arrives to intersection\n",
      "Pedestrian crosses the street\n",
      "Pedestrian arrives to destination\n"
     ]
    }
   ],
   "source": [
    "light_color = \"green\"\n",
    "\n",
    "print(\"Pedestrian arrives to intersection\")\n",
    "\n",
    "if light_color == 'green':\n",
    "    print(\"Pedestrian crosses the street\") \n",
    "    print(\"Pedestrian arrives to destination\")\n",
    "elif light_color == 'yellow': \n",
    "    print(\"Pedestrian gets ready to cross\")\n",
    "else:\n",
    "    print(\"Pedestrian remains still\")"
   ]
  },
  {
   "cell_type": "code",
   "execution_count": 180,
   "metadata": {},
   "outputs": [
    {
     "name": "stdout",
     "output_type": "stream",
     "text": [
      "Pedestrian arrives to intersection\n",
      "Pedestrian gets ready to cross\n"
     ]
    }
   ],
   "source": [
    "light_color = \"yellow\"\n",
    "\n",
    "print(\"Pedestrian arrives to intersection\")\n",
    "\n",
    "if light_color == 'green':\n",
    "    print(\"Pedestrian crosses the street\") \n",
    "    print(\"Pedestrian arrives to destination\")\n",
    "elif light_color == 'yellow': \n",
    "    print(\"Pedestrian gets ready to cross\")\n",
    "else:\n",
    "    print(\"Pedestrian remains still\")"
   ]
  },
  {
   "cell_type": "code",
   "execution_count": 181,
   "metadata": {},
   "outputs": [
    {
     "name": "stdout",
     "output_type": "stream",
     "text": [
      "Pedestrian arrives to intersection\n",
      "Pedestrian remains still\n"
     ]
    }
   ],
   "source": [
    "light_color = \"red\"\n",
    "\n",
    "print(\"Pedestrian arrives to intersection\")\n",
    "\n",
    "if light_color == 'green':\n",
    "    print(\"Pedestrian crosses the street\") \n",
    "    print(\"Pedestrian arrives to destination\")\n",
    "elif light_color == 'yellow': \n",
    "    print(\"Pedestrian gets ready to cross\")\n",
    "else:\n",
    "    print(\"Pedestrian remains still\")"
   ]
  },
  {
   "cell_type": "markdown",
   "metadata": {},
   "source": [
    "Las condiciones de un if pueden ser tan complejas como sea necesario: cualquier expresión que evalúe a True o False se puede incluir en una cláusula if . Además, podemos incluir estructuras if-elif-\n",
    "else dentro de otras estructuras, a fin de generar flujos de ejecución complejos."
   ]
  },
  {
   "cell_type": "code",
   "execution_count": 182,
   "metadata": {},
   "outputs": [
    {
     "name": "stdout",
     "output_type": "stream",
     "text": [
      "Pedestrian arrives to intersection\n",
      "Pedestrian yells!\n"
     ]
    }
   ],
   "source": [
    "light_color = \"green\" \n",
    "car_blocking_pass = True \n",
    "pedestrian_distracted = False\n",
    "\n",
    "print(\"Pedestrian arrives to intersection\")\n",
    "\n",
    "if light_color == 'green' and not pedestrian_distracted: \n",
    "    if not car_blocking_pass:\n",
    "        print(\"Pedestrian crosses the street\")\n",
    "        print(\"Pedestrian arrives to destination\") \n",
    "    else:\n",
    "        print(\"Pedestrian yells!\")\n",
    "elif light_color == 'yellow' and not pedestrian_distracted:\n",
    "    print(\"Pedestrian gets ready to cross\") \n",
    "else:\n",
    "    print(\"Pedestrian remains still\")"
   ]
  },
  {
   "cell_type": "markdown",
   "metadata": {},
   "source": [
    "### Estructuras de control iterativas\n",
    "\n",
    "Las estructuras de control iterativas permiten ejecutar un mismo bloque de código varias veces. La instrucción `while` (https://docs.python.org/3.8/reference/compound_stmts.html#the-while-statement) permite ejecutar un fragmento de código varias veces, mientras se cumpla una condición:"
   ]
  },
  {
   "cell_type": "code",
   "execution_count": 183,
   "metadata": {},
   "outputs": [
    {
     "name": "stdout",
     "output_type": "stream",
     "text": [
      "Pedestrian arrives to intersection\n",
      "Pedestrian remains still\n",
      "Pedestrian remains still\n",
      "Pedestrian remains still\n",
      "Pedestrian remains still\n",
      "Pedestrian remains still\n",
      "Pedestrian remains still\n",
      "Pedestrian remains still\n",
      "Pedestrian remains still\n",
      "Pedestrian remains still\n",
      "Pedestrian remains still\n",
      "Pedestrian remains still\n",
      "Pedestrian gets ready to cross\n",
      "Pedestrian crosses the street\n",
      "Pedestrian arrives to destination\n"
     ]
    }
   ],
   "source": [
    "light_color = \"red\" \n",
    "its_before_color_change = 10\n",
    "\n",
    "print(\"Pedestrian arrives to intersection\") \n",
    "\n",
    "while light_color != \"green\":\n",
    "    print(\"Pedestrian remains still\")\n",
    "    if light_color == 'yellow': \n",
    "        print(\"Pedestrian gets ready to cross\") \n",
    "        light_color = \"green\"\n",
    "    else:\n",
    "        its_before_color_change = its_before_color_change - 1 \n",
    "        if its_before_color_change == 0:\n",
    "            light_color = \"yellow\"\n",
    "            \n",
    "print(\"Pedestrian crosses the street\")\n",
    "print(\"Pedestrian arrives to destination\")"
   ]
  },
  {
   "cell_type": "markdown",
   "metadata": {},
   "source": [
    "---\n",
    "En el fragmento anterior, el código de dentro del _while_ se ejecuta mientras el semáforo no sea verde. La lógica de condicionales dentro del if hace que el semáforo pase de rojo a amarillo después de 10 iteraciones, y que el semáforo pase de amarillo a verde a la siguiente iteración.\n",
    "\n",
    "La instrucción `for `(https://docs.python.org/3.8/reference/compound_stmts.html#the-for-statement) también permite crear bucles, en este caso iterando sobre una secuencia de objetos:"
   ]
  },
  {
   "cell_type": "code",
   "execution_count": 184,
   "metadata": {},
   "outputs": [
    {
     "name": "stdout",
     "output_type": "stream",
     "text": [
      "The color is now: green\n",
      "The color is now: yellow\n",
      "The color is now: red\n"
     ]
    }
   ],
   "source": [
    "for i in [\"green\", \"yellow\", \"red\"]: \n",
    "    print(\"The color is now: {}\".format(i))"
   ]
  },
  {
   "cell_type": "markdown",
   "metadata": {},
   "source": [
    "En cada iteración del bucle, la variable __i__ toma el valor de uno de los elementos de la lista, en este caso, de uno de los posibles colores del semáforo.\n",
    "\n",
    "En Python es muy habitual utilizar bucles __for__ combinados con __range__ (https://docs.python.org/3.8/library/stdtypes.html#range), una función que crea rangos de números:"
   ]
  },
  {
   "cell_type": "code",
   "execution_count": 185,
   "metadata": {},
   "outputs": [
    {
     "name": "stdout",
     "output_type": "stream",
     "text": [
      "The number is 0\n",
      "The number is 1\n",
      "The number is 2\n",
      "The number is 3\n",
      "The number is 4\n",
      "The number is 5\n",
      "The number is 6\n",
      "The number is 7\n",
      "The number is 8\n",
      "The number is 9\n"
     ]
    }
   ],
   "source": [
    "for i in range(10):\n",
    "    print(\"The number is {}\".format(i))"
   ]
  },
  {
   "cell_type": "markdown",
   "metadata": {},
   "source": [
    "Podemos incluir estructuras iterativas dentro de otras estructuras iterativas, para codificar el flujo que necesitamos para nuestro programa. Por ejemplo, vamos a generar todas las cartas de una baraja francesa:"
   ]
  },
  {
   "cell_type": "code",
   "execution_count": 186,
   "metadata": {},
   "outputs": [
    {
     "name": "stdout",
     "output_type": "stream",
     "text": [
      "['2♥', '3♥', '4♥', '5♥', '6♥', '7♥', '8♥', '9♥', '10♥', 'J♥', 'Q♥', 'K♥', 'A♥', '2♦', '3♦', '4♦', '5♦', '6♦', '7♦', '8♦', '9♦', '10♦', 'J♦', 'Q♦', 'K♦', 'A♦', '2♣', '3♣', '4♣', '5♣', '6♣', '7♣', '8♣', '9♣', '10♣', 'J♣', 'Q♣', 'K♣', 'A♣', '2♠', '3♠', '4♠', '5♠', '6♠', '7♠', '8♠', '9♠', '10♠', 'J♠', 'Q♠', 'K♠', 'A♠']\n"
     ]
    }
   ],
   "source": [
    "suits = [\"\\u2665\", \"\\u2666\", \"\\u2663\", \"\\u2660\"] \n",
    "\n",
    "playing_cards = []\n",
    "\n",
    "for s in suits:\n",
    "    for r in range(2, 15):\n",
    "        if r == 14: t = \"A\"\n",
    "        elif r == 13: t = \"K\"\n",
    "        elif r == 12: t = \"Q\"\n",
    "        elif r == 11: t = \"J\"\n",
    "        else:\n",
    "            t = str(r)\n",
    "            \n",
    "        playing_cards.append(t + s) \n",
    "\n",
    "print(playing_cards)"
   ]
  },
  {
   "cell_type": "markdown",
   "metadata": {},
   "source": [
    "La instrucción `break` (https://docs.python.org/3.8/reference/simple_stmts.html#break) permite salir de un bucle en un momento dado, deteniendo su su ejecución. Por ejemplo, el siguiente bucle __for__ debería ejecutarse 10 veces si consideramos el número de elementos de range(10) , pero a la quinta iteración (\n",
    ") ejecuta el `break` y se interrumpe la ejecución del bucle:"
   ]
  },
  {
   "cell_type": "code",
   "execution_count": 187,
   "metadata": {},
   "outputs": [
    {
     "name": "stdout",
     "output_type": "stream",
     "text": [
      "We are in iteration 0\n",
      "We are in iteration 1\n",
      "We are in iteration 2\n",
      "We are in iteration 3\n",
      "We are in iteration 4\n"
     ]
    }
   ],
   "source": [
    "for i in range(10):\n",
    "    print(\"We are in iteration {}\".format(i)) \n",
    "    if i == 4:\n",
    "        break"
   ]
  },
  {
   "cell_type": "markdown",
   "metadata": {},
   "source": [
    "## Funciones\n",
    "El uso de funciones también altera el flujo de ejecución lineal de un programa. Así, cuando definimos una función (indicada con la palabra clave `def` ) el código dentro de la función no se ejecuta; en cambio, cuando llamamos a la función, ejecutaremos el código que esta contiene:"
   ]
  },
  {
   "cell_type": "code",
   "execution_count": 188,
   "metadata": {},
   "outputs": [
    {
     "name": "stdout",
     "output_type": "stream",
     "text": [
      "3 + 5 = 8\n",
      "10 + 2 = 12\n"
     ]
    },
    {
     "data": {
      "text/plain": [
       "12"
      ]
     },
     "execution_count": 188,
     "metadata": {},
     "output_type": "execute_result"
    }
   ],
   "source": [
    "# Definimos la función suma\n",
    "def suma(a, b):\n",
    "    # El cuerpo de la función no se ejecuta en el momento de la definición \n",
    "    r=a+b\n",
    "    print(\"{} + {} = {}\".format(a, b, r))\n",
    "    return r\n",
    "\n",
    "# Llamamos a la función suma: el cuerpo de la función se ejecutará a continuación\n",
    "suma(3, 5)\n",
    "suma(10, 2)"
   ]
  },
  {
   "cell_type": "markdown",
   "metadata": {},
   "source": [
    "Más adelante veremos con detalle las posibilidades que nos ofrece la definición de funciones y las diferentes opciones en su definición y uso. De momento, es importante recordar que nos permiten alterar el flujo lineal de ejecución de un programa, y que son clave en la creación de código modular (una propiedad importante para conseguir código claro y fácil de mantener).\n",
    "\n",
    "## Guía de estilo\n",
    "Una guía de estilo de código es un documento que describe un conjunto de reglas y recomendaciones a seguir cuando escribimos código en un lenguaje determinado. El PEP8 (https://www.python.org/dev/peps/pep-0008/) es la especificación que recoge la guía de estilo de Python. Por favor, leed ahora este documento e intentad seguir las indicaciones que se dan cuando programéis en Python.\n",
    "\n",
    "La guía debe interpretarse como un conjunto de recomendaciones, a seguir siempre y cuando el sentido común no indique lo contrario. Es decir, no son normas estrictas a cumplir, y en ciertas circunstancias será preferible no hacer caso a algunas de las recomendaciones. En general, sin embargo, seguir las recomendaciones de la guía hará que el código que escribimos sea fácilmente legible, tanto para nosotros mismos como para otros desarrolladores.\n",
    "\n",
    "Existen varias herramientas que ayudan a los desarrolladores a seguir las guías estilo. En los notebooks utilizaremos `pycodestyle` , una herramienta que podemos activar en los notebooks para mostrar mensajes de alerta cuando el código que escribimos se salte las recomendaciones de la guía de estilo. En primer lugar, cargaremos la extensión `pycodestyle_magic` . Después, la activaremos o desactivaremos utilizando las instrucciones `%pycodestyle_on` y `% pycodestyle_off` :"
   ]
  },
  {
   "cell_type": "code",
   "execution_count": 2,
   "metadata": {},
   "outputs": [],
   "source": [
    "%load_ext pycodestyle_magic"
   ]
  },
  {
   "cell_type": "code",
   "execution_count": 3,
   "metadata": {},
   "outputs": [],
   "source": [
    "%pycodestyle_on"
   ]
  },
  {
   "cell_type": "code",
   "execution_count": 4,
   "metadata": {},
   "outputs": [
    {
     "name": "stdout",
     "output_type": "stream",
     "text": [
      "Wrong style\n"
     ]
    }
   ],
   "source": [
    "# Código que sigue la guía de estilo: no genera alertas\n",
    "print(\"Wrong style\")"
   ]
  },
  {
   "cell_type": "code",
   "execution_count": 5,
   "metadata": {},
   "outputs": [
    {
     "name": "stderr",
     "output_type": "stream",
     "text": [
      "2:20: E202 whitespace before ')'\n"
     ]
    },
    {
     "name": "stdout",
     "output_type": "stream",
     "text": [
      "Wrong style\n"
     ]
    }
   ],
   "source": [
    "# Código que no sigue la guía de estilo: genera un mensaje de alerta\n",
    "print(\"Wrong style\" )"
   ]
  },
  {
   "cell_type": "markdown",
   "metadata": {},
   "source": [
    "Las dos instrucciones relativas a la revisión del estilo de código empiezan por el carácter % . Estas instrucciones no son sentencias de Python, sino instrucciones especiales del kernel que se utiliza en los notebooks para proveer funcionalidades adicionales. Estas instrucciones se conocen en inglés como magic\n",
    "commands."
   ]
  },
  {
   "cell_type": "markdown",
   "metadata": {},
   "source": [
    "## Ejercicios\n",
    "\n",
    "* Calculad la suma de los primeros 100 números pares."
   ]
  },
  {
   "cell_type": "code",
   "execution_count": 10,
   "metadata": {},
   "outputs": [
    {
     "name": "stdout",
     "output_type": "stream",
     "text": [
      "9900\n"
     ]
    }
   ],
   "source": [
    "# Opción 1: \n",
    "# utilizando una list comprehension que filtra los\n",
    "# valores pares (i % 2 == 0) y sumando los elementos de la lista con sum:\n",
    "suma = sum([i for i in range(200) if i % 2 == 0])\n",
    "print(suma)"
   ]
  },
  {
   "cell_type": "code",
   "execution_count": 12,
   "metadata": {},
   "outputs": [
    {
     "name": "stdout",
     "output_type": "stream",
     "text": [
      "9900\n"
     ]
    }
   ],
   "source": [
    "# Opción 2: creando un bucle for con un if dentro, por lo que solo sumamos\n",
    "# los valores pares (i % 2 == 0)\n",
    "suma = 0\n",
    "\n",
    "for i in range(200):\n",
    "    if i % 2 == 0:\n",
    "        suma = suma + i\n",
    "print(suma)"
   ]
  },
  {
   "cell_type": "markdown",
   "metadata": {},
   "source": [
    "* La secuencia de Fibonnacci es una secuencia en la que cada término es la suma de los dos términos anteriores (la secuencia comienza con los valores 1 y 1): \n",
    ">1,1,2,3,5,8,13,21,...\n",
    "> \n",
    "> Calculad la suma de los 50 primeros valores de la secuencia."
   ]
  },
  {
   "cell_type": "code",
   "execution_count": 15,
   "metadata": {},
   "outputs": [
    {
     "name": "stdout",
     "output_type": "stream",
     "text": [
      "[1, 1, 2, 3, 5, 8, 13, 21, 34, 55, 89, 144, 233, 377, 610, 987, 1597, 2584, 4181, 6765, 10946, 17711, 28657, 46368, 75025, 121393, 196418, 317811, 514229, 832040, 1346269, 2178309, 3524578, 5702887, 9227465, 14930352, 24157817, 39088169, 63245986, 102334155, 165580141, 267914296, 433494437, 701408733, 1134903170, 1836311903, 2971215073, 4807526976, 7778742049, 12586269025]\n",
      "32951280098\n"
     ]
    }
   ],
   "source": [
    "# Opción 1: creando una lista con los valores a sumar\n",
    "# Creamos una lista con los 50 primeros valores\n",
    "fib = [1, 1]\n",
    "\n",
    "for i in range(48):\n",
    "    fib.append(fib[-1] + fib[-2])\n",
    "print(fib)\n",
    "\n",
    "# Sumamos los valores de la secuencia\n",
    "suma = sum(fib)\n",
    "print(suma)"
   ]
  },
  {
   "cell_type": "code",
   "execution_count": 19,
   "metadata": {},
   "outputs": [
    {
     "name": "stdout",
     "output_type": "stream",
     "text": [
      "32951280098\n"
     ]
    }
   ],
   "source": [
    "# Opción 2: sin crear una lista con los valores de la secuencia\n",
    "suma = 2\n",
    "\n",
    "# Guardamos los dos últimos valores de la secuencia en las variables l1 y l2\n",
    "l1, l2 = 1, 1\n",
    "\n",
    "for i in range(48):\n",
    "    n = l1 + l2\n",
    "    suma += n\n",
    "    l2 = l1\n",
    "    l1 = n\n",
    "\n",
    "print(suma)"
   ]
  },
  {
   "cell_type": "markdown",
   "metadata": {},
   "source": [
    "* Se dice que un número es primo si solo es divisible por sí mismo y por 1. Generad una lista con los 100 primeros números primos."
   ]
  },
  {
   "cell_type": "code",
   "execution_count": 25,
   "metadata": {},
   "outputs": [
    {
     "name": "stdout",
     "output_type": "stream",
     "text": [
      "[2, 3, 5, 7, 11, 13, 17, 19, 23, 29, 31, 37, 41, 43, 47, 53, 59, 61, 67, 71, 73, 79, 83, 89, 97, 101, 103, 107, 109, 113, 127, 131, 137, 139, 149, 151, 157, 163, 167, 173, 179, 181, 191, 193, 197, 199, 211, 223, 227, 229, 233, 239, 241, 251, 257, 263, 269, 271, 277, 281, 283, 293, 307, 311, 313, 317, 331, 337, 347, 349, 353, 359, 367, 373, 379, 383, 389, 397, 401, 409, 419, 421, 431, 433, 439, 443, 449, 457, 461, 463, 467, 479, 487, 491, 499, 503, 509, 521, 523, 541]\n"
     ]
    }
   ],
   "source": [
    "primes = [2]\n",
    "i = 3\n",
    "\n",
    "while len(primes) != 100:\n",
    "    is_prime = True\n",
    "    # Si i es divisible por cualquiera de los primo que ya hemos identificado,\n",
    "    # entonces i no es primo\n",
    "    for p in primes:\n",
    "        if i % p == 0:\n",
    "            is_prime = False\n",
    "            break\n",
    "    # Si i es primo, lo añadimos a la lista de primos\n",
    "    if is_prime:\n",
    "        primes.append(i)\n",
    "    i += 2\n",
    "\n",
    "print(primes)"
   ]
  },
  {
   "cell_type": "markdown",
   "metadata": {},
   "source": [
    "* Calculad la suma de los cuadrados de los números naturales entre 100 y 200 (ambos valores incluidos)."
   ]
  },
  {
   "cell_type": "code",
   "execution_count": 27,
   "metadata": {},
   "outputs": [
    {
     "data": {
      "text/plain": [
       "2358350"
      ]
     },
     "execution_count": 27,
     "metadata": {},
     "output_type": "execute_result"
    }
   ],
   "source": [
    "# Usamos sum sobre una list comprehension que nos genera los valores\n",
    "# de los cuadrados solicitados\n",
    "sum([x**2 for x in range(100, 201)])"
   ]
  },
  {
   "cell_type": "markdown",
   "metadata": {},
   "source": [
    "* Generad todos los números de 3 dígitos que se pueden generar con los dígitos 3, 5 y 7."
   ]
  },
  {
   "cell_type": "code",
   "execution_count": 30,
   "metadata": {},
   "outputs": [
    {
     "name": "stdout",
     "output_type": "stream",
     "text": [
      "[333, 335, 337, 353, 355, 357, 373, 375, 377, 533, 535, 537, 553, 555, 557, 573, 575, 577, 733, 735, 737, 753, 755, 757, 773, 775, 777]\n"
     ]
    }
   ],
   "source": [
    "digits = [3, 5, 7]\n",
    "\n",
    "# Creamos tres bucles for que recorren la lista de posibles dígitos\n",
    "result = []\n",
    "for d1 in digits:\n",
    "    for d2 in digits:\n",
    "        for d3 in digits:\n",
    "            result.append(100*d1 + 10*d2 + d3)\n",
    "\n",
    "print(result)"
   ]
  },
  {
   "cell_type": "markdown",
   "metadata": {},
   "source": [
    "* Contad y almacenad el número de veces que aparece cada palabra en el siguiente texto.\n",
    "\n",
    "Forty-two is a pronic number and an abundant number;  \n",
    "its prime factorization 2 · 3 · 7 makes it the second sphenic number and also the second of the form (2 · 3 · r)."
   ]
  },
  {
   "cell_type": "code",
   "execution_count": 42,
   "metadata": {},
   "outputs": [
    {
     "name": "stdout",
     "output_type": "stream",
     "text": [
      "{'Forty-two': 1, 'is': 1, 'a': 1, 'pronic': 1, 'number': 2, 'and': 2, 'an': 1, 'abundant': 1, 'number;': 1, 'its': 1, 'prime': 1, 'factorization': 1, '2': 1, '·': 4, '3': 2, '7': 1, 'makes': 1, 'it': 1, 'the': 3, 'second': 2, 'sphenic': 1, 'also': 1, 'of': 1, 'form': 1, '(2': 1, 'r)': 1}\n"
     ]
    }
   ],
   "source": [
    "text = \"Forty-two is a pronic number and an abundant number; \"\n",
    "text += \"its prime factorization 2 · 3 · 7 makes it the second sphenic \"\n",
    "text += \"number and also the second of the form (2 · 3 · r)\"\n",
    "\n",
    "# Usamos un diccionario para almacenar el número de veces que\n",
    "# sale cada palabra\n",
    "word_counter = {}\n",
    "\n",
    "for word in text.split(\" \"):\n",
    "    if word in word_counter:\n",
    "        # Si ya hemos encontrado la palabra anteriormente, incrementamos\n",
    "        # el contador\n",
    "        word_counter[word] += 1\n",
    "    else:\n",
    "        # Si es la primera vez que veamos la palabra, ponemos el contador a 1\n",
    "        word_counter[word] = 1\n",
    "\n",
    "print(word_counter)"
   ]
  },
  {
   "cell_type": "code",
   "execution_count": 44,
   "metadata": {},
   "outputs": [
    {
     "name": "stdout",
     "output_type": "stream",
     "text": [
      "{\n",
      "  \"a\": {\n",
      "    \"1\": [],\n",
      "    \"2\": []\n",
      "  },\n",
      "  \"b\": {\n",
      "    \"1\": [],\n",
      "    \"2\": []\n",
      "  }\n",
      "}\n"
     ]
    }
   ],
   "source": [
    "# PARA IMPRIMIR BONITO UN DICTIONARIO\n",
    "import json\n",
    "_d = {'a': {'1': [], '2': []}, 'b': {'1': [], '2': [], }}\n",
    "print(json.dumps(_d, indent=2))"
   ]
  },
  {
   "cell_type": "markdown",
   "metadata": {},
   "source": [
    "* Generad todas las posibles subcadenas de 3 letras de la siguiente palabra: 'Electrodinamometro'."
   ]
  },
  {
   "cell_type": "code",
   "execution_count": 47,
   "metadata": {},
   "outputs": [
    {
     "name": "stdout",
     "output_type": "stream",
     "text": [
      "['Ele', 'lec', 'ect', 'ctr', 'tro', 'rod', 'odi', 'din', 'ina', 'nam', 'amo', 'mom', 'ome', 'met', 'etr', 'tro']\n"
     ]
    }
   ],
   "source": [
    "word = \"Electrodinamometro\"\n",
    "words = []\n",
    "\n",
    "# Extraemos la subcadena de 3 letras que comienza en cada posible\n",
    "# posición inicial\n",
    "for i in range(len(word)-2):\n",
    "    words.append(word[i:i+3])\n",
    "\n",
    "print(words)"
   ]
  },
  {
   "cell_type": "markdown",
   "metadata": {},
   "source": [
    "* Cread una función que devuelva todas las posibles subcadenas de n letras de una palabra cualquiera. La función recibirá como parámetros el número de letras n y la palabra word , y devolverá una lista con las subcadenas."
   ]
  },
  {
   "cell_type": "code",
   "execution_count": 49,
   "metadata": {},
   "outputs": [],
   "source": [
    "def substrings(n, word):\n",
    "    words = []\n",
    "    for i in range(len(word)-n+1):\n",
    "        words.append(word[i:i+n])\n",
    "    return words"
   ]
  },
  {
   "cell_type": "code",
   "execution_count": 50,
   "metadata": {},
   "outputs": [
    {
     "data": {
      "text/plain": [
       "['Elec',\n",
       " 'lect',\n",
       " 'ectr',\n",
       " 'ctro',\n",
       " 'trod',\n",
       " 'rodi',\n",
       " 'odin',\n",
       " 'dina',\n",
       " 'inam',\n",
       " 'namo',\n",
       " 'amom',\n",
       " 'mome',\n",
       " 'omet',\n",
       " 'metr',\n",
       " 'etro']"
      ]
     },
     "execution_count": 50,
     "metadata": {},
     "output_type": "execute_result"
    }
   ],
   "source": [
    "substrings(4, word)"
   ]
  },
  {
   "cell_type": "markdown",
   "metadata": {},
   "source": [
    "## Session information "
   ]
  },
  {
   "cell_type": "code",
   "execution_count": 51,
   "metadata": {},
   "outputs": [
    {
     "name": "stdout",
     "output_type": "stream",
     "text": [
      "-----\n",
      "sinfo       0.3.1\n",
      "-----\n",
      "IPython             7.19.0\n",
      "jupyter_client      6.1.7\n",
      "jupyter_core        4.6.3\n",
      "jupyterlab          2.2.6\n",
      "notebook            6.1.4\n",
      "-----\n",
      "Python 3.8.5 (default, Sep  4 2020, 02:22:02) [Clang 10.0.0 ]\n",
      "macOS-10.16-x86_64-i386-64bit\n",
      "8 logical CPU cores, i386\n",
      "-----\n",
      "Session information updated at 2021-06-24 17:40\n"
     ]
    }
   ],
   "source": [
    "from sinfo import sinfo\n",
    "sinfo()"
   ]
  }
 ],
 "metadata": {
  "kernelspec": {
   "display_name": "Base(Python)",
   "language": "python",
   "name": "anaconda-base"
  },
  "language_info": {
   "codemirror_mode": {
    "name": "ipython",
    "version": 3
   },
   "file_extension": ".py",
   "mimetype": "text/x-python",
   "name": "python",
   "nbconvert_exporter": "python",
   "pygments_lexer": "ipython3",
   "version": "3.8.5"
  }
 },
 "nbformat": 4,
 "nbformat_minor": 4
}
