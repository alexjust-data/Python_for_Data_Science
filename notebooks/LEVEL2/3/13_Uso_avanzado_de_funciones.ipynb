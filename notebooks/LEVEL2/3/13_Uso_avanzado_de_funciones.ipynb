{
 "cells": [
  {
   "cell_type": "markdown",
   "metadata": {},
   "source": [
    "<div style=\"float: right; width: 50%;\">\n",
    "    <p style=\"margin: 0; text-align:right;\">Python en Ciencia de Datos Aplicada</p>\n",
    "    <p style=\"margin: 0; text-align:right; padding-button: 100px;\">Uso avanzado de funciones en Python</p>\n",
    "</div>\n",
    "\n",
    "</div>\n",
    "<div style=\"width: 100%; clear: both;\">\n",
    "<div style=\"width:100%;\">&nbsp;</div>"
   ]
  },
  {
   "cell_type": "markdown",
   "metadata": {},
   "source": [
    "# Uso avanzado de funciones\n",
    "---"
   ]
  },
  {
   "cell_type": "markdown",
   "metadata": {},
   "source": [
    "En esta unidad se repasan muy rápidamente los conceptos básicos de funciones y se exponen algunos conceptos más avanzados sobre el uso de funciones en Python.  \n",
    "\n",
    "En primer lugar, se explica qué es el ámbito (el `scope`) de una variable.. En segundo lugar, se repasa como devolver valores desde funciones, se comentan los posibles valores que puede devolver una función y se presentan algunas situaciones que pueden parecer especiales, tales como las funciones que devuelven funciones.\n",
    "\n",
    "A continuación, se expone cómo funcionan los parámetros de las funciones en Python. Se habla de cómo se pasan estos parámetros y qué pasa cuando los modificamos, de la definición de funciones con argumentos opcionales y con un número de argumentos indeterminado, y también de cómo pasar funciones como argumentos de otras funciones.\n",
    "\n",
    "Seguidamente, se hace una pequeña introducción a la programación funcional en Python, pre- sentando las tres funciones básicas de este paradigma de programación (map, filter y reduce).\n",
    "Después, se presentan las funciones anónimas, y se ponen ejemplos de uso de este tipo de funciones cuando se utiliza `map`, `filter` y `reduce`.\n",
    "\n",
    "Finalmente, se explica que es el docstring, como podemos consultarlo y qué convenciones se utilizan a la hora de definir el docstring de las funciones.\n",
    "\n",
    "A continuación se incluye la tabla de contenidos, que podéis utilizar para navegar por el documento:"
   ]
  },
  {
   "cell_type": "code",
   "execution_count": 2,
   "metadata": {},
   "outputs": [],
   "source": [
    " %load_ext pycodestyle_magic"
   ]
  },
  {
   "cell_type": "code",
   "execution_count": 3,
   "metadata": {},
   "outputs": [],
   "source": [
    "# Activamos las alertas de estilo\n",
    "%pycodestyle_on"
   ]
  },
  {
   "cell_type": "markdown",
   "metadata": {},
   "source": [
    "## Funciones\n",
    "Como ya sabemos, una función es una manera de encapsular código, que nos permite reaprovecharlo para diversas tareas. Una función es un fragmento de código que tiene un nombre y que realiza una tarea específica.\n",
    "\n",
    "En Python definimos una función con la palabra reservada `def`, seguida del nombre que damos a la función y los parámetros que recibe entre paréntesis. Una función puede devolver un valor, que se indica con la palabra return."
   ]
  },
  {
   "cell_type": "code",
   "execution_count": 5,
   "metadata": {},
   "outputs": [],
   "source": [
    "# Definimos la función de nombre 'sum_two_values' con dos argumentos:\n",
    "# 'x' y 'y':\n",
    "def sum_two_values(x, y):\n",
    "    \"\"\"Return the value of the sum.\"\"\"\n",
    "    return x + y"
   ]
  },
  {
   "cell_type": "markdown",
   "metadata": {},
   "source": [
    "Para ejecutar una función, la llamamos utilizando su nombre, y especificando los argumentos:"
   ]
  },
  {
   "cell_type": "code",
   "execution_count": 6,
   "metadata": {},
   "outputs": [
    {
     "name": "stdout",
     "output_type": "stream",
     "text": [
      "8\n"
     ]
    }
   ],
   "source": [
    "r = sum_two_values(3, 5)\n",
    "\n",
    "print(r)"
   ]
  },
  {
   "cell_type": "markdown",
   "metadata": {},
   "source": [
    "### Ámbito de visibilidad\n",
    "Como ya hemos visto, la asignación de una variable en cualquier celda de un notebook permite utilizar esta variable en todo el notebook. Así pues, por ejemplo, podemos mostrar el contenido de la variable r asignada en la celda anterior en la siguiente celda:"
   ]
  },
  {
   "cell_type": "code",
   "execution_count": 7,
   "metadata": {},
   "outputs": [
    {
     "name": "stdout",
     "output_type": "stream",
     "text": [
      "8\n"
     ]
    }
   ],
   "source": [
    "print(r)"
   ]
  },
  {
   "cell_type": "markdown",
   "metadata": {},
   "source": [
    "Si intentamos utilizar una variable que no hayamos asignado anteriormente, Python lanza la excepción NameError:"
   ]
  },
  {
   "cell_type": "code",
   "execution_count": 9,
   "metadata": {},
   "outputs": [
    {
     "name": "stdout",
     "output_type": "stream",
     "text": [
      "name 'undef_var' is not defined\n"
     ]
    }
   ],
   "source": [
    "try:\n",
    "    print(undef_var)\n",
    "except NameError as e:\n",
    "    print(e)"
   ]
  },
  {
   "cell_type": "markdown",
   "metadata": {},
   "source": [
    "Este error aparece ya que la variable __undef_var__ no se ha asignado con anterioridad a la ejecución del print sobre la variable.\n",
    "\n",
    "Recordad que las diferentes celdas de una notebook pueden ejecutarse de manera independiente, y que el orden de ejecución de las celdas (y no el orden en el que se encuentran dentro del notebook) determinará el flujo de ejecución. Cuando programamos utilizando notebooks es muy recomendable que estos se puedan ejecutar linealmente sin errores, es decir, que el resultado esperado del notebook sea el que se obtiene al pulsar el botón del Menú Kernel, Restart and Run All.\n",
    "\n",
    "* `variable global`: Decimos que una variable es global cuando ésta se asigna fuera de una función (como en el caso tanto de la variable __r__ como de la variable __undef_var__). \n",
    "* `variable local`: Por el contrario, diremos que una variable es local cuando la definimos dentro de una función. No puede ser utilizada fuera del cuerpo de la función donde está definida. Puede ser utilizada tanto desde fuera de cualquier función como desde el cuerpo de las funciones"
   ]
  },
  {
   "cell_type": "code",
   "execution_count": 14,
   "metadata": {},
   "outputs": [],
   "source": [
    "# Definimos una variable global\n",
    "global_var = \"This is a global variable\"\n",
    "\n",
    "\n",
    "def fun_1():\n",
    "    # Definimos una variable local dentro de fun_1\n",
    "    local_var_1 = \"local_var_1 is local to fun_1\"\n",
    "    # Mostramos el valor de la variable global y de la local\n",
    "    print(global_var)\n",
    "    print(local_var_1)\n",
    "\n",
    "\n",
    "def fun_2():\n",
    "    # Mostramos la variable global\n",
    "    print(global_var)\n",
    "    # Intentamos acceder a la variable local local_var_1,\n",
    "    # cosa que generará un error ya que no está definida\n",
    "    # dentro de la función fun_2\n",
    "    print(local_var_1)"
   ]
  },
  {
   "cell_type": "code",
   "execution_count": 15,
   "metadata": {},
   "outputs": [
    {
     "name": "stdout",
     "output_type": "stream",
     "text": [
      "This is a global variable\n"
     ]
    }
   ],
   "source": [
    "# Mostramos la variable global\n",
    "print(global_var)"
   ]
  },
  {
   "cell_type": "code",
   "execution_count": 17,
   "metadata": {},
   "outputs": [
    {
     "name": "stdout",
     "output_type": "stream",
     "text": [
      "Error: Variable no definida\n"
     ]
    }
   ],
   "source": [
    "# Comprobamos como no podemos acceder a la variable local local_var_1\n",
    "# ya que ésta está definida dentro del ámbito de la función fun_1\n",
    "try:\n",
    "    print(local_var_1)\n",
    "except NameError:\n",
    "    print(\"Error: Variable no definida\")"
   ]
  },
  {
   "cell_type": "code",
   "execution_count": 19,
   "metadata": {},
   "outputs": [
    {
     "name": "stdout",
     "output_type": "stream",
     "text": [
      "This is a global variable\n",
      "local_var_1 is local to fun_1\n"
     ]
    }
   ],
   "source": [
    "# Ejecutamos fun_1, que muestra correctamente el valor de la variable\n",
    "# global y la local\n",
    "fun_1()"
   ]
  },
  {
   "cell_type": "code",
   "execution_count": 21,
   "metadata": {},
   "outputs": [
    {
     "name": "stdout",
     "output_type": "stream",
     "text": [
      "This is a global variable\n",
      "Error: Variable no definida\n"
     ]
    }
   ],
   "source": [
    "# Ejecutamos fun_2, que muestra correctamente el valor de la variable\n",
    "# global pero lanza una excepción al acceder a la variable local\n",
    "# ya que ésta está definida en fun_1\n",
    "try:\n",
    "    fun_2()\n",
    "except NameError:\n",
    "    print(\"Error: Variable no definida\")"
   ]
  },
  {
   "cell_type": "markdown",
   "metadata": {},
   "source": [
    "Hasta ahora hemos visto el comportamiento de las variables globales y locales dentro y fuera de funciones. ¿Qué pasa, sin embargo, si definimos una variable local (dentro de una función) que tiene el mismo nombre que una variable global definida fuera de la función?"
   ]
  },
  {
   "cell_type": "code",
   "execution_count": 24,
   "metadata": {},
   "outputs": [
    {
     "name": "stdout",
     "output_type": "stream",
     "text": [
      "This is a global variable\n"
     ]
    }
   ],
   "source": [
    "def fun_3():\n",
    "    # Asignamos la variable global_var\n",
    "    global_var = \"Now this is a local var!\"\n",
    "    # Mostramos el valor de global_var\n",
    "    print(global_var)\n",
    "\n",
    "\n",
    "# Mostramos el valor de global_var antes de ejecutar la función fun_3\n",
    "print(global_var)"
   ]
  },
  {
   "cell_type": "code",
   "execution_count": 25,
   "metadata": {},
   "outputs": [
    {
     "name": "stdout",
     "output_type": "stream",
     "text": [
      "Now this is a local var!\n"
     ]
    }
   ],
   "source": [
    "# Ejecutamos la función fun_3\n",
    "fun_3()"
   ]
  },
  {
   "cell_type": "code",
   "execution_count": 27,
   "metadata": {},
   "outputs": [
    {
     "name": "stdout",
     "output_type": "stream",
     "text": [
      "This is a global variable\n"
     ]
    }
   ],
   "source": [
    "# Mostramos el valor de global_var después de ejecutar la función fun_3\n",
    "print(global_var)"
   ]
  },
  {
   "cell_type": "markdown",
   "metadata": {},
   "source": [
    "Por un lado, tened en cuenta que el valor de la variable global _global_var_ no cambia con la ejecución de la función: el print de antes de la llamada a fun_3 y el print de después de la llamada devuelven exactamente el mismo valor.  \n",
    "\n",
    "Por otra parte, ten cuenta que dentro de la función fun_3, la variable _global_var_ toma un nuevo valor. En realidad, lo que hemos hecho al asignar _global_var_ dentro de la función es crear una nueva variable con el mismo nombre, dentro del ámbito de la función. Este comportamiento difiere de lo que pasaba al llamar las funciones fun_1 y fun_2, donde el nombre global_var hacía referencia a la variable global. La diferencia se debe a que en las funciones 1 y 2 simplemente se mostraba el contenido de la variable, mientras que en la función 3 la variable se asigna.\n",
    "\n",
    "Así pues, £como podemos reasignar el valor de una variable global desde dentro de una función? Para ello, habrá que hacer uso de la palabra reservada `global`, que permitirá indicar, en el contexto de una función, que queremos utilizar una variable global:"
   ]
  },
  {
   "cell_type": "code",
   "execution_count": 29,
   "metadata": {},
   "outputs": [
    {
     "name": "stdout",
     "output_type": "stream",
     "text": [
      "This is a global variable\n",
      "This is a global variable\n"
     ]
    }
   ],
   "source": [
    "def fun_4():\n",
    "    # Identificamos la variable global_var como global\n",
    "    global global_var\n",
    "    # Asignamos un nuevo valor a la variable global global_var\n",
    "    global_var = \"Changing the value of the global var\"\n",
    "\n",
    "\n",
    "# Mostramos el valor de global_var\n",
    "print(global_var)\n",
    "# Mostramos el valor de global_var antes de ejecutar la función fun_4\n",
    "print(global_var)"
   ]
  },
  {
   "cell_type": "markdown",
   "metadata": {},
   "source": [
    "Notad cómo, al llamar a fun_4, se modifica el valor de la variable global global_var (el valor de la variable en el último print es el valor asignado dentro de la función)."
   ]
  },
  {
   "cell_type": "markdown",
   "metadata": {},
   "source": [
    "#### Funciones dentro de funciones\n",
    "Python permite definir funciones dentro de otras funciones. En esta situación, el comportamiento de las variables definidas en estas funciones es similar al que hemos descrito anteriormente.\n",
    "\n",
    "En el ejemplo siguiente hay una variable global y y una función _outer_fun_ definida también en el ámbito global. Dentro de la función _outer_fun_, se define una variable local `x` con valor `3`, y cuatro funciones internas (__inner_fun_i__ con i de 1 a 4). Cada una de las cuatro funciones internas muestra los posibles comportamientos con relación a la variable x definida en la función externa: \n",
    "* inner_fun_1 muestra el valor de la variable x definida en outer_fun. \n",
    "* inner_fun_2 asigna a una variable x el valor 5. Esto crea una nueva variable llamada x, local a inner_fun_2. Por lo tanto, el valor de la variable x de outer_fun no se modifica. \n",
    "* inner_fun_3 utiliza la palabra clave nonlocal para indicar que quiere acceder a la variable x del ámbito de outer_fun, y reasigna el valor de x a 7. Por lo tanto, cuando se vuelve a mostrar el valor de x desde la función outer_fun, el valor ha sido modificado. El nonlocal tiene una funcionalidad similar al global que habíamos visto en la función fun_4, pero sirve para referirse a una variable definida en un ámbito supe- rior no global. \n",
    "* inner_fun_4 intenta acceder a la variable my_var_if1, que es local a la función inner_fun_1, generando, en consecuencia, una excepción."
   ]
  },
  {
   "cell_type": "code",
   "execution_count": 49,
   "metadata": {},
   "outputs": [],
   "source": [
    "# Definimos la función outer_fun al ámbito global\n",
    "def outer_fun():\n",
    "\n",
    "    # Definimos la función inner_fun_1 dentro de outer_fun\n",
    "    def inner_fun_1():\n",
    "        # Definimos la variable my_var_if1 dentro inner_fun_1\n",
    "        my_var_if1 = \"This is defined in inner_fun_1\"\n",
    "        # Mostramos el valor de la variable de outer_fun x\n",
    "        # y la variable global y\n",
    "\n",
    "        print(\"Inner fun 2 x:\\t{}\".format(x))\n",
    "        print(\"Inner fun 1 y:\\t{}\".format(y))\n",
    "\n",
    "    # Definimos la función inner_fun_2 dentro de outer_fun\n",
    "    def inner_fun_2():\n",
    "        # Definimos y mostramos una nueva variable x local\n",
    "        # a inner_fun_2 con valor 5\n",
    "        x = 5\n",
    "        print(\"Inner fun 2 x:\\t{}\".format(x))\n",
    "\n",
    "    # Definimos la función inner_fun_3 dentro de outer_fun\n",
    "    def inner_fun_3():\n",
    "        # Indicamos que utilizaremos la variable x no local\n",
    "        # (definida en outer_fun)\n",
    "        nonlocal x\n",
    "        # Modificamos y mostramos el valor de x\n",
    "        x = 7\n",
    "        print(\"Inner fun 3 x:\\t{}\".format(x))\n",
    "\n",
    "    # Definimos la función inner_fun_4 dentro de outer_fun\n",
    "    def inner_fun_4():\n",
    "        try:\n",
    "            # Intentamos acceder a la variable my_var_if1 definida dentro\n",
    "            # de inner_fun_1 (lo que generará una excepción)\n",
    "            print(my_var_if1)\n",
    "        except NameError:\n",
    "            print(\"Error: undefined variable\")\n",
    "\n",
    "    # Mostramos el valor de la variable global y\n",
    "    print(\"Outer fun 1 y:\\t{}\".format(y))\n",
    "\n",
    "    # Definimos una variable local a outer_fun de\n",
    "    # nombre x y valor 3\n",
    "    x = 3\n",
    "\n",
    "    # Vamos mostrando el valor de x y ejecutando las funciones internas,\n",
    "    # para ver el efecto que tienen sobre x\n",
    "    print(\"Outer fun x:\\t{}\".format(x))\n",
    "    inner_fun_1()\n",
    "    print(\"Outer fun x:\\t{}\".format(x))\n",
    "    inner_fun_2()\n",
    "    print(\"Outer fun x:\\t{}\".format(x))\n",
    "    inner_fun_3()\n",
    "    print(\"Outer fun x:\\t{}\".format(x))\n",
    "    inner_fun_4()\n",
    "\n",
    "\n",
    "# Definimos una variable global y\n",
    "y = 1"
   ]
  },
  {
   "cell_type": "code",
   "execution_count": 51,
   "metadata": {},
   "outputs": [
    {
     "name": "stdout",
     "output_type": "stream",
     "text": [
      "Outer fun 1 y:\t1\n",
      "Outer fun x:\t3\n",
      "Inner fun 2 x:\t3\n",
      "Inner fun 1 y:\t1\n",
      "Outer fun x:\t3\n",
      "Inner fun 2 x:\t5\n",
      "Outer fun x:\t3\n",
      "Inner fun 3 x:\t7\n",
      "Outer fun x:\t7\n",
      "Error: undefined variable\n"
     ]
    }
   ],
   "source": [
    "# Llamamos la función outer_fun\n",
    "outer_fun()"
   ]
  },
  {
   "cell_type": "markdown",
   "metadata": {},
   "source": [
    "Definir funciones dentro de funciones permite __encapsular__ código, es decir, ocultar ciertas partes del código, de forma que sólo puedan ser llamadas desde ciertas funciones. Siguiendo con el ejemplo anterior, las funciones __inner_fun_i__ sólo son visibles desde dentro de __outer_fun__, y no pueden ser llamadas desde el ámbito global:"
   ]
  },
  {
   "cell_type": "code",
   "execution_count": 59,
   "metadata": {},
   "outputs": [
    {
     "name": "stdout",
     "output_type": "stream",
     "text": [
      "Error: undefined 'inner_fun_1'\n"
     ]
    }
   ],
   "source": [
    "try:\n",
    "    # Intentamos ejecutar una de las funciones internas, lo que generará\n",
    "    # una excepción ya que no están definidas en el ámbito global\n",
    "    inner_fun_1()\n",
    "except NameError:\n",
    "    print(\"Error: undefined 'inner_fun_1'\")"
   ]
  },
  {
   "cell_type": "markdown",
   "metadata": {},
   "source": [
    "__¿Por qué podemos querer encapsular el código?__\n",
    "\n",
    "Supongamos, por ejemplo, que estamos analizando un conjunto de datos con las localizaciones actuales de un conjunto de personas, así como la localización del domicilio y del lugar de trabajo de éstas, y que queremos saber si estas personas se encuentran cerca tanto del puesto de trabajo como del domicilio. Para ello, implementamos una función __is_close__ que nos devuelve un booleano que indica si están cerca o no de ambas localizaciones. Esta función necesitará calcular la distancia entre dos puntos dos veces (una para calcular la distancia entre la localización actual y el domicilio, y una segunda vez para saber la distancia entre la localización actual y el lugar de trabajo). \n",
    "\n",
    "Por lo tanto, para no repetir código, definiremos otra función __dist__ que calcule la distancia entre dos puntos. Ahora bien, para el análisis que queremos hacer, no utilizaremos la distancia euclídea, sino que utilizaremos la distancia de Manhattan. En el resto de nuestro código, pero, nunca utilizaremos esta definición de distancia, y queremos evitar que algún otro programador del equipo, por error, llame a nuestra función distancia __dist__ (pensando, quizás, que calcula la distancia más habitual, la Euclidiana). \n",
    "\n",
    "Una posible manera de hacerlo es definir la función __dist__ como una `función local` a __is_close__. De este modo, podemos utilizar una función y no tendremos que repetir código al calcular las distancias y, al mismo tiempo, evitaremos que se llame esta función desde fuera de la función is_close:"
   ]
  },
  {
   "cell_type": "code",
   "execution_count": 69,
   "metadata": {},
   "outputs": [],
   "source": [
    "def is_close(x, y, l1_x, l1_y, l2_x, l2_y):\n",
    "    \"\"\"\n",
    "    Computes whether a location is nearby two other locations.\n",
    "\n",
    "    Computes if location (x,y) is close to two other locations,\n",
    "    (l1_x, l1_y) and (l2_x, l2_y).\n",
    "    \"\"\"\n",
    "\n",
    "    def dist(x1, y1, x2, y2):\n",
    "        \"\"\"\n",
    "        Computes the Manhattan distance between (x1, y1) and (x2, y2).\n",
    "        \"\"\"\n",
    "        return abs(x1 - x2) + abs(y1 - y2)\n",
    "\n",
    "    # Consideramos que un punto está cerca de otro si la distancia entre ellos\n",
    "    # es inferior a lim\n",
    "    lim = 10\n",
    "\n",
    "    # Retornamos si (x, y) está cerca tanto de\n",
    "    # (l1_x, l1_y) como de (l2_x, l2_y)\n",
    "    return (dist(x, y, l1_x, l1_y) < lim) and (dist(x, y, l2_x, l2_y) < lim)"
   ]
  },
  {
   "cell_type": "code",
   "execution_count": 76,
   "metadata": {},
   "outputs": [
    {
     "name": "stdout",
     "output_type": "stream",
     "text": [
      "(0, 0) is close to (1, 4) and (-7, 1)?: True\n"
     ]
    }
   ],
   "source": [
    "# Calculamos si la dirección actual (0, 0) está cerca de (1, 4) y (-7, 1)\n",
    "r1 = is_close(0, 0, 1, 4, -7, 1)\n",
    "\n",
    "print(\"(0, 0) is close to (1, 4) and (-7, 1)?: {}\".format(r1))"
   ]
  },
  {
   "cell_type": "code",
   "execution_count": 75,
   "metadata": {},
   "outputs": [
    {
     "name": "stdout",
     "output_type": "stream",
     "text": [
      "(0, 0) is close to (1, 4) and (15, 1)?: False\n"
     ]
    }
   ],
   "source": [
    "# Calculamos si la dirección actual (0, 0) está cerca de (1, 4) y (15, 1)\n",
    "r2 = is_close(0, 0, 1, 4, 15, 1)\n",
    "\n",
    "print(\"(0, 0) is close to (1, 4) and (15, 1)?: {}\".format(r2))"
   ]
  },
  {
   "cell_type": "markdown",
   "metadata": {},
   "source": [
    "Antes de terminar esta sección, hacemos un apunte sobre la implementación de la función __is_close__. Fijaos que la función debe devolver `True` si se cumple una determinada condición (si el usuario se encuentra cerca del trabajo y de su vivienda) y `False` de lo contrario. Una posible manera de implementar este comportamiento es con una instrucción if:\n",
    "\n",
    "<code>Python\n",
    "if (dist(x, y, l1_x, l1_y) < lim) and (dist (x, y, l2_x, l2_y) < lim):\n",
    "    return True\n",
    "else:\n",
    "    return False\n",
    "</code>"
   ]
  },
  {
   "cell_type": "markdown",
   "metadata": {},
   "source": [
    "Este código utiliza una expresión (que incluye el cálculo de distancias) para diferenciar si la función debe devolver True o False. Es importante notar que la propia expresión ya devuelve un booleano y que, por lo tanto, puede utilizarse directamente como valor de retorno:\n",
    "\n",
    "<code>Python\n",
    "return (dist(x, y, l1_x, l1_y) < lim) and (dist(x, y, l2_x, l2_y) < lim)\n",
    "</code>"
   ]
  },
  {
   "cell_type": "markdown",
   "metadata": {},
   "source": [
    "de modo que obtenemos un código más conciso, que se comporta exactamente igual, y que evita redundancia.\n",
    "\n",
    "### Valor de retorno\n",
    "\n",
    "Una función puede devolver un valor, que se indica con la palabra return. Si la función no tiene return o bien tiene un return vacío, la ejecución de la función devolverá el valor `None`:"
   ]
  },
  {
   "cell_type": "code",
   "execution_count": 1,
   "metadata": {},
   "outputs": [],
   "source": [
    "# Definimos una función sin return\n",
    "def print_sum_v0(x, y):\n",
    "    print(\"Result is: {}\".format(x+y))"
   ]
  },
  {
   "cell_type": "code",
   "execution_count": 5,
   "metadata": {},
   "outputs": [],
   "source": [
    "# Definimos una función con retorno vacío\n",
    "def print_sum_v1(x, y):\n",
    "    print(\"Result is: {}\".format(x+y))\n",
    "    return"
   ]
  },
  {
   "cell_type": "code",
   "execution_count": 6,
   "metadata": {},
   "outputs": [
    {
     "name": "stdout",
     "output_type": "stream",
     "text": [
      "Result is: 8\n",
      "None\n",
      "Result is: 8\n",
      "None\n"
     ]
    }
   ],
   "source": [
    "# El valor de retorno de las dos funciones es None\n",
    "r = print_sum_v0(3, 5)\n",
    "print(r)\n",
    "\n",
    "r = print_sum_v1(3, 5)\n",
    "print(r)"
   ]
  },
  {
   "cell_type": "markdown",
   "metadata": {},
   "source": [
    "Una función devuelve un único `objeto`. Así, si es necesario que una función devuelva más de un valor, podemos hacer que la función devuelva una tupla con los diversos valores."
   ]
  },
  {
   "cell_type": "code",
   "execution_count": 9,
   "metadata": {},
   "outputs": [
    {
     "name": "stdout",
     "output_type": "stream",
     "text": [
      "The result of sum_two_values(5, 11) is 16 (<class 'int'>)\n",
      "The result of sum_and_mult_two_values(5, 11) is (16, 55) (<class 'tuple'>)\n"
     ]
    }
   ],
   "source": [
    "# Definimos la función de nombre 'sum_two_values' con dos argumentos:\n",
    "# 'x' e 'y':\n",
    "def sum_two_values(x, y):\n",
    "    \"\"\"Return the value of the sum.\"\"\"\n",
    "    return x + y\n",
    "\n",
    "\n",
    "# Definimos la función de nombre 'sum_and_mult_two_values' con dos argumentos:\n",
    "# 'x' e 'y':\n",
    "def sum_and_mult_two_values(x, y):\n",
    "    \"\"\"Return a tuple with the value of the sum and the product.\"\"\"\n",
    "    return x + y, x * y\n",
    "\n",
    "\n",
    "r1 = sum_two_values(5, 11)\n",
    "r2 = sum_and_mult_two_values(5, 11)\n",
    "\n",
    "print(\"The result of sum_two_values(5, 11) is {} ({})\".\n",
    "      format(r1, type(r1)))\n",
    "print(\"The result of sum_and_mult_two_values(5, 11) is {} ({})\".\n",
    "      format(r2, type(r2)))"
   ]
  },
  {
   "cell_type": "markdown",
   "metadata": {},
   "source": [
    "Tened en cuenta que al retornar la tupla, se está utilizando la sintaxis de definición de tupla sin paréntesis, que es más rápida de escribir ya que contiene menos caracteres, pero puede llevar a confusión al programador principiante. Así pues, notad que el return de la segunda función sería equivalente a:\n",
    "\n",
    "<code>return (x + y, x * y)<code>"
   ]
  },
  {
   "cell_type": "markdown",
   "metadata": {},
   "source": [
    "#### Funciones como valores de retorno\n",
    "Del mismo modo que una función puede devolver, por ejemplo, un entero, una cadena de carac- teres o una tupla, una función puede devolver también otra función. Esto nos será útil en ciertas construcciones que veremos en este módulo.\n",
    "\n",
    "Por ejemplo, la función min_or_max definida en la siguiente celda devuelve o bien la función `min` o bien la función `max`, dependiendo de si el valor que recibe como parámetro, sel, es par o impar:"
   ]
  },
  {
   "cell_type": "code",
   "execution_count": 13,
   "metadata": {},
   "outputs": [],
   "source": [
    "def min_or_max(sel):\n",
    "    \"\"\"Return either the min or the max function.\"\"\"\n",
    "    if sel % 2:\n",
    "        # sel es impar\n",
    "        f = max\n",
    "    else:\n",
    "        # sel es par\n",
    "        f = min\n",
    "    return f"
   ]
  },
  {
   "cell_type": "code",
   "execution_count": 15,
   "metadata": {},
   "outputs": [],
   "source": [
    "# Definimos una lista\n",
    "a_list = [1, 1, 2, 3, 5, 8, 13, 21]\n",
    "\n",
    "# Llamamos a min_or_max con el último elemento de la lista como parámetro\n",
    "f = min_or_max(a_list[-1])"
   ]
  },
  {
   "cell_type": "code",
   "execution_count": 19,
   "metadata": {},
   "outputs": [
    {
     "name": "stdout",
     "output_type": "stream",
     "text": [
      "The type of f is: <class 'builtin_function_or_method'>\n",
      "f is: <built-in function max>\n"
     ]
    }
   ],
   "source": [
    "# Como el último elemento de la lista es impar, f contendrá la función max\n",
    "print(\"The type of f is: {}\".format(type(f)))\n",
    "print(\"f is: {}\".format(f))"
   ]
  },
  {
   "cell_type": "code",
   "execution_count": 20,
   "metadata": {},
   "outputs": [
    {
     "name": "stdout",
     "output_type": "stream",
     "text": [
      "The result of applying f to a_list is: 21\n"
     ]
    }
   ],
   "source": [
    "# Aplicamos la función f (es decir, max) a la lista a_list\n",
    "r = f(a_list)\n",
    "\n",
    "print(\"The result of applying f to a_list is: {}\".format(r))"
   ]
  },
  {
   "cell_type": "markdown",
   "metadata": {},
   "source": [
    "Combinando la funcionalidad de definir funciones dentro de funciones y la de devolver funciones, se pueden crear construcciones complejas que permiten resolver elegantemente algunos problemas.."
   ]
  },
  {
   "cell_type": "markdown",
   "metadata": {},
   "source": [
    "### Parámetros\n",
    "Las funciones pueden tener parámetros, que sirven para proveerlas de datos que necesitan para su ejecución. Formalmente, distinguimos entre parámetros y argumentos. Los parámetros son parte de la firma de la función, mientras que los argumentos son los valores que recibe la función en el momento de ejecutarla. Por ejemplo, en la celda de código donde definíamos la función sum_and_mult_two_values, x e y son los parámetros de la función sum_and_mult_two_values, y cuando hacemos la llamada sum_and_mult_two_values(5, 11), 5 y 11 son los argumentos.\n",
    "\n",
    "Informalmente, sin embargo, a menudo se utilizan ambos términos indistintamente.\n",
    "\n",
    "#### Paso por referencia de objeto\n",
    "Hasta ahora hemos visto como las funciones reciben unos argumentos y devuelven unos valores. £Qué pasa, sin embargo, cuando modificamos los valores de las variables que recibimos como argumentos en una llamada de una función? a ̨Observémoslo con algunos ejemplos!"
   ]
  },
  {
   "cell_type": "code",
   "execution_count": 24,
   "metadata": {},
   "outputs": [],
   "source": [
    "# Definimos una función que recibe un parámetro 'i' y\n",
    "# asigna el valor 5 a este\n",
    "def reassign_num(i):\n",
    "    i = 5\n",
    "    print(\"Value of i in the function:\\t{}\".format(i))\n",
    "\n",
    "\n",
    "# Definimos una función que recibe un parámetro 'li' y\n",
    "# asigna el valor [1, 2] a este\n",
    "def reassign_list(li):\n",
    "    li = [1, 2]\n",
    "    print(\"Value of li in the function:\\t{}\".format(li))\n",
    "\n",
    "\n",
    "# Definimos una función que recibe un parámetro 'li' y\n",
    "# le añade un entero 1 con append\n",
    "def append_val(li):\n",
    "    li.append(1)\n",
    "    print(\"Value of li in the function:\\t{}\".format(li))"
   ]
  },
  {
   "cell_type": "markdown",
   "metadata": {},
   "source": [
    "Hay varios detalles a tener en cuenta en la definición de estas tres funciones. \n",
    "* En primer lugar, las funciones no tienen ninguna instrucción return, por lo que su llamada devolverá siempre None. \n",
    "* En segundo lugar, las dos primeras funciones (reassign_num y reassign_list) pueden recibir un valor de cualquier tipo como parámetro. \n",
    "* En cambio, la tercera función (append_val) debe recibir un parámetro de un tipo que implemente el método append, como una lista. Por último, es interesante notar qué hacen estas funciones: las dos primeras (reassign_num y reassign_list) asignan un nuevo valor a la variable que reciben como parámetro (un entero en el caso de reassign_num, y una lista para reassign_list). Contrariamente, la tercera función (append_val) lo que hace es modificar la variable que recibe como parámetro, en este caso, añadiendo un elemento a la lista.\n",
    "\n",
    "Fijémonos, a continuación, con el efecto que tiene la ejecución de estas funciones sobre las variables que se reciben."
   ]
  },
  {
   "cell_type": "code",
   "execution_count": 25,
   "metadata": {},
   "outputs": [
    {
     "name": "stdout",
     "output_type": "stream",
     "text": [
      "Value of an_integer:\t\t42\n"
     ]
    }
   ],
   "source": [
    "an_integer = 42\n",
    "print(\"Value of an_integer:\\t\\t{}\".format(an_integer))"
   ]
  },
  {
   "cell_type": "code",
   "execution_count": 26,
   "metadata": {},
   "outputs": [
    {
     "name": "stdout",
     "output_type": "stream",
     "text": [
      "Value of i in the function:\t5\n",
      "Function returns:\t\tNone\n"
     ]
    }
   ],
   "source": [
    "ret_val = reassign_num(an_integer)\n",
    "print(\"Function returns:\\t\\t{}\".format(ret_val))"
   ]
  },
  {
   "cell_type": "code",
   "execution_count": 27,
   "metadata": {},
   "outputs": [
    {
     "name": "stdout",
     "output_type": "stream",
     "text": [
      "Value of an_integer:\t\t42\n"
     ]
    }
   ],
   "source": [
    "print(\"Value of an_integer:\\t\\t{}\".format(an_integer))"
   ]
  },
  {
   "cell_type": "code",
   "execution_count": 28,
   "metadata": {},
   "outputs": [
    {
     "name": "stdout",
     "output_type": "stream",
     "text": [
      "Value of a_list:\t\t[42]\n"
     ]
    }
   ],
   "source": [
    "a_list = [42]\n",
    "print(\"Value of a_list:\\t\\t{}\".format(a_list))"
   ]
  },
  {
   "cell_type": "code",
   "execution_count": 29,
   "metadata": {},
   "outputs": [
    {
     "name": "stdout",
     "output_type": "stream",
     "text": [
      "Value of li in the function:\t[1, 2]\n",
      "Function returns:\t\tNone\n"
     ]
    }
   ],
   "source": [
    "ret_val = reassign_list(a_list)\n",
    "print(\"Function returns:\\t\\t{}\".format(ret_val))"
   ]
  },
  {
   "cell_type": "code",
   "execution_count": 30,
   "metadata": {},
   "outputs": [
    {
     "name": "stdout",
     "output_type": "stream",
     "text": [
      "Value of a_list:\t\t[42]\n"
     ]
    }
   ],
   "source": [
    "print(\"Value of a_list:\\t\\t{}\".format(a_list))"
   ]
  },
  {
   "cell_type": "markdown",
   "metadata": {},
   "source": [
    "En estos dos primeros casos, la variable que se pasa como parámetro en las llamadas a las funciones `reassign_num` y `reassign_list` no se ve afectada por la reasignación que se realiza dentro de las funciones: después de ejecutar _reassign_num_, la variable _an_integer_ sigue conteniendo el valor 42; y después de ejecutar la función _reassign_list_, la variable _a_list_ sigue valiendo [42]. \n",
    "Fijémonos ahora en el comportamiento de la variable a_list cuando llamamos la función append_val:"
   ]
  },
  {
   "cell_type": "code",
   "execution_count": 32,
   "metadata": {},
   "outputs": [
    {
     "name": "stdout",
     "output_type": "stream",
     "text": [
      "Value of a_list:\t\t[42]\n",
      "Value of li in the function:\t[42, 1]\n",
      "Function returns:\t\tNone\n",
      "Value of a_list:\t\t[42, 1]\n"
     ]
    }
   ],
   "source": [
    "a_list = [42]\n",
    "print(\"Value of a_list:\\t\\t{}\".format(a_list))\n",
    "\n",
    "ret_val = append_val(a_list)\n",
    "print(\"Function returns:\\t\\t{}\".format(ret_val))\n",
    "print(\"Value of a_list:\\t\\t{}\".format(a_list))"
   ]
  },
  {
   "cell_type": "markdown",
   "metadata": {},
   "source": [
    "En este caso, y a diferencia de las dos llamadas anteriores, el valor de la variable a_list se modifica (aunque la función no ha devuelto ningún valor). Esto sucede por la implementación interna que hace Python del paso de parámetros en las llamadas a las funciones. Este comportamiento se conoce como paso por referencia de objeto (en inglés, pass-by-object-reference), y no es igual en todos los lenguajes de programación. El lector interesado puede consultar este post para profundizar en el funcionamiento del paso de parámetros en Python (lectura opcional, para ampliar conocimientos). Es importante tener en cuenta este comportamiento de las funciones en Python a la hora de programar ya que, en caso de no hacerlo, podemos obtener resultados ines- perados en las llamadas a funciones."
   ]
  },
  {
   "cell_type": "markdown",
   "metadata": {},
   "source": [
    "#### Argumentos opcionales\n",
    "La manera más directa de especificar argumentos opcionales en la definición de una función es darles un valor predeterminado. Entonces, si en el momento de hacer la llamada el argumento no se especifica, este tomará el valor por defecto que se haya especificado en la definición de la función:"
   ]
  },
  {
   "cell_type": "code",
   "execution_count": 35,
   "metadata": {},
   "outputs": [],
   "source": [
    "# Definimos una función con dos parámetros obligatorios y uno\n",
    "# de opcional. El parámetro opcional z será 0 si no se especifica.\n",
    "def sum_two_or_three_values(x, y, z=0):\n",
    "    print(\"Values are: x={}, y={}, z={}\".format(x, y, z))\n",
    "    return x + y + z"
   ]
  },
  {
   "cell_type": "code",
   "execution_count": 36,
   "metadata": {},
   "outputs": [
    {
     "name": "stdout",
     "output_type": "stream",
     "text": [
      "Values are: x=1, y=3, z=0\n",
      "(1, 3): 4\n"
     ]
    }
   ],
   "source": [
    "# Llamamos a la función con sólo los parámetros obligatorios, x e y\n",
    "print(\"(1, 3): {}\".format(sum_two_or_three_values(1, 3)))"
   ]
  },
  {
   "cell_type": "code",
   "execution_count": 37,
   "metadata": {},
   "outputs": [
    {
     "name": "stdout",
     "output_type": "stream",
     "text": [
      "Values are: x=1, y=3, z=4\n",
      "(1, 3, 4): 8\n"
     ]
    }
   ],
   "source": [
    "# Llamamos a la función con los parámetros obligatorios y el opcional\n",
    "print(\"(1, 3, 4): {}\".format(sum_two_or_three_values(1, 3, 4)))"
   ]
  },
  {
   "cell_type": "code",
   "execution_count": 39,
   "metadata": {},
   "outputs": [
    {
     "name": "stdout",
     "output_type": "stream",
     "text": [
      "TypeError: sum_two_or_three_values() missing 1 required positional argument: 'y'\n"
     ]
    }
   ],
   "source": [
    "# Si llamamos a la función con 1 único parámetro se genera un error\n",
    "# ya que hay dos parámetros obligatorios\n",
    "try:\n",
    "    print(\"(1): {}\".format(sum_two_or_three_values(1)))\n",
    "except TypeError as e:\n",
    "    print(\"TypeError:\", e)"
   ]
  },
  {
   "cell_type": "markdown",
   "metadata": {},
   "source": [
    "Las llamadas anteriores especifican los parámetros por posición. En este caso, diremos que utilizamos argumentos posicionales. También podemos hacer llamadas a las funciones especifi- cando los argumentos por su nombre (en inglés, los llamaremos keyword arguments), independi- entemente de si éstos son obligatorios u opcionales:"
   ]
  },
  {
   "cell_type": "code",
   "execution_count": 41,
   "metadata": {},
   "outputs": [
    {
     "name": "stdout",
     "output_type": "stream",
     "text": [
      "Values are: x=1, y=3, z=4\n",
      "(x=1, y=3, z=4): 8\n"
     ]
    }
   ],
   "source": [
    "# Especificamos todos los parámetros por nombre\n",
    "print(\"(x=1, y=3, z=4): {}\".format(sum_two_or_three_values(x=1, y=3, z=4)))"
   ]
  },
  {
   "cell_type": "code",
   "execution_count": 43,
   "metadata": {},
   "outputs": [
    {
     "name": "stdout",
     "output_type": "stream",
     "text": [
      "Values are: x=1, y=3, z=4\n",
      "(1, 3, z=4): 8\n"
     ]
    }
   ],
   "source": [
    "# Especificamos dos parámetros por posición y uno por nombre\n",
    "print(\"(1, 3, z=4): {}\".format(sum_two_or_three_values(1, 3, z=4)))"
   ]
  },
  {
   "cell_type": "code",
   "execution_count": 45,
   "metadata": {},
   "outputs": [
    {
     "name": "stdout",
     "output_type": "stream",
     "text": [
      "Values are: x=1, y=3, z=4\n",
      "(y=3, z=4, x=1): 8\n"
     ]
    }
   ],
   "source": [
    "# Especificamos todos los parámetros por nombre, cambiando el orden\n",
    "# los parámetros\n",
    "print(\"(y=3, z=4, x=1): {}\".format(\n",
    "    sum_two_or_three_values(y=3, z=4, x=1)))"
   ]
  },
  {
   "cell_type": "markdown",
   "metadata": {},
   "source": [
    "Notad cómo, cuando especificamos los parámetros por su nombre, podemos incluirlos en el orden que queramos. En cambio, si especificamos los parámetros por posición, la posición del parámetro determinará su asignación."
   ]
  },
  {
   "cell_type": "markdown",
   "metadata": {},
   "source": [
    "#### Número indeterminado de argumentos\n",
    "Python también permite definir funciones que acepten un número arbitrario (indefinido en el momento de la definición de la función) de argumentos. En este caso, se define un parámetro especial anteponiendo * o ** al nombre del parámetro, y este parámetro recibirá todos los argumentos que no coincidan con ninguno de los parámetros definidos explícitamente de la función:\n",
    "* Si se antepone * al nombre del parámetro, este será una tupla con todos los valores de los argumentos no definidos explícitamente.\n",
    "\n",
    "* Si se antepone ** al nombre del parámetro, éste recibirá un diccionario con los pares de nombre y valor de los argumentos no definidos explícitamente (que se deberán especificar por nombre en el momento de hacer la llamada a la función)."
   ]
  },
  {
   "cell_type": "code",
   "execution_count": 47,
   "metadata": {},
   "outputs": [],
   "source": [
    "# Definimos una función con dos parámetros obligatorios y\n",
    "# un número indeterminado de parámetros posicionales\n",
    "def sum_two_or_three_values_p(x, y, *extra_arguments):\n",
    "    print(\"Compulsory arguments are: x={}, y={}\".format(x, y))\n",
    "    print(\"Additional arguments are: {}\".format(extra_arguments))\n",
    "    print(\"extra_arguments type is: {}\".format(type(extra_arguments)))\n",
    "    return x + y + sum(extra_arguments)"
   ]
  },
  {
   "cell_type": "code",
   "execution_count": 48,
   "metadata": {},
   "outputs": [
    {
     "name": "stdout",
     "output_type": "stream",
     "text": [
      "Compulsory arguments are: x=1, y=2\n",
      "Additional arguments are: ()\n",
      "extra_arguments type is: <class 'tuple'>\n"
     ]
    },
    {
     "data": {
      "text/plain": [
       "3"
      ]
     },
     "execution_count": 48,
     "metadata": {},
     "output_type": "execute_result"
    }
   ],
   "source": [
    "# Llamamos a la función sólo con los argumentos obligatorios\n",
    "sum_two_or_three_values_p(1, 2)"
   ]
  },
  {
   "cell_type": "code",
   "execution_count": 49,
   "metadata": {},
   "outputs": [
    {
     "name": "stdout",
     "output_type": "stream",
     "text": [
      "Compulsory arguments are: x=1, y=2\n",
      "Additional arguments are: (3, 4, 5)\n",
      "extra_arguments type is: <class 'tuple'>\n"
     ]
    },
    {
     "data": {
      "text/plain": [
       "15"
      ]
     },
     "execution_count": 49,
     "metadata": {},
     "output_type": "execute_result"
    }
   ],
   "source": [
    "# Llamamos a la función con 5 argumentos posicionales\n",
    "sum_two_or_three_values_p(1, 2, 3, 4, 5)"
   ]
  },
  {
   "cell_type": "code",
   "execution_count": 52,
   "metadata": {},
   "outputs": [],
   "source": [
    "# Definimos una función con dos parámetros obligatorios y\n",
    "# un número indeterminado de parámetros con nombre\n",
    "def sum_two_or_three_values_n(x, y, **extra_arguments):\n",
    "    print(\"Compulsory arguments are: x={}, y={}\".format(x, y))\n",
    "    print(\"Additional arguments are: \")\n",
    "    for k in extra_arguments:\n",
    "        print(\"\\t{}={}\".format(k, extra_arguments[k]))\n",
    "    print(\"extra_arguments type is: {}\".format(type(extra_arguments)))\n",
    "    return x + y + sum(extra_arguments.values())"
   ]
  },
  {
   "cell_type": "code",
   "execution_count": 53,
   "metadata": {},
   "outputs": [
    {
     "name": "stdout",
     "output_type": "stream",
     "text": [
      "Compulsory arguments are: x=1, y=2\n",
      "Additional arguments are: \n",
      "extra_arguments type is: <class 'dict'>\n"
     ]
    },
    {
     "data": {
      "text/plain": [
       "3"
      ]
     },
     "execution_count": 53,
     "metadata": {},
     "output_type": "execute_result"
    }
   ],
   "source": [
    "# Llamamos la función sólo con los argumentos obligatorios\n",
    "sum_two_or_three_values_n(1, 2)"
   ]
  },
  {
   "cell_type": "code",
   "execution_count": 54,
   "metadata": {},
   "outputs": [
    {
     "name": "stdout",
     "output_type": "stream",
     "text": [
      "Compulsory arguments are: x=1, y=2\n",
      "Additional arguments are: \n",
      "\tz=3\n",
      "extra_arguments type is: <class 'dict'>\n"
     ]
    },
    {
     "data": {
      "text/plain": [
       "6"
      ]
     },
     "execution_count": 54,
     "metadata": {},
     "output_type": "execute_result"
    }
   ],
   "source": [
    "# Llamamos la función con los argumentos obligatorios y un argumento opcional\n",
    "sum_two_or_three_values_n(1, 2, z=3)"
   ]
  },
  {
   "cell_type": "code",
   "execution_count": 56,
   "metadata": {},
   "outputs": [
    {
     "name": "stdout",
     "output_type": "stream",
     "text": [
      "Compulsory arguments are: x=1, y=2\n",
      "Additional arguments are: \n",
      "\tz=3\n",
      "\ta=10\n",
      "\tb=12\n",
      "extra_arguments type is: <class 'dict'>\n"
     ]
    },
    {
     "data": {
      "text/plain": [
       "28"
      ]
     },
     "execution_count": 56,
     "metadata": {},
     "output_type": "execute_result"
    }
   ],
   "source": [
    "# Llamamos la función con los argumentos obligatorios y tres argumentos\n",
    "# opcionales\n",
    "sum_two_or_three_values_n(1, 2, z=3, a=10, b=12)"
   ]
  },
  {
   "cell_type": "markdown",
   "metadata": {},
   "source": [
    "Es interesante notar que si hemos especificado que los argumentos opcionales serán posicionales (usando *), entonces no podemos a llamar la función asignando nombres a los argumentos. De manera análoga, si hemos especificado argumentos opcionales con nombre (usando **), no podremos llamar a la función con argumentos opcionales posicionales:"
   ]
  },
  {
   "cell_type": "code",
   "execution_count": 58,
   "metadata": {},
   "outputs": [
    {
     "name": "stdout",
     "output_type": "stream",
     "text": [
      "TypeError: sum_two_or_three_values_p() got an unexpected keyword argument 'z'\n"
     ]
    }
   ],
   "source": [
    "try:\n",
    "    # Especificamos un argumento opcional por nombre en una función\n",
    "    # definida con *\n",
    "    sum_two_or_three_values_p(1, 2, z=3)\n",
    "except TypeError as e:\n",
    "    print(\"TypeError:\", e)"
   ]
  },
  {
   "cell_type": "code",
   "execution_count": 60,
   "metadata": {},
   "outputs": [
    {
     "name": "stdout",
     "output_type": "stream",
     "text": [
      "TypeError: sum_two_or_three_values_n() takes 2 positional arguments but 3 were given\n"
     ]
    }
   ],
   "source": [
    "try:\n",
    "    # Especificamos un argumento opcional por posición en una función\n",
    "    # definida con **\n",
    "    sum_two_or_three_values_n(1, 2, 3)\n",
    "except TypeError as e:\n",
    "    print(\"TypeError:\", e)"
   ]
  },
  {
   "cell_type": "markdown",
   "metadata": {},
   "source": [
    "#### Funciones como parámetros\n",
    "Del mismo modo que una función puede recibir como parámetros, por ejemplo, un entero o una cadena de caracteres, una función puede recibir como parámetro otra función. Esto nos será útil en ciertas construcciones que veremos en este módulo.\n",
    "\n",
    "Por ejemplo, la función eval_and_print, definida en la celda siguiente, recibe como parámetros una función y una lista, y lo que hace es evaluar la función sobre la lista, mostrar el resultado por pantalla, y devolverlo:"
   ]
  },
  {
   "cell_type": "code",
   "execution_count": 62,
   "metadata": {},
   "outputs": [],
   "source": [
    "# La función eval_and_print recibe otra función como parámetro (la función f)\n",
    "def eval_and_print(f, x):\n",
    "    # Mostramos f y el tipo de f\n",
    "    print(\"f is {} and its type is {}\".format(f, type(f)))\n",
    "    # Aplicamos la función f sobre el valor x\n",
    "    f_x = f(x)\n",
    "    # Mostramos el valor por pantalla y lo retornamos\n",
    "    print(\"The result of f(x) is: {}\".format(f_x))\n",
    "    return f_x"
   ]
  },
  {
   "cell_type": "code",
   "execution_count": 63,
   "metadata": {},
   "outputs": [
    {
     "name": "stdout",
     "output_type": "stream",
     "text": [
      "f is <built-in function max> and its type is <class 'builtin_function_or_method'>\n",
      "The result of f(x) is: 81\n",
      "f is <built-in function min> and its type is <class 'builtin_function_or_method'>\n",
      "The result of f(x) is: 5\n",
      "f is <built-in function sum> and its type is <class 'builtin_function_or_method'>\n",
      "The result of f(x) is: 171\n"
     ]
    }
   ],
   "source": [
    "# Llamamos a eval_and_print con funciones diferentes\n",
    "r1 = eval_and_print(max, [81, 75, 5, 10])\n",
    "r2 = eval_and_print(min, [81, 75, 5, 10])\n",
    "r3 = eval_and_print(sum, [81, 75, 5, 10])"
   ]
  },
  {
   "cell_type": "markdown",
   "metadata": {},
   "source": [
    "### Introducción a la programación funcional\n",
    "La programación funcional es un paradigma de programación basado en la evaluación de fun- ciones matemáticas, en el que la salida de una función depende únicamente de su entrada, y no del estado del programa.\n",
    "\n",
    "En esta sección, presentaremos tres funciones de Python que son útiles a la hora de programar con el paradigma de programación funcional: `map`, `filter` y `reduce`."
   ]
  },
  {
   "cell_type": "markdown",
   "metadata": {},
   "source": [
    "#### Map\n",
    "La función map recibe como parámetros una función y un iterable, y devuelve un iterador que aplica la función proporcionada a cada uno de los elementos del iterable."
   ]
  },
  {
   "cell_type": "code",
   "execution_count": 66,
   "metadata": {},
   "outputs": [
    {
     "name": "stdout",
     "output_type": "stream",
     "text": [
      "[3, 4, 5, 6]\n"
     ]
    }
   ],
   "source": [
    "def sum_2(x):\n",
    "    \"\"\"Add 2 to the value received by parameter.\"\"\"\n",
    "    return x + 2\n",
    "\n",
    "\n",
    "# Aplicamos la función sum_2 a cada uno de los elementos de la lista a_list\n",
    "a_list = [1, 2, 3, 4]\n",
    "r = map(sum_2, a_list)\n",
    "print(list(r))"
   ]
  },
  {
   "cell_type": "markdown",
   "metadata": {},
   "source": [
    "El resultado de aplicar map sobre la lista es un iterable que contiene el resultado de llamar a la función sum_2 sobre cada uno de los elementos de la lista original, a_list. Esto sería equivalente a ejecutar la list comprehension siguiente:"
   ]
  },
  {
   "cell_type": "code",
   "execution_count": 67,
   "metadata": {},
   "outputs": [
    {
     "data": {
      "text/plain": [
       "[3, 4, 5, 6]"
      ]
     },
     "execution_count": 67,
     "metadata": {},
     "output_type": "execute_result"
    }
   ],
   "source": [
    "[sum_2(x) for x in a_list]"
   ]
  },
  {
   "cell_type": "code",
   "execution_count": 69,
   "metadata": {},
   "outputs": [
    {
     "data": {
      "text/plain": [
       "[42, 13, 12000]"
      ]
     },
     "execution_count": 69,
     "metadata": {},
     "output_type": "execute_result"
    }
   ],
   "source": [
    "# Definimos una función que convierte cadenas de caracteres que expresan\n",
    "# valores numéricos (posiblemente decimales) en enteros\n",
    "def convert_to_int(x):\n",
    "    \"\"\"Convert strings to int.\"\"\"\n",
    "    return int(float(x))\n",
    "\n",
    "\n",
    "# Aplicamos la función convert_to_int a cada uno de los elementos de la\n",
    "# lista a_list\n",
    "a_list = [\"42.45\", \"13.4\", \"12000\"]\n",
    "list(map(convert_to_int, a_list))"
   ]
  },
  {
   "cell_type": "markdown",
   "metadata": {},
   "source": [
    "En los ejemplos anteriores, la función que se pasa como argumento a [`map`](https://docs.python.org/3/library/functions.html#map) (`sum_2` y `convert_to_int`) tiene un único parámetro, por lo que [`map`](https://docs.python.org/3/library/functions.html#map) la puede aplicar directamente sobre cada uno de los elementos de la lista (lista que recibe como segundo argumento). Ahora bien, la función que se pasa como parámetro a [`map`](https://docs.python.org/3/library/functions.html#map) puede tener más de un parámetro. En este caso, la función [`map`](https://docs.python.org/3/library/functions.html#map) recibirá tantas listas como parámetros necesite la función que recibe.\n",
    "\n",
    "En el ejemplo siguiente, definimos una función que calcula el precio de un piso a partir de los metros cuadrados que tiene (`sqm`), el estado de conservación (`status`) y el vecindario en el que se encuentra (`neigh`):"
   ]
  },
  {
   "cell_type": "code",
   "execution_count": 70,
   "metadata": {},
   "outputs": [],
   "source": [
    "def compute_price(sqm, status, neigh):\n",
    "    \"\"\"Compute the price of a flat.\"\"\"\n",
    "\n",
    "    price_per_sqm = 1000\n",
    "    nice_neigh = [\"A\", \"B\"]\n",
    "    nice_neigh_factor = 1.25\n",
    "    new_factor = 2\n",
    "\n",
    "    # Precio base es metros cuadrados por precio por metro cuadrado\n",
    "    price = sqm * price_per_sqm\n",
    "\n",
    "    # Si el piso se encuentra en un barrio considerado bueno, se aplica\n",
    "    # un factor multiplicativo al precio del piso\n",
    "    if neigh in nice_neigh:\n",
    "        price *= nice_neigh_factor\n",
    "\n",
    "    # Si el piso es nuevo, se aplica un factor multiplicativo al\n",
    "    # precio del piso\n",
    "    if status == \"New\":\n",
    "        price *= new_factor\n",
    "\n",
    "    return price"
   ]
  },
  {
   "cell_type": "code",
   "execution_count": 71,
   "metadata": {},
   "outputs": [
    {
     "data": {
      "text/plain": [
       "250000.0"
      ]
     },
     "execution_count": 71,
     "metadata": {},
     "output_type": "execute_result"
    }
   ],
   "source": [
    "# Calculamos el precio de un piso nuevo de 100m^2 que se encuentra en un barrio\n",
    "# catalogado como \"A\"\n",
    "compute_price(100, \"New\", \"A\")"
   ]
  },
  {
   "cell_type": "markdown",
   "metadata": {},
   "source": [
    "Una inmobiliaria tiene 5 pisos a su disposición, y quiere utilizar la función `compute_price` para calcular el precio que debería tener cada uno de los pisos. Podemos usar la función [`map`](https://docs.python.org/3/library/functions.html#map) para calcularlo, partiendo de tres listas que indiquen los metros cuadrados, los estados y los barrios de los pisos:\n"
   ]
  },
  {
   "cell_type": "code",
   "execution_count": 72,
   "metadata": {},
   "outputs": [
    {
     "data": {
      "text/plain": [
       "[250000.0, 300000.0, 156250.0, 190000, 250000.0]"
      ]
     },
     "execution_count": 72,
     "metadata": {},
     "output_type": "execute_result"
    }
   ],
   "source": [
    "# Definimos tres listas con los datos de los pisos\n",
    "sqms = [100, 120, 125, 190, 200]\n",
    "statuses = [\"New\", \"New\", \"Used\", \"Unknown\", \"Used\"]\n",
    "neigs = [\"A\", \"B\", \"B\", \"D\", \"A\"]\n",
    "\n",
    "# Aplicamos la función compute_price sobre cada uno de los pisos\n",
    "list(map(compute_price, sqms, statuses, neigs))"
   ]
  },
  {
   "cell_type": "markdown",
   "metadata": {},
   "source": [
    "#### Filter\n",
    "\n",
    "La función [`filter`](https://docs.python.org/3/library/functions.html#filter) recibe también como parámetros una función y un iterable, y devuelve un iterador que recorre los elementos del iterable tales que la evaluación de la función es True.\n"
   ]
  },
  {
   "cell_type": "code",
   "execution_count": 73,
   "metadata": {},
   "outputs": [],
   "source": [
    "# Definimos la función is_numeric, que devuelve True si recibe un entero o un\n",
    "# flotante como argumento, y False en caso contrario\n",
    "def is_numeric(x):\n",
    "    if type(x) == float or type(x) == int:\n",
    "        return True\n",
    "    return False"
   ]
  },
  {
   "cell_type": "code",
   "execution_count": 74,
   "metadata": {},
   "outputs": [
    {
     "name": "stdout",
     "output_type": "stream",
     "text": [
      "The filtered list is [1, 2, 5, 5.5, 6]\n"
     ]
    }
   ],
   "source": [
    "# Definimos una lista que contiene enteros, reales, cadenas, listas y\n",
    "# un valor None\n",
    "a_list_with_str_and_nums = [1, 2, \"three\", \"four\", 5, 5.5, 6, [0, 0, 1], None]\n",
    "\n",
    "# Aplicamos filter de la lista con la función is_numeric\n",
    "r = list(filter(is_numeric, a_list_with_str_and_nums))\n",
    "print(\"The filtered list is {}\".format(r))"
   ]
  },
  {
   "cell_type": "markdown",
   "metadata": {},
   "source": [
    "#### Reduce\n",
    "La función [`reduce`](https://docs.python.org/3/library/functools.html#functools.reduce) recibe, de nuevo, una función y un iterable. La función aplica, de manera acumulativa, la función que recibe como argumento a los elementos del iterable. La función que recibe como argumento debe ser una función que reciba dos parámetros y devuelva un único valor. Entonces, [`reduce`](https://docs.python.org/3/library/functools.html#functools.reduce) aplica la función a los dos primeros valores del iterable, después al tercer valor y al resultado de la operación anterior, etc. Por ejemplo, sea 'f' la función a aplicar y [1, 2, 3, 4] el iterable, [`reduce`](https://docs.python.org/3/library/functools.html#functools.reduce) calcularía:\n",
    "\n",
    "```\n",
    "f(f(f(1, 2), 3), 4)\n",
    "```\n",
    "\n",
    "Veamos algunos ejemplos:\n"
   ]
  },
  {
   "cell_type": "code",
   "execution_count": 102,
   "metadata": {},
   "outputs": [
    {
     "data": {
      "text/plain": [
       "10"
      ]
     },
     "execution_count": 102,
     "metadata": {},
     "output_type": "execute_result"
    }
   ],
   "source": [
    "# Importamos reduce del módulo functools\n",
    "from functools import reduce\n",
    "\n",
    "# Calculamos la suma de los valores de una lista\n",
    "a_list = [1, 2, 3, 4]\n",
    "reduce(sum_two_values, a_list)"
   ]
  },
  {
   "cell_type": "markdown",
   "metadata": {},
   "source": [
    "Recordad que la función `sum_two_values` recibía dos parámetros y devolvía un solo valor, correspondientes a la suma de los parámetros. Así, al aplicarla con [`reduce`](https://docs.python.org/3/library/functools.html#functools.reduce) sobre una lista, lo que obtenemos es la suma de los valores de la lista: se aplica la función `sum_two_values` a los dos primeros valores, 1 y 2, lo que da como resultado 3; se vuelve a aplicar la función con 3 y 3 como argumentos (el resultado de la primera llamada a `sum_two_values` y el tercer valor de la lista), resultando con 6; y finalmente se llama a la función con 6 y 4 (el resultado de la última llamada a la función y el valor del último elemento de la lista); el resultado final es pues 10.\n",
    "\n",
    "```\n",
    "sum_two_values(sum_two_values(sum_two_values(1, 2), 3), 4) =\n",
    "= Sum_two_values(sum_two_values(3, 3), 4)\n",
    "= Sum_two_values(6, 4)\n",
    "= 10\n",
    "```\n",
    "\n",
    "De forma análoga, podemos utilizar [`reduce`](https://docs.python.org/3/library/functools.html#functools.reduce) para calcular el valor máximo de una lista, definiendo primero una función que devuelva el máximo de dos valores, y aplicándola sobre una lista con [`reduce`](https://docs.python.org/3/library/functools.html#functools.reduce)."
   ]
  },
  {
   "cell_type": "code",
   "execution_count": 103,
   "metadata": {},
   "outputs": [
    {
     "data": {
      "text/plain": [
       "30"
      ]
     },
     "execution_count": 103,
     "metadata": {},
     "output_type": "execute_result"
    }
   ],
   "source": [
    "def max_two(x, y):\n",
    "    \"\"\"Return the max of two values, max(x, y).\"\"\"\n",
    "    if x > y:\n",
    "        return x\n",
    "    else:\n",
    "        return y\n",
    "\n",
    "\n",
    "# Aplicamos reduce con max_two sobre una lista para calcular el máximo\n",
    "a_list = [10, 1, 15, 19, 30]\n",
    "reduce(max_two, a_list)"
   ]
  },
  {
   "cell_type": "markdown",
   "metadata": {},
   "source": [
    "En este caso, la ejecución del [`reduce`](https://docs.python.org/3/library/functools.html#functools.reduce) sería la siguiente:\n",
    "\n",
    "```\n",
    "max_two(max_two(max_two(max_two(10, 1), 15), 19), 30) =\n",
    "= max_two(max_two(max_two(10, 15), 19), 30) =\n",
    "= max_two(max_two(15, 19), 30) =\n",
    "= max_two(19, 30) =\n",
    "= 30\n",
    "```\n",
    "\n",
    "Veamos un tercer ejemplo de uso de [`reduce`](https://docs.python.org/3/library/functools.html#functools.reduce) que nos permite 'aplanar' listas, es decir, dada una lista de listas, obtener una lista que contenga los elementos de las listas interiores:\n"
   ]
  },
  {
   "cell_type": "code",
   "execution_count": 104,
   "metadata": {},
   "outputs": [
    {
     "data": {
      "text/plain": [
       "[1, 2, 3, 4]"
      ]
     },
     "execution_count": 104,
     "metadata": {},
     "output_type": "execute_result"
    }
   ],
   "source": [
    "def join_lists(x, y):\n",
    "    \"\"\"Concatenate two lists.\"\"\"\n",
    "    return x + y\n",
    "\n",
    "\n",
    "# Llamamos a join_lists con dos listas, para ver su efecto\n",
    "join_lists([1, 2], [3, 4])"
   ]
  },
  {
   "cell_type": "code",
   "execution_count": 105,
   "metadata": {},
   "outputs": [
    {
     "data": {
      "text/plain": [
       "[0, 1, 2, 3, 5]"
      ]
     },
     "execution_count": 105,
     "metadata": {},
     "output_type": "execute_result"
    }
   ],
   "source": [
    "# Usamos join_lists con reduce para aplanar una lista\n",
    "list_to_flatten = [[0], [1, 2, 3], [5]]\n",
    "reduce(join_lists, list_to_flatten)"
   ]
  },
  {
   "cell_type": "markdown",
   "metadata": {},
   "source": [
    "Opcionalmente, la función [`reduce`](https://docs.python.org/3/library/functools.html#functools.reduce) también puede recibir un tercer parámetro, que corresponde al valor inicial. Si está presente, entonces la primera llamada a la función se hace con el valor inicial y el primer valor del iterable, en vez de usar los dos primeros valores del iterable.\n"
   ]
  },
  {
   "cell_type": "code",
   "execution_count": 106,
   "metadata": {},
   "outputs": [
    {
     "data": {
      "text/plain": [
       "10"
      ]
     },
     "execution_count": 106,
     "metadata": {},
     "output_type": "execute_result"
    }
   ],
   "source": [
    "# Usamos reduce con sum_two_values para sumar una lista,\n",
    "# indicando 0 como valor inicial para asegurar la corrección del resultado\n",
    "a_list = [1, 2, 3, 4]\n",
    "reduce(sum_two_values, a_list, 0)"
   ]
  },
  {
   "cell_type": "code",
   "execution_count": 107,
   "metadata": {},
   "outputs": [
    {
     "data": {
      "text/plain": [
       "25"
      ]
     },
     "execution_count": 107,
     "metadata": {},
     "output_type": "execute_result"
    }
   ],
   "source": [
    "# Usamos el valor inicial de reduce para añadir 15 al sumatorio de una lista\n",
    "reduce(sum_two_values, a_list, 15)"
   ]
  },
  {
   "cell_type": "code",
   "execution_count": 108,
   "metadata": {},
   "outputs": [],
   "source": [
    "# Usamos reduce con max_two para calcular el máximo de una lista\n",
    "# indicando 0 como valor inicial, por lo que obtendremos el máximo de la\n",
    "# lista si hay algún valor positivo o 0 si todos los números de\n",
    "# la lista son negativos\n",
    "print(reduce(max_two, [10, 1, 15, 19, 30], 0))\n",
    "print(reduce(max_two, [-5, -3, -2], 0))"
   ]
  },
  {
   "cell_type": "markdown",
   "metadata": {},
   "source": [
    "Para terminar esta sección, veremos un ejemplo que combina las tres funciones que acabamos de presentar ([`reduce`](https://docs.python.org/3/library/functools.html#functools.reduce), [`map`](https://docs.python.org/3/library/functions.html#map), y [`filter`](https://docs.python.org/3/library/functions.html#filter)). Supongamos que queremos definir una función que reciba una lista y devuelva el producto de los cuadrados de todos los elementos impares de la lista. Combinando las tres funciones que hemos visto, podemos hacer este cálculo en una sola línea:\n"
   ]
  },
  {
   "cell_type": "code",
   "execution_count": 101,
   "metadata": {},
   "outputs": [],
   "source": [
    "# Definimos una función que devuelve el producto de dos valores\n",
    "def prod_two_values(x, y):\n",
    "    return x*y\n",
    "\n",
    "\n",
    "# Definimos una función que devuelve el cuadrado de un valor\n",
    "def sq(x):\n",
    "    return x**2\n",
    "\n",
    "\n",
    "# Definimos una función que devuelve True si un valor es impar\n",
    "# y False en caso contrario\n",
    "def is_odd(x):\n",
    "    return x % 2\n",
    "\n",
    "\n",
    "# Definimos la función que devuelve el producto de los cuadrados de los impares\n",
    "# de una lista\n",
    "def prod_sq_if_odd(k):\n",
    "    return reduce(prod_two_values, map(sq, filter(is_odd, k)))"
   ]
  },
  {
   "cell_type": "code",
   "execution_count": 100,
   "metadata": {},
   "outputs": [],
   "source": [
    "# Ejecutamos la función prod_sq_if_odd para una lista y comprobamos\n",
    "# el resultado 'manualmente'\n",
    "a_list = [5, 9, 2, 12, 15]\n",
    "\n",
    "print(prod_sq_if_odd(a_list))\n",
    "print(5**2 * 9**2 * 15**2)"
   ]
  },
  {
   "cell_type": "markdown",
   "metadata": {},
   "source": [
    "### Funciones anónimas\n",
    "Las funciones anónimas son un tipo especial de funciones que no tienen nombre y que se encuentran limitadas a una sola expresión. Este tipo de funciones son útiles cuando necesitamos una función normalmente simple que no querremos reutilizar (o bien la reutilizaremos muy poco) en nuestro código, y se usan a menudo en combinación con las funciones de programación funcional que hemos visto en la sección anterior.\n",
    "\n",
    "Las funciones anónimas solo pueden tener una única expresión. Esta expresión es evaluada con los argumentos cuando se llama a la función, y el resultado de esta evaluación es el valor que devuelve la función.\n",
    "\n",
    "Para definir una función anónima en Python se utiliza la palabra clave [`lambda`](https://docs.python.org/3/tutorial/controlflow.html#lambda-expressions), seguida de los parámetros de la función, unos dos puntos, y la expresión de retorno de la función. Por este motivo, también utilizamos la expresión función lambda para nombrar a las funciones anónimas.\n",
    "\n",
    "La celda siguiente muestra una función anónima que suma dos valores:"
   ]
  },
  {
   "cell_type": "code",
   "execution_count": 109,
   "metadata": {},
   "outputs": [
    {
     "data": {
      "text/plain": [
       "<function __main__.<lambda>(x, y)>"
      ]
     },
     "execution_count": 109,
     "metadata": {},
     "output_type": "execute_result"
    }
   ],
   "source": [
    "# Definimos una función lambda que suma dos valores\n",
    "lambda x, y: x+y"
   ]
  },
  {
   "cell_type": "markdown",
   "metadata": {},
   "source": [
    "Podemos llamar a una función lambda tanto directamente (rodeándola de paréntesis y pasándole los argumentos), como asignándole un nombre:\n"
   ]
  },
  {
   "cell_type": "code",
   "execution_count": 110,
   "metadata": {},
   "outputs": [
    {
     "data": {
      "text/plain": [
       "34"
      ]
     },
     "execution_count": 110,
     "metadata": {},
     "output_type": "execute_result"
    }
   ],
   "source": [
    "# Definimos una función lambda que suma dos valores y la llamamos\n",
    "# con los valores 15 y 19\n",
    "(lambda x, y: x+y)(15, 19)"
   ]
  },
  {
   "cell_type": "code",
   "execution_count": 111,
   "metadata": {},
   "outputs": [
    {
     "data": {
      "text/plain": [
       "34"
      ]
     },
     "execution_count": 111,
     "metadata": {},
     "output_type": "execute_result"
    },
    {
     "name": "stderr",
     "output_type": "stream",
     "text": [
      "3:1: E731 do not assign a lambda expression, use a def\n"
     ]
    }
   ],
   "source": [
    "# Definimos una función lambda y le asignamos el nombre suma,\n",
    "# para poderla llamar posteriormente\n",
    "suma = lambda x, y: x+y\n",
    "suma(15, 19)"
   ]
  },
  {
   "cell_type": "markdown",
   "metadata": {},
   "source": [
    "Normalmente, sin embargo, encontraremos las funciones lambda dentro de otras expresiones. De hecho, el ejemplo anterior se considera mala praxis, y se incluye únicamente para ayudar en la comprensión de este tipo de funciones.\n",
    "\n",
    "Un ejemplo de una situación en la que utilizaríamos funciones anónimas es el último ejemplo de la sección anterior, donde hemos tenido que definir tres funciones muy simples, que seguramente no volveremos a utilizar en ninguna otra parte del código, a fin de poder hacer el cálculo de `prod_sq_if_odd`. Utilizando funciones anónimas, podríamos reducir la definición de la función `prod_sq_if_odd` a una sola expresión, sin necesidad de definir con anterioridad las tres funciones auxiliares como hemos hecho antes:\n"
   ]
  },
  {
   "cell_type": "code",
   "execution_count": 113,
   "metadata": {},
   "outputs": [],
   "source": [
    "def prod_sq_if_odd_with_lamb(k):\n",
    "    return reduce(lambda x, y: x*y,\n",
    "                  map(lambda x: x**2,\n",
    "                      filter(lambda x: x % 2, k)))"
   ]
  },
  {
   "cell_type": "markdown",
   "metadata": {},
   "source": [
    "En este caso, en vez de definir las funciones `prod_two_values`, `sq` y `is_odd`, hemos utilizado funciones anónimas equivalentes, por lo que la definición de la función` prod_sq_if_odd_with_lamb` es mucho más compacta.\n",
    "\n",
    "A continuación, veremos cómo reescribir algunos de los otros ejemplos de programación funcional que hemos visto en este *notebook* usando funciones anónimas:\n"
   ]
  },
  {
   "cell_type": "code",
   "execution_count": 115,
   "metadata": {},
   "outputs": [],
   "source": [
    "# Sumamos 2 a cada uno de los elementos de la lista a_list\n",
    "# utilizando una función anónima\n",
    "a_list = [1, 2, 3, 4]\n",
    "r = map(lambda x: x + 2, a_list)\n",
    "print(list(r))"
   ]
  },
  {
   "cell_type": "code",
   "execution_count": 116,
   "metadata": {},
   "outputs": [
    {
     "data": {
      "text/plain": [
       "[42, 13, 12000]"
      ]
     },
     "execution_count": 116,
     "metadata": {},
     "output_type": "execute_result"
    }
   ],
   "source": [
    "# Convertimos las cadenas de caracteres que expresan valores numéricos\n",
    "# (posiblemente decimales) de una lista en enteros utilizando\n",
    "# una función anónima\n",
    "a_list = [\"42.45\", \"13.4\", \"12000\"]\n",
    "list(map(lambda x: int(float(x)), a_list))"
   ]
  },
  {
   "cell_type": "code",
   "execution_count": 117,
   "metadata": {},
   "outputs": [],
   "source": [
    "# Filtramos de una lista los valores numéricos\n",
    "a_list_with_str_and_nums = [1, 2, \"three\", \"four\", 5, 5.5, 6, [0, 0, 1], None]\n",
    "r = list(filter(\n",
    "    lambda x: True if type(x) == float or type(x) == int else False,\n",
    "    a_list_with_str_and_nums))\n",
    "print(\"The filtered list is {}\".format(r))"
   ]
  },
  {
   "cell_type": "code",
   "execution_count": 118,
   "metadata": {},
   "outputs": [
    {
     "data": {
      "text/plain": [
       "30"
      ]
     },
     "execution_count": 118,
     "metadata": {},
     "output_type": "execute_result"
    }
   ],
   "source": [
    "# Calculamos el máximo de una lista con reduce y una función anónima\n",
    "# que devuelve el máximo de dos valores\n",
    "a_list = [10, 1, 15, 19, 30]\n",
    "reduce(lambda x, y: x if x > y else y, a_list)"
   ]
  },
  {
   "cell_type": "markdown",
   "metadata": {},
   "source": [
    "### Docstring\n",
    "Los *docstrings* son cadenas de texto que contienen la documentación de las funciones, entre otros objetos, en Python. Ya hemos ido utilizando *docstring* para documentar algunas de las funciones de este *notebook*. A continuación repasaremos algunos detalles sobre su funcionamiento y sobre las convenciones que se utilizan a la hora de escribirlos.\n",
    "\n",
    "Podemos acceder al *docstring* a través de la función `help` o, directamente, a través del atributo `doc`.\n"
   ]
  },
  {
   "cell_type": "code",
   "execution_count": 119,
   "metadata": {},
   "outputs": [],
   "source": [
    "# Accedemos al docstring de la función built-in max con help\n",
    "help(max)"
   ]
  },
  {
   "cell_type": "code",
   "execution_count": 120,
   "metadata": {},
   "outputs": [
    {
     "data": {
      "text/plain": [
       "'max(iterable, *[, default=obj, key=func]) -> value\\nmax(arg1, arg2, *args, *[, key=func]) -> value\\n\\nWith a single iterable argument, return its biggest item. The\\ndefault keyword-only argument specifies an object to return if\\nthe provided iterable is empty.\\nWith two or more arguments, return the largest argument.'"
      ]
     },
     "execution_count": 120,
     "metadata": {},
     "output_type": "execute_result"
    }
   ],
   "source": [
    "# Accedemos al docstring de la función built-in max a través del atributo doc\n",
    "max.__doc__"
   ]
  },
  {
   "cell_type": "markdown",
   "metadata": {},
   "source": [
    "Las convenciones sobre el uso de *docstring* en Python se encuentran descritas en [PEP-257](https://www.python.org/dev/peps/pep-0257/). Los *docstrings* se definen como primera sentencia dentro de la definición de la función y distinguimos entre *docstrings* de una única línea y *docstrings* multilínea.\n",
    "\n",
    "La convención en la definición de *docstrings* de una sola línea es usar triples comillas dobles para indicar el comentario (aunque no sea necesario ya que el comentario ocupa únicamente una línea), escribir las comillas de inicio y cierre en la misma línea del texto, comenzar la frase del comentario en mayúsculas y terminar en un punto, y no incluir salto de línea ni antes ni después del comentario.\n",
    "\n",
    "Así, por ejemplo, este sería un *docstring* de una sola línea que sigue las convenciones:\n"
   ]
  },
  {
   "cell_type": "code",
   "execution_count": 121,
   "metadata": {},
   "outputs": [],
   "source": [
    "def sum_two_values(x, y):\n",
    "    \"\"\"Return the value of the sum of the parameters.\"\"\"\n",
    "    return x + y"
   ]
  },
  {
   "cell_type": "code",
   "execution_count": 122,
   "metadata": {},
   "outputs": [],
   "source": [
    "help(sum_two_values)"
   ]
  },
  {
   "cell_type": "markdown",
   "metadata": {},
   "source": [
    "De manera similar, los *docstrings* multilínea se delimitan también con triples comillas dobles. En este caso, consisten en una línea de resumen, una línea en blanco, y luego una descripción más completa, que se puede extender varias líneas.\n",
    "\n",
    "El ***docstring* de una función debería resumir su comportamiento**, y listar sus argumentos, valor de retorno, las excepciones que puede lanzar, los efectos colaterales que puede tener su llamada, y las restricciones a tener en cuenta cuando la llamamos.\n"
   ]
  },
  {
   "cell_type": "code",
   "execution_count": 123,
   "metadata": {},
   "outputs": [],
   "source": [
    "def sum_two_values(x, y=0):\n",
    "    \"\"\"Return the value of the sum of the parameters.\n",
    "\n",
    "    This function accepts up to two numbers, and returns\n",
    "    the sum of them.\n",
    "\n",
    "    Positional arguments:\n",
    "    x -- the first number\n",
    "    y -- the second number (optional, default 0)\n",
    "\n",
    "    Returns:\n",
    "    number: Sum of the values\n",
    "    \"\"\"\n",
    "    return x + y"
   ]
  },
  {
   "cell_type": "code",
   "execution_count": 124,
   "metadata": {},
   "outputs": [],
   "source": [
    "help(sum_two_values)"
   ]
  },
  {
   "cell_type": "markdown",
   "metadata": {},
   "source": [
    "Hay diferentes formatos para escribir el *docstring*, que detallan cómo se deben especificar los argumentos, los valores de retorno, las excepciones, etc. Recomendamos leer el [post de stackoverflow sobre los formatos de dosctring the Python](https://stackoverflow.com/questions/3898572/what-is-the-standard-python-docstring-format) para ver algunos ejemplos (lectura opcional, para ampliar conocimientos).\n",
    "\n",
    "Por último, es importante notar que no solo las funciones hacen uso de *docstrings* para documentar su comportamiento. Los módulos, las clases y los métodos también se documentan con *docstring*.\n"
   ]
  },
  {
   "cell_type": "code",
   "execution_count": 125,
   "metadata": {},
   "outputs": [],
   "source": [
    "# Accedemos al docstring de la clase int\n",
    "help(int)"
   ]
  }
 ],
 "metadata": {
  "kernelspec": {
   "display_name": "Python(base)",
   "language": "python",
   "name": "anaconda-base"
  },
  "language_info": {
   "codemirror_mode": {
    "name": "ipython",
    "version": 3
   },
   "file_extension": ".py",
   "mimetype": "text/x-python",
   "name": "python",
   "nbconvert_exporter": "python",
   "pygments_lexer": "ipython3",
   "version": "3.8.8"
  }
 },
 "nbformat": 4,
 "nbformat_minor": 4
}
