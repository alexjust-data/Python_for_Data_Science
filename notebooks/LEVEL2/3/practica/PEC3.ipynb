{
 "cells": [
  {
   "cell_type": "markdown",
   "metadata": {},
   "source": [
    "<div style=\"float: right; width: 50%;\">\n",
    "    <p style=\"margin: 0; text-align:right;\">Python en Ciencia de Datos Aplicada</p>\n",
    "    <p style=\"margin: 0; text-align:right; padding-button: 100px;\">Prácticas - Optimización de código</p>\n",
    "</div>\n",
    "\n",
    "</div>\n",
    "<div style=\"width: 100%; clear: both;\">\n",
    "<div style=\"width:100%;\">&nbsp;</div>"
   ]
  },
  {
   "cell_type": "code",
   "execution_count": 1,
   "metadata": {},
   "outputs": [],
   "source": [
    "%load_ext pycodestyle_magic"
   ]
  },
  {
   "cell_type": "code",
   "execution_count": 2,
   "metadata": {},
   "outputs": [],
   "source": [
    "# Activamos las alertas de estilo\n",
    "%pycodestyle_on"
   ]
  },
  {
   "cell_type": "markdown",
   "metadata": {},
   "source": [
    "# Prácticas - Optimización de código\n",
    "\n",
    "## Ejercicio 1\n",
    "\n",
    "Contestad brevemente las siguientes preguntas.\n",
    "\n",
    "1. Ordenad las siguientes funciones en función de su orden de crecimiento, considerando en primer lugar las que tienen un orden de crecimiento menor. (**0.5 puntos**)\n",
    "\n",
    "- $8^{2n}$\n",
    "- $6*n^3$\n",
    "- $n*log_6(n)$\n",
    "- $log_2(n)$\n",
    "- $4*n$\n",
    "- $8*n^2$\n",
    "- $64$\n",
    "\n",
    "2. Determinad qué pares de funciones presentan un orden de crecimiento similar entre los dos conjuntos siguientes. (**0.5 puntos**)\n",
    "\n",
    "Conjunto (a)\n",
    "- $n + 30$\n",
    "- $n^2 + 2*n - 10$\n",
    "- $n^3 * 3 * n$\n",
    "- $log_2(n)$\n",
    "\n",
    "Conjunto (b)\n",
    "- $n^4$\n",
    "- $3*n - 1$\n",
    "- $log_2(2*n)$\n",
    "- $n^2 + 3*n$"
   ]
  },
  {
   "cell_type": "markdown",
   "metadata": {},
   "source": [
    "**Respuesta**\n",
    "1. El orden correcto dada la complejidad de un algoritmo a partir del crecimiento de su tiempo de ejecución, en este caso sería:  \n",
    "• 64  \n",
    "• log2(n)  \n",
    "• 4∗n  \n",
    "• n∗log6(n)  \n",
    "• 8∗n2  \n",
    "• 6∗n3  \n",
    "• 82n  \n",
    "\n",
    "• $\\theta (1)$: algoritmo de tiempo constante   \n",
    "• $\\theta (log(n))$: algoritmo logarítmico  \n",
    "• $\\theta ((n)$: algoritmo líneal  \n",
    "• $\\theta ((n ∗ log(n))$: algoritmo quasi-líneal   \n",
    "• $\\theta (n^2)$: algoritmo cuadrático  \n",
    "• $\\theta ((n^a)$: algoritmo multinomial (a>2)   \n",
    "• $\\theta (e^n)$: algoritmo exponencial  \n",
    "\n",
    "2. Las funciones que presentan órdenes de crecimiento similares serían :\n",
    "Conjunto (a)  \n",
    "Conjunto (b)  \n",
    "* n + 30\n",
    "* 3∗n−1\n",
    "* n2 +2∗n−10 n2 + 3 ∗ n\n",
    "* n3 ∗ 3 ∗ n\n",
    "* n4\n",
    "* log2(n)\n",
    "* log2(2 ∗ n)"
   ]
  },
  {
   "cell_type": "markdown",
   "metadata": {},
   "source": [
    "## Ejercicio 2\n",
    "\n",
    "Estudiad la complejidad algoritmica, considerando el caso peor, en relación al tiempo de ejecución del siguiente fragmento de código. ¿Podemos utilizar la notación $\\Theta$ para referirnos a la complejidad del código analizado? En caso afirmativo, mostrad gráficamente el orden de crecimiento de la función juntamente con una función que haga de límite superior y otra que haga de límite inferior.\n",
    "\n",
    "**Nota:** Recordad repasar la sección 2.2.3. Notaciones y definiciones formales del Notebook de teoría.\n",
    "\n",
    "<span style=\"font-family: Courier New; background-color: #82b74b; color: #000000; padding: 3px; \">SM</span> **(1 punto)**"
   ]
  },
  {
   "cell_type": "code",
   "execution_count": 3,
   "metadata": {},
   "outputs": [],
   "source": [
    "def sort_me(array):\n",
    "    swapped = True\n",
    "    while swapped:\n",
    "        swapped = False\n",
    "        for i in range(len(array) - 1):\n",
    "            if array[i] > array[i + 1]:\n",
    "                array[i], array[i + 1] = array[i + 1], array[i]\n",
    "                swapped = True"
   ]
  },
  {
   "cell_type": "markdown",
   "metadata": {},
   "source": [
    "**Respuesta**\n",
    "\n",
    "_(1) Contando pasos_ \n",
    "\n",
    "Para analizar la complejidad algoritmica del fragmento de código dado, observaremos primero su comportamiento con un ejemplo concreto. Imaginemos que llamamos a la función con los siguientes argumentos:  \n",
    "\n",
    "sort_me([4, 3, 2, 1])  \n",
    "\n",
    "De esta manera, los pasos que vamos a ejecutar son:\n",
    "\n",
    "    • Inicializar swapped a True.\n",
    "    • Mientras el valor de swapped siga siendo True:\n",
    "        – Asignación de swapped = F alse.\n",
    "        – Para cada elemento del array de entrada (sin incluir el último) hacer:\n",
    "            ∗ Recuperar los elementos de las posiciones i e i + 1.\n",
    "            ∗ Comparar los elementos obtenidos.\n",
    "            ∗ Si el primer elemento es mayor que el segundo, intercambiar su orden en el array (4\n",
    "            accesos + 2 asignaciones).\n",
    "            ∗ Asignación de swapped = True.\n",
    "            \n",
    "Por lo tanto, para la entrada [4, 3, 2, 1], el tiempo de ejecución del algoritmo sería: \n",
    "\n",
    "$$\n",
    "t_e = 1+4∗(1+10∗3) = 125\n",
    "$$\n",
    "\n",
    "En este caso, ejecutamos el bloque “grande” de operaciones primitivas 3 veces, mientras que la condición while swapped se cumple 4 veces (la primera vez que inicializamos la variable a __True__ y 3 veces dentro del bucle).\n",
    "\n",
    "Si nos fijamos, este escenario también se corresponde al caso peor para nuestra función ya que en cada iteración encontramos al menos dos elementos del array que debemos intercambiar.\n",
    "\n",
    "Por lo tanto, si consideramos un array de entrada de longitud arbitrária n, el tiempo de ejecución de la función vendría determinado por:\n",
    "\n",
    "$$\n",
    "t_w(n) = 1 + n∗(1+10∗(n−1)) = 1+n∗(1+10∗n−10) = 1−9∗n+10∗n^2\n",
    "$$\n",
    "\n",
    "_(2) Notación $\\theta$_\n",
    "\n",
    "La complejidad para el caso peor es $\\theta(n^2)$ dado que siempre recorremos el array entero para buscar elementos que no estén ordenados de forma ascendente. Por lo tanto, podemos encontrar dos constantes $c_1$ y $c_2$ tales que la función se encuentra en medio de $c_1t_w(n)$ y $c_2t_w(n)$ para valores n grandes.\n",
    "\n",
    "Es muy fácil ver si, por ejemplo, escogemos $c_1 = 8$ y $c_2 = 12$, la condición anterior se cumple para nuestra función. Veámoslo gráficamente.\n",
    "\n",
    "_(3) Gráfico tiempo de ejecución_ \n",
    "\n",
    "A continuación podemos ver de forma gráfica el orden de crecimiento de la función, juntamente con los límites superior e inferior."
   ]
  },
  {
   "cell_type": "code",
   "execution_count": 4,
   "metadata": {},
   "outputs": [
    {
     "data": {
      "image/png": "[encoded data removed]",
      "text/plain": [
       "<Figure size 432x288 with 1 Axes>"
      ]
     },
     "metadata": {
      "needs_background": "light"
     },
     "output_type": "display_data"
    },
    {
     "name": "stderr",
     "output_type": "stream",
     "text": [
      "4:1: E302 expected 2 blank lines, found 1\n",
      "4:25: W291 trailing whitespace\n",
      "6:74: W291 trailing whitespace\n",
      "10:1: W293 blank line contains whitespace\n",
      "14:60: W291 trailing whitespace\n",
      "16:1: W293 blank line contains whitespace\n",
      "18:1: W293 blank line contains whitespace\n",
      "23:1: W293 blank line contains whitespace\n",
      "26:1: W293 blank line contains whitespace\n",
      "32:1: E305 expected 2 blank lines after class or function definition, found 1\n"
     ]
    }
   ],
   "source": [
    "import matplotlib.pyplot as plt\n",
    "import numpy as np\n",
    "\n",
    "def plot_funs_theta(xs): \n",
    "    \"\"\"\n",
    "    Plots a predefined set of functions for a given set of x values (xs). \n",
    "    \"\"\"\n",
    "    c1, c2 = 8, 12\n",
    "    legend = []\n",
    "    \n",
    "    ys_f, legend_f = [\n",
    "        10 * x * x - 9 * x + 1 for x in xs\n",
    "    ], \"$10n^2 - 9 * n + 1$\"\n",
    "    ys_low, legend_low = [c1 * x * x for x in xs], \"$8n^2$\" \n",
    "    ys_high, legend_high = [c2 * x * x for x in xs], \"$12n^2$\"\n",
    "    \n",
    "    fig = plt.figure()\n",
    "    \n",
    "    plt.plot(xs, ys_f, \"-\", color=\"tab:orange\")\n",
    "    legend.append(legend_f)\n",
    "    plt.plot(xs, ys_high, \":\", color=\"tab:green\")\n",
    "    legend.append(legend_high)\n",
    "    \n",
    "    plt.plot(xs, ys_low, \":\", color=\"tab:blue\")\n",
    "    legend.append(legend_low)\n",
    "    \n",
    "    plt.legend(legend)\n",
    "    plt.xlabel(\"$n$\")\n",
    "    plt.ylabel(\"$f(n)$\")\n",
    "    plt.title(\"Function growth\")\n",
    "\n",
    "plot_funs_theta(np.arange(0, 100))"
   ]
  },
  {
   "cell_type": "markdown",
   "metadata": {},
   "source": [
    "## Ejercicio 3\n",
    "\n",
    "Estudiad la complejidad algoritmica, considerando el caso peor, en relación al tiempo de ejecución del siguiente fragmento de código y mostrad gráficamente el orden de crecimiento de la función obtenida. En este caso, ¿podemos utilizar la notación $\\Theta$ para referirnos a la complejidad del código analizado? Justificad brevemente vuestra respuesta."
   ]
  },
  {
   "cell_type": "code",
   "execution_count": 5,
   "metadata": {},
   "outputs": [],
   "source": [
    "def find_me(search_object, array):\n",
    "    n = len(array)\n",
    "    lower = 0\n",
    "    upper = n - 1\n",
    "    while lower <= upper:\n",
    "        idx = (lower + upper) // 2\n",
    "        if search_object < array[idx]:\n",
    "            upper = idx - 1\n",
    "        elif search_object > array[idx]:\n",
    "            lower = idx + 1\n",
    "        else:\n",
    "            return idx\n",
    "    raise ValueError(\"Value is not in the list\")"
   ]
  },
  {
   "cell_type": "markdown",
   "metadata": {},
   "source": [
    "**Respuesta**\n",
    "\n",
    "_(1) Contando pasos_\n",
    "\n",
    "Para analizar la complejidad algoritmica del fragmento de código dado, observaremos primero su comportamiento con un ejemplo concreto. Imaginemos que llamamos a la función con los siguientes argumentos:\n",
    "\n",
    "find_me(6, [1, 2, 3, 4, 5])\n",
    "\n",
    "De esta manera, los pasos que ejecutaremos son:\n",
    "    • Cálculo y asignación de la variable n.\n",
    "    • Asignación de la variable lower.\n",
    "    • Cálculo inicial y asignación de la variable upper.\n",
    "    • Mientras lower no sea estríctamente mayor que upper hacer:\n",
    "        – Realizar la comparación.\n",
    "        – Calcular y asignar el nuevo valor de la variable idx. \n",
    "        – Para cada condición:\n",
    "    ∗ Recuperar el elemento del array en la posición idx.\n",
    "    ∗ Comparar el elemento obtenido anteriormente con el elemento que estamos buscando. En este caso, siempre se cumple la segunda condición. \n",
    "        – Actualizar, en este caso concreto, la variable lower a partir de idx.\n",
    "\n",
    "Por lo tanto, para la entrada [1, 2, 3, 4, 5], el tiempo de ejecución del algoritmo sería: \n",
    "\n",
    "$$\n",
    "te =5+8∗3=29\n",
    "$$\n",
    "\n",
    "donde 5 y 8 son las operaciones primitivas que estamos realizando, mientras que 3 indica el número de veces que se ha cumplido la condición __lower <= upper__.\n",
    "\n",
    "Si nos fijamos, este escenario también se corresponde al caso peor para nuestra función ya que el elemento no se encuentra en la lista y siempre se cummple la segunda condición (__elif search_object > array[idx]__).\n",
    "\n",
    "Por lo tanto, si consideramos un array de entrada de longitud arbitrária n, el tiempo de ejecución de la función vendría determinado por:\n",
    "\n",
    "$$\n",
    "tw(n) = 5 + 8 ∗ log2(n)\n",
    "$$\n",
    "\n",
    "Dado que a cada iteración estamos dividiendo el rango lower + upper entre 2, ¿cuántas iteraciones necesitamos en el peor de los casos para obtener un rango de un sólo elemento? La respuesta sería log2(n).\n",
    "\n",
    "_(2) Gráfico tiempo de ejecución_\n",
    "\n",
    "A continuación podemos ver gráficamente la función que determina el tiempo de ejecución de nuestro código.\n",
    "\n"
   ]
  },
  {
   "cell_type": "code",
   "execution_count": 6,
   "metadata": {},
   "outputs": [
    {
     "data": {
      "image/png": "[encoded data removed]",
      "text/plain": [
       "<Figure size 1152x288 with 2 Axes>"
      ]
     },
     "metadata": {
      "needs_background": "light"
     },
     "output_type": "display_data"
    },
    {
     "name": "stderr",
     "output_type": "stream",
     "text": [
      "5:1: E302 expected 2 blank lines, found 1\n",
      "5:37: W291 trailing whitespace\n",
      "7:74: W291 trailing whitespace\n",
      "11:43: W291 trailing whitespace\n",
      "13:1: W293 blank line contains whitespace\n",
      "16:75: E202 whitespace before ')'\n",
      "18:17: W291 trailing whitespace\n",
      "20:1: W293 blank line contains whitespace\n",
      "24:1: W293 blank line contains whitespace\n",
      "25:1: E305 expected 2 blank lines after class or function definition, found 1\n"
     ]
    }
   ],
   "source": [
    "import matplotlib.pyplot as plt\n",
    "import math\n",
    "import numpy as np\n",
    "\n",
    "def plot_growth(xs, logscale=False): \n",
    "    \"\"\"\n",
    "    Plots a predefined set of functions for a given set of x values (xs). \n",
    "    \"\"\"\n",
    "    c1, c2 = 2, 10\n",
    "    ys0 = [5 + 8 * np.log2(x) / 2 for x in xs]\n",
    "    ys_low = [c1 * np.log2(x) for x in xs] \n",
    "    ys_high = [c2 * np.log2(x) for x in xs]\n",
    "    \n",
    "    plt.plot(xs, ys0, xs, ys_low, xs, ys_high)\n",
    "    plt.legend(\n",
    "        [\"$5 + 8 * log_2(n)$\", f\"${c1} * log_2(n)$\", f\"${c2} * log_2(n)$\"] )\n",
    "\n",
    "    if logscale: \n",
    "        plt.xscale(\"log\")\n",
    "    \n",
    "    plt.xlabel(\"$n$\")\n",
    "    plt.ylabel(\"$f(n)$\")\n",
    "    plt.title(\"Function growth\")\n",
    "    \n",
    "fig = plt.figure(figsize=(16, 4))\n",
    "fig.subplots(1, 2)\n",
    "\n",
    "plt.subplot(1, 2, 1)\n",
    "plot_growth(np.arange(0.1, 100_000), logscale=False)\n",
    "\n",
    "plt.subplot(1, 2, 2)\n",
    "plot_growth(np.arange(0.1, 100_000), logscale=True)"
   ]
  },
  {
   "cell_type": "markdown",
   "metadata": {},
   "source": [
    "Podemos observar claramente como el tiempo de ejecución de nuestro código sigue un patrón logarítmico a medida que el tamaño de la entrada crece. En el segundo gráfico, mostramos una escala logarítmica y por lo tanto, podemos ver de forma más clara el crecimiento del tiempo de ejecución de la función. También podemos ver un ejemplo de funciones que nos delimitan el tiempo de ejecución, considerando siempre el caso peor.\n",
    "\n",
    "_(3) Conclusiones_\n",
    "\n",
    "Como hemos podido comprobar, el código tiene complejidad logarítmica, $\\theta(log2(n))$, dado que el caso peor viene dado cuando el elemento que buscamos no se encuentra dentro de la lista. Considerando el caso peor, como hemos visto en los gráficos anteriores, podemos encontrar dos coeficientes c1 y c2 tales que la función se encuentra en medio de $c_1t_w(n)$ y $c_2t_w(n)$ para valores n grandes. Por lo tanto, podemos utilizar la notación $\\theta(log2(n))$ para referirnos a la complejidad de nuestro código."
   ]
  },
  {
   "cell_type": "markdown",
   "metadata": {},
   "source": [
    "## Ejercicio 4\n",
    "\n",
    "En este ejercicio, analizaréis un fragmento de código con el objetivo de detectar las ineficiéncias y después mejorarlo.\n",
    "\n",
    "1. Utilizando las herramientas de *profiling* que hemos visto en el Notebook de teoría, analizad el siguiente fragmento de código ineficiente y encontrad cual es el cuello de botella. Explicad las ineficiencias que habéis detectado, relacionándolas con los resultados obtenidos en el *profiling*.\n",
    "\n",
    "2. Mejorad el código con el objetivo de reducir el tiempo de ejecución.\n",
    "\n",
    "3. Comparad el tiempo de ejecución del código original en relación al código que habéis mejorado en el apartado (2) para `n = 1_000` y para `n = 100_000_000`. Comentad brevemente los resultados obtenidos."
   ]
  },
  {
   "cell_type": "code",
   "execution_count": 7,
   "metadata": {},
   "outputs": [],
   "source": [
    "def squaresum(n):\n",
    "    \"\"\"Returns the sum of squares of first n natural numbers.\n",
    "\n",
    "    Parameters:\n",
    "        n (int): positive integer.\n",
    "\n",
    "    Returns:\n",
    "        (int): sum of squares from 1 to n (inclusive).\n",
    "    \"\"\"\n",
    "    total = 0\n",
    "    operands = []\n",
    "    for i in range(1, n + 1):\n",
    "        aux = pow(i, 2)\n",
    "        operands.append(aux)\n",
    "\n",
    "    for op in operands:\n",
    "        total = total + op\n",
    "\n",
    "    return total"
   ]
  },
  {
   "cell_type": "markdown",
   "metadata": {},
   "source": [
    "### Respuesta\n",
    "\n",
    "Para determinar las ineficiéncias del anterior fragmento de código, primero cargamos la extensión line_profiler para poder utilizar la instrucción mágica %lprun con el objetivo de determinar los puntos de mejora de nuestro código."
   ]
  },
  {
   "cell_type": "code",
   "execution_count": 8,
   "metadata": {},
   "outputs": [],
   "source": [
    "%load_ext line_profiler"
   ]
  },
  {
   "cell_type": "code",
   "execution_count": 9,
   "metadata": {},
   "outputs": [
    {
     "data": {
      "text/plain": [
       "Timer unit: 1e-06 s\n",
       "\n",
       "Total time: 0.208485 s\n",
       "File: <ipython-input-7-f0f99422352b>\n",
       "Function: squaresum at line 1\n",
       "\n",
       "Line #      Hits         Time  Per Hit   % Time  Line Contents\n",
       "==============================================================\n",
       "     1                                           def squaresum(n):\n",
       "     2                                               \"\"\"Returns the sum of squares of first n natural numbers.\n",
       "     3                                           \n",
       "     4                                               Parameters:\n",
       "     5                                                   n (int): positive integer.\n",
       "     6                                           \n",
       "     7                                               Returns:\n",
       "     8                                                   (int): sum of squares from 1 to n (inclusive).\n",
       "     9                                               \"\"\"\n",
       "    10         1          1.0      1.0      0.0      total = 0\n",
       "    11         1          1.0      1.0      0.0      operands = []\n",
       "    12    100001      33497.0      0.3     16.1      for i in range(1, n + 1):\n",
       "    13    100000      70617.0      0.7     33.9          aux = pow(i, 2)\n",
       "    14    100000      43339.0      0.4     20.8          operands.append(aux)\n",
       "    15                                           \n",
       "    16    100001      28307.0      0.3     13.6      for op in operands:\n",
       "    17    100000      32722.0      0.3     15.7          total = total + op\n",
       "    18                                           \n",
       "    19         1          1.0      1.0      0.0      return total"
      ]
     },
     "metadata": {},
     "output_type": "display_data"
    }
   ],
   "source": [
    "%lprun -f squaresum squaresum(100_000)"
   ]
  },
  {
   "cell_type": "markdown",
   "metadata": {},
   "source": [
    "A continuación podemos ver un ejemplo del resultado de la ejecución anterior.\n",
    "\n",
    "Podemos observar que el código tarda __~3.5__ segundos en ejecutarse y la mayor parte del tiempo de ejecución se dedica a los bloques de código de los dos bucles (__~40%__ para cada bucle). También podemos observar que la línea __aux = pow(i, 2)__ nos ocupa un __~20%__ del tiempo de ejecución total.\n",
    "\n",
    "Por lo tanto, lo primero que podemos probar es reducir las operaciones del primer bucle en una única línea."
   ]
  },
  {
   "cell_type": "code",
   "execution_count": 10,
   "metadata": {},
   "outputs": [
    {
     "name": "stderr",
     "output_type": "stream",
     "text": [
      "1:23: W291 trailing whitespace\n",
      "5:35: W291 trailing whitespace\n",
      "6:1: W293 blank line contains whitespace\n",
      "8:27: W291 trailing whitespace\n"
     ]
    }
   ],
   "source": [
    "def squaresum_opt1(n): \n",
    "    total = 0\n",
    "    operands = []\n",
    "    for i in range(1, n + 1):\n",
    "        operands.append(pow(i, 2)) \n",
    "        \n",
    "    for op in operands:\n",
    "        total = total + op \n",
    "\n",
    "    return total"
   ]
  },
  {
   "cell_type": "markdown",
   "metadata": {},
   "source": [
    "Volvemos a ejecutar %lprun para ver si hemos conseguido mejorar el tiempo de ejecución."
   ]
  },
  {
   "cell_type": "code",
   "execution_count": 11,
   "metadata": {},
   "outputs": [
    {
     "data": {
      "text/plain": [
       "Timer unit: 1e-06 s\n",
       "\n",
       "Total time: 0.16061 s\n",
       "File: <ipython-input-10-c471a6159d95>\n",
       "Function: squaresum_opt1 at line 1\n",
       "\n",
       "Line #      Hits         Time  Per Hit   % Time  Line Contents\n",
       "==============================================================\n",
       "     1                                           def squaresum_opt1(n): \n",
       "     2         1          1.0      1.0      0.0      total = 0\n",
       "     3         1          0.0      0.0      0.0      operands = []\n",
       "     4    100001      31233.0      0.3     19.4      for i in range(1, n + 1):\n",
       "     5    100000      68484.0      0.7     42.6          operands.append(pow(i, 2)) \n",
       "     6                                                   \n",
       "     7    100001      28339.0      0.3     17.6      for op in operands:\n",
       "     8    100000      32552.0      0.3     20.3          total = total + op \n",
       "     9                                           \n",
       "    10         1          1.0      1.0      0.0      return total"
      ]
     },
     "metadata": {},
     "output_type": "display_data"
    }
   ],
   "source": [
    "%lprun -f squaresum_opt1 squaresum_opt1(100_000)"
   ]
  },
  {
   "cell_type": "markdown",
   "metadata": {},
   "source": [
    "Podemos observar como el tiempo de ejecución ha bajado aunque de forma muy ligera. Aún así, es consistente con el __~20%__ que nos proponíamos reducir.\n",
    "\n",
    "En cambio, podemos ver que los dos bucles se reparten el tiempo de ejecución. Por lo tanto, intentaremos juntarlos. Esto nos daría una reducción importante del tiempo de ejecución."
   ]
  },
  {
   "cell_type": "code",
   "execution_count": 12,
   "metadata": {},
   "outputs": [],
   "source": [
    "def squaresum_opt2(n):\n",
    "    total = 0\n",
    "    for i in range(1, n + 1):\n",
    "        total = total + i * i\n",
    "\n",
    "    return total"
   ]
  },
  {
   "cell_type": "markdown",
   "metadata": {},
   "source": [
    "Realmente, el segundo bucle era totalmente innecesario dado que podemos acumular la suma sin tener que guardar el resultado en un array temporal.\n",
    "\n",
    "Volvemos a ejecutar %lprun para ver si hemos conseguido mejorar el tiempo de ejecución."
   ]
  },
  {
   "cell_type": "code",
   "execution_count": 13,
   "metadata": {},
   "outputs": [
    {
     "data": {
      "text/plain": [
       "Timer unit: 1e-06 s\n",
       "\n",
       "Total time: 0.063539 s\n",
       "File: <ipython-input-12-5056719f687d>\n",
       "Function: squaresum_opt2 at line 1\n",
       "\n",
       "Line #      Hits         Time  Per Hit   % Time  Line Contents\n",
       "==============================================================\n",
       "     1                                           def squaresum_opt2(n):\n",
       "     2         1          2.0      2.0      0.0      total = 0\n",
       "     3    100001      27937.0      0.3     44.0      for i in range(1, n + 1):\n",
       "     4    100000      35600.0      0.4     56.0          total = total + i * i\n",
       "     5                                           \n",
       "     6         1          0.0      0.0      0.0      return total"
      ]
     },
     "metadata": {},
     "output_type": "display_data"
    }
   ],
   "source": [
    "%lprun -f squaresum_opt2 squaresum_opt2(100_000)"
   ]
  },
  {
   "cell_type": "markdown",
   "metadata": {},
   "source": [
    "Efectivamente, podemos ver como ahora sí que hay una bajada importante en el tiempo de ejecución (__~1.4__ segundos), casi 3 veces menos que la versión inicial.\n",
    "\n",
    "_(3) Comparando el tiempo de ejecución_\n",
    "\n",
    "A continuación utilizaremos el módulo time de Python para calcular el tiempo de ejecución de la función original y de nuestra función optimizada."
   ]
  },
  {
   "cell_type": "code",
   "execution_count": 14,
   "metadata": {},
   "outputs": [
    {
     "data": {
      "text/html": [
       "<div>\n",
       "<style scoped>\n",
       "    .dataframe tbody tr th:only-of-type {\n",
       "        vertical-align: middle;\n",
       "    }\n",
       "\n",
       "    .dataframe tbody tr th {\n",
       "        vertical-align: top;\n",
       "    }\n",
       "\n",
       "    .dataframe thead th {\n",
       "        text-align: right;\n",
       "    }\n",
       "</style>\n",
       "<table border=\"1\" class=\"dataframe\">\n",
       "  <thead>\n",
       "    <tr style=\"text-align: right;\">\n",
       "      <th></th>\n",
       "      <th>n=1_000</th>\n",
       "      <th>n=10_000_000</th>\n",
       "      <th>n=100_000_000</th>\n",
       "    </tr>\n",
       "  </thead>\n",
       "  <tbody>\n",
       "    <tr>\n",
       "      <th>squaresum</th>\n",
       "      <td>0.000716</td>\n",
       "      <td>4.115178</td>\n",
       "      <td>48.326462</td>\n",
       "    </tr>\n",
       "    <tr>\n",
       "      <th>squaresum_opt2</th>\n",
       "      <td>0.000137</td>\n",
       "      <td>0.795116</td>\n",
       "      <td>8.126989</td>\n",
       "    </tr>\n",
       "  </tbody>\n",
       "</table>\n",
       "</div>"
      ],
      "text/plain": [
       "                 n=1_000  n=10_000_000  n=100_000_000\n",
       "squaresum       0.000716      4.115178      48.326462\n",
       "squaresum_opt2  0.000137      0.795116       8.126989"
      ]
     },
     "metadata": {},
     "output_type": "display_data"
    }
   ],
   "source": [
    "import time\n",
    "import pandas as pd\n",
    "\n",
    "execution_time = {\"squaresum\": [], \"squaresum_opt2\": []}\n",
    "\n",
    "target_ranges = [1_000, 10_000_000, 100_000_000]\n",
    "\n",
    "for n in target_ranges:\n",
    "    # Calculating execution time for squaresum\n",
    "    start_time = time.time()\n",
    "    squaresum(n)\n",
    "    execution_time[\"squaresum\"].append(time.time() - start_time)\n",
    "\n",
    "    # Calculating execution time for squaresum_opt2\n",
    "    start_time = time.time()\n",
    "    squaresum_opt2(n)\n",
    "    execution_time[\"squaresum_opt2\"].append(time.time() - start_time)\n",
    "\n",
    "# We create a dataframe from our dictionary for a better display\n",
    "df = pd.DataFrame.from_dict(\n",
    "    execution_time,\n",
    "    orient=\"index\",\n",
    "    columns=[f\"n={range:_}\" for range in target_ranges],\n",
    ")\n",
    "display(df)"
   ]
  },
  {
   "cell_type": "markdown",
   "metadata": {},
   "source": [
    "Como podemos observar, para valores muy pequeños los tiempos de ejecución son muy similares, pero incluso en estos casos vemos una reducción en el tiempo de ejecución. A medida que incremen- tamos el argumento de entrada, n, la diferencia se hace aún más notable. En este caso, podemos ver como para __n = 100_000_000__ obtenemos __hasta 1/6__ de reducción del tiempo de ejecución.\n",
    "\n",
    "Por otro lado, algunos de vosotros habéis observado como, dependiendo de la máquina dónde estamos ejecutando el código, no somos capaces de calcular __squaresum(100_000_000)__. Esto es debido a que este código necesita mucha memoria __RAM__ para ejecutarse y puede llegar a consumir hasta 4GB de memoria."
   ]
  },
  {
   "cell_type": "markdown",
   "metadata": {},
   "source": [
    "## Ejercicio 5\n",
    "\n",
    "En este ejercicio, analizaréis un fragmento de código con el objetivo de detectar las ineficiéncias y después mejorarlo.\n",
    "\n",
    "1. Utilizando las herramientas de *profiling* que hemos visto en el Notebook de teoría, analizad el siguiente fragmento de código ineficiente y encontrad cual es el cuello de botella. Explicad las ineficiencias que habéis detectado, relacionándolas con los resultados obtenidos en el *profiling*.\n",
    "\n",
    "2. Mejorad el código con el objetivo de reducir el tiempo de ejecución."
   ]
  },
  {
   "cell_type": "code",
   "execution_count": 15,
   "metadata": {},
   "outputs": [],
   "source": [
    "def list_duplicates(array):\n",
    "    \"\"\"Returns duplicate elements in the array.\n",
    "\n",
    "    Parameters:\n",
    "        array (list): input array for counting duplicates.\n",
    "\n",
    "    Returns:\n",
    "        (list): list of duplicate elements\n",
    "                (each duplicate element appears only once).\n",
    "    \"\"\"\n",
    "\n",
    "    duplicates = []\n",
    "    i = 0\n",
    "\n",
    "    while i < len(array):\n",
    "        j = i + 1\n",
    "        while j < len(array):\n",
    "            if array[i] == array[j]:\n",
    "\n",
    "                already_counted = False\n",
    "                for item in duplicates:\n",
    "                    if item == array[i]:\n",
    "                        already_counted = True\n",
    "                        break\n",
    "\n",
    "                if not already_counted:\n",
    "                    duplicates.append(array[i])\n",
    "\n",
    "            j = j + 1\n",
    "\n",
    "        i = i + 1\n",
    "\n",
    "    return duplicates"
   ]
  },
  {
   "cell_type": "markdown",
   "metadata": {},
   "source": [
    "### Respuesta\n",
    "En este caso, también utilizaremos la instrucción mágica __%lprun__ para ver cuál es el tiempo de ejecución de la función y qué instrucciones son las que tardan más. Para hacerlo, generaremos una lista de 1000 números aleatorios entre -100 y 100 y que utilizaremos como argumento de entrada de la función.En este caso, también utilizaremos la instrucción mágica %lprun para ver cuál es el tiempo de ejecución de la función y qué instrucciones son las que tardan más. Para hacerlo, generaremos una lista de 1000 números aleatorios entre -100 y 100 y que utilizaremos como argumento de entrada de la función."
   ]
  },
  {
   "cell_type": "code",
   "execution_count": 16,
   "metadata": {},
   "outputs": [],
   "source": [
    "from random import randint\n",
    "\n",
    "list1 = [randint(-100, 100) for _ in range(1000)]"
   ]
  },
  {
   "cell_type": "code",
   "execution_count": 17,
   "metadata": {},
   "outputs": [
    {
     "data": {
      "text/plain": [
       "Timer unit: 1e-06 s\n",
       "\n",
       "Total time: 0.730415 s\n",
       "File: <ipython-input-15-ef1a3be39dae>\n",
       "Function: list_duplicates at line 1\n",
       "\n",
       "Line #      Hits         Time  Per Hit   % Time  Line Contents\n",
       "==============================================================\n",
       "     1                                           def list_duplicates(array):\n",
       "     2                                               \"\"\"Returns duplicate elements in the array.\n",
       "     3                                           \n",
       "     4                                               Parameters:\n",
       "     5                                                   array (list): input array for counting duplicates.\n",
       "     6                                           \n",
       "     7                                               Returns:\n",
       "     8                                                   (list): list of duplicate elements\n",
       "     9                                                           (each duplicate element appears only once).\n",
       "    10                                               \"\"\"\n",
       "    11                                           \n",
       "    12         1          2.0      2.0      0.0      duplicates = []\n",
       "    13         1          1.0      1.0      0.0      i = 0\n",
       "    14                                           \n",
       "    15      1001        420.0      0.4      0.1      while i < len(array):\n",
       "    16      1000        368.0      0.4      0.1          j = i + 1\n",
       "    17    500500     198356.0      0.4     27.2          while j < len(array):\n",
       "    18    499500     225020.0      0.5     30.8              if array[i] == array[j]:\n",
       "    19                                           \n",
       "    20      2482        714.0      0.3      0.1                  already_counted = False\n",
       "    21    194083      58584.0      0.3      8.0                  for item in duplicates:\n",
       "    22    193889      70683.0      0.4      9.7                      if item == array[i]:\n",
       "    23      2288        708.0      0.3      0.1                          already_counted = True\n",
       "    24      2288        804.0      0.4      0.1                          break\n",
       "    25                                           \n",
       "    26      2482        808.0      0.3      0.1                  if not already_counted:\n",
       "    27       194        253.0      1.3      0.0                      duplicates.append(array[i])\n",
       "    28                                           \n",
       "    29    499500     173340.0      0.3     23.7              j = j + 1\n",
       "    30                                           \n",
       "    31      1000        353.0      0.4      0.0          i = i + 1\n",
       "    32                                           \n",
       "    33         1          1.0      1.0      0.0      return duplicates"
      ]
     },
     "metadata": {},
     "output_type": "display_data"
    }
   ],
   "source": [
    "%lprun -f list_duplicates list_duplicates(list1)"
   ]
  },
  {
   "cell_type": "markdown",
   "metadata": {},
   "source": [
    "Podemos observar como la función tarda alrededor de __13__ segundos en ejecutarse dada una lista de 1000 elementos. De los resultados que obtenemos con el %lprun hay una línea que llama la atención. Según el ejemplo de ejecución que podéis ver a continuación, el __26%__ del tiempo se dedica a incrementar el índice $j (j = j + 1)$.\n",
    "\n",
    "Dado que siempre conocemos la longitud del array, modificamos el bucle interior para utilizar un for en vez de un __while__."
   ]
  },
  {
   "cell_type": "code",
   "execution_count": 18,
   "metadata": {},
   "outputs": [],
   "source": [
    "def list_duplicates_opt1(array):\n",
    "\n",
    "    duplicates = []\n",
    "    i = 0\n",
    "\n",
    "    while i < len(array):\n",
    "        j = i + 1\n",
    "\n",
    "        for j in range(i + 1, len(array)):\n",
    "            if array[i] == array[j]:\n",
    "\n",
    "                already_counted = False\n",
    "                for item in duplicates:\n",
    "                    if item == array[i]:\n",
    "                        already_counted = True\n",
    "                        break\n",
    "\n",
    "                if not already_counted:\n",
    "                    duplicates.append(array[i])\n",
    "\n",
    "    i = i + 1\n",
    "\n",
    "    return duplicates"
   ]
  },
  {
   "cell_type": "markdown",
   "metadata": {},
   "source": [
    "Volvemos a comprobar con la comanda __%lprun__ cuál es la mejora que hemos obtenido."
   ]
  },
  {
   "cell_type": "code",
   "execution_count": 19,
   "metadata": {},
   "outputs": [
    {
     "data": {
      "text/plain": [
       "Timer unit: 1e-06 s\n",
       "\n",
       "Total time: 29.9475 s\n",
       "File: <ipython-input-18-0ee04ec29ba2>\n",
       "Function: list_duplicates_opt1 at line 1\n",
       "\n",
       "Line #      Hits         Time  Per Hit   % Time  Line Contents\n",
       "==============================================================\n",
       "     1                                           def list_duplicates_opt1(array):\n",
       "     2                                           \n",
       "     3         1          1.0      1.0      0.0      duplicates = []\n",
       "     4         1          1.0      1.0      0.0      i = 0\n",
       "     5                                           \n",
       "     6     41624      28786.0      0.7      0.1      while i < len(array):\n",
       "     7     41624      16792.0      0.4      0.1          j = i + 1\n",
       "     8                                           \n",
       "     9  41623564   12718853.0      0.3     42.5          for j in range(i + 1, len(array)):\n",
       "    10  41581941   16599488.0      0.4     55.4              if array[i] == array[j]:\n",
       "    11                                           \n",
       "    12    291364      90364.0      0.3      0.3                  already_counted = False\n",
       "    13    291364     112426.0      0.4      0.4                  for item in duplicates:\n",
       "    14    291362     109348.0      0.4      0.4                      if item == array[i]:\n",
       "    15    291362      88721.0      0.3      0.3                          already_counted = True\n",
       "    16    291362      94111.0      0.3      0.3                          break\n",
       "    17                                           \n",
       "    18    291363      88618.0      0.3      0.3                  if not already_counted:\n",
       "    19         1          1.0      1.0      0.0                      duplicates.append(array[i])\n",
       "    20                                           \n",
       "    21                                               i = i + 1\n",
       "    22                                           \n",
       "    23                                               return duplicates"
      ]
     },
     "metadata": {},
     "output_type": "display_data"
    }
   ],
   "source": [
    "%lprun -f list_duplicates_opt1 list_duplicates_opt1(list1)"
   ]
  },
  {
   "cell_type": "markdown",
   "metadata": {},
   "source": [
    "Efectivamente, obtenemos una reducción del tiempo de ejecución de un __25%__ aproximadamente.\n",
    "\n",
    "Si nos fijamos, nuestro código tiene 3 bucles y el tercer bucle nos ocupa más de un __25%__ del tiempo de ejecución. Intentaremos eliminar el último bucle dado que hay maneras más elegantes de Python para comprobar si un elemento existe o no en una lista. Para hacerlo, utilizaremos el operador not in, como podemos ver a continuación."
   ]
  },
  {
   "cell_type": "code",
   "execution_count": 20,
   "metadata": {},
   "outputs": [],
   "source": [
    "def list_duplicates_opt2(array):\n",
    "\n",
    "    duplicates = []\n",
    "    i = 0\n",
    "\n",
    "    while i < len(array):\n",
    "        j = i + 1\n",
    "        for j in range(i + 1, len(array)):\n",
    "            if array[i] == array[j] and array[i] not in duplicates:\n",
    "                duplicates.append(array[i])\n",
    "\n",
    "        i = i + 1\n",
    "\n",
    "    return duplicates"
   ]
  },
  {
   "cell_type": "markdown",
   "metadata": {},
   "source": [
    "Volvemos a comprobar con la comanda __%lprun__ cuál es la mejora que hemos obtenido."
   ]
  },
  {
   "cell_type": "code",
   "execution_count": 21,
   "metadata": {},
   "outputs": [
    {
     "data": {
      "text/plain": [
       "Timer unit: 1e-06 s\n",
       "\n",
       "Total time: 0.35136 s\n",
       "File: <ipython-input-20-b210c0ff6d7e>\n",
       "Function: list_duplicates_opt2 at line 1\n",
       "\n",
       "Line #      Hits         Time  Per Hit   % Time  Line Contents\n",
       "==============================================================\n",
       "     1                                           def list_duplicates_opt2(array):\n",
       "     2                                           \n",
       "     3         1          1.0      1.0      0.0      duplicates = []\n",
       "     4         1          0.0      0.0      0.0      i = 0\n",
       "     5                                           \n",
       "     6      1001        485.0      0.5      0.1      while i < len(array):\n",
       "     7      1000        331.0      0.3      0.1          j = i + 1\n",
       "     8    500500     147927.0      0.3     42.1          for j in range(i + 1, len(array)):\n",
       "     9    499500     202073.0      0.4     57.5              if array[i] == array[j] and array[i] not in duplicates:\n",
       "    10       194        160.0      0.8      0.0                  duplicates.append(array[i])\n",
       "    11                                           \n",
       "    12      1000        383.0      0.4      0.1          i = i + 1\n",
       "    13                                           \n",
       "    14         1          0.0      0.0      0.0      return duplicates"
      ]
     },
     "metadata": {},
     "output_type": "display_data"
    }
   ],
   "source": [
    "%lprun -f list_duplicates_opt2 list_duplicates_opt2(list1)"
   ]
  },
  {
   "cell_type": "markdown",
   "metadata": {},
   "source": [
    "En este caso, de nuevo podemos comprobar que hemos conseguido reducir el tiempo de ejecución aproximadamente en un __25%__ respecto a la ejecución anterior. Por lo tanto, en total hemos conseguido una reducción de alrededor del __50%__ respecto a la implementación inicial.\n",
    "\n",
    "Llegados a este punto, difícilmente podremos encontrar otras maneres de optimizar el código de una manera significativa. Aunque para ser consistentes con la optimización que hemos realizado en primer lugar, también podemos cambiar el bucle __while__ por un bucle for dado que conocemos a priori el número de iteraciones que tenemos que realizar."
   ]
  },
  {
   "cell_type": "code",
   "execution_count": 22,
   "metadata": {},
   "outputs": [],
   "source": [
    "def list_duplicates_opt3(array):\n",
    "    size = len(array)\n",
    "    duplicates = []\n",
    "    for i in range(size):\n",
    "        for j in range(i + 1, size):\n",
    "            if array[i] == array[j] and array[i] not in duplicates:\n",
    "                duplicates.append(array[i])\n",
    "    return duplicates"
   ]
  },
  {
   "cell_type": "markdown",
   "metadata": {},
   "source": [
    "Comprobamos si realmente ha habido una mejora del tiempo de ejecución."
   ]
  },
  {
   "cell_type": "code",
   "execution_count": 23,
   "metadata": {},
   "outputs": [
    {
     "data": {
      "text/plain": [
       "Timer unit: 1e-06 s\n",
       "\n",
       "Total time: 0.349755 s\n",
       "File: <ipython-input-22-55b89b2dea07>\n",
       "Function: list_duplicates_opt3 at line 1\n",
       "\n",
       "Line #      Hits         Time  Per Hit   % Time  Line Contents\n",
       "==============================================================\n",
       "     1                                           def list_duplicates_opt3(array):\n",
       "     2         1          1.0      1.0      0.0      size = len(array)\n",
       "     3         1          1.0      1.0      0.0      duplicates = []\n",
       "     4      1001        272.0      0.3      0.1      for i in range(size):\n",
       "     5    500500     146874.0      0.3     42.0          for j in range(i + 1, size):\n",
       "     6    499500     202407.0      0.4     57.9              if array[i] == array[j] and array[i] not in duplicates:\n",
       "     7       194        199.0      1.0      0.1                  duplicates.append(array[i])\n",
       "     8         1          1.0      1.0      0.0      return duplicates"
      ]
     },
     "metadata": {},
     "output_type": "display_data"
    }
   ],
   "source": [
    "%lprun -f list_duplicates_opt3 list_duplicates_opt3(list1)"
   ]
  },
  {
   "cell_type": "markdown",
   "metadata": {},
   "source": [
    "En este caso, la mejora del tiempo de ejecución es mínima, como ya sospechábamos. Pero nuestro código queda mucho más compacto y mucho más “limpio”."
   ]
  },
  {
   "cell_type": "markdown",
   "metadata": {},
   "source": [
    "## Ejercicio 6\n",
    "\n",
    "Una biblioteca de barrio nos pide hacer un pequeño proyecto donde se trata de recuperar información de diversos libros en base a su [ISBN](https://en.wikipedia.org/wiki/International_Standard_Book_Number). En una primera instancia nos piden recuperar el **título** del libro, **autor o autores** y una **imágen de portada** para poder crear una página web de consulta.\n",
    "\n",
    "La biblioteca también se plantea contratar los servicios de un proveedor *cloud* para alojar los servicios de consulta y visualización de la información y les preocupa principalmente el **tiempo** que tardará el servicio de consulta.\n",
    "\n",
    "En un análisis previo, se ha investigado el uso de la API de *[Open Library](https://openlibrary.org/developers/api)* para consultar la información que se nos pide. A continuación podemos ver un ejemplo de uso de dicha API. La siguiente función devuelve el título, autor/es e imágen de portada dado un ISBN."
   ]
  },
  {
   "cell_type": "code",
   "execution_count": 1,
   "metadata": {},
   "outputs": [],
   "source": [
    "import requests\n",
    "\n",
    "\n",
    "def get_book_info(isbn):\n",
    "    \"\"\"Returns title, author and cover image URL from\n",
    "    Open Library given an ISBN.\n",
    "\n",
    "    Parameters:\n",
    "    isbn (string): ISBN to search.\n",
    "\n",
    "    Returns:\n",
    "    tuple: tuple in the form (title (string), authors (list),\n",
    "            cover image url (string))\n",
    "    \"\"\"\n",
    "\n",
    "    openLibraryUrl = \"https://openlibrary.org/api/books\"\n",
    "    parameters = {\"bibkeys\": f\"ISBN:{isbn}\", \"format\": \"json\", \"jscmd\": \"data\"}\n",
    "    response = requests.get(openLibraryUrl, params=parameters)\n",
    "    book_info = response.json()[f\"ISBN:{isbn}\"]\n",
    "\n",
    "    title = book_info[\"title\"]\n",
    "    authorNames = []\n",
    "    for author in book_info[\"authors\"]:\n",
    "        authorNames.append(author[\"name\"])\n",
    "    coverImageUrl = book_info[\"cover\"][\"small\"] if \"cover\" in book_info else \"\"\n",
    "\n",
    "    return (title, authorNames, coverImageUrl)"
   ]
  },
  {
   "cell_type": "markdown",
   "metadata": {},
   "source": [
    "Algunos de los ISBNs que se han utilizado durante las pruebas son:"
   ]
  },
  {
   "cell_type": "code",
   "execution_count": 2,
   "metadata": {},
   "outputs": [],
   "source": [
    "isbns_to_test = [\n",
    "    \"0134692888\",\n",
    "    \"1491946008\",\n",
    "    \"1491957662\",\n",
    "    \"0134853989\",\n",
    "    \"1449340377\",\n",
    "    \"1449355730\",\n",
    "    \"1491939362\",\n",
    "    \"1775093301\",\n",
    "    \"1593279280\",\n",
    "    \"1593279922\",\n",
    "]"
   ]
  },
  {
   "cell_type": "markdown",
   "metadata": {},
   "source": [
    "Por lo tanto, lo que se nos pide como parte de este proyecto es:\n",
    "\n",
    "<span style=\"color: #004ecb\">(a)</span> Sabiendo que los libros se mostrarán en páginas de 10 elementos, determinar si es mejor implementar una solución concurrente (*multithreading*) o una solución paralela (*multiprocessing*), justificando brevemente la elección.\n",
    "\n",
    "<span style=\"color: #004ecb\">(b)</span> Proporcionar una implementación del servicio de consulta a partir del ISBN utilizando el método escogido en el apartado anterior.\n",
    "\n",
    "<span style=\"color: #004ecb\">(c)</span> Proporcionar una comparativa respecto al tiempo de ejecución del servicio variando el nombre de *threads* o *procesos* (en función de la solución escogida anteriormente) entre 1 y 10. Comentad brevemente los resultados obtenidos.\n",
    "\n",
    "\n",
    "**Nota.** Python 3 incluye las clases `ThreadPoolExecutor` y `ProcessPoolExecutor` para facilitar la ejecución de código en múltiples *threads* o procesos. Os pueden ser de utilidad para resolver este ejercicio y podéis encontrar la documentación oficial en el siguiente [enlace](https://docs.python.org/3/library/concurrent.futures.html)."
   ]
  },
  {
   "cell_type": "markdown",
   "metadata": {},
   "source": [
    "### Respuesta\n",
    "\n",
    "_(a) Multithreading vs multiprocessing_  \n",
    "En este caso, es mejor utilizar una solución multithread en vez de una solución multiprocess dado que estamos tratando con peticiones a un servidor remoto a través de __HTTPS__. Por lo tanto, la mayor parte de la carga de estas peticiones será en la capa de red (esperando respuesta a nuestras peticiones) y no se hará un uso excesivo de la __CPU__. También es importante observar que podemos realizar todas las peticiones en paralelo dado que una petición no depende del resultado de la petición anterior y tampoco es relevante el orden en el que recibimos las respuestas. En conclusión, el uso de multithreading nos beneficiará en este caso ya que los cambios de contexto son más “rápidos” y podemos aprovechar mejor el tiempo durante el cual la CPU no está ejecutando ninguna otra operación.\n",
    "\n",
    "_(b) Implementación concurrente_  \n",
    "En primer lugar, modificamos la función original para añadir instrucciones de log que nos faciliten el posterior debugging.\n",
    "\n",
    "_(a) Multithreading vs multiprocessing_  \n",
    "En este caso, es mejor utilizar una solución multithread en vez de una solución multiprocess dado que estamos tratando con peticiones a un servidor remoto a través de HTTPS. Por lo tanto, la mayor parte de la carga de estas peticiones será en la capa de red (esperando respuesta a nuestras peticiones) y no se hará un uso excesivo de la CPU. También es importante observar que podemos realizar todas las peticiones en paralelo dado que una petición no depende del resultado de la petición anterior y tampoco es relevante el orden en el que recibimos las respuestas. En conclusión, el uso de multithreading nos beneficiará en este caso ya que los cambios de contexto son más “rápidos” y podemos aprovechar mejor el tiempo durante el cual la CPU no está ejecutando ninguna otra operación.\n",
    "\n",
    "_(b) Implementación concurrente_  \n",
    "En primer lugar, modificamos la función original para añadir instrucciones de log que nos faciliten\n",
    "el posterior debugging.\n"
   ]
  },
  {
   "cell_type": "code",
   "execution_count": 3,
   "metadata": {},
   "outputs": [],
   "source": [
    "import requests\n",
    "import logging\n",
    "\n",
    "logging.basicConfig(\n",
    "    format=\"%(threadName)s: %(message)s\",\n",
    "    level=logging.INFO,\n",
    "    datefmt=\"%H:%M:%S\",\n",
    ")\n",
    "\n",
    "\n",
    "def get_book_info(isbn):\n",
    "    \"\"\"Returns title, author and cover image URL from\n",
    "    Open Library given an ISBN.\n",
    "    Parameters:\n",
    "    isbn (string): ISBN to search.\n",
    "    Returns:\n",
    "    tuple: tuple in the form (title (string), authors (list),\n",
    "        cover image url (string))\n",
    "    \"\"\"\n",
    "\n",
    "    openLibraryUrl = \"https://openlibrary.org/api/books\"\n",
    "    parameters = {\n",
    "        \"bibkeys\": f\"ISBN:{isbn}\",\n",
    "        \"format\": \"json\",\n",
    "        \"jscmd\": \"data\",\n",
    "    }\n",
    "\n",
    "    logging.info(f\"[T]\\tRequesting book info for {isbn}\")\n",
    "    response = requests.get(openLibraryUrl, params=parameters)\n",
    "    book_info = response.json()[f\"ISBN:{isbn}\"]\n",
    "\n",
    "    title = book_info[\"title\"]\n",
    "    authorNames = []\n",
    "    for author in book_info[\"authors\"]:\n",
    "        authorNames.append(author[\"name\"])\n",
    "    coverImageUrl = (\n",
    "        book_info[\"cover\"][\"small\"] if \"cover\" in book_info else \"\"\n",
    "    )\n",
    "\n",
    "    return (title, authorNames, coverImageUrl)"
   ]
  },
  {
   "cell_type": "markdown",
   "metadata": {},
   "source": [
    "A continuación creamos una función que nos permita crear un ThreadPoolExecutor y ejecutar el\n",
    "código de la función get_book_info en un thread separado."
   ]
  },
  {
   "cell_type": "code",
   "execution_count": 4,
   "metadata": {},
   "outputs": [],
   "source": [
    "import concurrent.futures\n",
    "\n",
    "\n",
    "def get_book_info_multithreaded(isbns, num_of_threads):\n",
    "    \"\"\"Retrieves books information using multiple threads.\n",
    "    Parameters:\n",
    "    isbns (list): list of ISBNs to search for.\n",
    "    num_of_threads: number of threads that should be used.\n",
    "    \"\"\"\n",
    "    with concurrent.futures.ThreadPoolExecutor(\n",
    "        max_workers=num_of_threads\n",
    "    ) as executor:\n",
    "        futures = []\n",
    "        for isbn in isbns:\n",
    "            futures.append(executor.submit(get_book_info, isbn=isbn))\n",
    "        for future in concurrent.futures.as_completed(futures):\n",
    "            logging.info(f\"[M]\\tRecovered {future.result()}\")"
   ]
  },
  {
   "cell_type": "markdown",
   "metadata": {},
   "source": [
    "Comprobamos que nuestra implementación es correcta ejecutando la función anterior y utilizando por ejemplo, 2 threads."
   ]
  },
  {
   "cell_type": "code",
   "execution_count": 5,
   "metadata": {},
   "outputs": [
    {
     "name": "stderr",
     "output_type": "stream",
     "text": [
      "ThreadPoolExecutor-0_0: [T]\tRequesting book info for 0134692888\n",
      "ThreadPoolExecutor-0_1: [T]\tRequesting book info for 1491946008\n",
      "ThreadPoolExecutor-0_0: [T]\tRequesting book info for 1491957662\n",
      "MainThread: [M]\tRecovered (\"Learn Python 3 the Hard Way: A Very Simple Introduction to the Terrifyingly Beautiful World of Computers and Code (Zed Shaw's Hard Way Series)\", ['Zed A. Shaw'], 'https://covers.openlibrary.org/b/id/8510257-S.jpg')\n",
      "ThreadPoolExecutor-0_1: [T]\tRequesting book info for 0134853989\n",
      "MainThread: [M]\tRecovered ('Fluent Python', ['Luciano Ramalho'], 'https://covers.openlibrary.org/b/id/10618446-S.jpg')\n",
      "ThreadPoolExecutor-0_1: [T]\tRequesting book info for 1449340377\n",
      "ThreadPoolExecutor-0_0: [T]\tRequesting book info for 1449355730\n",
      "MainThread: [M]\tRecovered ('Effective Python', ['Brett Slatkin'], 'https://covers.openlibrary.org/b/id/10143688-S.jpg')\n",
      "MainThread: [M]\tRecovered ('Python for Data Analysis: Data Wrangling with Pandas, NumPy, and IPython', ['Wes McKinney'], 'https://covers.openlibrary.org/b/id/8509832-S.jpg')\n",
      "ThreadPoolExecutor-0_1: [T]\tRequesting book info for 1491939362\n",
      "ThreadPoolExecutor-0_0: [T]\tRequesting book info for 1775093301\n",
      "MainThread: [M]\tRecovered ('Python Cookbook, Third edition', ['David Beazley', 'Brian K. Jones'], 'https://covers.openlibrary.org/b/id/8515071-S.jpg')\n",
      "MainThread: [M]\tRecovered ('Learning Python', ['Mark Lutz'], '')\n",
      "ThreadPoolExecutor-0_0: [T]\tRequesting book info for 1593279280\n",
      "MainThread: [M]\tRecovered ('Python Tricks: A Buffet of Awesome Python Features', ['Dan Bader'], 'https://covers.openlibrary.org/b/id/8509237-S.jpg')\n",
      "ThreadPoolExecutor-0_1: [T]\tRequesting book info for 1593279922\n",
      "MainThread: [M]\tRecovered ('Think Python', ['Allen B. Downey'], 'https://covers.openlibrary.org/b/id/8183667-S.jpg')\n",
      "MainThread: [M]\tRecovered ('Python Crash Course, 2nd Edition', ['Eric Matthes'], 'https://covers.openlibrary.org/b/id/8800209-S.jpg')\n",
      "MainThread: [M]\tRecovered ('Automate the Boring Stuff with Python', ['Al Sweigart'], 'https://covers.openlibrary.org/b/id/10355256-S.jpg')\n"
     ]
    }
   ],
   "source": [
    "get_book_info_multithreaded(isbns_to_test, num_of_threads=2)"
   ]
  },
  {
   "cell_type": "markdown",
   "metadata": {},
   "source": [
    "Como podemos comprobar, se ha utilizado dos threads, __ThreadPoolExecutor-0_0__ y __ThreadPoolExecutor-0_1__ y todas las peticiones a la API de OpenLibrary se han ejecutado en alguno de los dos threads anteriores.\n",
    "\n",
    "_(c) Comparación tiempo de ejecución_\n",
    "\n",
    "En primer lugar, comprobamos el tiempo de ejecución secuencial (sin utilizar multithreading). Para\n",
    "hacerlo, utilizaremos el módulo time de Python."
   ]
  },
  {
   "cell_type": "code",
   "execution_count": 6,
   "metadata": {},
   "outputs": [
    {
     "name": "stderr",
     "output_type": "stream",
     "text": [
      "MainThread: [T]\tRequesting book info for 0134692888\n",
      "MainThread: [M]\tRecovered (\"Learn Python 3 the Hard Way: A Very Simple Introduction to the Terrifyingly Beautiful World of Computers and Code (Zed Shaw's Hard Way Series)\", ['Zed A. Shaw'], 'https://covers.openlibrary.org/b/id/8510257-S.jpg')\n",
      "MainThread: [T]\tRequesting book info for 1491946008\n",
      "MainThread: [M]\tRecovered ('Fluent Python', ['Luciano Ramalho'], 'https://covers.openlibrary.org/b/id/10618446-S.jpg')\n",
      "MainThread: [T]\tRequesting book info for 1491957662\n",
      "MainThread: [M]\tRecovered ('Python for Data Analysis: Data Wrangling with Pandas, NumPy, and IPython', ['Wes McKinney'], 'https://covers.openlibrary.org/b/id/8509832-S.jpg')\n",
      "MainThread: [T]\tRequesting book info for 0134853989\n",
      "MainThread: [M]\tRecovered ('Effective Python', ['Brett Slatkin'], 'https://covers.openlibrary.org/b/id/10143688-S.jpg')\n",
      "MainThread: [T]\tRequesting book info for 1449340377\n",
      "MainThread: [M]\tRecovered ('Python Cookbook, Third edition', ['David Beazley', 'Brian K. Jones'], 'https://covers.openlibrary.org/b/id/8515071-S.jpg')\n",
      "MainThread: [T]\tRequesting book info for 1449355730\n",
      "MainThread: [M]\tRecovered ('Learning Python', ['Mark Lutz'], '')\n",
      "MainThread: [T]\tRequesting book info for 1491939362\n",
      "MainThread: [M]\tRecovered ('Think Python', ['Allen B. Downey'], 'https://covers.openlibrary.org/b/id/8183667-S.jpg')\n",
      "MainThread: [T]\tRequesting book info for 1775093301\n",
      "MainThread: [M]\tRecovered ('Python Tricks: A Buffet of Awesome Python Features', ['Dan Bader'], 'https://covers.openlibrary.org/b/id/8509237-S.jpg')\n",
      "MainThread: [T]\tRequesting book info for 1593279280\n",
      "MainThread: [M]\tRecovered ('Python Crash Course, 2nd Edition', ['Eric Matthes'], 'https://covers.openlibrary.org/b/id/8800209-S.jpg')\n",
      "MainThread: [T]\tRequesting book info for 1593279922\n",
      "MainThread: [M]\tRecovered ('Automate the Boring Stuff with Python', ['Al Sweigart'], 'https://covers.openlibrary.org/b/id/10355256-S.jpg')\n"
     ]
    },
    {
     "name": "stdout",
     "output_type": "stream",
     "text": [
      "--It took 7.483337879180908s to execute using sequential execution.\n"
     ]
    }
   ],
   "source": [
    "import time\n",
    "\n",
    "\n",
    "def get_sequential_time_for_list(isbn_list):\n",
    "    \"\"\"Returns time to retrieve information for all ISBNs in the list\n",
    "    when no threads are used.\n",
    "    Parameters:\n",
    "    isbn_list (list): list of ISBNs to search for.\n",
    "    \"\"\"\n",
    "    start_time_sequencial = time.time()\n",
    "    for isbn in isbn_list:\n",
    "        book_info = get_book_info(isbn)\n",
    "        logging.info(f\"[M]\\tRecovered {book_info}\")\n",
    "\n",
    "    return time.time() - start_time_sequencial\n",
    "\n",
    "\n",
    "elapsed = get_sequential_time_for_list(isbns_to_test)\n",
    "print(f\"--It took {elapsed}s to execute using sequential execution.\")"
   ]
  },
  {
   "cell_type": "markdown",
   "metadata": {},
   "source": [
    "Como podemos observar, todas las operaciones se han ejecutado siempre en el mismo thread, el MainThread. Por defecto, nuestros programas siempre se ejecutarán en un único thread de un único proceso. Utilizando las herramientas de programación paralela que nos ofrecen todos los lenguajes podemos alterar este comportamiento para crear y ejecutar threads o procesos adicionales.\n",
    "\n",
    "A continuación podemos ver el impacto que tiene el uso de múltiples threads en el tiempo de ejecución del programa."
   ]
  },
  {
   "cell_type": "code",
   "execution_count": 7,
   "metadata": {},
   "outputs": [
    {
     "name": "stderr",
     "output_type": "stream",
     "text": [
      "MainThread: [M]\t---Executing using 1 threads\n",
      "ThreadPoolExecutor-1_0: [T]\tRequesting book info for 0134692888\n",
      "ThreadPoolExecutor-1_0: [T]\tRequesting book info for 1491946008\n",
      "MainThread: [M]\tRecovered (\"Learn Python 3 the Hard Way: A Very Simple Introduction to the Terrifyingly Beautiful World of Computers and Code (Zed Shaw's Hard Way Series)\", ['Zed A. Shaw'], 'https://covers.openlibrary.org/b/id/8510257-S.jpg')\n",
      "ThreadPoolExecutor-1_0: [T]\tRequesting book info for 1491957662\n",
      "MainThread: [M]\tRecovered ('Fluent Python', ['Luciano Ramalho'], 'https://covers.openlibrary.org/b/id/10618446-S.jpg')\n",
      "ThreadPoolExecutor-1_0: [T]\tRequesting book info for 0134853989\n",
      "MainThread: [M]\tRecovered ('Python for Data Analysis: Data Wrangling with Pandas, NumPy, and IPython', ['Wes McKinney'], 'https://covers.openlibrary.org/b/id/8509832-S.jpg')\n",
      "ThreadPoolExecutor-1_0: [T]\tRequesting book info for 1449340377\n",
      "MainThread: [M]\tRecovered ('Effective Python', ['Brett Slatkin'], 'https://covers.openlibrary.org/b/id/10143688-S.jpg')\n",
      "ThreadPoolExecutor-1_0: [T]\tRequesting book info for 1449355730\n",
      "MainThread: [M]\tRecovered ('Python Cookbook, Third edition', ['David Beazley', 'Brian K. Jones'], 'https://covers.openlibrary.org/b/id/8515071-S.jpg')\n",
      "ThreadPoolExecutor-1_0: [T]\tRequesting book info for 1491939362\n",
      "MainThread: [M]\tRecovered ('Learning Python', ['Mark Lutz'], '')\n",
      "ThreadPoolExecutor-1_0: [T]\tRequesting book info for 1775093301\n",
      "MainThread: [M]\tRecovered ('Think Python', ['Allen B. Downey'], 'https://covers.openlibrary.org/b/id/8183667-S.jpg')\n",
      "ThreadPoolExecutor-1_0: [T]\tRequesting book info for 1593279280\n",
      "MainThread: [M]\tRecovered ('Python Tricks: A Buffet of Awesome Python Features', ['Dan Bader'], 'https://covers.openlibrary.org/b/id/8509237-S.jpg')\n",
      "ThreadPoolExecutor-1_0: [T]\tRequesting book info for 1593279922\n",
      "MainThread: [M]\tRecovered ('Python Crash Course, 2nd Edition', ['Eric Matthes'], 'https://covers.openlibrary.org/b/id/8800209-S.jpg')\n",
      "MainThread: [M]\tRecovered ('Automate the Boring Stuff with Python', ['Al Sweigart'], 'https://covers.openlibrary.org/b/id/10355256-S.jpg')\n",
      "MainThread: [M]\t---Executing using 2 threads\n",
      "ThreadPoolExecutor-2_0: [T]\tRequesting book info for 0134692888\n",
      "ThreadPoolExecutor-2_1: [T]\tRequesting book info for 1491946008\n",
      "ThreadPoolExecutor-2_0: [T]\tRequesting book info for 1491957662\n",
      "ThreadPoolExecutor-2_1: [T]\tRequesting book info for 0134853989\n",
      "MainThread: [M]\tRecovered (\"Learn Python 3 the Hard Way: A Very Simple Introduction to the Terrifyingly Beautiful World of Computers and Code (Zed Shaw's Hard Way Series)\", ['Zed A. Shaw'], 'https://covers.openlibrary.org/b/id/8510257-S.jpg')\n",
      "MainThread: [M]\tRecovered ('Fluent Python', ['Luciano Ramalho'], 'https://covers.openlibrary.org/b/id/10618446-S.jpg')\n",
      "ThreadPoolExecutor-2_0: [T]\tRequesting book info for 1449340377\n",
      "ThreadPoolExecutor-2_1: [T]\tRequesting book info for 1449355730\n",
      "MainThread: [M]\tRecovered ('Python for Data Analysis: Data Wrangling with Pandas, NumPy, and IPython', ['Wes McKinney'], 'https://covers.openlibrary.org/b/id/8509832-S.jpg')\n",
      "MainThread: [M]\tRecovered ('Effective Python', ['Brett Slatkin'], 'https://covers.openlibrary.org/b/id/10143688-S.jpg')\n",
      "ThreadPoolExecutor-2_1: [T]\tRequesting book info for 1491939362\n",
      "ThreadPoolExecutor-2_0: [T]\tRequesting book info for 1775093301\n",
      "MainThread: [M]\tRecovered ('Learning Python', ['Mark Lutz'], '')\n",
      "MainThread: [M]\tRecovered ('Python Cookbook, Third edition', ['David Beazley', 'Brian K. Jones'], 'https://covers.openlibrary.org/b/id/8515071-S.jpg')\n",
      "ThreadPoolExecutor-2_1: [T]\tRequesting book info for 1593279280\n",
      "MainThread: [M]\tRecovered ('Think Python', ['Allen B. Downey'], 'https://covers.openlibrary.org/b/id/8183667-S.jpg')\n",
      "ThreadPoolExecutor-2_0: [T]\tRequesting book info for 1593279922\n",
      "MainThread: [M]\tRecovered ('Python Tricks: A Buffet of Awesome Python Features', ['Dan Bader'], 'https://covers.openlibrary.org/b/id/8509237-S.jpg')\n",
      "MainThread: [M]\tRecovered ('Automate the Boring Stuff with Python', ['Al Sweigart'], 'https://covers.openlibrary.org/b/id/10355256-S.jpg')\n",
      "MainThread: [M]\tRecovered ('Python Crash Course, 2nd Edition', ['Eric Matthes'], 'https://covers.openlibrary.org/b/id/8800209-S.jpg')\n",
      "MainThread: [M]\t---Executing using 3 threads\n",
      "ThreadPoolExecutor-3_0: [T]\tRequesting book info for 0134692888\n",
      "ThreadPoolExecutor-3_1: [T]\tRequesting book info for 1491946008\n",
      "ThreadPoolExecutor-3_2: [T]\tRequesting book info for 1491957662\n",
      "ThreadPoolExecutor-3_1: [T]\tRequesting book info for 0134853989\n",
      "ThreadPoolExecutor-3_2: [T]\tRequesting book info for 1449340377\n",
      "MainThread: [M]\tRecovered ('Fluent Python', ['Luciano Ramalho'], 'https://covers.openlibrary.org/b/id/10618446-S.jpg')\n",
      "ThreadPoolExecutor-3_0: [T]\tRequesting book info for 1449355730\n",
      "MainThread: [M]\tRecovered ('Python for Data Analysis: Data Wrangling with Pandas, NumPy, and IPython', ['Wes McKinney'], 'https://covers.openlibrary.org/b/id/8509832-S.jpg')\n",
      "MainThread: [M]\tRecovered (\"Learn Python 3 the Hard Way: A Very Simple Introduction to the Terrifyingly Beautiful World of Computers and Code (Zed Shaw's Hard Way Series)\", ['Zed A. Shaw'], 'https://covers.openlibrary.org/b/id/8510257-S.jpg')\n",
      "ThreadPoolExecutor-3_2: [T]\tRequesting book info for 1491939362\n",
      "ThreadPoolExecutor-3_0: [T]\tRequesting book info for 1775093301\n",
      "MainThread: [M]\tRecovered ('Python Cookbook, Third edition', ['David Beazley', 'Brian K. Jones'], 'https://covers.openlibrary.org/b/id/8515071-S.jpg')\n",
      "MainThread: [M]\tRecovered ('Learning Python', ['Mark Lutz'], '')\n",
      "ThreadPoolExecutor-3_1: [T]\tRequesting book info for 1593279280\n",
      "MainThread: [M]\tRecovered ('Effective Python', ['Brett Slatkin'], 'https://covers.openlibrary.org/b/id/10143688-S.jpg')\n",
      "ThreadPoolExecutor-3_0: [T]\tRequesting book info for 1593279922\n",
      "MainThread: [M]\tRecovered ('Python Tricks: A Buffet of Awesome Python Features', ['Dan Bader'], 'https://covers.openlibrary.org/b/id/8509237-S.jpg')\n",
      "MainThread: [M]\tRecovered ('Think Python', ['Allen B. Downey'], 'https://covers.openlibrary.org/b/id/8183667-S.jpg')\n",
      "MainThread: [M]\tRecovered ('Python Crash Course, 2nd Edition', ['Eric Matthes'], 'https://covers.openlibrary.org/b/id/8800209-S.jpg')\n",
      "MainThread: [M]\tRecovered ('Automate the Boring Stuff with Python', ['Al Sweigart'], 'https://covers.openlibrary.org/b/id/10355256-S.jpg')\n",
      "MainThread: [M]\t---Executing using 4 threads\n",
      "ThreadPoolExecutor-4_0: [T]\tRequesting book info for 0134692888\n",
      "ThreadPoolExecutor-4_1: [T]\tRequesting book info for 1491946008\n",
      "ThreadPoolExecutor-4_2: [T]\tRequesting book info for 1491957662\n",
      "ThreadPoolExecutor-4_3: [T]\tRequesting book info for 0134853989\n",
      "ThreadPoolExecutor-4_0: [T]\tRequesting book info for 1449340377\n",
      "MainThread: [M]\tRecovered (\"Learn Python 3 the Hard Way: A Very Simple Introduction to the Terrifyingly Beautiful World of Computers and Code (Zed Shaw's Hard Way Series)\", ['Zed A. Shaw'], 'https://covers.openlibrary.org/b/id/8510257-S.jpg')\n",
      "ThreadPoolExecutor-4_2: [T]\tRequesting book info for 1449355730\n",
      "MainThread: [M]\tRecovered ('Python for Data Analysis: Data Wrangling with Pandas, NumPy, and IPython', ['Wes McKinney'], 'https://covers.openlibrary.org/b/id/8509832-S.jpg')\n",
      "ThreadPoolExecutor-4_1: [T]\tRequesting book info for 1491939362\n",
      "MainThread: [M]\tRecovered ('Fluent Python', ['Luciano Ramalho'], 'https://covers.openlibrary.org/b/id/10618446-S.jpg')\n",
      "ThreadPoolExecutor-4_3: [T]\tRequesting book info for 1775093301\n",
      "MainThread: [M]\tRecovered ('Effective Python', ['Brett Slatkin'], 'https://covers.openlibrary.org/b/id/10143688-S.jpg')\n",
      "ThreadPoolExecutor-4_0: [T]\tRequesting book info for 1593279280\n",
      "MainThread: [M]\tRecovered ('Python Cookbook, Third edition', ['David Beazley', 'Brian K. Jones'], 'https://covers.openlibrary.org/b/id/8515071-S.jpg')\n",
      "ThreadPoolExecutor-4_2: [T]\tRequesting book info for 1593279922\n",
      "MainThread: [M]\tRecovered ('Learning Python', ['Mark Lutz'], '')\n",
      "MainThread: [M]\tRecovered ('Think Python', ['Allen B. Downey'], 'https://covers.openlibrary.org/b/id/8183667-S.jpg')\n",
      "MainThread: [M]\tRecovered ('Python Tricks: A Buffet of Awesome Python Features', ['Dan Bader'], 'https://covers.openlibrary.org/b/id/8509237-S.jpg')\n",
      "MainThread: [M]\tRecovered ('Python Crash Course, 2nd Edition', ['Eric Matthes'], 'https://covers.openlibrary.org/b/id/8800209-S.jpg')\n",
      "MainThread: [M]\tRecovered ('Automate the Boring Stuff with Python', ['Al Sweigart'], 'https://covers.openlibrary.org/b/id/10355256-S.jpg')\n",
      "MainThread: [M]\t---Executing using 5 threads\n",
      "ThreadPoolExecutor-5_0: [T]\tRequesting book info for 0134692888\n",
      "ThreadPoolExecutor-5_1: [T]\tRequesting book info for 1491946008\n",
      "ThreadPoolExecutor-5_2: [T]\tRequesting book info for 1491957662\n",
      "ThreadPoolExecutor-5_3: [T]\tRequesting book info for 0134853989\n",
      "ThreadPoolExecutor-5_4: [T]\tRequesting book info for 1449340377\n",
      "ThreadPoolExecutor-5_1: [T]\tRequesting book info for 1449355730\n",
      "MainThread: [M]\tRecovered ('Fluent Python', ['Luciano Ramalho'], 'https://covers.openlibrary.org/b/id/10618446-S.jpg')\n",
      "ThreadPoolExecutor-5_0: [T]\tRequesting book info for 1491939362\n",
      "ThreadPoolExecutor-5_2: [T]\tRequesting book info for 1775093301\n",
      "MainThread: [M]\tRecovered (\"Learn Python 3 the Hard Way: A Very Simple Introduction to the Terrifyingly Beautiful World of Computers and Code (Zed Shaw's Hard Way Series)\", ['Zed A. Shaw'], 'https://covers.openlibrary.org/b/id/8510257-S.jpg')\n",
      "MainThread: [M]\tRecovered ('Python for Data Analysis: Data Wrangling with Pandas, NumPy, and IPython', ['Wes McKinney'], 'https://covers.openlibrary.org/b/id/8509832-S.jpg')\n",
      "ThreadPoolExecutor-5_4: [T]\tRequesting book info for 1593279280\n",
      "MainThread: [M]\tRecovered ('Python Cookbook, Third edition', ['David Beazley', 'Brian K. Jones'], 'https://covers.openlibrary.org/b/id/8515071-S.jpg')\n",
      "ThreadPoolExecutor-5_3: [T]\tRequesting book info for 1593279922\n",
      "MainThread: [M]\tRecovered ('Effective Python', ['Brett Slatkin'], 'https://covers.openlibrary.org/b/id/10143688-S.jpg')\n",
      "MainThread: [M]\tRecovered ('Learning Python', ['Mark Lutz'], '')\n",
      "MainThread: [M]\tRecovered ('Python Tricks: A Buffet of Awesome Python Features', ['Dan Bader'], 'https://covers.openlibrary.org/b/id/8509237-S.jpg')\n",
      "MainThread: [M]\tRecovered ('Think Python', ['Allen B. Downey'], 'https://covers.openlibrary.org/b/id/8183667-S.jpg')\n",
      "MainThread: [M]\tRecovered ('Python Crash Course, 2nd Edition', ['Eric Matthes'], 'https://covers.openlibrary.org/b/id/8800209-S.jpg')\n",
      "MainThread: [M]\tRecovered ('Automate the Boring Stuff with Python', ['Al Sweigart'], 'https://covers.openlibrary.org/b/id/10355256-S.jpg')\n",
      "MainThread: [M]\t---Executing using 6 threads\n",
      "ThreadPoolExecutor-6_0: [T]\tRequesting book info for 0134692888\n",
      "ThreadPoolExecutor-6_1: [T]\tRequesting book info for 1491946008\n",
      "ThreadPoolExecutor-6_2: [T]\tRequesting book info for 1491957662\n",
      "ThreadPoolExecutor-6_3: [T]\tRequesting book info for 0134853989\n",
      "ThreadPoolExecutor-6_4: [T]\tRequesting book info for 1449340377\n",
      "ThreadPoolExecutor-6_5: [T]\tRequesting book info for 1449355730\n",
      "ThreadPoolExecutor-6_2: [T]\tRequesting book info for 1491939362\n",
      "ThreadPoolExecutor-6_1: [T]\tRequesting book info for 1775093301\n",
      "ThreadPoolExecutor-6_5: [T]\tRequesting book info for 1593279280\n",
      "ThreadPoolExecutor-6_0: [T]\tRequesting book info for 1593279922\n",
      "MainThread: [M]\tRecovered ('Python for Data Analysis: Data Wrangling with Pandas, NumPy, and IPython', ['Wes McKinney'], 'https://covers.openlibrary.org/b/id/8509832-S.jpg')\n",
      "MainThread: [M]\tRecovered ('Fluent Python', ['Luciano Ramalho'], 'https://covers.openlibrary.org/b/id/10618446-S.jpg')\n",
      "MainThread: [M]\tRecovered ('Learning Python', ['Mark Lutz'], '')\n",
      "MainThread: [M]\tRecovered (\"Learn Python 3 the Hard Way: A Very Simple Introduction to the Terrifyingly Beautiful World of Computers and Code (Zed Shaw's Hard Way Series)\", ['Zed A. Shaw'], 'https://covers.openlibrary.org/b/id/8510257-S.jpg')\n",
      "MainThread: [M]\tRecovered ('Effective Python', ['Brett Slatkin'], 'https://covers.openlibrary.org/b/id/10143688-S.jpg')\n",
      "MainThread: [M]\tRecovered ('Python Cookbook, Third edition', ['David Beazley', 'Brian K. Jones'], 'https://covers.openlibrary.org/b/id/8515071-S.jpg')\n",
      "MainThread: [M]\tRecovered ('Python Crash Course, 2nd Edition', ['Eric Matthes'], 'https://covers.openlibrary.org/b/id/8800209-S.jpg')\n",
      "MainThread: [M]\tRecovered ('Think Python', ['Allen B. Downey'], 'https://covers.openlibrary.org/b/id/8183667-S.jpg')\n",
      "MainThread: [M]\tRecovered ('Python Tricks: A Buffet of Awesome Python Features', ['Dan Bader'], 'https://covers.openlibrary.org/b/id/8509237-S.jpg')\n",
      "MainThread: [M]\tRecovered ('Automate the Boring Stuff with Python', ['Al Sweigart'], 'https://covers.openlibrary.org/b/id/10355256-S.jpg')\n",
      "MainThread: [M]\t---Executing using 7 threads\n",
      "ThreadPoolExecutor-7_0: [T]\tRequesting book info for 0134692888\n",
      "ThreadPoolExecutor-7_1: [T]\tRequesting book info for 1491946008\n",
      "ThreadPoolExecutor-7_2: [T]\tRequesting book info for 1491957662\n",
      "ThreadPoolExecutor-7_3: [T]\tRequesting book info for 0134853989\n",
      "ThreadPoolExecutor-7_4: [T]\tRequesting book info for 1449340377\n",
      "ThreadPoolExecutor-7_5: [T]\tRequesting book info for 1449355730\n",
      "ThreadPoolExecutor-7_6: [T]\tRequesting book info for 1491939362\n",
      "ThreadPoolExecutor-7_0: [T]\tRequesting book info for 1775093301\n",
      "ThreadPoolExecutor-7_3: [T]\tRequesting book info for 1593279280\n",
      "MainThread: [M]\tRecovered (\"Learn Python 3 the Hard Way: A Very Simple Introduction to the Terrifyingly Beautiful World of Computers and Code (Zed Shaw's Hard Way Series)\", ['Zed A. Shaw'], 'https://covers.openlibrary.org/b/id/8510257-S.jpg')\n",
      "ThreadPoolExecutor-7_4: [T]\tRequesting book info for 1593279922\n",
      "MainThread: [M]\tRecovered ('Effective Python', ['Brett Slatkin'], 'https://covers.openlibrary.org/b/id/10143688-S.jpg')\n",
      "MainThread: [M]\tRecovered ('Python Cookbook, Third edition', ['David Beazley', 'Brian K. Jones'], 'https://covers.openlibrary.org/b/id/8515071-S.jpg')\n",
      "MainThread: [M]\tRecovered ('Think Python', ['Allen B. Downey'], 'https://covers.openlibrary.org/b/id/8183667-S.jpg')\n",
      "MainThread: [M]\tRecovered ('Fluent Python', ['Luciano Ramalho'], 'https://covers.openlibrary.org/b/id/10618446-S.jpg')\n",
      "MainThread: [M]\tRecovered ('Python for Data Analysis: Data Wrangling with Pandas, NumPy, and IPython', ['Wes McKinney'], 'https://covers.openlibrary.org/b/id/8509832-S.jpg')\n",
      "MainThread: [M]\tRecovered ('Learning Python', ['Mark Lutz'], '')\n",
      "MainThread: [M]\tRecovered ('Automate the Boring Stuff with Python', ['Al Sweigart'], 'https://covers.openlibrary.org/b/id/10355256-S.jpg')\n",
      "MainThread: [M]\tRecovered ('Python Crash Course, 2nd Edition', ['Eric Matthes'], 'https://covers.openlibrary.org/b/id/8800209-S.jpg')\n",
      "MainThread: [M]\tRecovered ('Python Tricks: A Buffet of Awesome Python Features', ['Dan Bader'], 'https://covers.openlibrary.org/b/id/8509237-S.jpg')\n",
      "MainThread: [M]\t---Executing using 8 threads\n",
      "ThreadPoolExecutor-8_0: [T]\tRequesting book info for 0134692888\n",
      "ThreadPoolExecutor-8_1: [T]\tRequesting book info for 1491946008\n",
      "ThreadPoolExecutor-8_2: [T]\tRequesting book info for 1491957662\n",
      "ThreadPoolExecutor-8_3: [T]\tRequesting book info for 0134853989\n",
      "ThreadPoolExecutor-8_4: [T]\tRequesting book info for 1449340377\n",
      "ThreadPoolExecutor-8_5: [T]\tRequesting book info for 1449355730\n",
      "ThreadPoolExecutor-8_6: [T]\tRequesting book info for 1491939362\n",
      "ThreadPoolExecutor-8_7: [T]\tRequesting book info for 1775093301\n",
      "ThreadPoolExecutor-8_0: [T]\tRequesting book info for 1593279280\n",
      "ThreadPoolExecutor-8_3: [T]\tRequesting book info for 1593279922\n",
      "MainThread: [M]\tRecovered (\"Learn Python 3 the Hard Way: A Very Simple Introduction to the Terrifyingly Beautiful World of Computers and Code (Zed Shaw's Hard Way Series)\", ['Zed A. Shaw'], 'https://covers.openlibrary.org/b/id/8510257-S.jpg')\n",
      "MainThread: [M]\tRecovered ('Effective Python', ['Brett Slatkin'], 'https://covers.openlibrary.org/b/id/10143688-S.jpg')\n",
      "MainThread: [M]\tRecovered ('Python for Data Analysis: Data Wrangling with Pandas, NumPy, and IPython', ['Wes McKinney'], 'https://covers.openlibrary.org/b/id/8509832-S.jpg')\n",
      "MainThread: [M]\tRecovered ('Fluent Python', ['Luciano Ramalho'], 'https://covers.openlibrary.org/b/id/10618446-S.jpg')\n",
      "MainThread: [M]\tRecovered ('Think Python', ['Allen B. Downey'], 'https://covers.openlibrary.org/b/id/8183667-S.jpg')\n",
      "MainThread: [M]\tRecovered ('Python Cookbook, Third edition', ['David Beazley', 'Brian K. Jones'], 'https://covers.openlibrary.org/b/id/8515071-S.jpg')\n",
      "MainThread: [M]\tRecovered ('Learning Python', ['Mark Lutz'], '')\n",
      "MainThread: [M]\tRecovered ('Python Tricks: A Buffet of Awesome Python Features', ['Dan Bader'], 'https://covers.openlibrary.org/b/id/8509237-S.jpg')\n",
      "MainThread: [M]\tRecovered ('Automate the Boring Stuff with Python', ['Al Sweigart'], 'https://covers.openlibrary.org/b/id/10355256-S.jpg')\n",
      "MainThread: [M]\tRecovered ('Python Crash Course, 2nd Edition', ['Eric Matthes'], 'https://covers.openlibrary.org/b/id/8800209-S.jpg')\n",
      "MainThread: [M]\t---Executing using 9 threads\n",
      "ThreadPoolExecutor-9_0: [T]\tRequesting book info for 0134692888\n",
      "ThreadPoolExecutor-9_1: [T]\tRequesting book info for 1491946008\n",
      "ThreadPoolExecutor-9_2: [T]\tRequesting book info for 1491957662\n",
      "ThreadPoolExecutor-9_3: [T]\tRequesting book info for 0134853989\n",
      "ThreadPoolExecutor-9_4: [T]\tRequesting book info for 1449340377\n",
      "ThreadPoolExecutor-9_5: [T]\tRequesting book info for 1449355730\n",
      "ThreadPoolExecutor-9_6: [T]\tRequesting book info for 1491939362\n",
      "ThreadPoolExecutor-9_7: [T]\tRequesting book info for 1775093301\n",
      "ThreadPoolExecutor-9_8: [T]\tRequesting book info for 1593279280\n",
      "ThreadPoolExecutor-9_0: [T]\tRequesting book info for 1593279922\n",
      "MainThread: [M]\tRecovered (\"Learn Python 3 the Hard Way: A Very Simple Introduction to the Terrifyingly Beautiful World of Computers and Code (Zed Shaw's Hard Way Series)\", ['Zed A. Shaw'], 'https://covers.openlibrary.org/b/id/8510257-S.jpg')\n",
      "MainThread: [M]\tRecovered ('Learning Python', ['Mark Lutz'], '')\n",
      "MainThread: [M]\tRecovered ('Effective Python', ['Brett Slatkin'], 'https://covers.openlibrary.org/b/id/10143688-S.jpg')\n",
      "MainThread: [M]\tRecovered ('Think Python', ['Allen B. Downey'], 'https://covers.openlibrary.org/b/id/8183667-S.jpg')\n",
      "MainThread: [M]\tRecovered ('Python Cookbook, Third edition', ['David Beazley', 'Brian K. Jones'], 'https://covers.openlibrary.org/b/id/8515071-S.jpg')\n",
      "MainThread: [M]\tRecovered ('Fluent Python', ['Luciano Ramalho'], 'https://covers.openlibrary.org/b/id/10618446-S.jpg')\n",
      "MainThread: [M]\tRecovered ('Python for Data Analysis: Data Wrangling with Pandas, NumPy, and IPython', ['Wes McKinney'], 'https://covers.openlibrary.org/b/id/8509832-S.jpg')\n",
      "MainThread: [M]\tRecovered ('Python Crash Course, 2nd Edition', ['Eric Matthes'], 'https://covers.openlibrary.org/b/id/8800209-S.jpg')\n",
      "MainThread: [M]\tRecovered ('Python Tricks: A Buffet of Awesome Python Features', ['Dan Bader'], 'https://covers.openlibrary.org/b/id/8509237-S.jpg')\n",
      "MainThread: [M]\tRecovered ('Automate the Boring Stuff with Python', ['Al Sweigart'], 'https://covers.openlibrary.org/b/id/10355256-S.jpg')\n",
      "MainThread: [M]\t---Executing using 10 threads\n",
      "ThreadPoolExecutor-10_0: [T]\tRequesting book info for 0134692888\n",
      "ThreadPoolExecutor-10_1: [T]\tRequesting book info for 1491946008\n",
      "ThreadPoolExecutor-10_2: [T]\tRequesting book info for 1491957662\n",
      "ThreadPoolExecutor-10_3: [T]\tRequesting book info for 0134853989\n",
      "ThreadPoolExecutor-10_4: [T]\tRequesting book info for 1449340377\n",
      "ThreadPoolExecutor-10_5: [T]\tRequesting book info for 1449355730\n",
      "ThreadPoolExecutor-10_6: [T]\tRequesting book info for 1491939362\n",
      "ThreadPoolExecutor-10_7: [T]\tRequesting book info for 1775093301\n",
      "ThreadPoolExecutor-10_8: [T]\tRequesting book info for 1593279280\n",
      "ThreadPoolExecutor-10_9: [T]\tRequesting book info for 1593279922\n",
      "MainThread: [M]\tRecovered ('Python Cookbook, Third edition', ['David Beazley', 'Brian K. Jones'], 'https://covers.openlibrary.org/b/id/8515071-S.jpg')\n",
      "MainThread: [M]\tRecovered ('Think Python', ['Allen B. Downey'], 'https://covers.openlibrary.org/b/id/8183667-S.jpg')\n",
      "MainThread: [M]\tRecovered ('Python for Data Analysis: Data Wrangling with Pandas, NumPy, and IPython', ['Wes McKinney'], 'https://covers.openlibrary.org/b/id/8509832-S.jpg')\n",
      "MainThread: [M]\tRecovered ('Learning Python', ['Mark Lutz'], '')\n",
      "MainThread: [M]\tRecovered ('Fluent Python', ['Luciano Ramalho'], 'https://covers.openlibrary.org/b/id/10618446-S.jpg')\n",
      "MainThread: [M]\tRecovered ('Effective Python', ['Brett Slatkin'], 'https://covers.openlibrary.org/b/id/10143688-S.jpg')\n",
      "MainThread: [M]\tRecovered ('Python Tricks: A Buffet of Awesome Python Features', ['Dan Bader'], 'https://covers.openlibrary.org/b/id/8509237-S.jpg')\n",
      "MainThread: [M]\tRecovered (\"Learn Python 3 the Hard Way: A Very Simple Introduction to the Terrifyingly Beautiful World of Computers and Code (Zed Shaw's Hard Way Series)\", ['Zed A. Shaw'], 'https://covers.openlibrary.org/b/id/8510257-S.jpg')\n",
      "MainThread: [M]\tRecovered ('Python Crash Course, 2nd Edition', ['Eric Matthes'], 'https://covers.openlibrary.org/b/id/8800209-S.jpg')\n",
      "MainThread: [M]\tRecovered ('Automate the Boring Stuff with Python', ['Al Sweigart'], 'https://covers.openlibrary.org/b/id/10355256-S.jpg')\n"
     ]
    }
   ],
   "source": [
    "import time\n",
    "import concurrent.futures\n",
    "\n",
    "\n",
    "def get_execution_time_multithreading(isbn_list, max_threads):\n",
    "    \"\"\"\n",
    "    Returns time to retrieve information for all ISBNs in the list\n",
    "    when multiple threads are used.\n",
    "    Parameters:\n",
    "    isbn_list (list): list of ISBNs to search for.\n",
    "    max_threads (int): maximum number of threads to use.\n",
    "    Returns:\n",
    "    (dict): dictionary containing execution time for each\n",
    "            number of threads.\n",
    "    \"\"\"\n",
    "    execution_times = {}\n",
    "\n",
    "    for thread_num in range(1, max_threads + 1):\n",
    "        start_time = time.time()\n",
    "        logging.info(f\"[M]\\t---Executing using {thread_num} threads\")\n",
    "        get_book_info_multithreaded(isbn_list, num_of_threads=thread_num)\n",
    "        execution_times[thread_num] = time.time() - start_time\n",
    "\n",
    "    return execution_times\n",
    "\n",
    "execution_times_multithreading = get_execution_time_multithreading(\n",
    "    isbns_to_test, max_threads=10\n",
    ")"
   ]
  },
  {
   "cell_type": "markdown",
   "metadata": {},
   "source": [
    "Vemos los resultados de forma gráfica utilizando la misma función plot_execution_times que hemos definido anteriormente."
   ]
  },
  {
   "cell_type": "code",
   "execution_count": 8,
   "metadata": {},
   "outputs": [
    {
     "data": {
      "image/png": "[encoded data removed]",
      "text/plain": [
       "<Figure size 432x288 with 1 Axes>"
      ]
     },
     "metadata": {
      "needs_background": "light"
     },
     "output_type": "display_data"
    }
   ],
   "source": [
    "import matplotlib.pyplot as plt\n",
    "\n",
    "\n",
    "def plot_execution_times(execution_results, xlabel, ylabel):\n",
    "    \"\"\"\n",
    "    Plots the execution times running multiple threads.\n",
    "    Parameters:\n",
    "    execution_results (dict): dictionary with execution time\n",
    "    per number of threads.\n",
    "    \"\"\"\n",
    "    fig = plt.figure()\n",
    "\n",
    "    plt.bar(execution_results.keys(), execution_results.values())\n",
    "    plt.xlabel(xlabel)\n",
    "    plt.ylabel(ylabel)\n",
    "\n",
    "\n",
    "plot_execution_times(\n",
    "    execution_times_multithreading, \"Number of threads\", \"Execution time (s)\"\n",
    ")"
   ]
  },
  {
   "cell_type": "markdown",
   "metadata": {},
   "source": [
    "Observando la gráfica anterior, podemos ver como evidentemente, el uso de un único thread tiene un rendimiento prácticamente igual que la implementación secuencial. Con sólo 2 threads ya podemos observar una mejora muy importante respecto al tiempo de ejecución. Conseguimos reducir el tiempo de ejecución aproximadamente a la mitad. También podemos observar como no siempre el hecho de utilizar más threads implica una reducción en el tiempo de ejecución. Cuando hablamos de intervalos de tiempo tan pequeños (1, 2, 3 segundos), el hecho de cambiar de contexto (crear un nuevo thread, ejecutarlo, etc.) puede tener un impacto en el tiempo de ejecución de nuestro código.\n",
    "\n",
    "Como ejemplo, a continuación os proporcionamos una implementación paralela (utilizando procesos) para poder comparar si realmente nuestra elección inicial ha sido correcta o no.\n"
   ]
  },
  {
   "cell_type": "code",
   "execution_count": 12,
   "metadata": {},
   "outputs": [],
   "source": [
    "import concurrent.futures\n",
    "\n",
    "\n",
    "def get_book_info_multiprocess(isbns, num_of_processes):\n",
    "    \"\"\"\n",
    "    Retrieves books information using multiple processes.\n",
    "    Parameters:\n",
    "    isbns (list): list of ISBNs to search for.\n",
    "    num_of_processes: number of processes that should be used.\n",
    "    \"\"\"\n",
    "    with concurrent.futures.ProcessPoolExecutor(\n",
    "        max_workers=num_of_processes\n",
    "    ) as executor:\n",
    "        futures = []\n",
    "        for isbn in isbns:\n",
    "            futures.append(executor.submit(get_book_info, isbn=isbn))\n",
    "\n",
    "        for future in concurrent.futures.as_completed(futures):\n",
    "            logging.info(f\"[M]\\tRecovered {future.result()}\")"
   ]
  },
  {
   "cell_type": "markdown",
   "metadata": {},
   "source": [
    "Comprobamos si nuestra implementación funciona correctamente llamando a la función an- terior, pero pasándole None como argumento para num_of_processes. De esta manera, ProcessPoolExecutor utilizará todos los procesadores que tenemos disponibles en nuestra máquina."
   ]
  },
  {
   "cell_type": "code",
   "execution_count": 13,
   "metadata": {},
   "outputs": [],
   "source": [
    "# First, we modify logging format to include the process name\n",
    "logging.basicConfig(\n",
    "    format=\"%(processName)s | %(threadName)s: %(message)s\",\n",
    "    level=logging.INFO,\n",
    "    datefmt=\"%H:%M:%S\",\n",
    "    force=True,\n",
    ")"
   ]
  },
  {
   "cell_type": "code",
   "execution_count": 14,
   "metadata": {},
   "outputs": [
    {
     "ename": "BrokenProcessPool",
     "evalue": "A process in the process pool was terminated abruptly while the future was running or pending.",
     "output_type": "error",
     "traceback": [
      "\u001b[0;31m---------------------------------------------------------------------------\u001b[0m",
      "\u001b[0;31mBrokenProcessPool\u001b[0m                         Traceback (most recent call last)",
      "\u001b[0;32m<ipython-input-14-e6616451d409>\u001b[0m in \u001b[0;36m<module>\u001b[0;34m\u001b[0m\n\u001b[0;32m----> 1\u001b[0;31m \u001b[0mget_book_info_multiprocess\u001b[0m\u001b[0;34m(\u001b[0m\u001b[0misbns_to_test\u001b[0m\u001b[0;34m,\u001b[0m \u001b[0mnum_of_processes\u001b[0m\u001b[0;34m=\u001b[0m\u001b[0;32mNone\u001b[0m\u001b[0;34m)\u001b[0m\u001b[0;34m\u001b[0m\u001b[0;34m\u001b[0m\u001b[0m\n\u001b[0m",
      "\u001b[0;32m<ipython-input-12-bef64ff92cb3>\u001b[0m in \u001b[0;36mget_book_info_multiprocess\u001b[0;34m(isbns, num_of_processes)\u001b[0m\n\u001b[1;32m     17\u001b[0m \u001b[0;34m\u001b[0m\u001b[0m\n\u001b[1;32m     18\u001b[0m         \u001b[0;32mfor\u001b[0m \u001b[0mfuture\u001b[0m \u001b[0;32min\u001b[0m \u001b[0mconcurrent\u001b[0m\u001b[0;34m.\u001b[0m\u001b[0mfutures\u001b[0m\u001b[0;34m.\u001b[0m\u001b[0mas_completed\u001b[0m\u001b[0;34m(\u001b[0m\u001b[0mfutures\u001b[0m\u001b[0;34m)\u001b[0m\u001b[0;34m:\u001b[0m\u001b[0;34m\u001b[0m\u001b[0;34m\u001b[0m\u001b[0m\n\u001b[0;32m---> 19\u001b[0;31m             \u001b[0mlogging\u001b[0m\u001b[0;34m.\u001b[0m\u001b[0minfo\u001b[0m\u001b[0;34m(\u001b[0m\u001b[0;34mf\"[M]\\tRecovered {future.result()}\"\u001b[0m\u001b[0;34m)\u001b[0m\u001b[0;34m\u001b[0m\u001b[0;34m\u001b[0m\u001b[0m\n\u001b[0m",
      "\u001b[0;32m/opt/anaconda3/lib/python3.8/concurrent/futures/_base.py\u001b[0m in \u001b[0;36mresult\u001b[0;34m(self, timeout)\u001b[0m\n\u001b[1;32m    430\u001b[0m                 \u001b[0;32mraise\u001b[0m \u001b[0mCancelledError\u001b[0m\u001b[0;34m(\u001b[0m\u001b[0;34m)\u001b[0m\u001b[0;34m\u001b[0m\u001b[0;34m\u001b[0m\u001b[0m\n\u001b[1;32m    431\u001b[0m             \u001b[0;32melif\u001b[0m \u001b[0mself\u001b[0m\u001b[0;34m.\u001b[0m\u001b[0m_state\u001b[0m \u001b[0;34m==\u001b[0m \u001b[0mFINISHED\u001b[0m\u001b[0;34m:\u001b[0m\u001b[0;34m\u001b[0m\u001b[0;34m\u001b[0m\u001b[0m\n\u001b[0;32m--> 432\u001b[0;31m                 \u001b[0;32mreturn\u001b[0m \u001b[0mself\u001b[0m\u001b[0;34m.\u001b[0m\u001b[0m__get_result\u001b[0m\u001b[0;34m(\u001b[0m\u001b[0;34m)\u001b[0m\u001b[0;34m\u001b[0m\u001b[0;34m\u001b[0m\u001b[0m\n\u001b[0m\u001b[1;32m    433\u001b[0m \u001b[0;34m\u001b[0m\u001b[0m\n\u001b[1;32m    434\u001b[0m             \u001b[0mself\u001b[0m\u001b[0;34m.\u001b[0m\u001b[0m_condition\u001b[0m\u001b[0;34m.\u001b[0m\u001b[0mwait\u001b[0m\u001b[0;34m(\u001b[0m\u001b[0mtimeout\u001b[0m\u001b[0;34m)\u001b[0m\u001b[0;34m\u001b[0m\u001b[0;34m\u001b[0m\u001b[0m\n",
      "\u001b[0;32m/opt/anaconda3/lib/python3.8/concurrent/futures/_base.py\u001b[0m in \u001b[0;36m__get_result\u001b[0;34m(self)\u001b[0m\n\u001b[1;32m    386\u001b[0m     \u001b[0;32mdef\u001b[0m \u001b[0m__get_result\u001b[0m\u001b[0;34m(\u001b[0m\u001b[0mself\u001b[0m\u001b[0;34m)\u001b[0m\u001b[0;34m:\u001b[0m\u001b[0;34m\u001b[0m\u001b[0;34m\u001b[0m\u001b[0m\n\u001b[1;32m    387\u001b[0m         \u001b[0;32mif\u001b[0m \u001b[0mself\u001b[0m\u001b[0;34m.\u001b[0m\u001b[0m_exception\u001b[0m\u001b[0;34m:\u001b[0m\u001b[0;34m\u001b[0m\u001b[0;34m\u001b[0m\u001b[0m\n\u001b[0;32m--> 388\u001b[0;31m             \u001b[0;32mraise\u001b[0m \u001b[0mself\u001b[0m\u001b[0;34m.\u001b[0m\u001b[0m_exception\u001b[0m\u001b[0;34m\u001b[0m\u001b[0;34m\u001b[0m\u001b[0m\n\u001b[0m\u001b[1;32m    389\u001b[0m         \u001b[0;32melse\u001b[0m\u001b[0;34m:\u001b[0m\u001b[0;34m\u001b[0m\u001b[0;34m\u001b[0m\u001b[0m\n\u001b[1;32m    390\u001b[0m             \u001b[0;32mreturn\u001b[0m \u001b[0mself\u001b[0m\u001b[0;34m.\u001b[0m\u001b[0m_result\u001b[0m\u001b[0;34m\u001b[0m\u001b[0;34m\u001b[0m\u001b[0m\n",
      "\u001b[0;31mBrokenProcessPool\u001b[0m: A process in the process pool was terminated abruptly while the future was running or pending."
     ]
    }
   ],
   "source": [
    "get_book_info_multiprocess(isbns_to_test, num_of_processes=None)"
   ]
  },
  {
   "cell_type": "markdown",
   "metadata": {},
   "source": [
    "Como podemos observar, se utilizan 6 procesos para ejecutar el programa. Esto es debido a que hemos configurado la máquina virtual con 6 CPUs. Por lo tanto, cada proceso utilizará una de las 6 CPUs que tenemos disponibles.\n",
    "\n",
    "A continuación, calculamos el tiempo de ejecución de nuestro código variando el número de procesos entre 1 y 10."
   ]
  },
  {
   "cell_type": "code",
   "execution_count": 15,
   "metadata": {},
   "outputs": [
    {
     "name": "stderr",
     "output_type": "stream",
     "text": [
      "MainProcess | MainThread: [M]\t---Executing using 1 processes\n"
     ]
    },
    {
     "ename": "BrokenProcessPool",
     "evalue": "A process in the process pool was terminated abruptly while the future was running or pending.",
     "output_type": "error",
     "traceback": [
      "\u001b[0;31m---------------------------------------------------------------------------\u001b[0m",
      "\u001b[0;31mBrokenProcessPool\u001b[0m                         Traceback (most recent call last)",
      "\u001b[0;32m<ipython-input-15-8aedd8173175>\u001b[0m in \u001b[0;36m<module>\u001b[0;34m\u001b[0m\n\u001b[1;32m     22\u001b[0m     \u001b[0;32mreturn\u001b[0m \u001b[0mexecution_times\u001b[0m\u001b[0;34m\u001b[0m\u001b[0;34m\u001b[0m\u001b[0m\n\u001b[1;32m     23\u001b[0m \u001b[0;34m\u001b[0m\u001b[0m\n\u001b[0;32m---> 24\u001b[0;31m execution_times_multiprocess = get_execution_time_multiprocess(\n\u001b[0m\u001b[1;32m     25\u001b[0m     \u001b[0misbns_to_test\u001b[0m\u001b[0;34m,\u001b[0m \u001b[0mmax_processes\u001b[0m\u001b[0;34m=\u001b[0m\u001b[0;36m10\u001b[0m\u001b[0;34m\u001b[0m\u001b[0;34m\u001b[0m\u001b[0m\n\u001b[1;32m     26\u001b[0m )\n",
      "\u001b[0;32m<ipython-input-15-8aedd8173175>\u001b[0m in \u001b[0;36mget_execution_time_multiprocess\u001b[0;34m(isbn_list, max_processes)\u001b[0m\n\u001b[1;32m     18\u001b[0m         \u001b[0mstart_time\u001b[0m \u001b[0;34m=\u001b[0m \u001b[0mtime\u001b[0m\u001b[0;34m.\u001b[0m\u001b[0mtime\u001b[0m\u001b[0;34m(\u001b[0m\u001b[0;34m)\u001b[0m\u001b[0;34m\u001b[0m\u001b[0;34m\u001b[0m\u001b[0m\n\u001b[1;32m     19\u001b[0m         \u001b[0mlogging\u001b[0m\u001b[0;34m.\u001b[0m\u001b[0minfo\u001b[0m\u001b[0;34m(\u001b[0m\u001b[0;34mf\"[M]\\t---Executing using {process_num} processes\"\u001b[0m\u001b[0;34m)\u001b[0m\u001b[0;34m\u001b[0m\u001b[0;34m\u001b[0m\u001b[0m\n\u001b[0;32m---> 20\u001b[0;31m         \u001b[0mget_book_info_multiprocess\u001b[0m\u001b[0;34m(\u001b[0m\u001b[0misbn_list\u001b[0m\u001b[0;34m,\u001b[0m \u001b[0mnum_of_processes\u001b[0m\u001b[0;34m=\u001b[0m\u001b[0mprocess_num\u001b[0m\u001b[0;34m)\u001b[0m\u001b[0;34m\u001b[0m\u001b[0;34m\u001b[0m\u001b[0m\n\u001b[0m\u001b[1;32m     21\u001b[0m         \u001b[0mexecution_times\u001b[0m\u001b[0;34m[\u001b[0m\u001b[0mprocess_num\u001b[0m\u001b[0;34m]\u001b[0m \u001b[0;34m=\u001b[0m \u001b[0mtime\u001b[0m\u001b[0;34m.\u001b[0m\u001b[0mtime\u001b[0m\u001b[0;34m(\u001b[0m\u001b[0;34m)\u001b[0m \u001b[0;34m-\u001b[0m \u001b[0mstart_time\u001b[0m\u001b[0;34m\u001b[0m\u001b[0;34m\u001b[0m\u001b[0m\n\u001b[1;32m     22\u001b[0m     \u001b[0;32mreturn\u001b[0m \u001b[0mexecution_times\u001b[0m\u001b[0;34m\u001b[0m\u001b[0;34m\u001b[0m\u001b[0m\n",
      "\u001b[0;32m<ipython-input-12-bef64ff92cb3>\u001b[0m in \u001b[0;36mget_book_info_multiprocess\u001b[0;34m(isbns, num_of_processes)\u001b[0m\n\u001b[1;32m     17\u001b[0m \u001b[0;34m\u001b[0m\u001b[0m\n\u001b[1;32m     18\u001b[0m         \u001b[0;32mfor\u001b[0m \u001b[0mfuture\u001b[0m \u001b[0;32min\u001b[0m \u001b[0mconcurrent\u001b[0m\u001b[0;34m.\u001b[0m\u001b[0mfutures\u001b[0m\u001b[0;34m.\u001b[0m\u001b[0mas_completed\u001b[0m\u001b[0;34m(\u001b[0m\u001b[0mfutures\u001b[0m\u001b[0;34m)\u001b[0m\u001b[0;34m:\u001b[0m\u001b[0;34m\u001b[0m\u001b[0;34m\u001b[0m\u001b[0m\n\u001b[0;32m---> 19\u001b[0;31m             \u001b[0mlogging\u001b[0m\u001b[0;34m.\u001b[0m\u001b[0minfo\u001b[0m\u001b[0;34m(\u001b[0m\u001b[0;34mf\"[M]\\tRecovered {future.result()}\"\u001b[0m\u001b[0;34m)\u001b[0m\u001b[0;34m\u001b[0m\u001b[0;34m\u001b[0m\u001b[0m\n\u001b[0m",
      "\u001b[0;32m/opt/anaconda3/lib/python3.8/concurrent/futures/_base.py\u001b[0m in \u001b[0;36mresult\u001b[0;34m(self, timeout)\u001b[0m\n\u001b[1;32m    430\u001b[0m                 \u001b[0;32mraise\u001b[0m \u001b[0mCancelledError\u001b[0m\u001b[0;34m(\u001b[0m\u001b[0;34m)\u001b[0m\u001b[0;34m\u001b[0m\u001b[0;34m\u001b[0m\u001b[0m\n\u001b[1;32m    431\u001b[0m             \u001b[0;32melif\u001b[0m \u001b[0mself\u001b[0m\u001b[0;34m.\u001b[0m\u001b[0m_state\u001b[0m \u001b[0;34m==\u001b[0m \u001b[0mFINISHED\u001b[0m\u001b[0;34m:\u001b[0m\u001b[0;34m\u001b[0m\u001b[0;34m\u001b[0m\u001b[0m\n\u001b[0;32m--> 432\u001b[0;31m                 \u001b[0;32mreturn\u001b[0m \u001b[0mself\u001b[0m\u001b[0;34m.\u001b[0m\u001b[0m__get_result\u001b[0m\u001b[0;34m(\u001b[0m\u001b[0;34m)\u001b[0m\u001b[0;34m\u001b[0m\u001b[0;34m\u001b[0m\u001b[0m\n\u001b[0m\u001b[1;32m    433\u001b[0m \u001b[0;34m\u001b[0m\u001b[0m\n\u001b[1;32m    434\u001b[0m             \u001b[0mself\u001b[0m\u001b[0;34m.\u001b[0m\u001b[0m_condition\u001b[0m\u001b[0;34m.\u001b[0m\u001b[0mwait\u001b[0m\u001b[0;34m(\u001b[0m\u001b[0mtimeout\u001b[0m\u001b[0;34m)\u001b[0m\u001b[0;34m\u001b[0m\u001b[0;34m\u001b[0m\u001b[0m\n",
      "\u001b[0;32m/opt/anaconda3/lib/python3.8/concurrent/futures/_base.py\u001b[0m in \u001b[0;36m__get_result\u001b[0;34m(self)\u001b[0m\n\u001b[1;32m    386\u001b[0m     \u001b[0;32mdef\u001b[0m \u001b[0m__get_result\u001b[0m\u001b[0;34m(\u001b[0m\u001b[0mself\u001b[0m\u001b[0;34m)\u001b[0m\u001b[0;34m:\u001b[0m\u001b[0;34m\u001b[0m\u001b[0;34m\u001b[0m\u001b[0m\n\u001b[1;32m    387\u001b[0m         \u001b[0;32mif\u001b[0m \u001b[0mself\u001b[0m\u001b[0;34m.\u001b[0m\u001b[0m_exception\u001b[0m\u001b[0;34m:\u001b[0m\u001b[0;34m\u001b[0m\u001b[0;34m\u001b[0m\u001b[0m\n\u001b[0;32m--> 388\u001b[0;31m             \u001b[0;32mraise\u001b[0m \u001b[0mself\u001b[0m\u001b[0;34m.\u001b[0m\u001b[0m_exception\u001b[0m\u001b[0;34m\u001b[0m\u001b[0;34m\u001b[0m\u001b[0m\n\u001b[0m\u001b[1;32m    389\u001b[0m         \u001b[0;32melse\u001b[0m\u001b[0;34m:\u001b[0m\u001b[0;34m\u001b[0m\u001b[0;34m\u001b[0m\u001b[0m\n\u001b[1;32m    390\u001b[0m             \u001b[0;32mreturn\u001b[0m \u001b[0mself\u001b[0m\u001b[0;34m.\u001b[0m\u001b[0m_result\u001b[0m\u001b[0;34m\u001b[0m\u001b[0;34m\u001b[0m\u001b[0m\n",
      "\u001b[0;31mBrokenProcessPool\u001b[0m: A process in the process pool was terminated abruptly while the future was running or pending."
     ]
    }
   ],
   "source": [
    "import time\n",
    "import concurrent.futures\n",
    "\n",
    "\n",
    "def get_execution_time_multiprocess(isbn_list, max_processes): \n",
    "    \"\"\"\n",
    "    Returns time to retrieve information for all ISBNs in the list when multiple processes are used.\n",
    "    Parameters:\n",
    "    isbn_list (list): list of ISBNs to search for.\n",
    "    max_processes (int): maximum number of processes to use.\n",
    "    Returns:\n",
    "    (dict): dictionary containing execution time for each\n",
    "            number of processes.\n",
    "    \"\"\"\n",
    "    execution_times = {}\n",
    "    \n",
    "    for process_num in range(1, max_processes + 1):\n",
    "        start_time = time.time()\n",
    "        logging.info(f\"[M]\\t---Executing using {process_num} processes\")\n",
    "        get_book_info_multiprocess(isbn_list, num_of_processes=process_num)\n",
    "        execution_times[process_num] = time.time() - start_time\n",
    "    return execution_times\n",
    "\n",
    "execution_times_multiprocess = get_execution_time_multiprocess(\n",
    "    isbns_to_test, max_processes=10\n",
    ")"
   ]
  }
 ],
 "metadata": {
  "kernelspec": {
   "display_name": "Python 3",
   "language": "python",
   "name": "python3"
  },
  "language_info": {
   "codemirror_mode": {
    "name": "ipython",
    "version": 3
   },
   "file_extension": ".py",
   "mimetype": "text/x-python",
   "name": "python",
   "nbconvert_exporter": "python",
   "pygments_lexer": "ipython3",
   "version": "3.8.8"
  },
  "toc": {
   "base_numbering": 1,
   "nav_menu": {},
   "number_sections": true,
   "sideBar": true,
   "skip_h1_title": false,
   "title_cell": "Table of Contents",
   "title_sidebar": "Contents",
   "toc_cell": false,
   "toc_position": {},
   "toc_section_display": true,
   "toc_window_display": false
  }
 },
 "nbformat": 4,
 "nbformat_minor": 4
}
