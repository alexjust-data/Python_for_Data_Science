{
 "cells": [
  {
   "cell_type": "markdown",
   "metadata": {},
   "source": [
    "<div style=\"float: right; width: 50%;\">\n",
    "    <p style=\"margin: 0; text-align:right;\">Python en Ciencia de Datos Aplicada</p>\n",
    "    <p style=\"margin: 0; text-align:right; padding-button: 100px;\">Estructuras de datos avanzadas en Python</p>\n",
    "</div>\n",
    "\n",
    "</div>\n",
    "<div style=\"width: 100%; clear: both;\">\n",
    "<div style=\"width:100%;\">&nbsp;</div>"
   ]
  },
  {
   "cell_type": "markdown",
   "metadata": {},
   "source": [
    "# Estructuras de datos avanzadas\n",
    "---"
   ]
  },
  {
   "cell_type": "markdown",
   "metadata": {},
   "source": [
    "Hasta ahora hemos visto algunas de las estructuras de datos más básicas que se utilizan para programar en Python: las listas, las tuplas y los diccionarios. En esta unidad, presentaremos estructuras de datos más complejas, que nos permitirán afrontar otro tipo de problemas, como son los `conjuntos`, las `pilas`, las `colas`, los `diccionarios con orden` y los `diccionarios con valores por defecto`."
   ]
  },
  {
   "cell_type": "code",
   "execution_count": 1,
   "metadata": {},
   "outputs": [],
   "source": [
    "# Activo el notebook para mostrar mensajes\n",
    "%load_ext pycodestyle_magic"
   ]
  },
  {
   "cell_type": "code",
   "execution_count": 2,
   "metadata": {},
   "outputs": [],
   "source": [
    "# Activamos las alertas de estilo\n",
    "%pycodestyle_on"
   ]
  },
  {
   "cell_type": "markdown",
   "metadata": {},
   "source": [
    "## Estructuras de datos avanzadas\n",
    "### Conjuntos\n",
    "Del mismo modo que las listas, los conjuntos son una colección de elementos posiblemente heterogéneos (es decir, que pueden ser de tipos diferentes). Ahora bien, a diferencia de las listas, __los elementos de un conjunto no tienen orden__ (ni por tanto posición dentro del conjunto). Además, __un conjunto no puede tener elementos repetidos__. En esencia, esta estructura de datos implementa el concepto matemático de conjunto.\n",
    "\n",
    "Python dispone de la `clase set`, que implementa el conjunto. Podemos crear un conjunto utilizando el constructor de la clase o utilizando llaves `{}`:"
   ]
  },
  {
   "cell_type": "code",
   "execution_count": 3,
   "metadata": {},
   "outputs": [],
   "source": [
    "# Creamos un conjunto utilizando dos sintaxis diferentes\n",
    "a_set = {\n",
    "    \"Beale ciphers\", \"Quipu\", \"Zimmermann Telegram\", \"Chaocipher\"\n",
    "}"
   ]
  },
  {
   "cell_type": "code",
   "execution_count": 4,
   "metadata": {},
   "outputs": [],
   "source": [
    "the_same_set = set(\n",
    "    [\"Beale ciphers\", \"Quipu\", \"Zimmermann Telegram\", \"Chaocipher\"]\n",
    ")"
   ]
  },
  {
   "cell_type": "code",
   "execution_count": 5,
   "metadata": {},
   "outputs": [
    {
     "name": "stdout",
     "output_type": "stream",
     "text": [
      "Boths sets are equal: True\n"
     ]
    }
   ],
   "source": [
    "# Confirmamos que los dos conjuntos creados son iguales\n",
    "print(\"Boths sets are equal: {}\".format(a_set == the_same_set))"
   ]
  },
  {
   "cell_type": "markdown",
   "metadata": {},
   "source": [
    "Hay que tener cuidado si usamos llaves para definir los conjuntos, ya que estas también se utilizan para definir diccionarios. Si los conjuntos y diccionarios tienen elementos, la sintaxis nos determinará el tipo. En cambio, usar llaves para __definir una colección vacía resultará en un diccionario vacío__:"
   ]
  },
  {
   "cell_type": "code",
   "execution_count": 6,
   "metadata": {},
   "outputs": [],
   "source": [
    "# Definimos dos diccionarios vacíos utilizando las dos sintaxis\n",
    "an_empty_dict = {}\n",
    "\n",
    "another_empty_dict = dict()"
   ]
  },
  {
   "cell_type": "code",
   "execution_count": 7,
   "metadata": {},
   "outputs": [
    {
     "name": "stdout",
     "output_type": "stream",
     "text": [
      "Using {} results in a <class 'dict'> equivalent to dict(): True\n"
     ]
    }
   ],
   "source": [
    "print(\"Using {{}} results in a {} equivalent to dict(): {}\".format(\n",
    "    type(an_empty_dict),\n",
    "    an_empty_dict == another_empty_dict)\n",
    "     )"
   ]
  },
  {
   "cell_type": "code",
   "execution_count": 8,
   "metadata": {},
   "outputs": [
    {
     "name": "stdout",
     "output_type": "stream",
     "text": [
      "Creating an empty <class 'set'>\n"
     ]
    }
   ],
   "source": [
    "# Definimos un conjunto vacío\n",
    "an_empty_set = set()\n",
    "\n",
    "print(\"Creating an empty {}\".format(type(an_empty_set)))"
   ]
  },
  {
   "cell_type": "markdown",
   "metadata": {},
   "source": [
    "Los conjuntos no tienen orden y, por lo tanto, dos conjuntos son iguales si sus elementos también lo son:"
   ]
  },
  {
   "cell_type": "code",
   "execution_count": 9,
   "metadata": {},
   "outputs": [
    {
     "name": "stdout",
     "output_type": "stream",
     "text": [
      "Boths sets are equal: True\n"
     ]
    }
   ],
   "source": [
    "# Creamos otro conjunto con los mismos elementos, pero usamos otra\n",
    "# ordenación de los elementos al crear el conjunto\n",
    "another_same_set = {\"Zimmermann Telegram\",\n",
    "                    \"Quipu\",\n",
    "                    \"Chaocipher\",\n",
    "                    \"Beale ciphers\"}\n",
    "\n",
    "print(\"Boths sets are equal: {}\".format(a_set == another_same_set))"
   ]
  },
  {
   "cell_type": "markdown",
   "metadata": {},
   "source": [
    "Como las listas, los conjuntos disponen de la operación `len`, que devuelve el número de elementos del conjunto (su cardinalidad).  \n",
    "Las operaciones `add` y `remove` permiten añadir y eliminar elementos de un conjunto:"
   ]
  },
  {
   "cell_type": "code",
   "execution_count": 10,
   "metadata": {},
   "outputs": [
    {
     "name": "stdout",
     "output_type": "stream",
     "text": [
      "The set is: {'Quipu', 'Chaocipher', 'Zimmermann Telegram', 'Beale ciphers'}\n",
      "The size of the set is: 4\n"
     ]
    }
   ],
   "source": [
    "# Mostramos la cardinalidad del conjunto\n",
    "print(\"The set is: {}\".format(a_set))\n",
    "print(\"The size of the set is: {}\".format(len(a_set)))"
   ]
  },
  {
   "cell_type": "code",
   "execution_count": 11,
   "metadata": {},
   "outputs": [
    {
     "name": "stdout",
     "output_type": "stream",
     "text": [
      "After removing 'Quipu', the set is: {'Chaocipher', 'Zimmermann Telegram', 'Beale ciphers'}\n"
     ]
    }
   ],
   "source": [
    "# Eliminamos un elemento del conjunto\n",
    "a_set.remove(\"Quipu\")\n",
    "\n",
    "print(\"After removing 'Quipu', the set is: {}\".format(a_set))"
   ]
  },
  {
   "cell_type": "code",
   "execution_count": 12,
   "metadata": {},
   "outputs": [
    {
     "name": "stdout",
     "output_type": "stream",
     "text": [
      "After adding an element, the set is: {'The Magic Words are Squeamish Ossifrage', 'Chaocipher', 'Zimmermann Telegram', 'Beale ciphers'}\n"
     ]
    }
   ],
   "source": [
    "# Añadimos un elemento al conjunto\n",
    "a_set.add(\"The Magic Words are Squeamish Ossifrage\")\n",
    "\n",
    "print(\"After adding an element, the set is: {}\".format(a_set))"
   ]
  },
  {
   "cell_type": "markdown",
   "metadata": {},
   "source": [
    "---\n",
    "Los conjuntos no tienen elementos repetidos:"
   ]
  },
  {
   "cell_type": "code",
   "execution_count": 13,
   "metadata": {},
   "outputs": [
    {
     "name": "stdout",
     "output_type": "stream",
     "text": [
      "The size of the set is: 4\n",
      "The size of the set after adding 'Beale ciphers' is: 4\n"
     ]
    }
   ],
   "source": [
    "print(\"The size of the set is: {}\".format(len(a_set)))\n",
    "\n",
    "# Añadimos ahora un elemento ya existente en el conjunto\n",
    "a_set.add(\"Beale ciphers\")\n",
    "\n",
    "# La cardinalidad del conjunto no varía, ya que el elemento ya\n",
    "# pertenecía al conjunto\n",
    "print(\"The size of the set after adding 'Beale ciphers' is: {}\"\n",
    "      .format(len(a_set)))"
   ]
  },
  {
   "cell_type": "markdown",
   "metadata": {},
   "source": [
    "Ya hemos visto cómo la clase `set` implementa la comparación de igualdad de conjuntos. Adicionalmente, también implementa las operaciones básicas de conjuntos (__unión, intersección y diferencia__) y la diferencia simétrica (que devuelve los elementos que están solo en uno de los dos conjuntos)."
   ]
  },
  {
   "cell_type": "code",
   "execution_count": 14,
   "metadata": {},
   "outputs": [],
   "source": [
    "# Creamos los tres conjuntos\n",
    "students_python = {\"Anna\", \"Helena\", \"Marta\", \"Pol\"}\n",
    "students_java = {\"Anna\", \"Teresa\", \"Helena\"}\n",
    "students_c = {\"Marc\"}"
   ]
  },
  {
   "cell_type": "markdown",
   "metadata": {},
   "source": [
    "A continuación vemos un ejemplo de estas operaciones sobre tres conjuntos, que contienen los nombres de los estudiantes de programación en Python, Java y C, de una escuela (asumiremos que el nombre identifica de manera única a los estudiantes)."
   ]
  },
  {
   "cell_type": "code",
   "execution_count": 15,
   "metadata": {},
   "outputs": [
    {
     "name": "stdout",
     "output_type": "stream",
     "text": [
      "Python and Java:\t\t{'Helena', 'Anna'}\n"
     ]
    }
   ],
   "source": [
    "# Calculamos los alumnos que estudian Python y también Java\n",
    "print(\"Python and Java:\\t\\t{}\".format(\n",
    "    students_python.intersection(students_java)\n",
    "))"
   ]
  },
  {
   "cell_type": "code",
   "execution_count": 16,
   "metadata": {},
   "outputs": [
    {
     "name": "stdout",
     "output_type": "stream",
     "text": [
      "Python but not Java:\t\t{'Marta', 'Pol'}\n"
     ]
    }
   ],
   "source": [
    "# Calculamos los alumnos que estudian Python pero no Java\n",
    "print(\"Python but not Java:\\t\\t{}\".format(\n",
    "    students_python.difference(students_java)\n",
    "))"
   ]
  },
  {
   "cell_type": "code",
   "execution_count": 17,
   "metadata": {},
   "outputs": [
    {
     "name": "stdout",
     "output_type": "stream",
     "text": [
      "Python or Java, but not both:\t{'Pol', 'Marta', 'Teresa'}\n"
     ]
    }
   ],
   "source": [
    "# Calculamos los alumnos que estudian Python o Java, pero no\n",
    "# ambos lenguajes\n",
    "print(\"Python or Java, but not both:\\t{}\".format(\n",
    "    students_python.symmetric_difference(students_java)\n",
    "))"
   ]
  },
  {
   "cell_type": "code",
   "execution_count": 18,
   "metadata": {},
   "outputs": [
    {
     "name": "stdout",
     "output_type": "stream",
     "text": [
      "Any of the languages:\t\t{'Anna', 'Marc', 'Pol', 'Marta', 'Helena', 'Teresa'}\n"
     ]
    }
   ],
   "source": [
    "# Calculamos los estudiantes que tiene la escuela (independientemente\n",
    "# del lenguaje que estudian)\n",
    "print(\"Any of the languages:\\t\\t{}\".format(\n",
    "    students_python.union(students_java).union(students_c)\n",
    "))"
   ]
  },
  {
   "cell_type": "markdown",
   "metadata": {},
   "source": [
    "Notad que los resultados de las operaciones entre conjuntos que hemos visto en la celda anterior son también conjuntos, por lo que podemos encadenar operaciones (como muestra el último ejemplo, donde se obtienen todos los estudiantes de la escuela).\n",
    "\n",
    "Equivalentemente, podemos utilizar los operandos `|`, `&`, `-` y `^`:"
   ]
  },
  {
   "cell_type": "code",
   "execution_count": 19,
   "metadata": {},
   "outputs": [
    {
     "name": "stdout",
     "output_type": "stream",
     "text": [
      "Python and Java:\t\t{'Helena', 'Anna'}\n"
     ]
    }
   ],
   "source": [
    "print(\"Python and Java:\\t\\t{}\".format(\n",
    "    students_python & students_java))"
   ]
  },
  {
   "cell_type": "code",
   "execution_count": 20,
   "metadata": {},
   "outputs": [
    {
     "name": "stdout",
     "output_type": "stream",
     "text": [
      "Python but not Java:\t\t{'Marta', 'Pol'}\n"
     ]
    }
   ],
   "source": [
    "print(\"Python but not Java:\\t\\t{}\".format(\n",
    "    students_python - students_java))"
   ]
  },
  {
   "cell_type": "code",
   "execution_count": 21,
   "metadata": {},
   "outputs": [
    {
     "name": "stdout",
     "output_type": "stream",
     "text": [
      "Python or Java, but not both:\t{'Pol', 'Marta', 'Teresa'}\n"
     ]
    }
   ],
   "source": [
    "print(\"Python or Java, but not both:\\t{}\".format(\n",
    "    students_python ^ students_java))"
   ]
  },
  {
   "cell_type": "code",
   "execution_count": 22,
   "metadata": {},
   "outputs": [
    {
     "name": "stdout",
     "output_type": "stream",
     "text": [
      "Any of the languages:\t\t{'Anna', 'Marc', 'Pol', 'Marta', 'Helena', 'Teresa'}\n"
     ]
    }
   ],
   "source": [
    "print(\"Any of the languages:\\t\\t{}\".format(\n",
    "    students_python | students_java | students_c))"
   ]
  },
  {
   "cell_type": "markdown",
   "metadata": {},
   "source": [
    "Los conjuntos son iterables, por lo que los podemos recorrer como hemos visto en la unidad anterior:"
   ]
  },
  {
   "cell_type": "code",
   "execution_count": 23,
   "metadata": {},
   "outputs": [
    {
     "name": "stdout",
     "output_type": "stream",
     "text": [
      "Marta\n",
      "Helena\n",
      "Anna\n",
      "Pol\n"
     ]
    }
   ],
   "source": [
    "# Recorremos el conjunto students_python\n",
    "for element in students_python:\n",
    "    print(element)"
   ]
  },
  {
   "cell_type": "markdown",
   "metadata": {},
   "source": [
    "Hasta ahora hemos presentado las propiedades de los conjuntos y las operaciones principales que podemos realizar sobre estos con la clase set. Además, hemos visto cómo __los conjuntos son la estructura de datos que vamos a utilizar cuando queremos mantener una colección de elementos sin duplicados y donde el orden no tenga importancia__. Los conjuntos, asimismo, se pueden utilizar como herramienta para resolver, de manera eficiente, cierto tipo de problemas.\n",
    "\n",
    "Por un lado, __los conjuntos son una de las maneras más rápidas de eliminar duplicados de una lista__:"
   ]
  },
  {
   "cell_type": "code",
   "execution_count": 24,
   "metadata": {},
   "outputs": [
    {
     "name": "stdout",
     "output_type": "stream",
     "text": [
      "A list with duplicates:\t\t['Anna', 'Helena', 'Marta', 'Pol', 'Anna', 'Teresa', 'Helena']\n"
     ]
    }
   ],
   "source": [
    "# Definimos una lista con elementos duplicados\n",
    "a_list = [\"Anna\", \"Helena\", \"Marta\", \"Pol\", \"Anna\", \"Teresa\", \"Helena\"]\n",
    "\n",
    "print(\"A list with duplicates:\\t\\t{}\".format(a_list))"
   ]
  },
  {
   "cell_type": "code",
   "execution_count": 25,
   "metadata": {},
   "outputs": [
    {
     "data": {
      "text/plain": [
       "['Anna', 'Helena', 'Marta', 'Pol', 'Anna', 'Teresa', 'Helena']"
      ]
     },
     "execution_count": 25,
     "metadata": {},
     "output_type": "execute_result"
    }
   ],
   "source": [
    "a_list"
   ]
  },
  {
   "cell_type": "code",
   "execution_count": 26,
   "metadata": {},
   "outputs": [
    {
     "data": {
      "text/plain": [
       "{'Anna', 'Helena', 'Marta', 'Pol', 'Teresa'}"
      ]
     },
     "execution_count": 26,
     "metadata": {},
     "output_type": "execute_result"
    }
   ],
   "source": [
    "set(a_list)"
   ]
  },
  {
   "cell_type": "code",
   "execution_count": 27,
   "metadata": {},
   "outputs": [
    {
     "name": "stdout",
     "output_type": "stream",
     "text": [
      "The same list without duplicates:\t['Marta', 'Anna', 'Pol', 'Helena', 'Teresa']\n"
     ]
    }
   ],
   "source": [
    "# Creamos una nueva lista sin duplicados, haciendo un cast de la lista inicial\n",
    "# a conjunto, y convirtiendo el resultado en lista de nuevo\n",
    "a_list_without_duplicates = list(set(a_list))\n",
    "\n",
    "print(\"The same list without duplicates:\\t{}\".format(\n",
    "    a_list_without_duplicates))"
   ]
  },
  {
   "cell_type": "markdown",
   "metadata": {},
   "source": [
    "Además de eficiente, la solución anterior es sencilla y elegante, siguiendo lo que nos recomienda el PEP20.\n",
    "\n",
    "Los conjuntos en Python también se encuentran optimizados para hacer `test de pertenencia`, que nos permiten comprobar si un determinado elemento se encuentra presente en un conjunto:"
   ]
  },
  {
   "cell_type": "code",
   "execution_count": 28,
   "metadata": {},
   "outputs": [
    {
     "name": "stdout",
     "output_type": "stream",
     "text": [
      "Python students:\t{'Marta', 'Helena', 'Anna', 'Pol'}\n",
      "Anna studies Python?:\tTrue\n",
      "\n"
     ]
    }
   ],
   "source": [
    "a_student = \"Anna\"\n",
    "\n",
    "print(\"Python students:\\t{}\".format(students_python))\n",
    "print(\"Anna studies Python?:\\t{}\\n\".format(a_student in students_python))"
   ]
  },
  {
   "cell_type": "code",
   "execution_count": 29,
   "metadata": {},
   "outputs": [
    {
     "name": "stdout",
     "output_type": "stream",
     "text": [
      "C students:\t\t{'Marc'}\n",
      "Anna studies C?:\tFalse\n"
     ]
    }
   ],
   "source": [
    "print(\"C students:\\t\\t{}\".format(students_c))\n",
    "print(\"Anna studies C?:\\t{}\".format(a_student in students_c))"
   ]
  },
  {
   "cell_type": "markdown",
   "metadata": {},
   "source": [
    "### Pilas y colas\n",
    "\n",
    "Las pilas y las colas son unas estructuras de datos también similares a las listas, donde los elementos tienen orden y pueden estar repetidos. La característica que define las pilas y las colas es que los elementos solo se pueden insertar y eliminar desde uno de los extremos.\n",
    "\n",
    "Una **pila** (en inglés, *stack*) solo permite añadir y borrar elementos encima de la pila (en inglés, hablamos del *top*), es decir, por la parte superior. Las pilas se conocen también como estructuras FILO (del inglés, *first in last out*), ya que el primer elemento que se añade a una pila será el último que saldrá de ella. Una analogía en el mundo físico de una pila puede ser una pila de libros que se encuentra dentro de una caja: el primer libro que sacaremos de la caja será el de lo alto de la pila, que será el último que hayamos puesto en la caja.\n",
    "\n",
    "Una **cola** (en inglés, *queue*) solo permite añadir elementos al final y eliminar elementos del inicio. Las colas se conocen también como estructuras FIFO (del inglés, *first in first out*), ya que el primer elemento que se añade a una cola será el primero en salir. En nuestro día a día encontramos colas en varias circunstancias, por ejemplo, cuando esperamos nuestro turno en la carnicería o para comprar entradas en el cine.\n",
    "\n",
    "A diferencia de los conjuntos, que en Python representamos con el tipo propio [`set`](https://docs.python.org/3.8/library/stdtypes.html#set), para trabajar con pilas y colas con Python utilizaremos el tipo lista ([`list`](https://docs.python.org/3.8/library/stdtypes.html#list)). Este tipo dispone de una serie de operaciones que permiten emular el comportamiento de pilas y colas. Python también dispone de una clase específica para gestionar colas, la clase [`queue`](https://docs.python.org/3.8/library/queue.html), que se utiliza en implementaciones *multithread* que veremos más adelante en la asignatura.\n",
    "\n",
    "__IMPLEMENTO UNA PILA__  \n",
    "Para implementar una pila, trabajaremos sobre una lista, utilizando únicamente los métodos `append` y` pop` para añadir y quitar elementos:"
   ]
  },
  {
   "cell_type": "code",
   "execution_count": 30,
   "metadata": {},
   "outputs": [],
   "source": [
    "def print_stack(s, msg_bef=None, msg_after=None):\n",
    "    # Definimos la función auxiliar print_stack, que nos permitirá\n",
    "    # visualizar una pila\n",
    "    if msg_bef:\n",
    "        print(msg_bef)\n",
    "\n",
    "    if len(s) == 0:\n",
    "        max_len = 10\n",
    "    else:\n",
    "        max_len = max([len(e) for e in s]) + 4\n",
    "\n",
    "    print(\"|\" + \" \"*(max_len+2) + \"|\")\n",
    "    for e in s[::-1]:\n",
    "        print(\"| \" + e + \" \"*(max_len-len(e)) + \" |\")\n",
    "    print(\"|\" + \"_\"*(max_len+2) + \"|\")\n",
    "\n",
    "    print(msg_after+\"\\n\" if msg_after else \"\\n\")"
   ]
  },
  {
   "cell_type": "code",
   "execution_count": 31,
   "metadata": {},
   "outputs": [
    {
     "name": "stdout",
     "output_type": "stream",
     "text": [
      "Initial stack:\n",
      "|            |\n",
      "|____________|\n",
      "\n",
      "\n"
     ]
    }
   ],
   "source": [
    "# Iniciamos una lista vacía, que utilizaremos como pila\n",
    "stack = []\n",
    "print_stack(stack, \"Initial stack:\")"
   ]
  },
  {
   "cell_type": "code",
   "execution_count": 32,
   "metadata": {},
   "outputs": [
    {
     "name": "stdout",
     "output_type": "stream",
     "text": [
      "Stack after adding 1 element:\n",
      "|                                     |\n",
      "| The Art of Computer Programming     |\n",
      "|_____________________________________|\n",
      "\n",
      "\n"
     ]
    }
   ],
   "source": [
    "# Añadimos 3 elementos a la pila, y vamos mostrando el contenido\n",
    "# de la pila en cada momento\n",
    "stack.append(\"The Art of Computer Programming\")\n",
    "print_stack(stack, \"Stack after adding 1 element:\")"
   ]
  },
  {
   "cell_type": "code",
   "execution_count": 33,
   "metadata": {},
   "outputs": [
    {
     "name": "stdout",
     "output_type": "stream",
     "text": [
      "Stack after adding a 2nd element:\n",
      "|                                     |\n",
      "| The Mythical Man-Month              |\n",
      "| The Art of Computer Programming     |\n",
      "|_____________________________________|\n",
      "\n",
      "\n"
     ]
    }
   ],
   "source": [
    "stack.append(\"The Mythical Man-Month\")\n",
    "print_stack(stack, \"Stack after adding a 2nd element:\")"
   ]
  },
  {
   "cell_type": "code",
   "execution_count": 34,
   "metadata": {},
   "outputs": [
    {
     "name": "stdout",
     "output_type": "stream",
     "text": [
      "Stack after adding a 3rd element:\n",
      "|                                     |\n",
      "| Refactoring                         |\n",
      "| The Mythical Man-Month              |\n",
      "| The Art of Computer Programming     |\n",
      "|_____________________________________|\n",
      "\n",
      "\n"
     ]
    }
   ],
   "source": [
    "stack.append(\"Refactoring\")\n",
    "print_stack(stack, \"Stack after adding a 3rd element:\")"
   ]
  },
  {
   "cell_type": "markdown",
   "metadata": {},
   "source": [
    "Al añadir elementos, estos se van apilando de manera que el último elemento añadido queda en el top de la pila. En el ejemplo anterior, el último elemento añadido, Refactoring, queda en el top de la pila."
   ]
  },
  {
   "cell_type": "code",
   "execution_count": 35,
   "metadata": {},
   "outputs": [],
   "source": [
    "# Eliminamos un elemento de la pila y mostramos cómo queda la pila\n",
    "e = stack.pop()"
   ]
  },
  {
   "cell_type": "code",
   "execution_count": 36,
   "metadata": {},
   "outputs": [
    {
     "name": "stdout",
     "output_type": "stream",
     "text": [
      "Stack after deleting one element:\n",
      "|                                     |\n",
      "| The Mythical Man-Month              |\n",
      "| The Art of Computer Programming     |\n",
      "|_____________________________________|\n",
      "The element removed was: Refactoring\n",
      "\n"
     ]
    }
   ],
   "source": [
    "print_stack(stack, \"Stack after deleting one element:\",\n",
    "            \"The element removed was: {}\".format(e))"
   ]
  },
  {
   "cell_type": "markdown",
   "metadata": {},
   "source": [
    "Al ejecutar pop, se elimina el elemento del top de la pila, en este caso, Refactoring. El último elemento añadido es pues el primero en salir."
   ]
  },
  {
   "cell_type": "code",
   "execution_count": 37,
   "metadata": {},
   "outputs": [],
   "source": [
    "# Eliminamos dos elementos más de la pila y mostramos cómo queda\n",
    "# la pila en cada momento\n",
    "e = stack.pop()"
   ]
  },
  {
   "cell_type": "code",
   "execution_count": 38,
   "metadata": {},
   "outputs": [
    {
     "name": "stdout",
     "output_type": "stream",
     "text": [
      "Stack after deleting another element:\n",
      "|                                     |\n",
      "| The Art of Computer Programming     |\n",
      "|_____________________________________|\n",
      "The element removed was: The Mythical Man-Month\n",
      "\n"
     ]
    }
   ],
   "source": [
    "print_stack(stack, \"Stack after deleting another element:\",\n",
    "            \"The element removed was: {}\".format(e))"
   ]
  },
  {
   "cell_type": "code",
   "execution_count": 39,
   "metadata": {},
   "outputs": [],
   "source": [
    "e = stack.pop()"
   ]
  },
  {
   "cell_type": "code",
   "execution_count": 40,
   "metadata": {},
   "outputs": [
    {
     "name": "stdout",
     "output_type": "stream",
     "text": [
      "Stack after deleting the last element:\n",
      "|            |\n",
      "|____________|\n",
      "The element removed was: The Art of Computer Programming\n",
      "\n"
     ]
    }
   ],
   "source": [
    "print_stack(stack, \"Stack after deleting the last element:\",\n",
    "            \"The element removed was: {}\".format(e))"
   ]
  },
  {
   "cell_type": "markdown",
   "metadata": {},
   "source": [
    "Si seguimos eliminando elementos, veremos cómo el primer elemento añadido a la pila, The Art of Computer Programming, es el último en salir (el comportamiento FILO, first in last out que comentábamos).\n",
    "\n",
    "Finalmente, ejecutar un pop sobre una pila vacía generará una excepción:"
   ]
  },
  {
   "cell_type": "code",
   "execution_count": 41,
   "metadata": {},
   "outputs": [
    {
     "name": "stdout",
     "output_type": "stream",
     "text": [
      "pop from empty list\n"
     ]
    }
   ],
   "source": [
    "try:\n",
    "    stack.pop()\n",
    "except IndexError as e:\n",
    "    print(e)"
   ]
  },
  {
   "cell_type": "markdown",
   "metadata": {},
   "source": [
    "__IMPLEMENTO UNA COLA__  \n",
    "Para implementar una cola, trabajaremos también sobre una lista, utilizando únicamente los métodos append y pop(0) para añadir y quitar elementos:"
   ]
  },
  {
   "cell_type": "code",
   "execution_count": 42,
   "metadata": {},
   "outputs": [],
   "source": [
    "def print_queue(s, msg_bef=None, msg_after=None):\n",
    "    # Definimos la función auxiliar print_queue, que nos permitirá\n",
    "    # visualizar una cola\n",
    "    if msg_bef:\n",
    "        print(msg_bef)\n",
    "\n",
    "    if len(s) == 0:\n",
    "        max_len = 10\n",
    "    else:\n",
    "        max_len = sum([len(e) + 2 for e in s]) + 1\n",
    "\n",
    "    print(\"_\" * (max_len+2)+\"\\n\")\n",
    "    print(\" \" + \" \".join(s))\n",
    "    print(\"_\" * (max_len+2))\n",
    "    print(msg_after+\"\\n\" if msg_after else \"\\n\")"
   ]
  },
  {
   "cell_type": "code",
   "execution_count": 43,
   "metadata": {},
   "outputs": [
    {
     "name": "stdout",
     "output_type": "stream",
     "text": [
      "Initial queue:\n",
      "____________\n",
      "\n",
      " \n",
      "____________\n",
      "\n",
      "\n"
     ]
    }
   ],
   "source": [
    "# Iniciamos una lista vacía, que utilizaremos como cola\n",
    "queue = []\n",
    "\n",
    "print_queue(queue, \"Initial queue:\")"
   ]
  },
  {
   "cell_type": "code",
   "execution_count": 44,
   "metadata": {},
   "outputs": [
    {
     "name": "stdout",
     "output_type": "stream",
     "text": [
      "Queue after adding 1 element:\n",
      "______\n",
      "\n",
      " A\n",
      "______\n",
      "\n",
      "\n"
     ]
    }
   ],
   "source": [
    "# Añadimos 3 elementos a la cola, y vamos mostrando el contenido de\n",
    "# la cola en cada momento\n",
    "queue.append(\"A\")\n",
    "\n",
    "print_queue(queue, \"Queue after adding 1 element:\")"
   ]
  },
  {
   "cell_type": "code",
   "execution_count": 45,
   "metadata": {},
   "outputs": [
    {
     "name": "stdout",
     "output_type": "stream",
     "text": [
      "Queue after adding a 2nd element:\n",
      "_________\n",
      "\n",
      " A B\n",
      "_________\n",
      "\n",
      "\n"
     ]
    }
   ],
   "source": [
    "queue.append(\"B\")\n",
    "\n",
    "print_queue(queue, \"Queue after adding a 2nd element:\")"
   ]
  },
  {
   "cell_type": "code",
   "execution_count": 46,
   "metadata": {},
   "outputs": [
    {
     "name": "stdout",
     "output_type": "stream",
     "text": [
      "Queue after adding a 3rd element:\n",
      "____________\n",
      "\n",
      " A B C\n",
      "____________\n",
      "\n",
      "\n"
     ]
    }
   ],
   "source": [
    "queue.append(\"C\")\n",
    "\n",
    "print_queue(queue, \"Queue after adding a 3rd element:\")"
   ]
  },
  {
   "cell_type": "code",
   "execution_count": 47,
   "metadata": {},
   "outputs": [
    {
     "name": "stdout",
     "output_type": "stream",
     "text": [
      "Queue after deleting one element:\n",
      "_________\n",
      "\n",
      " B C\n",
      "_________\n",
      "The element removed was: A\n",
      "\n"
     ]
    }
   ],
   "source": [
    "# Eliminamos un elemento de la cola y mostramos cómo queda la cola\n",
    "e = queue.pop(0)\n",
    "\n",
    "print_queue(queue, \"Queue after deleting one element:\",\n",
    "            \"The element removed was: {}\".format(e))"
   ]
  },
  {
   "cell_type": "markdown",
   "metadata": {},
   "source": [
    "Al ejecutar pop(0), se elimina el primer elemento de la cola, en este caso, A, que es el primer elemento que hemos añadido. Así pues, la cola es una estructura FIFO (first in first out)."
   ]
  },
  {
   "cell_type": "code",
   "execution_count": 48,
   "metadata": {},
   "outputs": [
    {
     "name": "stdout",
     "output_type": "stream",
     "text": [
      "Queue after deleting another element:\n",
      "______\n",
      "\n",
      " C\n",
      "______\n",
      "The element removed was: B\n",
      "\n"
     ]
    }
   ],
   "source": [
    "# Eliminamos dos elementos más de la cola y mostramos cómo queda la cola\n",
    "# en cada momento\n",
    "e = queue.pop(0)\n",
    "\n",
    "print_queue(queue, \"Queue after deleting another element:\",\n",
    "            \"The element removed was: {}\".format(e))"
   ]
  },
  {
   "cell_type": "code",
   "execution_count": 49,
   "metadata": {},
   "outputs": [
    {
     "name": "stdout",
     "output_type": "stream",
     "text": [
      "Queue after deleting the last element:\n",
      "____________\n",
      "\n",
      " \n",
      "____________\n",
      "The element removed was: C\n",
      "\n"
     ]
    }
   ],
   "source": [
    "e = queue.pop(0)\n",
    "\n",
    "print_queue(queue, \"Queue after deleting the last element:\",\n",
    "            \"The element removed was: {}\".format(e))"
   ]
  },
  {
   "cell_type": "markdown",
   "metadata": {},
   "source": [
    "El último elemento añadido es pues también el último en salir (C).\n",
    "\n",
    "De nuevo, si intentamos eliminar un elemento sobre una cola vacía, se genera una excepción:"
   ]
  },
  {
   "cell_type": "code",
   "execution_count": 50,
   "metadata": {},
   "outputs": [
    {
     "name": "stdout",
     "output_type": "stream",
     "text": [
      "pop from empty list\n"
     ]
    }
   ],
   "source": [
    "try:\n",
    "    queue.pop(0)\n",
    "except IndexError as e:\n",
    "    print(e)"
   ]
  },
  {
   "cell_type": "markdown",
   "metadata": {},
   "source": [
    "### Diccionarios ordenados\n",
    "Aunque a partir de la versión 3.6 de Python los diccionarios preservan el orden de inserción de los elementos, la estructura de datos no contempla el orden de los elementos a la hora de hacer comparaciones. Así, dos diccionarios con el mismo contenido insertado en orden diferente son considerados iguales. Es decir, __dos diccionarios son iguales si su contenido lo es__, independientemente del orden en el que se haya insertado este contenido:"
   ]
  },
  {
   "cell_type": "code",
   "execution_count": 51,
   "metadata": {},
   "outputs": [],
   "source": [
    "# Creamos dos diccionarios con el mismo contenido en orden diferente\n",
    "dict_1 = {\"a\": 0,\n",
    "          \"b\": 1}\n",
    "\n",
    "dict_2 = {\"b\": 1,\n",
    "          \"a\": 0}"
   ]
  },
  {
   "cell_type": "code",
   "execution_count": 52,
   "metadata": {},
   "outputs": [
    {
     "name": "stdout",
     "output_type": "stream",
     "text": [
      "dict_1:\n",
      "a: 0\n",
      "b: 1\n"
     ]
    }
   ],
   "source": [
    "# Mostramos el contenido de los diccionarios en el orden en que items()\n",
    "# devuelve los elementos\n",
    "print(\"dict_1:\")\n",
    "for k, v in dict_1.items():\n",
    "    print(\"{}: {}\".format(k, v))"
   ]
  },
  {
   "cell_type": "code",
   "execution_count": 53,
   "metadata": {},
   "outputs": [
    {
     "name": "stdout",
     "output_type": "stream",
     "text": [
      "\n",
      "dict_2:\n",
      "b: 1\n",
      "a: 0\n"
     ]
    }
   ],
   "source": [
    "print(\"\\ndict_2:\")\n",
    "for k, v in dict_2.items():\n",
    "    print(\"{}: {}\".format(k, v))"
   ]
  },
  {
   "cell_type": "code",
   "execution_count": 54,
   "metadata": {},
   "outputs": [
    {
     "name": "stdout",
     "output_type": "stream",
     "text": [
      "\n",
      "dict_1 and dict_2 are equal: True\n"
     ]
    }
   ],
   "source": [
    "# Comprobamos la igualdad de los dos diccionarios\n",
    "print(\"\\ndict_1 and dict_2 are equal: {}\".format(dict_1 == dict_2))"
   ]
  },
  {
   "cell_type": "markdown",
   "metadata": {},
   "source": [
    "Si, por el contrario, queremos que el orden de los elementos de un diccionario determine su igualdad a otro diccionario, podemos utilizar un diccionario ordenado, implementado por la clase `OrderedDict` en Python, en la librería __collections__."
   ]
  },
  {
   "cell_type": "code",
   "execution_count": 55,
   "metadata": {},
   "outputs": [
    {
     "name": "stdout",
     "output_type": "stream",
     "text": [
      "\n",
      "dict_1 and dict_2 are equal: False\n"
     ]
    }
   ],
   "source": [
    "from collections import OrderedDict\n",
    "\n",
    "# Creamos dos diccionarios ordenados con el mismo contenido en orden diferente\n",
    "dict_1 = OrderedDict([(\"a\", 0),\n",
    "                      (\"b\", 1)])\n",
    "\n",
    "dict_2 = OrderedDict([(\"b\", 1),\n",
    "                      (\"a\", 0)])\n",
    "\n",
    "# Comprobamos la igualdad de los dos diccionarios\n",
    "print(\"\\ndict_1 and dict_2 are equal: {}\".format(dict_1 == dict_2))"
   ]
  },
  {
   "cell_type": "markdown",
   "metadata": {},
   "source": [
    "Más allá de la diferencia en la implementación de la igualdad, la clase `OrderedDict` también nos ofrece un par de métodos relativos al orden de los elementos que no teníamos disponibles en los diccionarios: `reversed` y `move_to_end`."
   ]
  },
  {
   "cell_type": "code",
   "execution_count": 56,
   "metadata": {},
   "outputs": [
    {
     "name": "stdout",
     "output_type": "stream",
     "text": [
      "\n",
      "dict_2:\n",
      "b: 1\n",
      "a: 0\n"
     ]
    }
   ],
   "source": [
    "# Mostramos el contenido de dict_2 en el orden original\n",
    "print(\"\\ndict_2:\")\n",
    "\n",
    "for k in dict_2:\n",
    "    print(\"{}: {}\".format(k, dict_2[k]))"
   ]
  },
  {
   "cell_type": "code",
   "execution_count": 57,
   "metadata": {},
   "outputs": [
    {
     "name": "stdout",
     "output_type": "stream",
     "text": [
      "\n",
      "dict_2:\n",
      "a: 0\n",
      "b: 1\n"
     ]
    }
   ],
   "source": [
    "# Mostramos el contenido de dict_2 en orden inverso\n",
    "print(\"\\ndict_2:\")\n",
    "\n",
    "for k in reversed(dict_2):\n",
    "    print(\"{}: {}\".format(k, dict_2[k]))"
   ]
  },
  {
   "cell_type": "code",
   "execution_count": 58,
   "metadata": {},
   "outputs": [],
   "source": [
    "# Creamos un diccionario ordenado\n",
    "dict_4 = OrderedDict([(\"a\", 0),\n",
    "                      (\"b\", 1),\n",
    "                      (\"c\", 2),\n",
    "                      (\"d\", 3)])"
   ]
  },
  {
   "cell_type": "code",
   "execution_count": 59,
   "metadata": {},
   "outputs": [
    {
     "name": "stdout",
     "output_type": "stream",
     "text": [
      "OrderedDict([('a', 0), ('c', 2), ('d', 3), ('b', 1)])\n"
     ]
    }
   ],
   "source": [
    "# Movemos el elemento de clave 'b' al final del diccionario\n",
    "dict_4.move_to_end('b')\n",
    "\n",
    "# Mostramos el diccionario modificado, con el elemento 'b' al final\n",
    "print(dict_4)"
   ]
  },
  {
   "cell_type": "markdown",
   "metadata": {},
   "source": [
    "Como apunte final, hay que tener en cuenta que en general un diccionario estándar de Python es más eficiente que un diccionario ordenado. Así pues, utilizaremos siempre diccionarios estándar, a no ser que necesitemos las funcionalidades de un diccionario ordenado para la lógica de nuestra aplicación."
   ]
  },
  {
   "cell_type": "markdown",
   "metadata": {},
   "source": [
    "### Otras variantes de diccionario\n",
    "Otra variante del diccionario que a menudo resulta de utilidad es el defaultdict. Este tipo de diccionario comparte las propiedades del diccionario tradicional (dict), pero permite establecer un valor predeterminado a las entradas del diccionario no inicializadas:\n"
   ]
  },
  {
   "cell_type": "code",
   "execution_count": 60,
   "metadata": {},
   "outputs": [
    {
     "name": "stdout",
     "output_type": "stream",
     "text": [
      "'non_existing_key'\n"
     ]
    }
   ],
   "source": [
    "# Creamos un diccionario a_trad_dict e intentamos mostrar el valor\n",
    "# de una clave inexistente\n",
    "a_trad_dict = {}\n",
    "\n",
    "try:\n",
    "    print(a_trad_dict[\"non_existing_key\"])\n",
    "except KeyError as e:\n",
    "    print(e)"
   ]
  },
  {
   "cell_type": "code",
   "execution_count": 61,
   "metadata": {},
   "outputs": [
    {
     "name": "stdout",
     "output_type": "stream",
     "text": [
      "[]\n",
      "0\n"
     ]
    }
   ],
   "source": [
    "from collections import defaultdict\n",
    "\n",
    "# Creamos un diccionario defaultdict con valor por defecto una lista\n",
    "# e intentamos mostrar el valor de una clave inexistente\n",
    "\n",
    "a_defaultdict = defaultdict(list)\n",
    "print(a_defaultdict[\"non_existing_key\"])\n",
    "\n",
    "\n",
    "def get_0():\n",
    "    # Creamos un diccionario defaultdict con valor por defecto una función\n",
    "    # que retorna 0 e intentamos mostrar el valor de una clave inexistente\n",
    "    return 0\n",
    "\n",
    "\n",
    "another_defaultdict = defaultdict(get_0)\n",
    "\n",
    "print(another_defaultdict[\"non_existing_key\"])"
   ]
  },
  {
   "cell_type": "markdown",
   "metadata": {},
   "source": [
    "Los `defaultdict` pueden ser útiles para evitar tener que inicializar las entradas de un diccionario manualmente.\n",
    "\n",
    "Por ejemplo, supongamos que tenemos un texto, y queremos obtener una lista de las palabras agrupadas según su letra inicial. Podríamos usar un diccionario para almacenar esta agrupación: la clave del diccionario almacenaría la letra inicial, y el valor de cada clave sería una lista de las palabras que empiezan por esa letra. Así, solo habría que tener entradas para las letras que son iniciales de alguna de las palabras del texto, y no para todas las posibles letras iniciales.\n",
    "\n",
    "Una implementación básica podría usar un diccionario normal, procesando cada palabra una a una y comprobando en cada caso si ya tenemos una entrada en el diccionario para la letra inicial de la palabra:"
   ]
  },
  {
   "cell_type": "code",
   "execution_count": 62,
   "metadata": {},
   "outputs": [],
   "source": [
    "words = \"Beautiful is better than ugly. Explicit is better than implicit. \"\n",
    "words += \"Simple is better than complex.\""
   ]
  },
  {
   "cell_type": "code",
   "execution_count": 63,
   "metadata": {},
   "outputs": [],
   "source": [
    "# Creamos el diccionario\n",
    "words_by_first_letter = dict()"
   ]
  },
  {
   "cell_type": "code",
   "execution_count": 64,
   "metadata": {},
   "outputs": [],
   "source": [
    "# Iteramos por cada palabra del texto\n",
    "for word in words.split(\" \"):\n",
    "    # Recuperamos la primera letra\n",
    "    first_letter = word[0]\n",
    "\n",
    "    if first_letter in words_by_first_letter:\n",
    "        # Si ya existe la entrada del diccionario, añadimos la palabra\n",
    "        # a la lista\n",
    "        words_by_first_letter[first_letter].append(word)\n",
    "    else:\n",
    "        # Si no existe aún ninguna palabra con la misma inicial, creamos\n",
    "        # la entrada en el diccionario, creando la lista de palabras para\n",
    "        # aquella inicial y añadiendo la palabra\n",
    "        words_by_first_letter[first_letter] = [word]"
   ]
  },
  {
   "cell_type": "code",
   "execution_count": 65,
   "metadata": {},
   "outputs": [
    {
     "name": "stdout",
     "output_type": "stream",
     "text": [
      "{'B': ['Beautiful'], 'i': ['is', 'is', 'implicit.', 'is'], 'b': ['better', 'better', 'better'], 't': ['than', 'than', 'than'], 'u': ['ugly.'], 'E': ['Explicit'], 'S': ['Simple'], 'c': ['complex.']}\n"
     ]
    }
   ],
   "source": [
    "# Mostramos el resultado\n",
    "print(words_by_first_letter)"
   ]
  },
  {
   "cell_type": "code",
   "execution_count": 66,
   "metadata": {},
   "outputs": [
    {
     "name": "stdout",
     "output_type": "stream",
     "text": [
      "{\n",
      "  \"B\": [\n",
      "    \"Beautiful\"\n",
      "  ],\n",
      "  \"i\": [\n",
      "    \"is\",\n",
      "    \"is\",\n",
      "    \"implicit.\",\n",
      "    \"is\"\n",
      "  ],\n",
      "  \"b\": [\n",
      "    \"better\",\n",
      "    \"better\",\n",
      "    \"better\"\n",
      "  ],\n",
      "  \"t\": [\n",
      "    \"than\",\n",
      "    \"than\",\n",
      "    \"than\"\n",
      "  ],\n",
      "  \"u\": [\n",
      "    \"ugly.\"\n",
      "  ],\n",
      "  \"E\": [\n",
      "    \"Explicit\"\n",
      "  ],\n",
      "  \"S\": [\n",
      "    \"Simple\"\n",
      "  ],\n",
      "  \"c\": [\n",
      "    \"complex.\"\n",
      "  ]\n",
      "}\n"
     ]
    }
   ],
   "source": [
    "# PARA IMPRIMIR BONITO UN DICTIONARIO\n",
    "import json\n",
    "\n",
    "print(json.dumps(words_by_first_letter, indent=2))"
   ]
  },
  {
   "cell_type": "markdown",
   "metadata": {},
   "source": [
    "Observemos ahora cómo podemos simplificar el código usando un `defaultdict`:"
   ]
  },
  {
   "cell_type": "code",
   "execution_count": 67,
   "metadata": {},
   "outputs": [
    {
     "name": "stdout",
     "output_type": "stream",
     "text": [
      "defaultdict(<class 'list'>, {'B': ['Beautiful'], 'i': ['is', 'is', 'implicit.', 'is'], 'b': ['better', 'better', 'better'], 't': ['than', 'than', 'than'], 'u': ['ugly.'], 'E': ['Explicit'], 'S': ['Simple'], 'c': ['complex.']})\n"
     ]
    }
   ],
   "source": [
    "# Creamos el diccionario defaultdict\n",
    "words_by_first_letter = defaultdict(list)\n",
    "\n",
    "# Iteramos por cada palabra del texto\n",
    "for word in words.split(\" \"):\n",
    "    # Recuperamos la primera letra\n",
    "    first_letter = word[0]\n",
    "    # Añadimos la palabra en la lista de la inicial correspondiente\n",
    "    words_by_first_letter[first_letter].append(word)\n",
    "\n",
    "print(words_by_first_letter)"
   ]
  },
  {
   "cell_type": "code",
   "execution_count": 68,
   "metadata": {},
   "outputs": [
    {
     "name": "stdout",
     "output_type": "stream",
     "text": [
      "{\n",
      "  \"B\": [\n",
      "    \"Beautiful\"\n",
      "  ],\n",
      "  \"i\": [\n",
      "    \"is\",\n",
      "    \"is\",\n",
      "    \"implicit.\",\n",
      "    \"is\"\n",
      "  ],\n",
      "  \"b\": [\n",
      "    \"better\",\n",
      "    \"better\",\n",
      "    \"better\"\n",
      "  ],\n",
      "  \"t\": [\n",
      "    \"than\",\n",
      "    \"than\",\n",
      "    \"than\"\n",
      "  ],\n",
      "  \"u\": [\n",
      "    \"ugly.\"\n",
      "  ],\n",
      "  \"E\": [\n",
      "    \"Explicit\"\n",
      "  ],\n",
      "  \"S\": [\n",
      "    \"Simple\"\n",
      "  ],\n",
      "  \"c\": [\n",
      "    \"complex.\"\n",
      "  ]\n",
      "}\n"
     ]
    }
   ],
   "source": [
    "print(json.dumps(words_by_first_letter, indent=2))"
   ]
  },
  {
   "cell_type": "markdown",
   "metadata": {},
   "source": [
    "Tened en cuenta que, en este caso, no necesitamos inicializar manualmente la lista."
   ]
  },
  {
   "cell_type": "markdown",
   "metadata": {},
   "source": [
    "## Tipos de datos avanzados: el módulo datetime\n",
    "Ya conocemos los tipos de datos básicos más habituales en Python: __int__ y __float__, que nos permiten representar valores numéricos; `bool`, para representar valores booleanos; y `str`, para representar cadenas de caracteres.  También hemos utilizado tipos compuestos, tales como __list, tuple, dict__ y __set__.  \n",
    "\n",
    "En esta sección, presentaremos otras clases que permiten representar tipos más complejos, como __fechas__ y __tiempos__. El módulo `datetime` de Python ofrece herramientas para trabajar con fechas y horas. Así, este módulo nos provee de herramientas para afrontar las problemáticas más habituales de la gestión de fechas y horas, como son la representación del tiempo en cadenas de caracteres con formatos diferentes, cálculos relativos a calendarios, cálculo de incrementos de tiempo, conversiones entre unidades de tiempo, gestión de husos horarios, etc. Todo esto facilita enormemente el trabajo de tratar con conjuntos de datos que contienen fechas y horas.\n",
    "\n",
    "A modo de ejemplo, intentad pensar cómo implementaríais, con las librerías de Python que hemos presentado hasta ahora, pequeños programas que permitieran calcular:\n",
    "\n",
    "1. A partir de una fecha concreta, el día de la semana (lunes, martes, ..., domingo) que era, es o será ese día.\n",
    "2. Si los valores “2019-11-15” y “Friday, November 15, 2019” corresponden o no a la misma fecha.\n",
    "3. Qué día será dentro de 30 días.\n",
    "4. Si el año 2200 será o no un año bisiesto.\n",
    "\n",
    "Todo este tipo de problemas son fácilmente implementables con las funciones que proporciona el módulo datetime. Las clases principales de este módulo son date, que permite trabajar con fechas; time, con tiempos; datetime, con fechas completas que incluyen también el tiempo; y timedelta, que procesa incrementos de tiempo.\n",
    "\n",
    "### Creación de objetos que representan fechas y horas\n",
    "\n",
    "Podemos crear objetos que representan fechas, horas o fechas con horas especificando las diferentes componentes de cada estructura manualmente. El ejemplo siguiente muestra cómo crear una fecha, una hora y una fecha con hora utilizando esta estrategia:"
   ]
  },
  {
   "cell_type": "code",
   "execution_count": 69,
   "metadata": {},
   "outputs": [
    {
     "name": "stdout",
     "output_type": "stream",
     "text": [
      "2017-10-01\n"
     ]
    }
   ],
   "source": [
    "import datetime\n",
    "\n",
    "# Creamos un objeto date que representa una fecha concreta\n",
    "a_date = datetime.date(year=2017, month=10, day=1)\n",
    "\n",
    "# De manera más concisa, podríamos hacer:\n",
    "# a_date = datetime.date(2017, 1, 11)\n",
    "print(a_date)"
   ]
  },
  {
   "cell_type": "code",
   "execution_count": 70,
   "metadata": {},
   "outputs": [
    {
     "name": "stdout",
     "output_type": "stream",
     "text": [
      "17:14:42\n"
     ]
    }
   ],
   "source": [
    "# Creamos un objeto time que representa una hora\n",
    "a_time = datetime.time(hour=17, minute=14, second=42)\n",
    "\n",
    "# De manera más concisa, podríamos hacer:\n",
    "# a_time = datetime.time(17, 14, 42)\n",
    "print(a_time)"
   ]
  },
  {
   "cell_type": "code",
   "execution_count": 71,
   "metadata": {},
   "outputs": [
    {
     "name": "stdout",
     "output_type": "stream",
     "text": [
      "2017-10-01 17:14:42\n"
     ]
    }
   ],
   "source": [
    "# Creamos un objeto datetime, que representa una fecha con tiempo\n",
    "a_datetime = datetime.datetime(year=2017, month=10, day=1,\n",
    "                               hour=17, minute=14, second=42)\n",
    "\n",
    "# De manera más concisa, podríamos hacer:\n",
    "# a_datetime = datetime.datetime(2017, 1, 11, 17, 14, 42)\n",
    "print(a_datetime)"
   ]
  },
  {
   "cell_type": "markdown",
   "metadata": {},
   "source": [
    "Ahora bien, es muy habitual encontrar conjuntos de datos en los que las fechas y horas no se encuentran desglosadas en año, mes, día, hora, minuto y segundo, sino que estas se representan como cadenas de caracteres, que pueden seguir convenciones diferentes a la hora de expresar las fechas y las horas. Así, tendremos que poder crear los objetos a partir de cadenas de caracteres y necesitaremos algún lenguaje para poder definir el formato de estas cadenas.  \n",
    "\n",
    "Las clases `datetime`, `date` y `time` disponen del método `strptime`, que permite crear un objeto `datetime`, `date` y `time` a partir de una cadena de caracteres con la fecha y/o hora y de otra cadena de caracteres que informa del formato. A continuación se expone cómo crear un objeto `datetime` a partir de una cadena de caracteres. Toda esta funcionalidad puede ser utilizada también de manera análoga para crear objetos `date` y `time`.  \n",
    "\n",
    "Así pues, podemos crear un objeto `datetime` a partir de la cadena de caracteres “2017-10-01 17:14:42” de la manera siguiente:"
   ]
  },
  {
   "cell_type": "code",
   "execution_count": 72,
   "metadata": {},
   "outputs": [
    {
     "name": "stdout",
     "output_type": "stream",
     "text": [
      "2017-10-01 17:14:42\n"
     ]
    }
   ],
   "source": [
    "str_date = \"2017-10-01 17:14:42\"\n",
    "\n",
    "a_datetime_from_str = datetime.datetime.strptime(str_date, \"%Y-%m-%d %H:%M:%S\")\n",
    "\n",
    "print(a_datetime_from_str)"
   ]
  },
  {
   "cell_type": "code",
   "execution_count": 73,
   "metadata": {},
   "outputs": [
    {
     "data": {
      "text/plain": [
       "True"
      ]
     },
     "execution_count": 73,
     "metadata": {},
     "output_type": "execute_result"
    }
   ],
   "source": [
    "a_datetime == a_datetime_from_str"
   ]
  },
  {
   "cell_type": "markdown",
   "metadata": {},
   "source": [
    "El primer parámetro de la llamada, “2017-10-01 17:14:42”, informa de la fecha que hay que representar, mientras que el segundo parámetro, ”“%Y-%m-%d %H:%M:%S”, informa del formato que utiliza la primera cadena. Para representar el formato, se utilizan unos comodines, indicados con el símbolo %, y otros caracteres no especiales (como el guion, - o los dos puntos,:). Así, en este caso, informamos que la cadena que representa la fecha y el tiempo está formada por:  \n",
    "* el año representado usando cuatro dígitos (%Y),  \n",
    "* un guion que separa el año del mes (-),  \n",
    "* el mes representado utilizando dos dígitos (%m),  \n",
    "* un guion que separa el mes del día (-),  \n",
    "* el día representado usando dos dígitos (%d),  \n",
    "* un espacio separando la fecha de la hora (‘),  \n",
    "* la hora representada en formato 24 horas y utilizando dos dígitos (%H),  \n",
    "* los dos puntos separando la hora de los minutos (:),  \n",
    "* los minutos representados con dos dígitos (%M),  \n",
    "* los dos puntos separando los minutos de los segundos (:), y, finalmente,  \n",
    "* los segundos representados con dos dígitos (%S‘).  \n",
    "\n",
    "Es importante notar que la especificación del formato nos permite evitar cualquier tipo de ambigüedad a la hora de interpretar la fecha. Así, por ejemplo, podemos saber que se quiere representar el día 1 de octubre y no el día 10 de enero. Podríamos cambiar esta interpretación, modificando la cadena que expresa el formato, de manera que el mes y el día intercambiaran el orden:"
   ]
  },
  {
   "cell_type": "code",
   "execution_count": 74,
   "metadata": {},
   "outputs": [
    {
     "name": "stdout",
     "output_type": "stream",
     "text": [
      "2017-01-10 17:14:42\n"
     ]
    }
   ],
   "source": [
    "a_date_from_str = datetime.datetime.strptime(str_date, \"%Y-%d-%m %H:%M:%S\")\n",
    "\n",
    "print(a_date_from_str)"
   ]
  },
  {
   "cell_type": "markdown",
   "metadata": {},
   "source": [
    "Tened en cuenta que, en el ejemplo anterior, la cadena que representa la fecha es exactamente la misma, pero cambiando la especificación del formato, hemos hecho que se interprete de manera diferente, indicando ahora el 10 de enero.\n",
    "\n",
    "La cadena de caracteres que hemos utilizado siempre utiliza el formato completo para expresar cualquier unidad de tiempo, anteponiendo ceros si es necesario. Así, para representar el primer día del mes, utiliza dos dígitos, 01. Existen comodines para representar también las diferentes unidades sin anteponer el cero, así como para representar años utilizando solo dos dígitos, meses utilizando el nombre del mes en lugar del número, horas en formato AM/PM, y ¡muchas otras variantes! Podéis encontrar la especificación completa del formato en la documentación oficial del módulo datetime.  \n",
    "A continuación, se exponen algunos ejemplos adicionales:"
   ]
  },
  {
   "cell_type": "code",
   "execution_count": 75,
   "metadata": {},
   "outputs": [
    {
     "name": "stdout",
     "output_type": "stream",
     "text": [
      "2017-10-01 17:14:42\n"
     ]
    }
   ],
   "source": [
    "# Cambiando el formato de los separadores\n",
    "a_date_from_str = datetime.datetime.strptime(\n",
    "    \"2017/10/01 17*14*42\", \"%Y/%m/%d %H*%M*%S\")\n",
    "\n",
    "print(a_date_from_str)"
   ]
  },
  {
   "cell_type": "code",
   "execution_count": 76,
   "metadata": {},
   "outputs": [
    {
     "name": "stdout",
     "output_type": "stream",
     "text": [
      "2017-10-01 17:14:42\n"
     ]
    }
   ],
   "source": [
    "# Expresando el año con dos dígitos\n",
    "a_date_from_str = datetime.datetime.strptime(\n",
    "    \"17-10-01 17:14:42\", \"%y-%m-%d %H:%M:%S\")\n",
    "\n",
    "print(a_date_from_str)"
   ]
  },
  {
   "cell_type": "code",
   "execution_count": 77,
   "metadata": {},
   "outputs": [
    {
     "name": "stdout",
     "output_type": "stream",
     "text": [
      "1995-10-01 17:14:42\n"
     ]
    }
   ],
   "source": [
    "a_date_from_str = datetime.datetime.strptime(\n",
    "    \"95-10-01 17:14:42\", \"%y-%m-%d %H:%M:%S\")\n",
    "\n",
    "print(a_date_from_str)"
   ]
  },
  {
   "cell_type": "markdown",
   "metadata": {},
   "source": [
    "Notad cómo, en el caso anterior, Python interpreta el siglo en función de los últimos dos dígitos del año."
   ]
  },
  {
   "cell_type": "code",
   "execution_count": 78,
   "metadata": {},
   "outputs": [
    {
     "name": "stdout",
     "output_type": "stream",
     "text": [
      "2017-10-01 17:14:42\n"
     ]
    }
   ],
   "source": [
    "# Incluyendo el día de la semana y expresando el mes con el nombre\n",
    "a_date_from_str = datetime.datetime.strptime(\n",
    "    'Sunday, 01 October 2017 17:14:42', \"%A, %d %B %Y %H:%M:%S\")\n",
    "\n",
    "print(a_date_from_str)"
   ]
  },
  {
   "cell_type": "code",
   "execution_count": 79,
   "metadata": {},
   "outputs": [
    {
     "name": "stdout",
     "output_type": "stream",
     "text": [
      "2017-10-01 17:14:42\n"
     ]
    }
   ],
   "source": [
    "# Con el día de la semana y el mes abreviados\n",
    "a_date_from_str = datetime.datetime.strptime(\n",
    "    'Sun, 01 Oct 2017 17:14:42', \"%a, %d %b %Y %H:%M:%S\")\n",
    "\n",
    "print(a_date_from_str)"
   ]
  },
  {
   "cell_type": "markdown",
   "metadata": {},
   "source": [
    "En informática, también se puede utilizar el unix time stamp como manera de medir el tiempo. El unix time stamp representa el tiempo como un entero, que cuenta los segundos transcurridos desde el 1 de enero de 1970. Podemos crear objetos que representan una fecha a partir de un unix time stamp con el método `fromtimestamp`:"
   ]
  },
  {
   "cell_type": "code",
   "execution_count": 80,
   "metadata": {},
   "outputs": [
    {
     "name": "stdout",
     "output_type": "stream",
     "text": [
      "2019-11-15\n"
     ]
    }
   ],
   "source": [
    "a_date_from_ts = datetime.date.fromtimestamp(1573840426)\n",
    "\n",
    "print(a_date_from_ts)"
   ]
  },
  {
   "cell_type": "markdown",
   "metadata": {},
   "source": [
    "A menudo también nos interesará utilizar la fecha o tiempo actual en nuestras aplicaciones. Podemos crear objetos que representen el momento actual por medio de las funciones `today` y `now`:"
   ]
  },
  {
   "cell_type": "code",
   "execution_count": 81,
   "metadata": {},
   "outputs": [
    {
     "name": "stdout",
     "output_type": "stream",
     "text": [
      "2021-07-05\n"
     ]
    }
   ],
   "source": [
    "# Creamos un objeto con la fecha actual\n",
    "now_date = datetime.date.today()\n",
    "\n",
    "print(now_date)"
   ]
  },
  {
   "cell_type": "code",
   "execution_count": 82,
   "metadata": {},
   "outputs": [
    {
     "name": "stdout",
     "output_type": "stream",
     "text": [
      "2021-07-05 20:15:23.946401\n"
     ]
    }
   ],
   "source": [
    "# Creamos un objeto con la fecha y hora actual\n",
    "\n",
    "now_datetime = datetime.datetime.now()\n",
    "print(now_datetime)"
   ]
  },
  {
   "cell_type": "markdown",
   "metadata": {},
   "source": [
    "### Mostrando la fecha y el tiempo en diferentes formatos\n",
    "Hasta ahora hemos visto cómo el método `strptime` permite crear objetos `datetime`, `date` y `time` a partir de una cadena de caracteres. De manera análoga, el método strftime permite obtener una cadena de caracteres que representa una fecha, hora o fecha con hora en un formato concreto, que se especifica utilizando la misma sintaxis que strptime."
   ]
  },
  {
   "cell_type": "code",
   "execution_count": 83,
   "metadata": {},
   "outputs": [],
   "source": [
    "# Creamos un objeto con la fecha y hora actual\n",
    "now_datetime = datetime.datetime.now()"
   ]
  },
  {
   "cell_type": "code",
   "execution_count": 84,
   "metadata": {},
   "outputs": [
    {
     "name": "stdout",
     "output_type": "stream",
     "text": [
      "2021-07-05 20:15:24\n"
     ]
    }
   ],
   "source": [
    "# Mostramos la fecha y hora utilizando 4 dígitos para los años, y 2\n",
    "# para el mes, día, hora, minuto y segundos\n",
    "print(now_datetime.strftime(\"%Y-%m-%d %H:%M:%S\"))"
   ]
  },
  {
   "cell_type": "code",
   "execution_count": 85,
   "metadata": {},
   "outputs": [
    {
     "name": "stdout",
     "output_type": "stream",
     "text": [
      "2021-05-07 20:15:24\n"
     ]
    }
   ],
   "source": [
    "# Invertimos el orden del día y el mes\n",
    "print(now_datetime.strftime(\"%Y-%d-%m %H:%M:%S\"))"
   ]
  },
  {
   "cell_type": "code",
   "execution_count": 86,
   "metadata": {},
   "outputs": [
    {
     "name": "stdout",
     "output_type": "stream",
     "text": [
      "2021/07/05 20*15*24\n"
     ]
    }
   ],
   "source": [
    "# Cambiamos el formato de los separadores\n",
    "print(now_datetime.strftime(\"%Y/%m/%d %H*%M*%S\"))"
   ]
  },
  {
   "cell_type": "code",
   "execution_count": 87,
   "metadata": {},
   "outputs": [
    {
     "name": "stdout",
     "output_type": "stream",
     "text": [
      "21-07-05 20:15:24\n"
     ]
    }
   ],
   "source": [
    "# Expresando el año con dos dígitos\n",
    "\n",
    "print(now_datetime.strftime(\"%y-%m-%d %H:%M:%S\"))"
   ]
  },
  {
   "cell_type": "code",
   "execution_count": 88,
   "metadata": {},
   "outputs": [
    {
     "name": "stdout",
     "output_type": "stream",
     "text": [
      "Monday, 05 July 2021 20:15:24\n"
     ]
    }
   ],
   "source": [
    "# Incluyendo el día de la semana y expresando el mes con el nombre\n",
    "print(now_datetime.strftime(\"%A, %d %B %Y %H:%M:%S\"))"
   ]
  },
  {
   "cell_type": "code",
   "execution_count": 89,
   "metadata": {},
   "outputs": [
    {
     "name": "stdout",
     "output_type": "stream",
     "text": [
      "Mon, 05 Jul 2021 20:15:24\n"
     ]
    }
   ],
   "source": [
    "# Con el día de la semana y el mes abreviados\n",
    "print(now_datetime.strftime(\"%a, %d %b %Y %H:%M:%S\"))"
   ]
  },
  {
   "cell_type": "markdown",
   "metadata": {},
   "source": [
    "Además de utilizar `strftime` para obtener cadenas de caracteres que representen fechas, también nos puede ser de utilidad la función `isoformat`, que ya devuelve la cadena en formato ISO 8601 (año - mes - día, utilizando 4 dígitos para el año y 2 para el día y mes), sin necesidad de especificarlo manualmente:"
   ]
  },
  {
   "cell_type": "code",
   "execution_count": 90,
   "metadata": {},
   "outputs": [
    {
     "data": {
      "text/plain": [
       "'2021-07-05T20:15:24.196296'"
      ]
     },
     "execution_count": 90,
     "metadata": {},
     "output_type": "execute_result"
    }
   ],
   "source": [
    "# Mostramos la fecha y hora en formato ISO 8601\n",
    "now_datetime.isoformat()"
   ]
  },
  {
   "cell_type": "markdown",
   "metadata": {},
   "source": [
    "### Trabajando con fechas y tiempos\n",
    "\n",
    "Ya hemos visto una de las funcionalidades de los objetos que representan fechas y tiempo, que es la de interpretar y generar cadenas de caracteres que representan fechas en diferentes formatos. A continuación, veremos otras operaciones habituales sobre estos objetos.\n",
    "\n",
    "Podemos acceder a las diferentes componentes que conforman una fecha con hora consultando los atributos de los objetos `datetime`, `date` y `time`. Nótese que, en este caso, el tipo de datos de los valores a los que accedemos es un entero, en vez de una cadena de caracteres como obteníamos con `strftime`:"
   ]
  },
  {
   "cell_type": "code",
   "execution_count": 91,
   "metadata": {},
   "outputs": [
    {
     "name": "stdout",
     "output_type": "stream",
     "text": [
      "Year is 2021 and is an <class 'int'>\n",
      "Month is 7 and is an <class 'int'>\n",
      "Day is 5 and is an <class 'int'>\n",
      "Hour is 20 and is an <class 'int'>\n",
      "Minute is 15 and is an <class 'int'>\n",
      "Second is 24 and is an <class 'int'>\n"
     ]
    }
   ],
   "source": [
    "# Accedemos a las diferentes componentes de una fecha con hora\n",
    "y = now_datetime.year\n",
    "mo = now_datetime.month\n",
    "d = now_datetime.day\n",
    "h = now_datetime.hour\n",
    "mi = now_datetime.minute\n",
    "s = now_datetime.second\n",
    "\n",
    "print(\"Year is {} and is an {}\".format(y, type(y)))\n",
    "print(\"Month is {} and is an {}\".format(mo, type(mo)))\n",
    "print(\"Day is {} and is an {}\".format(d, type(d)))\n",
    "print(\"Hour is {} and is an {}\".format(h, type(h)))\n",
    "print(\"Minute is {} and is an {}\".format(mi, type(mi)))\n",
    "print(\"Second is {} and is an {}\".format(s, type(s)))"
   ]
  },
  {
   "cell_type": "markdown",
   "metadata": {},
   "source": [
    "Más allá del acceso a las componentes que conforman la fecha, también podemos acceder a otros datos de esta, como a qué __semana del año pertenece__ o a __qué día de la semana corresponde__:"
   ]
  },
  {
   "cell_type": "code",
   "execution_count": 92,
   "metadata": {},
   "outputs": [
    {
     "name": "stdout",
     "output_type": "stream",
     "text": [
      "The week is: 27\n",
      "The day is: 1\n"
     ]
    }
   ],
   "source": [
    "# Obtenemos una tupla de 3 valores: (año ISO, núm. de semana ISO,\n",
    "# día de la semana ISO)\n",
    "iso_cal = now_datetime.isocalendar()\n",
    "\n",
    "print(\"The week is: {}\".format(iso_cal[1]))\n",
    "print(\"The day is: {}\".format(iso_cal[2]))"
   ]
  },
  {
   "cell_type": "code",
   "execution_count": 93,
   "metadata": {},
   "outputs": [
    {
     "name": "stdout",
     "output_type": "stream",
     "text": [
      "The day is: 0\n"
     ]
    }
   ],
   "source": [
    "# También podemos obtener únicamente el día de la semana con weekday()\n",
    "print(\"The day is: {}\".format(now_datetime.weekday()))"
   ]
  },
  {
   "cell_type": "markdown",
   "metadata": {},
   "source": [
    "Las dos alternativas utilizan convenciones diferentes para referirse a los días de la semana: `weekday` considera que el lunes es un 0 y el domingo es un 6, mientras que `isocalendar` representa los lunes con un 1 y los domingos con un 7.\n",
    "\n",
    "Para convertir el valor numérico devuelto por `weekday` a una cadena de caracteres con el nombre del día de la semana, podemos utilizar el módulo `calendar`:"
   ]
  },
  {
   "cell_type": "code",
   "execution_count": 94,
   "metadata": {},
   "outputs": [
    {
     "name": "stdout",
     "output_type": "stream",
     "text": [
      "Day of Week:  Monday\n"
     ]
    }
   ],
   "source": [
    "# Importamos el módulo calendar\n",
    "import calendar\n",
    "\n",
    "# Obtenemos el nombre del día\n",
    "print('Day of Week: ', calendar.day_name[now_datetime.weekday()])"
   ]
  },
  {
   "cell_type": "code",
   "execution_count": 95,
   "metadata": {},
   "outputs": [
    {
     "name": "stdout",
     "output_type": "stream",
     "text": [
      "Short day name: Mon\n"
     ]
    }
   ],
   "source": [
    "# Alternativamente, también hubiéramos podido utilizar strftime para obtener el\n",
    "# mismo dato\n",
    "print(now_datetime.strftime(\"Short day name: %a\"))"
   ]
  },
  {
   "cell_type": "code",
   "execution_count": 96,
   "metadata": {},
   "outputs": [
    {
     "name": "stdout",
     "output_type": "stream",
     "text": [
      "Full day name: Monday\n"
     ]
    }
   ],
   "source": [
    "print(now_datetime.strftime(\"Full day name: %A\"))"
   ]
  },
  {
   "cell_type": "markdown",
   "metadata": {},
   "source": [
    "La gestión del idioma en el que se muestran los nombres de los días de la semana o los meses se configura con el módulo locale. Así, por ejemplo, si queremos obtener el nombre del día de la semana en inglés, haríamos:"
   ]
  },
  {
   "cell_type": "code",
   "execution_count": 97,
   "metadata": {},
   "outputs": [
    {
     "name": "stdout",
     "output_type": "stream",
     "text": [
      "Day of Week: Monday\n"
     ]
    }
   ],
   "source": [
    "# Importamos el módulo locale\n",
    "import locale\n",
    "\n",
    "# Especificamos el idioma inglés\n",
    "locale.setlocale(locale.LC_ALL, 'en_US.UTF-8')\n",
    "\n",
    "# Mostramos el nombre del día\n",
    "print('Day of Week:', calendar.day_name[now_datetime.weekday()])"
   ]
  },
  {
   "cell_type": "markdown",
   "metadata": {},
   "source": [
    "Otra de las características que implementan los objetos de representación de fechas y horas que trabajamos en esta unidad es la posibilidad de compararlos:"
   ]
  },
  {
   "cell_type": "code",
   "execution_count": 98,
   "metadata": {},
   "outputs": [
    {
     "name": "stdout",
     "output_type": "stream",
     "text": [
      "now_1_dt == now_2_dt: False\n",
      "now_1_dt < now_2_dt: True\n",
      "now_1_dt.date() == now_2_dt.date(): True\n"
     ]
    }
   ],
   "source": [
    "# Importamos la función sleep, que permite introducir esperas en la ejecución\n",
    "# de código\n",
    "from time import sleep\n",
    "\n",
    "# Obtenemos la fecha y hora actuales\n",
    "now_1_dt = datetime.datetime.now()\n",
    "\n",
    "# Esperamos 3 segundos\n",
    "sleep(3)\n",
    "\n",
    "# Obtenemos la fecha y hora actuales (después de la espera de 3 segundos)\n",
    "now_2_dt = datetime.datetime.now()\n",
    "\n",
    "# Comparamos las dos fechas\n",
    "print('now_1_dt == now_2_dt: {}'.format(now_1_dt == now_2_dt))\n",
    "print('now_1_dt < now_2_dt: {}'.format(now_1_dt < now_2_dt))\n",
    "print('now_1_dt.date() == now_2_dt.date(): {}'.format(\n",
    "    now_1_dt.date() == now_2_dt.date()))"
   ]
  },
  {
   "cell_type": "markdown",
   "metadata": {},
   "source": [
    "Los dos valores de fecha y hora no son iguales (ya que hay tres segundos de diferencia) pero, en cambio, el día sí es el mismo (a menos que ejecutemos el código justo en el momento en el que cambiamos de día) ."
   ]
  },
  {
   "cell_type": "markdown",
   "metadata": {},
   "source": [
    "### Incrementos de tiempo\n",
    "Otra de las clases que incorpora el módulo `datetime` es `timedelta`. Esta clase nos permite repre- sentar incrementos de tiempo, así como manipular fechas y horas utilizando estos incrementos.\n",
    "\n",
    "Fijémonos, por ejemplo, en las dos fechas que hemos creado anteriormente con diferencia de tres segundos. Hemos visto que las podíamos comparar para saber cuál es anterior o si son iguales. Ahora bien, ¿cómo podríamos saber el tiempo que ha transcurrido entre una y la otra? Podríamos calcularlo manualmente a partir de ir recuperando las diferentes componentes de la fecha con hora, pero la clase `timedelta` ya implementa esta funcionalidad:"
   ]
  },
  {
   "cell_type": "code",
   "execution_count": 99,
   "metadata": {},
   "outputs": [
    {
     "name": "stdout",
     "output_type": "stream",
     "text": [
      "Datetimes differ in: 0:00:03.000773 seconds\n",
      "Delta is: <class 'datetime.timedelta'>\n"
     ]
    }
   ],
   "source": [
    "# Calculamos el tiempo transcurrido y el mostramos\n",
    "delta = now_2_dt - now_1_dt\n",
    "\n",
    "print(\"Datetimes differ in: {} seconds\".format(delta))\n",
    "print(\"Delta is: {}\".format(type(delta)))"
   ]
  },
  {
   "cell_type": "markdown",
   "metadata": {},
   "source": [
    "El resultado de restar dos objetos datetime es un objeto timedelta que representa el tiempo transcurrido. A continuación, veremos algunos ejemplos más de cómo se usan objetos timedelta para representar incrementos de tiempo:"
   ]
  },
  {
   "cell_type": "code",
   "execution_count": 100,
   "metadata": {},
   "outputs": [
    {
     "name": "stdout",
     "output_type": "stream",
     "text": [
      "Timedelta between dt_1 and dt_2: 61 days, 0:00:00\n",
      "Timedelta between dt_1 and dt_3: 14 days, 3:02:00\n",
      "Timedelta between dt_2 and dt_3: -47 days, 3:02:00\n"
     ]
    }
   ],
   "source": [
    "# Creamos tres datetimes\n",
    "dt_1 = datetime.datetime(year=2017, month=10,\n",
    "                         day=1, hour=17, minute=14, second=42)\n",
    "\n",
    "dt_2 = datetime.datetime(year=2017, month=12, day=1,\n",
    "                         hour=17, minute=14, second=42)\n",
    "\n",
    "dt_3 = datetime.datetime(year=2017, month=10, day=15,\n",
    "                         hour=20, minute=16, second=42)\n",
    "\n",
    "# Creamos timedeltas con las diferencias\n",
    "tm_1 = dt_2 - dt_1\n",
    "tm_2 = dt_3 - dt_1\n",
    "tm_3 = dt_3 - dt_2\n",
    "\n",
    "print(\"Timedelta between dt_1 and dt_2: {}\".format(tm_1))\n",
    "print(\"Timedelta between dt_1 and dt_3: {}\".format(tm_2))\n",
    "print(\"Timedelta between dt_2 and dt_3: {}\".format(tm_3))"
   ]
  },
  {
   "cell_type": "markdown",
   "metadata": {},
   "source": [
    "Fijaos cómo al mostrar por pantalla el valor de un `timedelta` obtenemos una cadena de caracteres anotada (se incluye el número de días y la palabra days, seguida de la hora informada con hora:minutos:segundos).\n",
    "Si lo preferimos, también podemos obtener el número de segundos que representa el `timedelta` como valor numérico (en este caso, un `float`):"
   ]
  },
  {
   "cell_type": "code",
   "execution_count": 101,
   "metadata": {},
   "outputs": [
    {
     "name": "stdout",
     "output_type": "stream",
     "text": [
      "Seconds elapsed: 5270400.0\n",
      "Result is: <class 'float'>\n"
     ]
    }
   ],
   "source": [
    "# Mostramos el número de segundos del tm_1\n",
    "ts = tm_1.total_seconds()\n",
    "\n",
    "print(\"Seconds elapsed: {}\".format(ts))\n",
    "print(\"Result is: {}\".format(type(ts)))"
   ]
  },
  {
   "cell_type": "markdown",
   "metadata": {},
   "source": [
    "También podemos construir un objeto `timedelta` para obtener fechas pasadas o futuras a partir de una fecha de referencia:"
   ]
  },
  {
   "cell_type": "code",
   "execution_count": 102,
   "metadata": {},
   "outputs": [
    {
     "name": "stdout",
     "output_type": "stream",
     "text": [
      "The date in three weeks will be: 2021-07-26 20:15:27.081276\n"
     ]
    }
   ],
   "source": [
    "# Creamos un timedelta de 3 semanas\n",
    "d = datetime.timedelta(weeks=3)\n",
    "\n",
    "# Calculamos que día será dentro de tres semanas\n",
    "future_3_weeks = now_1_dt + d\n",
    "\n",
    "print(\"The date in three weeks will be: {}\".format(future_3_weeks))"
   ]
  },
  {
   "cell_type": "code",
   "execution_count": 103,
   "metadata": {},
   "outputs": [
    {
     "name": "stdout",
     "output_type": "stream",
     "text": [
      "The date three weeks ago was: 2021-06-14 20:15:27.081276\n"
     ]
    }
   ],
   "source": [
    "# Calculamos qué día era hace tres semanas\n",
    "past_3_weeks = now_1_dt - d\n",
    "\n",
    "print(\"The date three weeks ago was: {}\".format(past_3_weeks))"
   ]
  },
  {
   "cell_type": "markdown",
   "metadata": {},
   "source": [
    "Se pueden crear objetos `timedelta` especificando semanas, días, horas, minutos, segundos, `milisegundos` o `microsegundos`:"
   ]
  },
  {
   "cell_type": "code",
   "execution_count": 104,
   "metadata": {},
   "outputs": [
    {
     "name": "stdout",
     "output_type": "stream",
     "text": [
      "One day in the future: 2021-07-06 20:15:27.081276\n",
      "One day in the past: 2021-07-04 20:15:27.081276\n",
      "Adding one microsecond: 2021-07-05 20:15:27.081277\n"
     ]
    }
   ],
   "source": [
    "# Creamos varios timedeltas\n",
    "one_day = datetime.timedelta(days=1)\n",
    "eleven_seconds = datetime.timedelta(seconds=11)\n",
    "five_hours = datetime.timedelta(hours=5)\n",
    "eleven_and_so_seconds = datetime.timedelta(seconds=11.56845)\n",
    "one_microsecond = datetime.timedelta(microseconds=1)\n",
    "\n",
    "# Operamos con los timedeltas\n",
    "print(\"One day in the future: {}\".format(now_1_dt + one_day))\n",
    "print(\"One day in the past: {}\".format(now_1_dt - one_day))\n",
    "print(\"Adding one microsecond: {}\".format(now_1_dt + one_microsecond))"
   ]
  },
  {
   "cell_type": "markdown",
   "metadata": {},
   "source": [
    "### El calendario\n",
    "En los ejemplos que hemos visto en el apartado anterior, hemos utilizado el módulo calendar para obtener el nombre del día de la semana correspondiente a una fecha concreta. Las funcionalidades de este módulo, sin embargo, no se limitan al cálculo del día de la semana. El módulo calendar, como su nombre indica, nos provee de funcionalidades relativas al calendario.\n",
    "\n",
    "Un ejemplo de las funcionalidades más evidentes de un calendario es mostrar el propio calendario."
   ]
  },
  {
   "cell_type": "code",
   "execution_count": 105,
   "metadata": {},
   "outputs": [
    {
     "name": "stdout",
     "output_type": "stream",
     "text": [
      "                                  2020\n",
      "\n",
      "      January                   February                   March\n",
      "Mo Tu We Th Fr Sa Su      Mo Tu We Th Fr Sa Su      Mo Tu We Th Fr Sa Su\n",
      "       1  2  3  4  5                      1  2                         1\n",
      " 6  7  8  9 10 11 12       3  4  5  6  7  8  9       2  3  4  5  6  7  8\n",
      "13 14 15 16 17 18 19      10 11 12 13 14 15 16       9 10 11 12 13 14 15\n",
      "20 21 22 23 24 25 26      17 18 19 20 21 22 23      16 17 18 19 20 21 22\n",
      "27 28 29 30 31            24 25 26 27 28 29         23 24 25 26 27 28 29\n",
      "                                                    30 31\n",
      "\n",
      "       April                      May                       June\n",
      "Mo Tu We Th Fr Sa Su      Mo Tu We Th Fr Sa Su      Mo Tu We Th Fr Sa Su\n",
      "       1  2  3  4  5                   1  2  3       1  2  3  4  5  6  7\n",
      " 6  7  8  9 10 11 12       4  5  6  7  8  9 10       8  9 10 11 12 13 14\n",
      "13 14 15 16 17 18 19      11 12 13 14 15 16 17      15 16 17 18 19 20 21\n",
      "20 21 22 23 24 25 26      18 19 20 21 22 23 24      22 23 24 25 26 27 28\n",
      "27 28 29 30               25 26 27 28 29 30 31      29 30\n",
      "\n",
      "        July                     August                  September\n",
      "Mo Tu We Th Fr Sa Su      Mo Tu We Th Fr Sa Su      Mo Tu We Th Fr Sa Su\n",
      "       1  2  3  4  5                      1  2          1  2  3  4  5  6\n",
      " 6  7  8  9 10 11 12       3  4  5  6  7  8  9       7  8  9 10 11 12 13\n",
      "13 14 15 16 17 18 19      10 11 12 13 14 15 16      14 15 16 17 18 19 20\n",
      "20 21 22 23 24 25 26      17 18 19 20 21 22 23      21 22 23 24 25 26 27\n",
      "27 28 29 30 31            24 25 26 27 28 29 30      28 29 30\n",
      "                          31\n",
      "\n",
      "      October                   November                  December\n",
      "Mo Tu We Th Fr Sa Su      Mo Tu We Th Fr Sa Su      Mo Tu We Th Fr Sa Su\n",
      "          1  2  3  4                         1          1  2  3  4  5  6\n",
      " 5  6  7  8  9 10 11       2  3  4  5  6  7  8       7  8  9 10 11 12 13\n",
      "12 13 14 15 16 17 18       9 10 11 12 13 14 15      14 15 16 17 18 19 20\n",
      "19 20 21 22 23 24 25      16 17 18 19 20 21 22      21 22 23 24 25 26 27\n",
      "26 27 28 29 30 31         23 24 25 26 27 28 29      28 29 30 31\n",
      "                          30\n",
      "\n"
     ]
    }
   ],
   "source": [
    "# Mostramos el calendario del año 2020\n",
    "print(calendar.calendar(2020))"
   ]
  },
  {
   "cell_type": "code",
   "execution_count": 106,
   "metadata": {},
   "outputs": [
    {
     "name": "stdout",
     "output_type": "stream",
     "text": [
      "    October 2020\n",
      "Mo Tu We Th Fr Sa Su\n",
      "          1  2  3  4\n",
      " 5  6  7  8  9 10 11\n",
      "12 13 14 15 16 17 18\n",
      "19 20 21 22 23 24 25\n",
      "26 27 28 29 30 31\n",
      "\n"
     ]
    }
   ],
   "source": [
    "# Mostramos el calendario de octubre de 2020\n",
    "print(calendar.month(2020, 10))"
   ]
  },
  {
   "cell_type": "markdown",
   "metadata": {},
   "source": [
    "Entre otras funcionalidades, el módulo `calendar` nos permite saber si un año es o no bisiesto con la función `isleap`, o bien contar el número de días bisiestos que hay entre dos años:"
   ]
  },
  {
   "cell_type": "code",
   "execution_count": 107,
   "metadata": {},
   "outputs": [
    {
     "data": {
      "text/plain": [
       "True"
      ]
     },
     "execution_count": 107,
     "metadata": {},
     "output_type": "execute_result"
    }
   ],
   "source": [
    "# Calculamos si el año 2020 es bisiesto\n",
    "calendar.isleap(2020)"
   ]
  },
  {
   "cell_type": "code",
   "execution_count": 108,
   "metadata": {},
   "outputs": [
    {
     "data": {
      "text/plain": [
       "8"
      ]
     },
     "execution_count": 108,
     "metadata": {},
     "output_type": "execute_result"
    }
   ],
   "source": [
    "# Calculamos el número de días bisiestos entre los años # 2000 y 2050\n",
    "calendar.leapdays(2020, 2050)"
   ]
  },
  {
   "cell_type": "markdown",
   "metadata": {},
   "source": [
    "### Recapitulando  \n",
    "Al inicio de esta sección, nos planteábamos un conjunto de preguntas relacionadas con la gestión de las fechas y las horas que parecían, a priori, poco directas de resolver. Como punto final de la sección, responderemos a estas preguntas utilizando lo aprendido en esta unidad, y constataremos cómo de fácil puede ser contestarlas con las herramientas adecuadas.\n",
    "\n",
    "En primer lugar, nos planteábamos cómo obtener el día de la semana (lunes, martes, ..., domingo) correspondiente a una fecha concreta.\n",
    "\n",
    "A partir de un objeto `date` (o `datetime`) que representa una fecha, hemos presentado dos maneras diferentes de obtener el día de la semana:"
   ]
  },
  {
   "cell_type": "code",
   "execution_count": 109,
   "metadata": {},
   "outputs": [
    {
     "name": "stdout",
     "output_type": "stream",
     "text": [
      "Day of Week: Sunday\n"
     ]
    }
   ],
   "source": [
    "# Creamos un objeto date que representa una fecha concreta\n",
    "a_date = datetime.date(year=2022, month=12, day=25)\n",
    "\n",
    "# Alternativa 1: Obtenemos el día con .weekday() y el nombre del día\n",
    "# con el método day_name del módulo calendar\n",
    "print('Day of Week:', calendar.day_name[a_date.weekday()])"
   ]
  },
  {
   "cell_type": "code",
   "execution_count": 110,
   "metadata": {},
   "outputs": [
    {
     "name": "stdout",
     "output_type": "stream",
     "text": [
      "Day of Week: Sunday\n"
     ]
    }
   ],
   "source": [
    "# Alternativa 2: Usamos strftime para obtener el nombre del día de la semana\n",
    "print(a_date.strftime(\"Day of Week: %A\"))"
   ]
  },
  {
   "cell_type": "markdown",
   "metadata": {},
   "source": [
    "En segundo lugar, queríamos descubrir si las cadenas de caracteres “2019-11-15” y “Friday, Novem- ber 15, 2019” correspondían o no a la misma fecha.\n",
    "\n",
    "Podemos crear dos objetos `date` que representen las fechas expresadas para cada una de las cadenas de caracteres y, después, compararlos para comprobar su igualdad:"
   ]
  },
  {
   "cell_type": "code",
   "execution_count": 111,
   "metadata": {},
   "outputs": [
    {
     "data": {
      "text/plain": [
       "True"
      ]
     },
     "execution_count": 111,
     "metadata": {},
     "output_type": "execute_result"
    }
   ],
   "source": [
    "# Creamos dos objetos date a partir de las cadenas de caracteres, especificando\n",
    "# como idioma el inglés para interpretar correctamente la segunda cadena\n",
    "date_1 = datetime.datetime.strptime(\n",
    "    \"2019-11-15\", \"%Y-%m-%d\")\n",
    "\n",
    "locale.setlocale(locale.LC_ALL, 'en_GB.UTF-8')\n",
    "\n",
    "date_2 = datetime.datetime.strptime(\n",
    "    \"Friday, November 15, 2019\", \"%A, %B %d, %Y\")\n",
    "\n",
    "# Comparamos la igualdad de las fechas creadas\n",
    "date_1 == date_2"
   ]
  },
  {
   "cell_type": "markdown",
   "metadata": {},
   "source": [
    "En tercer lugar, queríamos saber qué día será dentro de 30 días.\n",
    "\n",
    "Podemos combinar la funcionalidad de obtención de la fecha actual con un `timedelta` que represente 30 días para saber qué día será dentro de 30 días:"
   ]
  },
  {
   "cell_type": "code",
   "execution_count": 112,
   "metadata": {},
   "outputs": [
    {
     "name": "stdout",
     "output_type": "stream",
     "text": [
      "2021-08-04\n"
     ]
    }
   ],
   "source": [
    "# Creamos un objeto con la fecha actual\n",
    "now_date = datetime.date.today()\n",
    "\n",
    "# Creamos un datetime de 30 días\n",
    "dt_30days = datetime.timedelta(days=30)\n",
    "\n",
    "# Sumamos los 30 días a la fecha actual\n",
    "print(now_date + dt_30days)"
   ]
  },
  {
   "cell_type": "markdown",
   "metadata": {},
   "source": [
    "Finalmente, nos preguntábamos si el año 2200 será o no un año bisiesto.\n",
    "\n",
    "El módulo `calendar` nos permite comprobar si un año es bisiesto con el método `isleap`:"
   ]
  },
  {
   "cell_type": "code",
   "execution_count": 113,
   "metadata": {},
   "outputs": [
    {
     "data": {
      "text/plain": [
       "False"
      ]
     },
     "execution_count": 113,
     "metadata": {},
     "output_type": "execute_result"
    }
   ],
   "source": [
    "# Comprobamos si el año 2200 es un año bisiesto\n",
    "calendar.isleap(2200)"
   ]
  },
  {
   "cell_type": "markdown",
   "metadata": {},
   "source": [
    "## Cadenas de caracteres\n",
    "Ya conocemos algunas de las funciones de manipulación de cadenas de caracteres básicas, que nos permiten concatenar cadenas entre ellas, formar cadenas a partir de otras cadenas y de variables numéricas, particionar cadenas (usando slicing) y crear cadenas de caracteres a partir de listas. Iniciaremos esta sección haciendo un repaso de estas funciones básicas:"
   ]
  },
  {
   "cell_type": "code",
   "execution_count": 114,
   "metadata": {},
   "outputs": [],
   "source": [
    "# Creamos 4 cadenas de caracteres\n",
    "str_1 = \"Today is:\"\n",
    "str_2 = \"Friday\"\n",
    "str_3 = \"Coding day\"\n",
    "pep_20 = \"Beautiful is better than ugly.\\nExplicit is better than implicit.\""
   ]
  },
  {
   "cell_type": "code",
   "execution_count": 115,
   "metadata": {},
   "outputs": [
    {
     "name": "stdout",
     "output_type": "stream",
     "text": [
      "Today is: Friday\n"
     ]
    }
   ],
   "source": [
    "# Creamos nuevas cadenas concatenando las cadenas anteriores\n",
    "# con espacios que las separan\n",
    "str_4 = str_1 + \" \" + str_2\n",
    "\n",
    "print(str_4)"
   ]
  },
  {
   "cell_type": "code",
   "execution_count": 116,
   "metadata": {},
   "outputs": [
    {
     "name": "stdout",
     "output_type": "stream",
     "text": [
      "Today is: Coding day\n"
     ]
    }
   ],
   "source": [
    "str_5 = str_1 + \" \" + str_3\n",
    "\n",
    "print(str_5)"
   ]
  },
  {
   "cell_type": "code",
   "execution_count": 117,
   "metadata": {},
   "outputs": [
    {
     "name": "stdout",
     "output_type": "stream",
     "text": [
      "Today is: my 6th day of programming\n"
     ]
    }
   ],
   "source": [
    "# Creamos cadenas a partir de valores de variables numéricas\n",
    "str_6 = str_1 + \" my {}th day of programming\".format(6)\n",
    "\n",
    "print(str_6)"
   ]
  },
  {
   "cell_type": "code",
   "execution_count": 118,
   "metadata": {},
   "outputs": [
    {
     "data": {
      "text/plain": [
       "'Today is: my 6th day of programming'"
      ]
     },
     "execution_count": 118,
     "metadata": {},
     "output_type": "execute_result"
    }
   ],
   "source": [
    "# También podemos utilizar la funcionalidad de las cadenas-f\n",
    "# para formatear texto de manera compacta\n",
    "days = 6\n",
    "f'{str_1} my {days}th day of programming'"
   ]
  },
  {
   "cell_type": "code",
   "execution_count": 119,
   "metadata": {},
   "outputs": [
    {
     "name": "stdout",
     "output_type": "stream",
     "text": [
      "Beautiful\n"
     ]
    }
   ],
   "source": [
    "# Mostramos los 9 primeros caracteres de la cadena pep_20\n",
    "print(pep_20[:9])"
   ]
  },
  {
   "cell_type": "code",
   "execution_count": 120,
   "metadata": {},
   "outputs": [
    {
     "name": "stdout",
     "output_type": "stream",
     "text": [
      "ugly\n",
      ".\n"
     ]
    }
   ],
   "source": [
    "# Mostramos los caracteres del 25 al 29 (este último no incluido)\n",
    "print(pep_20[25:29])\n",
    "\n",
    "# Mostramos el último carácter\n",
    "print(pep_20[-1:])"
   ]
  },
  {
   "cell_type": "code",
   "execution_count": 121,
   "metadata": {},
   "outputs": [
    {
     "data": {
      "text/plain": [
       "'ABCD'"
      ]
     },
     "execution_count": 121,
     "metadata": {},
     "output_type": "execute_result"
    }
   ],
   "source": [
    "# Creamos una cadena a partir de una lista de cadenas\n",
    "a_list_of_str = [\"A\", \"B\", \"C\", \"D\"]\n",
    "\n",
    "\"\".join(a_list_of_str)"
   ]
  },
  {
   "cell_type": "code",
   "execution_count": 122,
   "metadata": {},
   "outputs": [
    {
     "data": {
      "text/plain": [
       "'0 1 2 3 4 5 6 7 8 9'"
      ]
     },
     "execution_count": 122,
     "metadata": {},
     "output_type": "execute_result"
    }
   ],
   "source": [
    "# Creamos una cadena de caracteres con los números del 0 al 9\n",
    "# separados por espacios\n",
    "\n",
    "\" \".join([str(x) for x in list(range(10))])"
   ]
  },
  {
   "cell_type": "code",
   "execution_count": 123,
   "metadata": {},
   "outputs": [
    {
     "data": {
      "text/plain": [
       "'0, 1, 2, 3, 4, 5, 6, 7, 8, 9'"
      ]
     },
     "execution_count": 123,
     "metadata": {},
     "output_type": "execute_result"
    }
   ],
   "source": [
    "# Creamos una cadena de caracteres con los números del 0 al 9\n",
    "# separados por comas y espacios\n",
    "\n",
    "\", \".join([str(x) for x in list(range(10))])"
   ]
  },
  {
   "cell_type": "markdown",
   "metadata": {},
   "source": [
    "### Manipulación de cadenas de caracteres\n",
    "A la hora de procesar una cadena de caracteres, a menudo será necesario particionarla para manipular los fragmentos de manera individual. La función `split` permite particionar una cadena de caracteres y se obtiene como resultado una lista de subcadenas de la cadena original.\n",
    "\n",
    "Llamada sin argumentos, la función `split` utiliza caracteres en blanco (espacios, tabuladores, saltos de línea, etc.) como separadores y devuelve una lista de las subcadenas separadas, omitiendo estos separadores:"
   ]
  },
  {
   "cell_type": "code",
   "execution_count": 124,
   "metadata": {},
   "outputs": [
    {
     "name": "stdout",
     "output_type": "stream",
     "text": [
      "Beautiful is better than ugly.\n",
      "Explicit is better than implicit.\n"
     ]
    }
   ],
   "source": [
    "# Separamos la cadena pep_20\n",
    "print(pep_20)"
   ]
  },
  {
   "cell_type": "code",
   "execution_count": 125,
   "metadata": {},
   "outputs": [
    {
     "data": {
      "text/plain": [
       "['Beautiful',\n",
       " 'is',\n",
       " 'better',\n",
       " 'than',\n",
       " 'ugly.',\n",
       " 'Explicit',\n",
       " 'is',\n",
       " 'better',\n",
       " 'than',\n",
       " 'implicit.']"
      ]
     },
     "execution_count": 125,
     "metadata": {},
     "output_type": "execute_result"
    }
   ],
   "source": [
    "pep_20.split()"
   ]
  },
  {
   "cell_type": "markdown",
   "metadata": {},
   "source": [
    "Tened en cuenta que las palabras ‘ugly.’ y ‘Explicit’ quedan separadas como dos subcadenas diferentes, ya que el salto de línea entre una y la otra se interpreta como separador. En cambio, si queremos que se separen las palabras considerando únicamente los espacios en blanco, podemos indicarlo añadiendo el argumento `sep` a la llamada:"
   ]
  },
  {
   "cell_type": "code",
   "execution_count": 126,
   "metadata": {},
   "outputs": [
    {
     "data": {
      "text/plain": [
       "['Beautiful',\n",
       " 'is',\n",
       " 'better',\n",
       " 'than',\n",
       " 'ugly.\\nExplicit',\n",
       " 'is',\n",
       " 'better',\n",
       " 'than',\n",
       " 'implicit.']"
      ]
     },
     "execution_count": 126,
     "metadata": {},
     "output_type": "execute_result"
    }
   ],
   "source": [
    "# Separamos la cadena pep_20 considerando solo los espacios\n",
    "# como separadores\n",
    "pep_20.split(sep=\" \")"
   ]
  },
  {
   "cell_type": "markdown",
   "metadata": {},
   "source": [
    "Podemos utilizar cualquier carácter (o cadena) como separador:"
   ]
  },
  {
   "cell_type": "code",
   "execution_count": 127,
   "metadata": {},
   "outputs": [
    {
     "data": {
      "text/plain": [
       "['Be', 'utiful is better th', 'n ugly.\\nExplicit is better th', 'n implicit.']"
      ]
     },
     "execution_count": 127,
     "metadata": {},
     "output_type": "execute_result"
    }
   ],
   "source": [
    "# Separamos la cadena por las letras \"a\"\n",
    "pep_20.split(\"a\")"
   ]
  },
  {
   "cell_type": "code",
   "execution_count": 128,
   "metadata": {},
   "outputs": [
    {
     "data": {
      "text/plain": [
       "['Beautiful is ', ' than ugly.\\nExplicit is ', ' than implicit.']"
      ]
     },
     "execution_count": 128,
     "metadata": {},
     "output_type": "execute_result"
    }
   ],
   "source": [
    "# Separamos la cadena utilizando la cadena \"better\" como separador\n",
    "pep_20.split(\"better\")"
   ]
  },
  {
   "cell_type": "markdown",
   "metadata": {},
   "source": [
    "Otra de las operaciones de procesamiento de cadenas de uso común es hacer un recuento del número de apariciones de una subcadena dentro de una cadena:"
   ]
  },
  {
   "cell_type": "code",
   "execution_count": 129,
   "metadata": {},
   "outputs": [
    {
     "name": "stdout",
     "output_type": "stream",
     "text": [
      "PEP20 string has 3 'a'\n"
     ]
    }
   ],
   "source": [
    "# Contamos cuántas veces aparece la letra \"a\" en la cadena pep_20\n",
    "pep_20_a_num = pep_20.count(\"a\")\n",
    "\n",
    "print(\"PEP20 string has {} 'a'\".format(pep_20_a_num))"
   ]
  },
  {
   "cell_type": "code",
   "execution_count": 136,
   "metadata": {},
   "outputs": [
    {
     "name": "stdout",
     "output_type": "stream",
     "text": [
      "PEP20 string has 2 'better'\n"
     ]
    }
   ],
   "source": [
    "# Contamos cuántas veces aparece la subcadena \"better\" en la cadena pep_20\n",
    "pep_20_bet_num = pep_20.count(\"better\")\n",
    "\n",
    "print(\"PEP20 string has {} 'better'\".format(pep_20_bet_num))"
   ]
  },
  {
   "cell_type": "code",
   "execution_count": 138,
   "metadata": {},
   "outputs": [
    {
     "name": "stdout",
     "output_type": "stream",
     "text": [
      "PEP20 string has 8 whitespaces\n"
     ]
    }
   ],
   "source": [
    "# Contamos cuántos espacios en blanco tiene la cadena pep_20\n",
    "pep_20_ws_num = pep_20.count(\" \")\n",
    "\n",
    "print(\"PEP20 string has {} whitespaces\".format(pep_20_ws_num))"
   ]
  },
  {
   "cell_type": "markdown",
   "metadata": {},
   "source": [
    "Hemos visto cómo contar el número de apariciones de una subcadena. Pero ¿cómo lo haríamos si quisiéramos saber dónde están estas apariciones? La función `find` nos devuelve el índice donde se inicia una subcadena, o devuelve-1 si tal subcadena no existe:"
   ]
  },
  {
   "cell_type": "code",
   "execution_count": 140,
   "metadata": {},
   "outputs": [
    {
     "name": "stdout",
     "output_type": "stream",
     "text": [
      "'beter' starts at position -1\n"
     ]
    }
   ],
   "source": [
    "# Buscamos el índice de la primera aparición de 'beter'\n",
    "str_to_search = \"beter\"\n",
    "ind_better = pep_20.find(str_to_search)\n",
    "\n",
    "print(\"'beter' starts at position {}\".format(ind_better))"
   ]
  },
  {
   "cell_type": "code",
   "execution_count": 141,
   "metadata": {},
   "outputs": [
    {
     "name": "stdout",
     "output_type": "stream",
     "text": [
      "'better' starts at position 13\n"
     ]
    }
   ],
   "source": [
    "# Buscamos el índice de la primera aparición de 'better'\n",
    "str_to_search = \"better\"\n",
    "ind_better = pep_20.find(str_to_search)\n",
    "print(\"'better' starts at position {}\".format(ind_better))"
   ]
  },
  {
   "cell_type": "markdown",
   "metadata": {},
   "source": [
    "La cadena __better__ aparece dos veces dentro de la cadena almacenada en la variable __pep_20__. La función `find` devuelve el índice de la primera aparición. Si queremos encontrar los índices del resto de las apariciones, se deberá indicar un segundo parámetro a la llamada de `find`, especificando la posición de inicio de la búsqueda:"
   ]
  },
  {
   "cell_type": "code",
   "execution_count": 143,
   "metadata": {},
   "outputs": [
    {
     "name": "stdout",
     "output_type": "stream",
     "text": [
      "Next 'better' starts at position 43\n"
     ]
    }
   ],
   "source": [
    "# Buscamos el índice de la segunda aparición de 'better'\n",
    "ind2_better = pep_20.find(str_to_search, ind_better+1)\n",
    "print(\"Next 'better' starts at position {}\".format(ind2_better))"
   ]
  },
  {
   "cell_type": "code",
   "execution_count": 145,
   "metadata": {},
   "outputs": [
    {
     "name": "stdout",
     "output_type": "stream",
     "text": [
      "Next 'better' starts at position -1\n"
     ]
    }
   ],
   "source": [
    "# Buscamos el índice de la tercera aparición de 'better'\n",
    "ind3_better = pep_20.find(str_to_search, ind2_better+1)\n",
    "print(\"Next 'better' starts at position {}\".format(ind3_better))"
   ]
  },
  {
   "cell_type": "markdown",
   "metadata": {},
   "source": [
    "Como __better__ solo aparece dos veces, la tercera vez que hacemos la búsqueda la llamada a find devuelve -1, lo que indica que ya no hay más apariciones.  \n",
    "\n",
    "En algunas aplicaciones, no estaremos interesados en contar el número de apariciones de una subcadena ni en saber dónde está esta subcadena, sino simplemente en sustituirla por alguna otra cadena. En estos casos, podemos utilizar replace, que reemplaza todas las apariciones de una subcadena por otra cadena:"
   ]
  },
  {
   "cell_type": "code",
   "execution_count": 146,
   "metadata": {},
   "outputs": [
    {
     "name": "stdout",
     "output_type": "stream",
     "text": [
      "Beautiful_is_better_than_ugly.\n",
      "Explicit_is_better_than_implicit. \n",
      "\n"
     ]
    }
   ],
   "source": [
    "# Reemplazamos los espacios en blanco por guiones\n",
    "print(pep_20.replace(\" \", \"_\"), \"\\n\")"
   ]
  },
  {
   "cell_type": "code",
   "execution_count": 147,
   "metadata": {},
   "outputs": [
    {
     "name": "stdout",
     "output_type": "stream",
     "text": [
      "Beautiful is worse than ugly.\n",
      "Explicit is worse than implicit. \n",
      "\n"
     ]
    }
   ],
   "source": [
    "# Reemplazamos 'better' por 'worse'\n",
    "print(pep_20.replace(\"better\", \"worse\"), \"\\n\")"
   ]
  },
  {
   "cell_type": "code",
   "execution_count": 149,
   "metadata": {},
   "outputs": [
    {
     "name": "stdout",
     "output_type": "stream",
     "text": [
      "Beautifulisbetterthanugly.\n",
      "Explicitisbetterthanimplicit.\n"
     ]
    }
   ],
   "source": [
    "# Eliminamos los espacios en blanco reemplazándolos por una cadena vacía\n",
    "print(pep_20.replace(\" \", \"\"))"
   ]
  },
  {
   "cell_type": "markdown",
   "metadata": {},
   "source": [
    "En el último ejemplo se eliminan todos los espacios en blanco. A veces, sin embargo, nos interesará eliminar los espacios en blanco que hay delante de una cadena o detrás de esta (o ambos conjuntos de espacios). Para estas situaciones, encontramos las funciones `lstrip` (elimina los espacios en blanco de la izquierda o el inicio de la cadena), `rstrip` (elimina los espacios de la derecha o el final de la cadena) y `strip` (elimina los espacios en blanco de delante y detrás de la cadena):"
   ]
  },
  {
   "cell_type": "code",
   "execution_count": 152,
   "metadata": {},
   "outputs": [
    {
     "name": "stdout",
     "output_type": "stream",
     "text": [
      "String: #   A lot of   spaces #\n",
      "\n"
     ]
    }
   ],
   "source": [
    "# Creamos una cadena con espacios en blanco\n",
    "str_with_spaces = \"   A lot of   spaces \"\n",
    "\n",
    "# Mostramos el resultado de aplicar rstrip, lstrip y strip en la cadena\n",
    "print(\"String: #{}#\\n\".format(str_with_spaces))"
   ]
  },
  {
   "cell_type": "code",
   "execution_count": 153,
   "metadata": {},
   "outputs": [
    {
     "name": "stdout",
     "output_type": "stream",
     "text": [
      "rstrip: #   A lot of   spaces#\n"
     ]
    }
   ],
   "source": [
    "print(\"rstrip: #{}#\".format(str_with_spaces.rstrip()))"
   ]
  },
  {
   "cell_type": "code",
   "execution_count": 154,
   "metadata": {},
   "outputs": [
    {
     "name": "stdout",
     "output_type": "stream",
     "text": [
      "lstrip: #A lot of   spaces #\n"
     ]
    }
   ],
   "source": [
    "print(\"lstrip: #{}#\".format(str_with_spaces.lstrip()))"
   ]
  },
  {
   "cell_type": "code",
   "execution_count": 155,
   "metadata": {},
   "outputs": [
    {
     "name": "stdout",
     "output_type": "stream",
     "text": [
      "strip: #A lot of   spaces#\n"
     ]
    }
   ],
   "source": [
    "print(\"strip: #{}#\".format(str_with_spaces.strip()))"
   ]
  },
  {
   "cell_type": "markdown",
   "metadata": {},
   "source": [
    "Es interesante notar que las funciones `strip`, `rstrip` y `lstrip` eliminan todos los espacios en blanco que se encuentran en la posición que están procesando (delante, detrás o en las dos posiciones) pero, en cambio, no tienen ningún efecto sobre el resto de los espacios de la cadena (por ejemplo, el espacio en blanco entre ‘A’ y ‘lot’ nunca se ve afectado por la ejecución de estas funciones).\n",
    "\n",
    "### Expresiones regulares\n",
    "A pesar de que las funciones que hemos visto hasta ahora son muy potentes, se quedan cortas para afrontar muchos de los problemas que encontraremos a la hora de preprocesar datos que contengan cadenas de texto.  \n",
    "\n",
    "Por ejemplo, si quisiéramos separar una cadena particionando por cualquier vocal (en vez de solo la letra ‘a’ como hemos hecho en el ejemplo anterior), ¿cómo lo haríamos? Con lo que hemos visto hasta ahora, deberíamos ir separando vocal a vocal, procesando en cada caso todas las subcadenas ya separadas por las vocales anteriores.  \n",
    "\n",
    "Otro ejemplo sería que quisiéramos buscar no solo la palabra ‘better’ dentro de una cadena, sino cualquier palabra de seis letras, o tal vez buscar palabras que empezaran con ‘b’ y acabaran con ‘tter’, con cualquier letra o letras entre la ‘b’ y ‘tter’. ¿Cómo podríamos implementarlo con las funciones que hemos visto hasta ahora? Ciertamente, sería posible, pero el código sería complejo.  \n",
    "\n",
    "Para afrontar este tipo de problemas, se suelen utilizar __expresiones regulares__ (también conocidas como regex, una contracción del término en inglés, regular expressions). Una expresión regular es una expresión que utiliza un lenguaje especializado de descripción de cadenas de caracteres. Este lenguaje nos permite expresar con facilidad condiciones que describen cómo debe ser una cadena como las que hemos ejemplificado anteriormente (una cadena que represente cualquier vocal, una cadena de seis letras, una cadena que empiece con ‘b’ y termine con ‘tter’, etc.). Estas expresiones se pueden usar, después, para tareas como las que hemos expuesto anteriormente: buscar subcadenas dentro de cadenas, separar cadenas, sustituir subcadenas por otras subcadenas, etc.  \n",
    "\n",
    "En este apartado, veremos pues cómo podemos utilizar expresiones regulares para procesar cadenas de caracteres. En primer lugar, veremos las funciones que nos ofrece el módulo `re`. En segundo lugar, presentaremos una introducción a la sintaxis de las expresiones regulares."
   ]
  },
  {
   "cell_type": "markdown",
   "metadata": {},
   "source": [
    "#### Funciones del módulo __re__\n",
    "El módulo `re` es la interfaz del motor de expresiones regulares para Python. Por lo tanto, habrá que importarlo cuando queramos trabajar con _regex_.  \n",
    "\n",
    "El módulo tiene funciones equivalentes a las que hemos visto anteriormente, pero que trabajan con expresiones regulares en vez de trabajar con cadenas de caracteres: \n",
    "* `split`: tiene el mismo comportamiento que el método __split__ de str, y permite separar cadenas considerando un separador, que en este caso estará expresado con una expresión regular. \n",
    "* `search`: tiene un comportamiento similar a __find__ de str, y permite encontrar la primera aparición de una subcadena dentro de una cadena. En este caso, la subcadena a buscar se expresa como una expresión regular. \n",
    "* `sub`: tiene un comportamiento similar a __replace__ de str, y permite reemplazar subcadenas por otra cadena. En este caso, la subcadena que se quiere reemplazar se expresa como una expresión regular.\n",
    "\n",
    "Adicionalmente, también incorpora otras funciones que son de utilidad, tales como:\n",
    "* `findall`: permite buscar todas las apariciones (no solapadas) de una subcadena dentro de otra cadena.\n",
    "\n",
    "A continuación, veremos cómo podemos utilizar estas funciones sin aprovechar la funcionalidad de las expresiones regulares (que presentaremos en el siguiente apartado).\n",
    "\n",
    "La función `split` actúa de manera análoga a la split de str, y devuelve una lista con las subcadenas separadas por un separador:"
   ]
  },
  {
   "cell_type": "code",
   "execution_count": 156,
   "metadata": {},
   "outputs": [
    {
     "data": {
      "text/plain": [
       "['Be', 'utiful is better th', 'n ugly.\\nExplicit is better th', 'n implicit.']"
      ]
     },
     "execution_count": 156,
     "metadata": {},
     "output_type": "execute_result"
    }
   ],
   "source": [
    "# Importamos el módulo re\n",
    "import re\n",
    "\n",
    "# Separamos la cadena por las letras \"a\"\n",
    "re.split('a', pep_20)"
   ]
  },
  {
   "cell_type": "markdown",
   "metadata": {},
   "source": [
    "Ahora, sin embargo, la primera cadena (__a__) podrá ser también una expresión regular, que nos\n",
    "describa cómo debe ser el separador a utilizar.\n",
    "\n",
    "La función `search` busca la primera aparición de una subcadena en otra cadena. A diferencia de `find`, no devuelve directamente el índice de inicio de la coincidencia, sino un objeto `match` que contiene información adicional sobre la coincidencia:"
   ]
  },
  {
   "cell_type": "code",
   "execution_count": 159,
   "metadata": {},
   "outputs": [
    {
     "name": "stdout",
     "output_type": "stream",
     "text": [
      "The returned object is: <class 're.Match'>\n"
     ]
    }
   ],
   "source": [
    "# Buscamos el índice de la primera aparición de 'better'\n",
    "str_to_search = \"better\"\n",
    "srch_better = re.search(str_to_search, pep_20)\n",
    "\n",
    "print(\"The returned object is: {}\".format(type(srch_better)))"
   ]
  },
  {
   "cell_type": "code",
   "execution_count": 160,
   "metadata": {},
   "outputs": [
    {
     "name": "stdout",
     "output_type": "stream",
     "text": [
      "that contains: <re.Match object; span=(13, 19), match='better'>\n"
     ]
    }
   ],
   "source": [
    "print(\"that contains: {}\".format(srch_better))"
   ]
  },
  {
   "cell_type": "code",
   "execution_count": 161,
   "metadata": {},
   "outputs": [
    {
     "name": "stdout",
     "output_type": "stream",
     "text": [
      "Substring starts at 13 and ends at 19\n"
     ]
    }
   ],
   "source": [
    "print(\"Substring starts at {} and ends at {}\".format(\n",
    "    srch_better.start(), srch_better.end()))"
   ]
  },
  {
   "cell_type": "markdown",
   "metadata": {},
   "source": [
    "En cambio, la función findall nos devolverá una lista con todas las coincidencias de una expresión regular:"
   ]
  },
  {
   "cell_type": "code",
   "execution_count": 162,
   "metadata": {},
   "outputs": [
    {
     "name": "stdout",
     "output_type": "stream",
     "text": [
      "The returned object is: <class 'list'>\n"
     ]
    }
   ],
   "source": [
    "# Buscamos todas las apariciones de 'better'\n",
    "srch_better = re.findall(str_to_search, pep_20)\n",
    "\n",
    "print(\"The returned object is: {}\".format(type(srch_better)))"
   ]
  },
  {
   "cell_type": "code",
   "execution_count": 163,
   "metadata": {},
   "outputs": [
    {
     "name": "stdout",
     "output_type": "stream",
     "text": [
      "that contains: ['better', 'better']\n"
     ]
    }
   ],
   "source": [
    "print(\"that contains: {}\".format(srch_better))"
   ]
  },
  {
   "cell_type": "markdown",
   "metadata": {},
   "source": [
    "Finalmente, la función `sub` reemplaza todas las apariciones de una subcadena por otra:"
   ]
  },
  {
   "cell_type": "code",
   "execution_count": 164,
   "metadata": {},
   "outputs": [
    {
     "name": "stdout",
     "output_type": "stream",
     "text": [
      "Beautiful_is_better_than_ugly.\n",
      "Explicit_is_better_than_implicit.\n"
     ]
    }
   ],
   "source": [
    "# Reeemplazar los espcacios en blanco por guiones bajos\n",
    "print(re.sub(\" \", \"_\", pep_20))"
   ]
  },
  {
   "cell_type": "markdown",
   "metadata": {},
   "source": [
    "Hasta ahora hemos visto cómo el módulo `re` nos permite hacer las mismas operaciones que habíamos visto sobre cadenas de caracteres. Vamos a ver ahora cómo podemos explotar el potencial de este módulo utilizando el lenguaje de las expresiones regulares.\n",
    "\n",
    "Las funciones que hemos visto aceptan un primer parámetro que representa la subcadena que queremos buscar, y que se utiliza como separador (en `split`), como objetivo de la búsqueda (`search` o `findall`) o bien como cadena que reemplazar (`sub`). Más allá de ser una cadena de caracteres, este primer parámetro puede usar el lenguaje de las expresiones regulares para especificar condiciones complejas sobre las cadenas que buscar."
   ]
  },
  {
   "cell_type": "markdown",
   "metadata": {},
   "source": [
    "#### Sintaxis de las expresiones regulares\n",
    "En una expresión regular distinguimos dos tipos de caracteres: \n",
    "* Caracteres normales, que representan el propio carácter. Por ejemplo, una ‘__a__’ es una expresión regular válida que representa una cadena de caracteres de un solo carácter, que es la propia letra ‘a’. \n",
    "* Caracteres especiales, que sirven o bien para representar grupos de caracteres o bien para explicar cómo hay que interpretar las expresiones que los rodean.\n",
    "\n",
    "Así, por ejemplo, algunos caracteres especiales se utilizan para representar grupos de caracteres: \n",
    "* `.` : representa cualquier carácter (por defecto, cualquier carácter excepto la nueva línea). \n",
    "* `\\d` : representa cualquier dígito decimal. \n",
    "* `\\s` : representa cualquier espacio en blanco. \n",
    "* `\\w` : representa caracteres que pueden formar parte de una palabra (letras mayúsculas y minúsculas, números, el guion bajo). \n",
    "* `[]` : permite indicar un conjunto de caracteres, ya sea individualmente ( `[abc]` permitiría representar las cadenas a,b o c), o como rango (`[A-Z]` representa todas las letras en mayúscula).\n",
    "\n",
    "Otros caracteres especiales dan información sobre cómo interpretar las expresiones: \n",
    "* `|`: Implementa el operador __OR__ y permite crear una expresión regular que coincida o bien con una expresión regular o bien con otra.\n",
    "\n",
    "También hay un conjunto de caracteres especiales que permiten especificar repeticiones de expresiones regulares. Así, los caracteres siguientes indican las repeticiones de la expresión que las precede: \n",
    "* `*` : 0 o más apariciones. \n",
    "* `+` : 1 o más apariciones. \n",
    "* `?` : 0 o 1 aparición. \n",
    "* `{m}` : exactamente m apariciones. \n",
    "* `{m, n}` : entre m y n apariciones. \n",
    "\n",
    "Si uno de los dos valores se omite, entonces solo se informa del mínimo o del máximo de apariciones."
   ]
  },
  {
   "cell_type": "markdown",
   "metadata": {},
   "source": [
    "#### Uso de expresiones regulares en la manipulación de cadenas\n",
    "Ahora que ya conocemos las funciones de manipulación de cadenas del módulo `re` y la sintaxis básica del lenguaje de las expresiones regulares, vamos a ver cómo podemos explotar el potencial de ambas funcionalidades juntas por medio de una serie de ejemplos. En primer lugar, veremos cómo podemos resolver algunos de los problemas que hemos comentado anteriormente. En segundo lugar, veremos ejemplos adicionales de uso de expresiones regulares.\n",
    "\n",
    "Si queremos separar una cadena de caracteres utilizando cualquier vocal como separador, podemos utilizar una expresión regular que represente todas las vocales y utilizarla con la función `split`.\n",
    "\n",
    "Los caracteres especiales `[]` nos permiten expresar un conjunto de caracteres individuales, por lo que podemos usarlos para expresar las vocales:"
   ]
  },
  {
   "cell_type": "code",
   "execution_count": 165,
   "metadata": {},
   "outputs": [
    {
     "name": "stdout",
     "output_type": "stream",
     "text": [
      "Beautiful is better than ugly.\n",
      "Explicit is better than implicit.\n"
     ]
    }
   ],
   "source": [
    "print(pep_20)"
   ]
  },
  {
   "cell_type": "code",
   "execution_count": 166,
   "metadata": {},
   "outputs": [
    {
     "data": {
      "text/plain": [
       "['B',\n",
       " '',\n",
       " '',\n",
       " 't',\n",
       " 'f',\n",
       " 'l ',\n",
       " 's b',\n",
       " 'tt',\n",
       " 'r th',\n",
       " 'n ',\n",
       " 'gly.\\n',\n",
       " 'xpl',\n",
       " 'c',\n",
       " 't ',\n",
       " 's b',\n",
       " 'tt',\n",
       " 'r th',\n",
       " 'n ',\n",
       " 'mpl',\n",
       " 'c',\n",
       " 't.']"
      ]
     },
     "execution_count": 166,
     "metadata": {},
     "output_type": "execute_result"
    }
   ],
   "source": [
    "# Separamos la cadena por cualquier vocal\n",
    "re.split(r'[aeiouAEIOU]', pep_20)"
   ]
  },
  {
   "cell_type": "markdown",
   "metadata": {},
   "source": [
    "Fijaos cómo la lista contiene varias cadenas vacías, que resultan de separar vocales contiguas. Por otra parte, es interesante notar también que usamos el prefijo ‘`r`’ para indicar la cadena de caracteres que conforma la expresión regular. El prefijo ‘`r`’ indica que la cadena debe interpretarse como literal en bruto (en inglés, raw string literal).\n",
    "\n",
    "Si queremos separar las palabras, podemos utilizar el carácter especial `\\s` para tener en cuenta cualquier espacio en blanco como separador (tanto el espacio como el salto de línea \\n se utilizarían como separador para la cadena __pep_20__):"
   ]
  },
  {
   "cell_type": "code",
   "execution_count": 167,
   "metadata": {},
   "outputs": [
    {
     "data": {
      "text/plain": [
       "['Beautiful',\n",
       " 'is',\n",
       " 'better',\n",
       " 'than',\n",
       " 'ugly.',\n",
       " 'Explicit',\n",
       " 'is',\n",
       " 'better',\n",
       " 'than',\n",
       " 'implicit.']"
      ]
     },
     "execution_count": 167,
     "metadata": {},
     "output_type": "execute_result"
    }
   ],
   "source": [
    "re.split(r'\\s', pep_20)"
   ]
  },
  {
   "cell_type": "markdown",
   "metadata": {},
   "source": [
    "En cambio, si queremos separar las frases, podríamos utilizar como separador un punto seguido de un espacio en blanco. Fijaos en que incluimos el espacio en blanco después del punto, ya que si no, la última frase quedaría separada en dos por el punto final (la frase en sí y una cadena vacía), y el salto de línea quedaría incluido en la segunda frase :"
   ]
  },
  {
   "cell_type": "code",
   "execution_count": 169,
   "metadata": {},
   "outputs": [
    {
     "data": {
      "text/plain": [
       "['Beautiful is better than ugly', '\\nExplicit is better than implicit', '']"
      ]
     },
     "execution_count": 169,
     "metadata": {},
     "output_type": "execute_result"
    }
   ],
   "source": [
    "# Separamos la cadena por frases: las frases se separan por un punto\n",
    "# El resultado incluye una cadena vacía al final, ya que el último punto\n",
    "# se utiliza como separador, así como el salto de línea\n",
    "re.split(r'\\.', pep_20)"
   ]
  },
  {
   "cell_type": "code",
   "execution_count": 171,
   "metadata": {},
   "outputs": [
    {
     "data": {
      "text/plain": [
       "['Beautiful is better than ugly', 'Explicit is better than implicit.']"
      ]
     },
     "execution_count": 171,
     "metadata": {},
     "output_type": "execute_result"
    }
   ],
   "source": [
    "# Separamos la cadena por frases: las frases se separan por un punto seguido\n",
    "# de un espacio en blanco\n",
    "re.split(r'\\.\\s', pep_20)"
   ]
  },
  {
   "cell_type": "markdown",
   "metadata": {},
   "source": [
    "Es importante notar que para representar el punto, hemos utilizado la expresión `\\.` en vez de `..` El motivo es que, como hemos visto, `.` es un carácter especial que coincide con cualquier carácter. Si, por el contrario, queremos que la expresión regular solo coincida cuando incluya un punto (el carácter ‘.’), entonces habrá que __escapar__ la secuencia, utilizando la barra invertida o contrabarra (\\).\n",
    "\n",
    "Otro ejemplo que nos planteábamos era cómo buscar palabras que empiecen con ‘b’ y terminen con ‘tter’, con cualquier letra o letras en medio. Vamos a ver cómo podríamos enfocar este ejemplo. En primer lugar, veremos cómo buscar palabras que empiecen con ‘b’ y terminen con ‘tter’, con una única letra en medio:"
   ]
  },
  {
   "cell_type": "code",
   "execution_count": 173,
   "metadata": {},
   "outputs": [],
   "source": [
    "# Creamos una variante de la cadena pep_20, que nos permitirá ejemplificar\n",
    "# las diferentes casuísticas\n",
    "pep_20_bis = \"Beautiful is better than ugly.\\nExplicit is better than \" \\\n",
    "    \"implicit. Butter Much Webetter. bitter. bYYYtter or btter. python.\""
   ]
  },
  {
   "cell_type": "code",
   "execution_count": 174,
   "metadata": {},
   "outputs": [
    {
     "name": "stdout",
     "output_type": "stream",
     "text": [
      "Beautiful is better than ugly.\n",
      "Explicit is better than implicit.\n"
     ]
    }
   ],
   "source": [
    "# Mostramos las cadenas de ejemplo\n",
    "print(pep_20)"
   ]
  },
  {
   "cell_type": "code",
   "execution_count": 176,
   "metadata": {},
   "outputs": [
    {
     "name": "stdout",
     "output_type": "stream",
     "text": [
      "Beautiful is better than ugly.\n",
      "Explicit is better than implicit. Butter Much Webetter. bitter. bYYYtter or btter. python.\n"
     ]
    }
   ],
   "source": [
    "print(pep_20_bis)"
   ]
  },
  {
   "cell_type": "markdown",
   "metadata": {},
   "source": [
    "Una primera aproximación sería definir una expresión regular que comience con ‘__b__’, siga con cualquier carácter que pueda formar parte de una palabra (que podemos expresar con el carácter especial `\\w`), y termine con ‘__tter__’:"
   ]
  },
  {
   "cell_type": "code",
   "execution_count": 178,
   "metadata": {},
   "outputs": [
    {
     "name": "stdout",
     "output_type": "stream",
     "text": [
      "b\\wtter in pep_20: ['better', 'better']\n",
      "b\\wtter in pep_20_bis: ['better', 'better', 'better', 'bitter']\n"
     ]
    }
   ],
   "source": [
    "print(r\"b\\wtter in pep_20: {}\".format(re.findall(r\"b\\wtter\", pep_20)))\n",
    "print(r\"b\\wtter in pep_20_bis: {}\".format(re.findall(r\"b\\wtter\", pep_20_bis)))"
   ]
  },
  {
   "cell_type": "markdown",
   "metadata": {},
   "source": [
    "La expresión parece devolver los resultados esperados para la cadena __pep_20__ pero, en cambio, para la cadena __pep_20_bis__ nos devuelve un ‘better’ adicional y no es capaz de identificar ‘Butter’. Los motivos de este comportamiento son, por un lado, que por defecto las expresiones regulares son case sensitive, por lo que ‘B’ y ‘b’ se consideran cadenas diferentes (y, por lo tanto, ‘Butter’ no es una coincidencia válida); y, por otra parte, que no estamos especificando delimitadores de las palabras, por lo que ‘Webetter’ es una coincidencia válida para ‘better’.\n",
    "\n",
    "Si queremos que ignoren si las letras son mayúsculas o minúsculas a la hora de evaluar una expresión regular, podemos utilizar el flag __IGNORECASE__ en la llamada:"
   ]
  },
  {
   "cell_type": "code",
   "execution_count": 179,
   "metadata": {},
   "outputs": [
    {
     "name": "stdout",
     "output_type": "stream",
     "text": [
      "b\\wtter in pep_20_bis: ['better', 'better', 'Butter', 'better', 'bitter']\n"
     ]
    }
   ],
   "source": [
    "print(r\"b\\wtter in pep_20_bis: {}\".format(\n",
    "    re.findall(r\"b\\wtter\", pep_20_bis, re.IGNORECASE)))"
   ]
  },
  {
   "cell_type": "markdown",
   "metadata": {},
   "source": [
    "Por otra parte, si queremos buscar palabras completas (que no formen parte de otras palabras), podemos especificar el(los) carácter(es) que esperamos encontrar delante y detrás de la palabra:"
   ]
  },
  {
   "cell_type": "code",
   "execution_count": 180,
   "metadata": {},
   "outputs": [
    {
     "name": "stdout",
     "output_type": "stream",
     "text": [
      " b\\wtter in pep_20_bis: [' better ', ' better ', ' Butter ']\n"
     ]
    }
   ],
   "source": [
    "# Delimitamos las palabras por espacios en blanco\n",
    "print(r\" b\\wtter in pep_20_bis: {}\".format(\n",
    "    re.findall(r\" b\\wtter \", pep_20_bis, re.IGNORECASE)))"
   ]
  },
  {
   "cell_type": "markdown",
   "metadata": {},
   "source": [
    "En segundo lugar, veremos ahora cómo buscar palabras que empiecen con ‘__b__’ y terminen con ‘__tter__’, pero aceptando más de una letra en medio. A partir de la expresión que hemos utilizado para una sola letra entre las dos subcadenas, podemos indicar que aceptamos cualquier número de repeticiones de la letra entre ‘__b__’ y ‘__tter__’ con el modificador `*`, o bien exigir que, como mínimo, haya una con `+`:"
   ]
  },
  {
   "cell_type": "code",
   "execution_count": 181,
   "metadata": {},
   "outputs": [
    {
     "name": "stdout",
     "output_type": "stream",
     "text": [
      "Using *: [' better ', ' better ', ' Butter ', ' bitter.', ' bYYYtter ', ' btter.']\n"
     ]
    }
   ],
   "source": [
    "print(\"Using *: {}\".format(\n",
    "    re.findall(r\"[ \\.]b\\w*tter[ \\.]\", pep_20_bis, re.IGNORECASE)))"
   ]
  },
  {
   "cell_type": "code",
   "execution_count": 182,
   "metadata": {},
   "outputs": [
    {
     "name": "stdout",
     "output_type": "stream",
     "text": [
      "Using +: [' better ', ' better ', ' Butter ', ' bitter.', ' bYYYtter ']\n"
     ]
    }
   ],
   "source": [
    "print(\"Using +: {}\".format(\n",
    "    re.findall(r\"[ \\.]b\\w+tter[ \\.]\", pep_20_bis, re.IGNORECASE)))"
   ]
  },
  {
   "cell_type": "markdown",
   "metadata": {},
   "source": [
    "Por último, podríamos utilizar una estrategia similar para identificar todas las palabras de seis letras, delimitándolas por espacios o puntos, y utilizando el carácter especial `\\w` repetido exactamente seis veces:"
   ]
  },
  {
   "cell_type": "code",
   "execution_count": 183,
   "metadata": {},
   "outputs": [
    {
     "name": "stdout",
     "output_type": "stream",
     "text": [
      "6 letter words: [' better ', ' better ', ' Butter ', ' bitter.', ' python.']\n"
     ]
    }
   ],
   "source": [
    "# Repitiendo el carácter \\w 6 veces explícitamente:\n",
    "print(\"6 letter words: {}\".format(\n",
    "    re.findall(r\"[ \\.]\\w\\w\\w\\w\\w\\w[ \\.]\", pep_20_bis)))"
   ]
  },
  {
   "cell_type": "code",
   "execution_count": 184,
   "metadata": {},
   "outputs": [
    {
     "name": "stdout",
     "output_type": "stream",
     "text": [
      "6 letter words: [' better ', ' better ', ' Butter ', ' bitter.', ' python.']\n"
     ]
    }
   ],
   "source": [
    "# Especificando el número de repeticiones con {}:\n",
    "print(\"6 letter words: {}\".format(\n",
    "    re.findall(r\"[ \\.]\\w{6}[ \\.]\", pep_20_bis)))"
   ]
  },
  {
   "cell_type": "markdown",
   "metadata": {},
   "source": [
    "Esta sección ha presentado una pequeña introducción al uso de expresiones regulares con el módulo `re` de Python. Ahora bien, hay muchos otros caracteres especiales y construcciones que se pueden hacer con el lenguaje de las expresiones regulares, y que nos pueden resultar útiles para procesar cadenas de caracteres. Para continuar el aprendizaje del uso de expresiones regulares en Python, os recomendamos leer el `Regular Expression HOWTO` de la documentación oficial de Python.\n",
    "\n",
    "Adicionalmente, si queréis descubrir todos los detalles sobre el lenguaje de expresiones regulares y sobre las funciones que implementa el módulo __re__ de Python, podéis dirigiros a la página oficial del `módulo re`.\n"
   ]
  }
 ],
 "metadata": {
  "kernelspec": {
   "display_name": "Python(base)",
   "language": "python",
   "name": "anaconda-base"
  },
  "language_info": {
   "codemirror_mode": {
    "name": "ipython",
    "version": 3
   },
   "file_extension": ".py",
   "mimetype": "text/x-python",
   "name": "python",
   "nbconvert_exporter": "python",
   "pygments_lexer": "ipython3",
   "version": "3.8.8"
  }
 },
 "nbformat": 4,
 "nbformat_minor": 4
}
