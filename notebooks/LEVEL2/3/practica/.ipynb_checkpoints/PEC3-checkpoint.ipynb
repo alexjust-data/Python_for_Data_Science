{
 "cells": [
  {
   "cell_type": "markdown",
   "metadata": {},
   "source": [
    "<div style=\"width: 100%; clear: both;\">\n",
    "    <div style=\"float: left; width: 50%;\">\n",
    "       <img src=\"http://www.uoc.edu/portal/_resources/common/imatges/marca_UOC/UOC_Masterbrand.jpg\", align=\"left\">\n",
    "    </div>\n",
    "</div>\n",
    "\n",
    "<div style=\"float: right; width: 50%;\">\n",
    "    <p style=\"margin: 0; padding-top: 22px; text-align:right;\">22.503 · Programación para la ciencia de datos</p>\n",
    "    <p style=\"margin: 0; text-align:right;\">Grado en Ciencia de Datos Aplicada</p>\n",
    "    <p style=\"margin: 0; text-align:right; padding-button: 100px;\">Estudios de Informática, Multimedia y Telecomunicación</p>\n",
    "</div>\n",
    "\n",
    "</div>\n",
    "<div style=\"width: 100%; clear: both;\">\n",
    "<div style=\"width:100%;\">&nbsp;</div>"
   ]
  },
  {
   "cell_type": "markdown",
   "metadata": {},
   "source": [
    "Programación para la ciencia de datos - PEC3\n",
    "============================\n",
    "\n",
    "En este Notebook encontraréis un conjunto de ejercicios que suponen la tercera actividad de evaluación continua (PEC) de la asignatura.\n",
    "\n",
    "Para cada ejercicio, tened en cuenta que: \n",
    "* **Es necesario añadir comentarios** de vuestro código que expliquen como habéis implementado la solución del problema planteado.\n",
    "* **Es imprescindible** citar las referencias que habéis consultado para realizar la actividad.\n",
    "* Se valorará que el código proporcionado solucione el problema propuesto y también la calidad del código (comentarios, legibilidad, claridad, uso de las estructuras de datos adecuadas, buena nomenclatura de las variables y funciones, seguimiento del PEP8, etc. ).\n",
    "\n",
    "Veréis que cada una de las actividades tiene asociada una puntuación, que indica el peso que tiene esa actividad sobre la nota de la PEC. Adicionalmente, hay una puntuación asociada a aspectos globales de la PEC (*docstring*, modularidad y estilo), que se evaluarán sobre la totalidad del código entregado. \n",
    "\n",
    "Además, veréis que todas las actividades tienen una etiqueta, que indica los recursos necesarios para llevarla a término. Hay tres posibles etiquetas: \n",
    "\n",
    "* <span style=\"font-family: Courier New; background-color: #82b74b; color: #000000; padding: 3px; \">SM</span> **Solo materiales**: las herramientas necesarias para realizar la actividad se pueden encontrar en los materiales de la asignatura (consideraremos también los materiales de la asignatura Fundamentos de Programación, así como las lecturas obligatorias de material externo que se indiquen en los notebooks).\n",
    "\n",
    "* <span style=\"font-family: Courier New; background-color: #ffcc5c; color: #000000; padding: 3px; \">EG</span> **Consulta externa guiada**: la actividad puede requerir el uso de herramientas que no se encuentren en los materiales de la asignatura, pero el enunciado contiene indicaciones de dónde o cómo encontrar la información adicional necesaria para resolver la actividad.\n",
    "\n",
    "* <span style=\"font-family: Courier New; background-color: #f2ae72; color: #000000; padding: 3px; \">EI</span> **Consulta externa independiente**: la actividad puede requerir el uso de herramientas que no se encuentren en los materiales de la asignatura, y el enunciado puede no incluir la descripción de dónde o cómo encontrar esta información adicional. Será necesario que el estudiante busque esta información usando los recursos explicados en la asignatura.\n",
    "\n",
    "\n",
    "\n",
    "Es importante notar que estas etiquetas no indican el nivel de dificultad del ejercicio, sino únicamente la necesidad de consulta de documentación externa para su resolución. Además, recordad que las **etiquetas son informativas**, pero **podréis consultar referencias externas, y usarlas, siempre que queráis (aunque no se indique explícitamente) o puede que podáis hacer una actividad sin consultar ningún tipo de documentación**. Por ejemplo, para resolver una actividad que solo requiera los materiales de la asignatura, podéis consultar referencias externas si queréis, ¡ya sea tanto para ayudaros en su resolución como para ampliar conocimiento! \n"
   ]
  },
  {
   "cell_type": "markdown",
   "metadata": {},
   "source": [
    "**Importante**: Además de la puntuación de cada ejercicio, que valora la calidad de la solución que proponéis y los resultados obtenidos, en esta PEC se valoran 3 aspectos adicionales, transversales a todas las actividades: \n",
    "\n",
    "* **Documentación** (**0.25*f puntos**): Todas las funciones de los ejercicios de esta PEC deberán estar correctamente documentadas utilizando *docstrings* (en el formato que prefiráis). \n",
    "\n",
    "* **Modularidad** (**0.5*f puntos**): Se valorará la modularidad del código (la correcta estructuración del código en funciones). \n",
    "\n",
    "* **Estilo** (**0.25*f puntos**): El código tiene que seguir la guía de estilo de Python [PEP8](https://www.python.org/dev/peps/pep-0008/), exceptuando los casos donde hacerlo complique la legibilidad del código.\n",
    "\n",
    "Donde $f$ es la fracción de la PEC realizada. Es decir, la nota de estos aspectos transversales será proporcional a la parte de la PEC realizada.\n",
    "\n",
    "Así, los aspectos transversales tendrán una puntuación máxima de 1 punto si se entregan todos los ejercicios de la PEC. En caso contrario, la nota de aspectos transversales se multiplicará por la fracción de la PEC entregada. Por ejemplo, si los aspectos transversales están puntuados con un 1 pero solo hay la mitad de la PEC entregada, la nota de aspectos transversales será $1*0.5=0.5$."
   ]
  },
  {
   "cell_type": "code",
   "execution_count": 2,
   "metadata": {},
   "outputs": [
    {
     "data": {
      "application/javascript": [
       "\n",
       "            setTimeout(function() {\n",
       "                var nbb_cell_id = 2;\n",
       "                var nbb_unformatted_code = \"%load_ext pycodestyle_magic\";\n",
       "                var nbb_formatted_code = \"%load_ext pycodestyle_magic\";\n",
       "                var nbb_cells = Jupyter.notebook.get_cells();\n",
       "                for (var i = 0; i < nbb_cells.length; ++i) {\n",
       "                    if (nbb_cells[i].input_prompt_number == nbb_cell_id) {\n",
       "                        if (nbb_cells[i].get_text() == nbb_unformatted_code) {\n",
       "                             nbb_cells[i].set_text(nbb_formatted_code);\n",
       "                        }\n",
       "                        break;\n",
       "                    }\n",
       "                }\n",
       "            }, 500);\n",
       "            "
      ],
      "text/plain": [
       "<IPython.core.display.Javascript object>"
      ]
     },
     "metadata": {},
     "output_type": "display_data"
    }
   ],
   "source": [
    "%load_ext pycodestyle_magic"
   ]
  },
  {
   "cell_type": "code",
   "execution_count": 3,
   "metadata": {},
   "outputs": [
    {
     "data": {
      "application/javascript": [
       "\n",
       "            setTimeout(function() {\n",
       "                var nbb_cell_id = 3;\n",
       "                var nbb_unformatted_code = \"# Activamos las alertas de estilo\\n%pycodestyle_on\";\n",
       "                var nbb_formatted_code = \"# Activamos las alertas de estilo\\n%pycodestyle_on\";\n",
       "                var nbb_cells = Jupyter.notebook.get_cells();\n",
       "                for (var i = 0; i < nbb_cells.length; ++i) {\n",
       "                    if (nbb_cells[i].input_prompt_number == nbb_cell_id) {\n",
       "                        if (nbb_cells[i].get_text() == nbb_unformatted_code) {\n",
       "                             nbb_cells[i].set_text(nbb_formatted_code);\n",
       "                        }\n",
       "                        break;\n",
       "                    }\n",
       "                }\n",
       "            }, 500);\n",
       "            "
      ],
      "text/plain": [
       "<IPython.core.display.Javascript object>"
      ]
     },
     "metadata": {},
     "output_type": "display_data"
    }
   ],
   "source": [
    "# Activamos las alertas de estilo\n",
    "%pycodestyle_on"
   ]
  },
  {
   "cell_type": "markdown",
   "metadata": {},
   "source": [
    "## Ejercicio 1\n",
    "\n",
    "Contestad brevemente las siguientes preguntas.\n",
    "\n",
    "1. Ordenad las siguientes funciones en función de su orden de crecimiento, considerando en primer lugar las que tienen un orden de crecimiento menor. (**0.5 puntos**)\n",
    "\n",
    "- $8^{2n}$\n",
    "- $6*n^3$\n",
    "- $n*log_6(n)$\n",
    "- $log_2(n)$\n",
    "- $4*n$\n",
    "- $8*n^2$\n",
    "- $64$\n",
    "\n",
    "2. Determinad qué pares de funciones presentan un orden de crecimiento similar entre los dos conjuntos siguientes. (**0.5 puntos**)\n",
    "\n",
    "Conjunto (a)\n",
    "- $n + 30$\n",
    "- $n^2 + 2*n - 10$\n",
    "- $n^3 * 3 * n$\n",
    "- $log_2(n)$\n",
    "\n",
    "Conjunto (b)\n",
    "- $n^4$\n",
    "- $3*n - 1$\n",
    "- $log_2(2*n)$\n",
    "- $n^2 + 3*n$\n",
    "\n",
    "\n",
    "<span style=\"font-family: Courier New; background-color: #82b74b; color: #000000; padding: 3px; \">SM</span> **(1 punto)**"
   ]
  },
  {
   "cell_type": "markdown",
   "metadata": {},
   "source": [
    "**Respuesta**"
   ]
  },
  {
   "cell_type": "markdown",
   "metadata": {},
   "source": [
    "## Ejercicio 2\n",
    "\n",
    "Estudiad la complejidad algoritmica, considerando el caso peor, en relación al tiempo de ejecución del siguiente fragmento de código. ¿Podemos utilizar la notación $\\Theta$ para referirnos a la complejidad del código analizado? En caso afirmativo, mostrad gráficamente el orden de crecimiento de la función juntamente con una función que haga de límite superior y otra que haga de límite inferior.\n",
    "\n",
    "**Nota:** Recordad repasar la sección 2.2.3. Notaciones y definiciones formales del Notebook de teoría.\n",
    "\n",
    "<span style=\"font-family: Courier New; background-color: #82b74b; color: #000000; padding: 3px; \">SM</span> **(1 punto)**"
   ]
  },
  {
   "cell_type": "code",
   "execution_count": 4,
   "metadata": {},
   "outputs": [
    {
     "data": {
      "application/javascript": [
       "\n",
       "            setTimeout(function() {\n",
       "                var nbb_cell_id = 4;\n",
       "                var nbb_unformatted_code = \"def sort_me(array):\\n    swapped = True\\n    while swapped:\\n        swapped = False\\n        for i in range(len(array)-1):\\n            if array[i] > array[i+1]:\\n                array[i], array[i+1] = array[i+1], array[i]\\n                swapped = True\";\n",
       "                var nbb_formatted_code = \"def sort_me(array):\\n    swapped = True\\n    while swapped:\\n        swapped = False\\n        for i in range(len(array) - 1):\\n            if array[i] > array[i + 1]:\\n                array[i], array[i + 1] = array[i + 1], array[i]\\n                swapped = True\";\n",
       "                var nbb_cells = Jupyter.notebook.get_cells();\n",
       "                for (var i = 0; i < nbb_cells.length; ++i) {\n",
       "                    if (nbb_cells[i].input_prompt_number == nbb_cell_id) {\n",
       "                        if (nbb_cells[i].get_text() == nbb_unformatted_code) {\n",
       "                             nbb_cells[i].set_text(nbb_formatted_code);\n",
       "                        }\n",
       "                        break;\n",
       "                    }\n",
       "                }\n",
       "            }, 500);\n",
       "            "
      ],
      "text/plain": [
       "<IPython.core.display.Javascript object>"
      ]
     },
     "metadata": {},
     "output_type": "display_data"
    }
   ],
   "source": [
    "def sort_me(array):\n",
    "    swapped = True\n",
    "    while swapped:\n",
    "        swapped = False\n",
    "        for i in range(len(array) - 1):\n",
    "            if array[i] > array[i + 1]:\n",
    "                array[i], array[i + 1] = array[i + 1], array[i]\n",
    "                swapped = True"
   ]
  },
  {
   "cell_type": "markdown",
   "metadata": {},
   "source": [
    "**Respuesta**"
   ]
  },
  {
   "cell_type": "markdown",
   "metadata": {},
   "source": [
    "## Ejercicio 3\n",
    "\n",
    "Estudiad la complejidad algoritmica, considerando el caso peor, en relación al tiempo de ejecución del siguiente fragmento de código y mostrad gráficamente el orden de crecimiento de la función obtenida. En este caso, ¿podemos utilizar la notación $\\Theta$ para referirnos a la complejidad del código analizado? Justificad brevemente vuestra respuesta.\n",
    "\n",
    "<span style=\"font-family: Courier New; background-color: #82b74b; color: #000000; padding: 3px; \">SM</span> **(1 punto)**"
   ]
  },
  {
   "cell_type": "code",
   "execution_count": 5,
   "metadata": {},
   "outputs": [
    {
     "data": {
      "application/javascript": [
       "\n",
       "            setTimeout(function() {\n",
       "                var nbb_cell_id = 5;\n",
       "                var nbb_unformatted_code = \"def find_me(search_object, array):\\n    n = len(array)\\n    lower = 0\\n    upper = n - 1\\n    while lower <= upper:\\n        idx = (lower + upper) // 2\\n        if search_object < array[idx]:\\n            upper = idx - 1\\n        elif search_object > array[idx]:\\n            lower = idx + 1\\n        else:\\n            return idx\\n    raise ValueError('Value is not in the list')\";\n",
       "                var nbb_formatted_code = \"def find_me(search_object, array):\\n    n = len(array)\\n    lower = 0\\n    upper = n - 1\\n    while lower <= upper:\\n        idx = (lower + upper) // 2\\n        if search_object < array[idx]:\\n            upper = idx - 1\\n        elif search_object > array[idx]:\\n            lower = idx + 1\\n        else:\\n            return idx\\n    raise ValueError(\\\"Value is not in the list\\\")\";\n",
       "                var nbb_cells = Jupyter.notebook.get_cells();\n",
       "                for (var i = 0; i < nbb_cells.length; ++i) {\n",
       "                    if (nbb_cells[i].input_prompt_number == nbb_cell_id) {\n",
       "                        if (nbb_cells[i].get_text() == nbb_unformatted_code) {\n",
       "                             nbb_cells[i].set_text(nbb_formatted_code);\n",
       "                        }\n",
       "                        break;\n",
       "                    }\n",
       "                }\n",
       "            }, 500);\n",
       "            "
      ],
      "text/plain": [
       "<IPython.core.display.Javascript object>"
      ]
     },
     "metadata": {},
     "output_type": "display_data"
    }
   ],
   "source": [
    "def find_me(search_object, array):\n",
    "    n = len(array)\n",
    "    lower = 0\n",
    "    upper = n - 1\n",
    "    while lower <= upper:\n",
    "        idx = (lower + upper) // 2\n",
    "        if search_object < array[idx]:\n",
    "            upper = idx - 1\n",
    "        elif search_object > array[idx]:\n",
    "            lower = idx + 1\n",
    "        else:\n",
    "            return idx\n",
    "    raise ValueError(\"Value is not in the list\")"
   ]
  },
  {
   "cell_type": "markdown",
   "metadata": {},
   "source": [
    "**Respuesta**"
   ]
  },
  {
   "cell_type": "markdown",
   "metadata": {},
   "source": [
    "## Ejercicio 4\n",
    "\n",
    "En este ejercicio, analizaréis un fragmento de código con el objetivo de detectar las ineficiéncias y después mejorarlo.\n",
    "\n",
    "1. Utilizando las herramientas de *profiling* que hemos visto en el Notebook de teoría, analizad el siguiente fragmento de código ineficiente y encontrad cual es el cuello de botella. Explicad las ineficiencias que habéis detectado, relacionándolas con los resultados obtenidos en el *profiling*.\n",
    "\n",
    "2. Mejorad el código con el objetivo de reducir el tiempo de ejecución.\n",
    "\n",
    "3. Comparad el tiempo de ejecución del código original en relación al código que habéis mejorado en el apartado (2) para `n = 1_000` y para `n = 100_000_000`. Comentad brevemente los resultados obtenidos.\n",
    "\n",
    "<span style=\"font-family: Courier New; background-color: #82b74b; color: #000000; padding: 3px; \">SM</span> **(2 puntos)**"
   ]
  },
  {
   "cell_type": "code",
   "execution_count": 6,
   "metadata": {},
   "outputs": [
    {
     "data": {
      "application/javascript": [
       "\n",
       "            setTimeout(function() {\n",
       "                var nbb_cell_id = 6;\n",
       "                var nbb_unformatted_code = \"def squaresum(n):\\n    \\\"\\\"\\\"Returns the sum of squares of first n natural numbers.\\n\\n    Parameters:\\n        n (int): positive integer.\\n\\n    Returns:\\n        (int): sum of squares from 1 to n (inclusive).\\n    \\\"\\\"\\\"\\n    total = 0\\n    operands = []\\n    for i in range(1, n + 1):\\n        aux = pow(i, 2)\\n        operands.append(aux)\\n\\n    for op in operands:\\n        total = total + op\\n\\n    return total\";\n",
       "                var nbb_formatted_code = \"def squaresum(n):\\n    \\\"\\\"\\\"Returns the sum of squares of first n natural numbers.\\n\\n    Parameters:\\n        n (int): positive integer.\\n\\n    Returns:\\n        (int): sum of squares from 1 to n (inclusive).\\n    \\\"\\\"\\\"\\n    total = 0\\n    operands = []\\n    for i in range(1, n + 1):\\n        aux = pow(i, 2)\\n        operands.append(aux)\\n\\n    for op in operands:\\n        total = total + op\\n\\n    return total\";\n",
       "                var nbb_cells = Jupyter.notebook.get_cells();\n",
       "                for (var i = 0; i < nbb_cells.length; ++i) {\n",
       "                    if (nbb_cells[i].input_prompt_number == nbb_cell_id) {\n",
       "                        if (nbb_cells[i].get_text() == nbb_unformatted_code) {\n",
       "                             nbb_cells[i].set_text(nbb_formatted_code);\n",
       "                        }\n",
       "                        break;\n",
       "                    }\n",
       "                }\n",
       "            }, 500);\n",
       "            "
      ],
      "text/plain": [
       "<IPython.core.display.Javascript object>"
      ]
     },
     "metadata": {},
     "output_type": "display_data"
    }
   ],
   "source": [
    "def squaresum(n):\n",
    "    \"\"\"Returns the sum of squares of first n natural numbers.\n",
    "\n",
    "    Parameters:\n",
    "        n (int): positive integer.\n",
    "\n",
    "    Returns:\n",
    "        (int): sum of squares from 1 to n (inclusive).\n",
    "    \"\"\"\n",
    "    total = 0\n",
    "    operands = []\n",
    "    for i in range(1, n + 1):\n",
    "        aux = pow(i, 2)\n",
    "        operands.append(aux)\n",
    "\n",
    "    for op in operands:\n",
    "        total = total + op\n",
    "\n",
    "    return total"
   ]
  },
  {
   "cell_type": "markdown",
   "metadata": {},
   "source": [
    "**Respuesta**"
   ]
  },
  {
   "cell_type": "markdown",
   "metadata": {},
   "source": [
    "## Ejercicio 5\n",
    "\n",
    "En este ejercicio, analizaréis un fragmento de código con el objetivo de detectar las ineficiéncias y después mejorarlo.\n",
    "\n",
    "1. Utilizando las herramientas de *profiling* que hemos visto en el Notebook de teoría, analizad el siguiente fragmento de código ineficiente y encontrad cual es el cuello de botella. Explicad las ineficiencias que habéis detectado, relacionándolas con los resultados obtenidos en el *profiling*.\n",
    "\n",
    "2. Mejorad el código con el objetivo de reducir el tiempo de ejecución.\n",
    "\n",
    "<span style=\"font-family: Courier New; background-color: #82b74b; color: #000000; padding: 3px; \">SM</span> **(1 punto)**"
   ]
  },
  {
   "cell_type": "code",
   "execution_count": 7,
   "metadata": {},
   "outputs": [
    {
     "data": {
      "application/javascript": [
       "\n",
       "            setTimeout(function() {\n",
       "                var nbb_cell_id = 7;\n",
       "                var nbb_unformatted_code = \"def list_duplicates(array):\\n    \\\"\\\"\\\"Returns duplicate elements in the array.\\n\\n    Parameters:\\n        array (list): input array for counting duplicates.\\n\\n    Returns:\\n        (list): list of duplicate elements\\n                (each duplicate element appears only once).\\n    \\\"\\\"\\\"\\n\\n    duplicates = []\\n    i = 0\\n\\n    while i < len(array):\\n        j = i + 1\\n        while j < len(array):\\n            if array[i] == array[j]:\\n\\n                already_counted = False\\n                for item in duplicates:\\n                    if item == array[i]:\\n                        already_counted = True\\n                        break\\n\\n                if not already_counted:\\n                    duplicates.append(array[i])\\n\\n            j = j + 1\\n\\n        i = i + 1\\n\\n    return duplicates\";\n",
       "                var nbb_formatted_code = \"def list_duplicates(array):\\n    \\\"\\\"\\\"Returns duplicate elements in the array.\\n\\n    Parameters:\\n        array (list): input array for counting duplicates.\\n\\n    Returns:\\n        (list): list of duplicate elements\\n                (each duplicate element appears only once).\\n    \\\"\\\"\\\"\\n\\n    duplicates = []\\n    i = 0\\n\\n    while i < len(array):\\n        j = i + 1\\n        while j < len(array):\\n            if array[i] == array[j]:\\n\\n                already_counted = False\\n                for item in duplicates:\\n                    if item == array[i]:\\n                        already_counted = True\\n                        break\\n\\n                if not already_counted:\\n                    duplicates.append(array[i])\\n\\n            j = j + 1\\n\\n        i = i + 1\\n\\n    return duplicates\";\n",
       "                var nbb_cells = Jupyter.notebook.get_cells();\n",
       "                for (var i = 0; i < nbb_cells.length; ++i) {\n",
       "                    if (nbb_cells[i].input_prompt_number == nbb_cell_id) {\n",
       "                        if (nbb_cells[i].get_text() == nbb_unformatted_code) {\n",
       "                             nbb_cells[i].set_text(nbb_formatted_code);\n",
       "                        }\n",
       "                        break;\n",
       "                    }\n",
       "                }\n",
       "            }, 500);\n",
       "            "
      ],
      "text/plain": [
       "<IPython.core.display.Javascript object>"
      ]
     },
     "metadata": {},
     "output_type": "display_data"
    }
   ],
   "source": [
    "def list_duplicates(array):\n",
    "    \"\"\"Returns duplicate elements in the array.\n",
    "\n",
    "    Parameters:\n",
    "        array (list): input array for counting duplicates.\n",
    "\n",
    "    Returns:\n",
    "        (list): list of duplicate elements\n",
    "                (each duplicate element appears only once).\n",
    "    \"\"\"\n",
    "\n",
    "    duplicates = []\n",
    "    i = 0\n",
    "\n",
    "    while i < len(array):\n",
    "        j = i + 1\n",
    "        while j < len(array):\n",
    "            if array[i] == array[j]:\n",
    "\n",
    "                already_counted = False\n",
    "                for item in duplicates:\n",
    "                    if item == array[i]:\n",
    "                        already_counted = True\n",
    "                        break\n",
    "\n",
    "                if not already_counted:\n",
    "                    duplicates.append(array[i])\n",
    "\n",
    "            j = j + 1\n",
    "\n",
    "        i = i + 1\n",
    "\n",
    "    return duplicates"
   ]
  },
  {
   "cell_type": "markdown",
   "metadata": {},
   "source": [
    "**Respuesta**"
   ]
  },
  {
   "cell_type": "markdown",
   "metadata": {},
   "source": [
    "## Ejercicio 6\n",
    "\n",
    "Una biblioteca de barrio nos pide hacer un pequeño proyecto donde se trata de recuperar información de diversos libros en base a su [ISBN](https://en.wikipedia.org/wiki/International_Standard_Book_Number). En una primera instancia nos piden recuperar el **título** del libro, **autor o autores** y una **imágen de portada** para poder crear una página web de consulta.\n",
    "\n",
    "La biblioteca también se plantea contratar los servicios de un proveedor *cloud* para alojar los servicios de consulta y visualización de la información y les preocupa principalmente el **tiempo** que tardará el servicio de consulta.\n",
    "\n",
    "En un análisis previo, se ha investigado el uso de la API de *[Open Library](https://openlibrary.org/developers/api)* para consultar la información que se nos pide. A continuación podemos ver un ejemplo de uso de dicha API. La siguiente función devuelve el título, autor/es e imágen de portada dado un ISBN."
   ]
  },
  {
   "cell_type": "code",
   "execution_count": 8,
   "metadata": {},
   "outputs": [
    {
     "data": {
      "application/javascript": [
       "\n",
       "            setTimeout(function() {\n",
       "                var nbb_cell_id = 8;\n",
       "                var nbb_unformatted_code = \"import requests\\n\\n\\ndef get_book_info(isbn):\\n    \\\"\\\"\\\"Returns title, author and cover image URL from\\n    Open Library given an ISBN.\\n\\n    Parameters:\\n    isbn (string): ISBN to search.\\n\\n    Returns:\\n    tuple: tuple in the form (title (string), authors (list),\\n            cover image url (string))\\n    \\\"\\\"\\\"\\n\\n    openLibraryUrl = \\\"https://openlibrary.org/api/books\\\"\\n    parameters = {\\n        \\\"bibkeys\\\": f\\\"ISBN:{isbn}\\\",\\n        \\\"format\\\": \\\"json\\\",\\n        \\\"jscmd\\\": \\\"data\\\"\\n    }\\n    response = requests.get(openLibraryUrl, params=parameters)\\n    book_info = response.json()[f\\\"ISBN:{isbn}\\\"]\\n\\n    title = book_info[\\\"title\\\"]\\n    authorNames = []\\n    for author in book_info[\\\"authors\\\"]:\\n        authorNames.append(author[\\\"name\\\"])\\n    coverImageUrl = book_info[\\\"cover\\\"][\\\"small\\\"] if \\\"cover\\\" in book_info else \\\"\\\"\\n\\n    return (title, authorNames, coverImageUrl)\";\n",
       "                var nbb_formatted_code = \"import requests\\n\\n\\ndef get_book_info(isbn):\\n    \\\"\\\"\\\"Returns title, author and cover image URL from\\n    Open Library given an ISBN.\\n\\n    Parameters:\\n    isbn (string): ISBN to search.\\n\\n    Returns:\\n    tuple: tuple in the form (title (string), authors (list),\\n            cover image url (string))\\n    \\\"\\\"\\\"\\n\\n    openLibraryUrl = \\\"https://openlibrary.org/api/books\\\"\\n    parameters = {\\\"bibkeys\\\": f\\\"ISBN:{isbn}\\\", \\\"format\\\": \\\"json\\\", \\\"jscmd\\\": \\\"data\\\"}\\n    response = requests.get(openLibraryUrl, params=parameters)\\n    book_info = response.json()[f\\\"ISBN:{isbn}\\\"]\\n\\n    title = book_info[\\\"title\\\"]\\n    authorNames = []\\n    for author in book_info[\\\"authors\\\"]:\\n        authorNames.append(author[\\\"name\\\"])\\n    coverImageUrl = book_info[\\\"cover\\\"][\\\"small\\\"] if \\\"cover\\\" in book_info else \\\"\\\"\\n\\n    return (title, authorNames, coverImageUrl)\";\n",
       "                var nbb_cells = Jupyter.notebook.get_cells();\n",
       "                for (var i = 0; i < nbb_cells.length; ++i) {\n",
       "                    if (nbb_cells[i].input_prompt_number == nbb_cell_id) {\n",
       "                        if (nbb_cells[i].get_text() == nbb_unformatted_code) {\n",
       "                             nbb_cells[i].set_text(nbb_formatted_code);\n",
       "                        }\n",
       "                        break;\n",
       "                    }\n",
       "                }\n",
       "            }, 500);\n",
       "            "
      ],
      "text/plain": [
       "<IPython.core.display.Javascript object>"
      ]
     },
     "metadata": {},
     "output_type": "display_data"
    }
   ],
   "source": [
    "import requests\n",
    "\n",
    "\n",
    "def get_book_info(isbn):\n",
    "    \"\"\"Returns title, author and cover image URL from\n",
    "    Open Library given an ISBN.\n",
    "\n",
    "    Parameters:\n",
    "    isbn (string): ISBN to search.\n",
    "\n",
    "    Returns:\n",
    "    tuple: tuple in the form (title (string), authors (list),\n",
    "            cover image url (string))\n",
    "    \"\"\"\n",
    "\n",
    "    openLibraryUrl = \"https://openlibrary.org/api/books\"\n",
    "    parameters = {\"bibkeys\": f\"ISBN:{isbn}\", \"format\": \"json\", \"jscmd\": \"data\"}\n",
    "    response = requests.get(openLibraryUrl, params=parameters)\n",
    "    book_info = response.json()[f\"ISBN:{isbn}\"]\n",
    "\n",
    "    title = book_info[\"title\"]\n",
    "    authorNames = []\n",
    "    for author in book_info[\"authors\"]:\n",
    "        authorNames.append(author[\"name\"])\n",
    "    coverImageUrl = book_info[\"cover\"][\"small\"] if \"cover\" in book_info else \"\"\n",
    "\n",
    "    return (title, authorNames, coverImageUrl)"
   ]
  },
  {
   "cell_type": "markdown",
   "metadata": {},
   "source": [
    "Algunos de los ISBNs que se han utilizado durante las pruebas son:"
   ]
  },
  {
   "cell_type": "code",
   "execution_count": 9,
   "metadata": {},
   "outputs": [
    {
     "data": {
      "application/javascript": [
       "\n",
       "            setTimeout(function() {\n",
       "                var nbb_cell_id = 9;\n",
       "                var nbb_unformatted_code = \"isbns_to_test = [\\n         \\\"0134692888\\\",\\n         \\\"1491946008\\\",\\n         \\\"1491957662\\\",\\n         \\\"0134853989\\\",\\n         \\\"1449340377\\\",\\n         \\\"1449355730\\\",\\n         \\\"1491939362\\\",\\n         \\\"1775093301\\\",\\n         \\\"1593279280\\\",\\n         \\\"1593279922\\\"\\n        ]\";\n",
       "                var nbb_formatted_code = \"isbns_to_test = [\\n    \\\"0134692888\\\",\\n    \\\"1491946008\\\",\\n    \\\"1491957662\\\",\\n    \\\"0134853989\\\",\\n    \\\"1449340377\\\",\\n    \\\"1449355730\\\",\\n    \\\"1491939362\\\",\\n    \\\"1775093301\\\",\\n    \\\"1593279280\\\",\\n    \\\"1593279922\\\",\\n]\";\n",
       "                var nbb_cells = Jupyter.notebook.get_cells();\n",
       "                for (var i = 0; i < nbb_cells.length; ++i) {\n",
       "                    if (nbb_cells[i].input_prompt_number == nbb_cell_id) {\n",
       "                        if (nbb_cells[i].get_text() == nbb_unformatted_code) {\n",
       "                             nbb_cells[i].set_text(nbb_formatted_code);\n",
       "                        }\n",
       "                        break;\n",
       "                    }\n",
       "                }\n",
       "            }, 500);\n",
       "            "
      ],
      "text/plain": [
       "<IPython.core.display.Javascript object>"
      ]
     },
     "metadata": {},
     "output_type": "display_data"
    }
   ],
   "source": [
    "isbns_to_test = [\n",
    "    \"0134692888\",\n",
    "    \"1491946008\",\n",
    "    \"1491957662\",\n",
    "    \"0134853989\",\n",
    "    \"1449340377\",\n",
    "    \"1449355730\",\n",
    "    \"1491939362\",\n",
    "    \"1775093301\",\n",
    "    \"1593279280\",\n",
    "    \"1593279922\",\n",
    "]"
   ]
  },
  {
   "cell_type": "markdown",
   "metadata": {},
   "source": [
    "Por lo tanto, lo que se nos pide como parte de este proyecto es:\n",
    "\n",
    "<span style=\"color: #004ecb\">(a)</span> Sabiendo que los libros se mostrarán en páginas de 10 elementos, determinar si es mejor implementar una solución concurrente (*multithreading*) o una solución paralela (*multiprocessing*), justificando brevemente la elección.\n",
    "\n",
    "<span style=\"color: #004ecb\">(b)</span> Proporcionar una implementación del servicio de consulta a partir del ISBN utilizando el método escogido en el apartado anterior.\n",
    "\n",
    "<span style=\"color: #004ecb\">(c)</span> Proporcionar una comparativa respecto al tiempo de ejecución del servicio variando el nombre de *threads* o *procesos* (en función de la solución escogida anteriormente) entre 1 y 10. Comentad brevemente los resultados obtenidos.\n",
    "\n",
    "\n",
    "**Nota.** Python 3 incluye las clases `ThreadPoolExecutor` y `ProcessPoolExecutor` para facilitar la ejecución de código en múltiples *threads* o procesos. Os pueden ser de utilidad para resolver este ejercicio y podéis encontrar la documentación oficial en el siguiente [enlace](https://docs.python.org/3/library/concurrent.futures.html).\n",
    "\n",
    "<span style=\"font-family: Courier New; background-color: #ffcc5c; color: #000000; padding: 3px; \">EG</span> **(3 puntos)**"
   ]
  },
  {
   "cell_type": "markdown",
   "metadata": {},
   "source": [
    "**Respuesta**"
   ]
  }
 ],
 "metadata": {
  "kernelspec": {
   "display_name": "Python 3",
   "language": "python",
   "name": "python3"
  },
  "language_info": {
   "codemirror_mode": {
    "name": "ipython",
    "version": 3
   },
   "file_extension": ".py",
   "mimetype": "text/x-python",
   "name": "python",
   "nbconvert_exporter": "python",
   "pygments_lexer": "ipython3",
   "version": "3.8.5"
  },
  "toc": {
   "base_numbering": 1,
   "nav_menu": {},
   "number_sections": true,
   "sideBar": true,
   "skip_h1_title": false,
   "title_cell": "Table of Contents",
   "title_sidebar": "Contents",
   "toc_cell": false,
   "toc_position": {},
   "toc_section_display": true,
   "toc_window_display": false
  }
 },
 "nbformat": 4,
 "nbformat_minor": 2
}
